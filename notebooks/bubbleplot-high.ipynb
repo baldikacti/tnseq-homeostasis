{
 "cells": [
  {
   "cell_type": "code",
   "execution_count": 15,
   "id": "dd6fd6fb-072b-481f-a784-43866e1a0962",
   "metadata": {},
   "outputs": [],
   "source": [
    "# Load necessary libraries\n",
    "library(ggplot2)\n",
    "library(dplyr)\n",
    "\n",
    "# Read the data\n",
    "data <- read.csv(\"emd_values_corrected.csv\")"
   ]
  },
  {
   "cell_type": "code",
   "execution_count": 57,
   "id": "228be16a-ef13-4485-8987-db9d72d4a0d5",
   "metadata": {},
   "outputs": [
    {
     "data": {
      "text/html": [
       "<table class=\"dataframe\">\n",
       "<caption>A tibble: 18 × 5</caption>\n",
       "<thead>\n",
       "\t<tr><th scope=col>Strain</th><th scope=col>Condition</th><th scope=col>EMD</th><th scope=col>Metric</th><th scope=col>scaled_EMD</th></tr>\n",
       "\t<tr><th scope=col>&lt;chr&gt;</th><th scope=col>&lt;chr&gt;</th><th scope=col>&lt;dbl&gt;</th><th scope=col>&lt;chr&gt;</th><th scope=col>&lt;dbl&gt;</th></tr>\n",
       "</thead>\n",
       "<tbody>\n",
       "\t<tr><td>wild-type</td><td>HT:L||OS:L</td><td> 71.7350737</td><td>Total_Counts </td><td>0.5692876860</td></tr>\n",
       "\t<tr><td>wild-type</td><td>HT:L||OS:M</td><td> 88.9676351</td><td>Total_Counts </td><td>0.7122808707</td></tr>\n",
       "\t<tr><td>wild-type</td><td>HT:L||OS:H</td><td>123.6415782</td><td>Total_Counts </td><td>1.0000000000</td></tr>\n",
       "\t<tr><td>DCLPA    </td><td>HT:L||OS:L</td><td>134.8418468</td><td>Total_Counts </td><td>0.4433855107</td></tr>\n",
       "\t<tr><td>DCLPA    </td><td>HT:L||OS:M</td><td>123.1473329</td><td>Total_Counts </td><td>0.4046429278</td></tr>\n",
       "\t<tr><td>DCLPA    </td><td>HT:L||OS:H</td><td>302.8568679</td><td>Total_Counts </td><td>1.0000000000</td></tr>\n",
       "\t<tr><td>DCLPB    </td><td>HT:L||OS:L</td><td> 47.4143271</td><td>Total_Counts </td><td>1.0000000000</td></tr>\n",
       "\t<tr><td>DCLPB    </td><td>HT:L||OS:M</td><td> 23.4203463</td><td>Total_Counts </td><td>0.4905789828</td></tr>\n",
       "\t<tr><td>DCLPB    </td><td>HT:L||OS:H</td><td> 26.3170163</td><td>Total_Counts </td><td>0.5520787644</td></tr>\n",
       "\t<tr><td>wild-type</td><td>HT:L||OS:L</td><td>  3.4666838</td><td>Unique_Counts</td><td>0.0028069240</td></tr>\n",
       "\t<tr><td>wild-type</td><td>HT:L||OS:M</td><td>  3.1284125</td><td>Unique_Counts</td><td>0.0000000000</td></tr>\n",
       "\t<tr><td>wild-type</td><td>HT:L||OS:H</td><td>  6.9410634</td><td>Unique_Counts</td><td>0.0316367995</td></tr>\n",
       "\t<tr><td>DCLPA    </td><td>HT:L||OS:L</td><td>  1.0051836</td><td>Unique_Counts</td><td>0.0000000000</td></tr>\n",
       "\t<tr><td>DCLPA    </td><td>HT:L||OS:M</td><td>  1.1603306</td><td>Unique_Counts</td><td>0.0005139840</td></tr>\n",
       "\t<tr><td>DCLPA    </td><td>HT:L||OS:H</td><td>  4.6923077</td><td>Unique_Counts</td><td>0.0122150190</td></tr>\n",
       "\t<tr><td>DCLPB    </td><td>HT:L||OS:L</td><td>  0.3138346</td><td>Unique_Counts</td><td>0.0000000000</td></tr>\n",
       "\t<tr><td>DCLPB    </td><td>HT:L||OS:M</td><td>  0.3553539</td><td>Unique_Counts</td><td>0.0008815036</td></tr>\n",
       "\t<tr><td>DCLPB    </td><td>HT:L||OS:H</td><td>  0.4299735</td><td>Unique_Counts</td><td>0.0024657667</td></tr>\n",
       "</tbody>\n",
       "</table>\n"
      ],
      "text/latex": [
       "A tibble: 18 × 5\n",
       "\\begin{tabular}{lllll}\n",
       " Strain & Condition & EMD & Metric & scaled\\_EMD\\\\\n",
       " <chr> & <chr> & <dbl> & <chr> & <dbl>\\\\\n",
       "\\hline\n",
       "\t wild-type & HT:L\\textbar{}\\textbar{}OS:L &  71.7350737 & Total\\_Counts  & 0.5692876860\\\\\n",
       "\t wild-type & HT:L\\textbar{}\\textbar{}OS:M &  88.9676351 & Total\\_Counts  & 0.7122808707\\\\\n",
       "\t wild-type & HT:L\\textbar{}\\textbar{}OS:H & 123.6415782 & Total\\_Counts  & 1.0000000000\\\\\n",
       "\t DCLPA     & HT:L\\textbar{}\\textbar{}OS:L & 134.8418468 & Total\\_Counts  & 0.4433855107\\\\\n",
       "\t DCLPA     & HT:L\\textbar{}\\textbar{}OS:M & 123.1473329 & Total\\_Counts  & 0.4046429278\\\\\n",
       "\t DCLPA     & HT:L\\textbar{}\\textbar{}OS:H & 302.8568679 & Total\\_Counts  & 1.0000000000\\\\\n",
       "\t DCLPB     & HT:L\\textbar{}\\textbar{}OS:L &  47.4143271 & Total\\_Counts  & 1.0000000000\\\\\n",
       "\t DCLPB     & HT:L\\textbar{}\\textbar{}OS:M &  23.4203463 & Total\\_Counts  & 0.4905789828\\\\\n",
       "\t DCLPB     & HT:L\\textbar{}\\textbar{}OS:H &  26.3170163 & Total\\_Counts  & 0.5520787644\\\\\n",
       "\t wild-type & HT:L\\textbar{}\\textbar{}OS:L &   3.4666838 & Unique\\_Counts & 0.0028069240\\\\\n",
       "\t wild-type & HT:L\\textbar{}\\textbar{}OS:M &   3.1284125 & Unique\\_Counts & 0.0000000000\\\\\n",
       "\t wild-type & HT:L\\textbar{}\\textbar{}OS:H &   6.9410634 & Unique\\_Counts & 0.0316367995\\\\\n",
       "\t DCLPA     & HT:L\\textbar{}\\textbar{}OS:L &   1.0051836 & Unique\\_Counts & 0.0000000000\\\\\n",
       "\t DCLPA     & HT:L\\textbar{}\\textbar{}OS:M &   1.1603306 & Unique\\_Counts & 0.0005139840\\\\\n",
       "\t DCLPA     & HT:L\\textbar{}\\textbar{}OS:H &   4.6923077 & Unique\\_Counts & 0.0122150190\\\\\n",
       "\t DCLPB     & HT:L\\textbar{}\\textbar{}OS:L &   0.3138346 & Unique\\_Counts & 0.0000000000\\\\\n",
       "\t DCLPB     & HT:L\\textbar{}\\textbar{}OS:M &   0.3553539 & Unique\\_Counts & 0.0008815036\\\\\n",
       "\t DCLPB     & HT:L\\textbar{}\\textbar{}OS:H &   0.4299735 & Unique\\_Counts & 0.0024657667\\\\\n",
       "\\end{tabular}\n"
      ],
      "text/markdown": [
       "\n",
       "A tibble: 18 × 5\n",
       "\n",
       "| Strain &lt;chr&gt; | Condition &lt;chr&gt; | EMD &lt;dbl&gt; | Metric &lt;chr&gt; | scaled_EMD &lt;dbl&gt; |\n",
       "|---|---|---|---|---|\n",
       "| wild-type | HT:L||OS:L |  71.7350737 | Total_Counts  | 0.5692876860 |\n",
       "| wild-type | HT:L||OS:M |  88.9676351 | Total_Counts  | 0.7122808707 |\n",
       "| wild-type | HT:L||OS:H | 123.6415782 | Total_Counts  | 1.0000000000 |\n",
       "| DCLPA     | HT:L||OS:L | 134.8418468 | Total_Counts  | 0.4433855107 |\n",
       "| DCLPA     | HT:L||OS:M | 123.1473329 | Total_Counts  | 0.4046429278 |\n",
       "| DCLPA     | HT:L||OS:H | 302.8568679 | Total_Counts  | 1.0000000000 |\n",
       "| DCLPB     | HT:L||OS:L |  47.4143271 | Total_Counts  | 1.0000000000 |\n",
       "| DCLPB     | HT:L||OS:M |  23.4203463 | Total_Counts  | 0.4905789828 |\n",
       "| DCLPB     | HT:L||OS:H |  26.3170163 | Total_Counts  | 0.5520787644 |\n",
       "| wild-type | HT:L||OS:L |   3.4666838 | Unique_Counts | 0.0028069240 |\n",
       "| wild-type | HT:L||OS:M |   3.1284125 | Unique_Counts | 0.0000000000 |\n",
       "| wild-type | HT:L||OS:H |   6.9410634 | Unique_Counts | 0.0316367995 |\n",
       "| DCLPA     | HT:L||OS:L |   1.0051836 | Unique_Counts | 0.0000000000 |\n",
       "| DCLPA     | HT:L||OS:M |   1.1603306 | Unique_Counts | 0.0005139840 |\n",
       "| DCLPA     | HT:L||OS:H |   4.6923077 | Unique_Counts | 0.0122150190 |\n",
       "| DCLPB     | HT:L||OS:L |   0.3138346 | Unique_Counts | 0.0000000000 |\n",
       "| DCLPB     | HT:L||OS:M |   0.3553539 | Unique_Counts | 0.0008815036 |\n",
       "| DCLPB     | HT:L||OS:H |   0.4299735 | Unique_Counts | 0.0024657667 |\n",
       "\n"
      ],
      "text/plain": [
       "   Strain    Condition  EMD         Metric        scaled_EMD  \n",
       "1  wild-type HT:L||OS:L  71.7350737 Total_Counts  0.5692876860\n",
       "2  wild-type HT:L||OS:M  88.9676351 Total_Counts  0.7122808707\n",
       "3  wild-type HT:L||OS:H 123.6415782 Total_Counts  1.0000000000\n",
       "4  DCLPA     HT:L||OS:L 134.8418468 Total_Counts  0.4433855107\n",
       "5  DCLPA     HT:L||OS:M 123.1473329 Total_Counts  0.4046429278\n",
       "6  DCLPA     HT:L||OS:H 302.8568679 Total_Counts  1.0000000000\n",
       "7  DCLPB     HT:L||OS:L  47.4143271 Total_Counts  1.0000000000\n",
       "8  DCLPB     HT:L||OS:M  23.4203463 Total_Counts  0.4905789828\n",
       "9  DCLPB     HT:L||OS:H  26.3170163 Total_Counts  0.5520787644\n",
       "10 wild-type HT:L||OS:L   3.4666838 Unique_Counts 0.0028069240\n",
       "11 wild-type HT:L||OS:M   3.1284125 Unique_Counts 0.0000000000\n",
       "12 wild-type HT:L||OS:H   6.9410634 Unique_Counts 0.0316367995\n",
       "13 DCLPA     HT:L||OS:L   1.0051836 Unique_Counts 0.0000000000\n",
       "14 DCLPA     HT:L||OS:M   1.1603306 Unique_Counts 0.0005139840\n",
       "15 DCLPA     HT:L||OS:H   4.6923077 Unique_Counts 0.0122150190\n",
       "16 DCLPB     HT:L||OS:L   0.3138346 Unique_Counts 0.0000000000\n",
       "17 DCLPB     HT:L||OS:M   0.3553539 Unique_Counts 0.0008815036\n",
       "18 DCLPB     HT:L||OS:H   0.4299735 Unique_Counts 0.0024657667"
      ]
     },
     "metadata": {},
     "output_type": "display_data"
    }
   ],
   "source": [
    "data"
   ]
  },
  {
   "cell_type": "code",
   "execution_count": 68,
   "id": "bfea5f2a-2493-4bef-b202-ca847afc1ae3",
   "metadata": {},
   "outputs": [],
   "source": [
    "options(repr.plot.width=4, repr.plot.height=3)"
   ]
  },
  {
   "cell_type": "code",
   "execution_count": 69,
   "id": "ecb2789f-e21d-43e5-bebe-1458277f8005",
   "metadata": {},
   "outputs": [],
   "source": [
    "# Plot for Metric == Median_TC\n",
    "p1 <- ggplot(data %>% filter(Metric == \"Total_Counts\"), \n",
    "             aes(x = Condition, y = Strain, size = EMD, color = Strain)) +\n",
    "  geom_point(alpha = 0.7) +\n",
    "  scale_x_discrete(limits = c(\"HT:L||OS:L\", \"HT:L||OS:M\", \"HT:L||OS:H\")) +\n",
    "  labs(y = \"Strain\", title = \"Total insertions EMD distances\") +\n",
    "  theme_minimal() +ggpubr::theme_classic2()\n"
   ]
  },
  {
   "cell_type": "code",
   "execution_count": 88,
   "id": "2996adb9-2e5d-4583-871f-b4d66124a1cc",
   "metadata": {},
   "outputs": [
    {
     "data": {
      "image/png": "[encoded data removed]",
      "text/plain": [
       "plot without title"
      ]
     },
     "metadata": {
      "image/png": {
       "height": 180,
       "width": 240
      }
     },
     "output_type": "display_data"
    }
   ],
   "source": [
    "\n",
    "# Discretize the EMD values\n",
    "data <- data %>%\n",
    "  mutate(size_group = case_when(\n",
    "    EMD < 50  ~ \"small\",\n",
    "    EMD >= 50 & EMD < 100 ~ \"medium\",\n",
    "    EMD >= 100 & EMD < 150 ~ \"large\",\n",
    "    EMD >= 150 ~ \"x-large\"\n",
    "  ))\n",
    "\n",
    "# Plot\n",
    "p1 <- ggplot(data %>% filter(Metric == \"Total_Counts\"), \n",
    "             aes(x = Condition, y = Strain, size = size_group)) +\n",
    "  geom_point(alpha = 0.7) +\n",
    "  scale_x_discrete(limits = c(\"HT:L||OS:L\", \"HT:L||OS:M\", \"HT:L||OS:H\")) +\n",
    "  scale_size_manual(values = c(\"small\" = 3, \"medium\" = 6, \"large\" = 9, \"x-large\" = 18)) +\n",
    "  labs(y = \"Strain\", title = \"Total insertions EMD distances\") +scale_y_discrete(limits = c(\"wild-type\", \"DCLPA\", \"DCLPB\"))+\n",
    "  theme_minimal() +\n",
    "  ggpubr::theme_classic2()+\n",
    "  theme(legend.position = \"none\")\n",
    "\n",
    "p1\n"
   ]
  },
  {
   "cell_type": "code",
   "execution_count": 87,
   "id": "3b16dc14-920a-4537-a26d-0beccf38ad8a",
   "metadata": {},
   "outputs": [
    {
     "data": {
      "image/png": "[encoded data removed]",
      "text/plain": [
       "plot without title"
      ]
     },
     "metadata": {
      "image/png": {
       "height": 180,
       "width": 240
      }
     },
     "output_type": "display_data"
    }
   ],
   "source": [
    "# Discretize the EMD values\n",
    "data <- data %>%\n",
    "  mutate(size_group = case_when(\n",
    "    EMD <= 0.5  ~ \"small\",\n",
    "    EMD > 0.5 & EMD <= 1.5 ~ \"medium\",\n",
    "    EMD > 1.5 & EMD <= 3.5 ~ \"large\",\n",
    "    EMD > 3.5 & EMD <= 7 ~ \"x-large\"\n",
    "  ))\n",
    "\n",
    "# Plot\n",
    "p2 <- ggplot(data %>% filter(Metric == \"Unique_Counts\"), \n",
    "             aes(x = Condition, y = Strain, size = size_group)) +\n",
    "  geom_point(alpha = 0.7) +\n",
    "  scale_x_discrete(limits = c(\"HT:L||OS:L\", \"HT:L||OS:M\", \"HT:L||OS:H\")) +\n",
    "  scale_size_manual(values = c(\"small\" = 3, \"medium\" = 6, \"large\" = 9, \"x-large\" = 18)) +\n",
    "  labs(y = \"Strain\", title = \"Unique insertions EMD distances\") +scale_y_discrete(limits = c(\"wild-type\", \"DCLPA\", \"DCLPB\"))+\n",
    "  theme_minimal() +\n",
    "  ggpubr::theme_classic2() +\n",
    "  theme(legend.position = \"none\")\n",
    "\n",
    "p2\n"
   ]
  },
  {
   "cell_type": "code",
   "execution_count": 89,
   "id": "7f63add6-2aea-41ac-bc89-dd890faf7b2d",
   "metadata": {},
   "outputs": [],
   "source": [
    "suppressMessages(suppressWarnings(library(\"grid\")))"
   ]
  },
  {
   "cell_type": "code",
   "execution_count": 90,
   "id": "50d4c61c-2f90-446f-ad90-8cc05b7e560e",
   "metadata": {},
   "outputs": [],
   "source": [
    "suppressMessages(suppressWarnings(library(\"gridExtra\")))"
   ]
  },
  {
   "cell_type": "code",
   "execution_count": 91,
   "id": "0e1a8a09-52e9-402b-9449-59ff4a688687",
   "metadata": {},
   "outputs": [
    {
     "data": {
      "image/png": "[encoded data removed]",
      "text/plain": [
       "plot without title"
      ]
     },
     "metadata": {
      "image/png": {
       "height": 180,
       "width": 240
      }
     },
     "output_type": "display_data"
    }
   ],
   "source": [
    "p <- grid.arrange(p1, p2,ncol=2)"
   ]
  },
  {
   "cell_type": "code",
   "execution_count": 92,
   "id": "3f0032be-730b-4dea-bbef-8ec1485cb8c8",
   "metadata": {},
   "outputs": [],
   "source": [
    "ggsave(filename = \"../PNAS/FIGURES/Fig4b.pdf\", device = \"pdf\",  plot = p, width = 8, height =3 , dpi = 300, units = \"in\")"
   ]
  },
  {
   "cell_type": "code",
   "execution_count": null,
   "id": "3898df8b-5ee0-44ea-af02-400cc46d9b67",
   "metadata": {},
   "outputs": [],
   "source": []
  }
 ],
 "metadata": {
  "kernelspec": {
   "display_name": "R",
   "language": "R",
   "name": "ir"
  },
  "language_info": {
   "codemirror_mode": "r",
   "file_extension": ".r",
   "mimetype": "text/x-r-source",
   "name": "R",
   "pygments_lexer": "r",
   "version": "4.2.0"
  }
 },
 "nbformat": 4,
 "nbformat_minor": 5
}

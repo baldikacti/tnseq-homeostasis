{
 "cells": [
  {
   "cell_type": "code",
   "execution_count": 1,
   "id": "3d1cba18-3e16-4d91-8623-80a3272dd68c",
   "metadata": {},
   "outputs": [],
   "source": [
    "suppressWarnings(suppressMessages(library(tidyverse)))"
   ]
  },
  {
   "cell_type": "code",
   "execution_count": 34,
   "id": "648b40d5-0025-4fa7-abbd-3bb8aa9c2a7e",
   "metadata": {},
   "outputs": [
    {
     "data": {
      "text/html": [
       "<table class=\"dataframe\">\n",
       "<caption>A data.frame: 6 × 5</caption>\n",
       "<thead>\n",
       "\t<tr><th></th><th scope=col>locus_tag</th><th scope=col>cc_tag</th><th scope=col>geneID</th><th scope=col>protein_id</th><th scope=col>description</th></tr>\n",
       "\t<tr><th></th><th scope=col>&lt;chr&gt;</th><th scope=col>&lt;chr&gt;</th><th scope=col>&lt;chr&gt;</th><th scope=col>&lt;chr&gt;</th><th scope=col>&lt;chr&gt;</th></tr>\n",
       "</thead>\n",
       "<tbody>\n",
       "\t<tr><th scope=row>1</th><td>CCNA_00001</td><td>CC_0001</td><td>NA  </td><td>YP_002515376.1</td><td>ATP/GTP-binding protein     </td></tr>\n",
       "\t<tr><th scope=row>2</th><td>CCNA_00002</td><td>CC_0002</td><td>NA  </td><td>YP_002515377.1</td><td>septum formation protein Maf</td></tr>\n",
       "\t<tr><th scope=row>3</th><td>CCNA_00003</td><td>CC_0003</td><td>NA  </td><td>YP_002515378.1</td><td>shikimate 5-dehydrogenase   </td></tr>\n",
       "\t<tr><th scope=row>4</th><td>CCNA_00004</td><td>CC_0004</td><td>NA  </td><td>YP_002515379.1</td><td>dephospho-CoA kinase        </td></tr>\n",
       "\t<tr><th scope=row>5</th><td>CCNA_00005</td><td>CC_0005</td><td>dnaQ</td><td>NA            </td><td>NA                          </td></tr>\n",
       "\t<tr><th scope=row>6</th><td>CCNA_00006</td><td>CC_0006</td><td>NA  </td><td>YP_002515381.1</td><td>enoyl-CoA hydratase         </td></tr>\n",
       "</tbody>\n",
       "</table>\n"
      ],
      "text/latex": [
       "A data.frame: 6 × 5\n",
       "\\begin{tabular}{r|lllll}\n",
       "  & locus\\_tag & cc\\_tag & geneID & protein\\_id & description\\\\\n",
       "  & <chr> & <chr> & <chr> & <chr> & <chr>\\\\\n",
       "\\hline\n",
       "\t1 & CCNA\\_00001 & CC\\_0001 & NA   & YP\\_002515376.1 & ATP/GTP-binding protein     \\\\\n",
       "\t2 & CCNA\\_00002 & CC\\_0002 & NA   & YP\\_002515377.1 & septum formation protein Maf\\\\\n",
       "\t3 & CCNA\\_00003 & CC\\_0003 & NA   & YP\\_002515378.1 & shikimate 5-dehydrogenase   \\\\\n",
       "\t4 & CCNA\\_00004 & CC\\_0004 & NA   & YP\\_002515379.1 & dephospho-CoA kinase        \\\\\n",
       "\t5 & CCNA\\_00005 & CC\\_0005 & dnaQ & NA             & NA                          \\\\\n",
       "\t6 & CCNA\\_00006 & CC\\_0006 & NA   & YP\\_002515381.1 & enoyl-CoA hydratase         \\\\\n",
       "\\end{tabular}\n"
      ],
      "text/markdown": [
       "\n",
       "A data.frame: 6 × 5\n",
       "\n",
       "| <!--/--> | locus_tag &lt;chr&gt; | cc_tag &lt;chr&gt; | geneID &lt;chr&gt; | protein_id &lt;chr&gt; | description &lt;chr&gt; |\n",
       "|---|---|---|---|---|---|\n",
       "| 1 | CCNA_00001 | CC_0001 | NA   | YP_002515376.1 | ATP/GTP-binding protein      |\n",
       "| 2 | CCNA_00002 | CC_0002 | NA   | YP_002515377.1 | septum formation protein Maf |\n",
       "| 3 | CCNA_00003 | CC_0003 | NA   | YP_002515378.1 | shikimate 5-dehydrogenase    |\n",
       "| 4 | CCNA_00004 | CC_0004 | NA   | YP_002515379.1 | dephospho-CoA kinase         |\n",
       "| 5 | CCNA_00005 | CC_0005 | dnaQ | NA             | NA                           |\n",
       "| 6 | CCNA_00006 | CC_0006 | NA   | YP_002515381.1 | enoyl-CoA hydratase          |\n",
       "\n"
      ],
      "text/plain": [
       "  locus_tag  cc_tag  geneID protein_id     description                 \n",
       "1 CCNA_00001 CC_0001 NA     YP_002515376.1 ATP/GTP-binding protein     \n",
       "2 CCNA_00002 CC_0002 NA     YP_002515377.1 septum formation protein Maf\n",
       "3 CCNA_00003 CC_0003 NA     YP_002515378.1 shikimate 5-dehydrogenase   \n",
       "4 CCNA_00004 CC_0004 NA     YP_002515379.1 dephospho-CoA kinase        \n",
       "5 CCNA_00005 CC_0005 dnaQ   NA             NA                          \n",
       "6 CCNA_00006 CC_0006 NA     YP_002515381.1 enoyl-CoA hydratase         "
      ]
     },
     "metadata": {},
     "output_type": "display_data"
    }
   ],
   "source": [
    "df1 <- read.table(\"../../../reports/Master Table/RESULTS_FDR_LASTLEVELONLY_v2.TAB\",header=TRUE)\n",
    "gene <- read.csv(\"../../../../PNAS/DATA/CCNA_ref.csv\",header=TRUE,fill=TRUE)\n",
    "head(gene)"
   ]
  },
  {
   "cell_type": "code",
   "execution_count": 35,
   "id": "54e23ddd-db20-4318-90c5-ff1966a75387",
   "metadata": {},
   "outputs": [],
   "source": [
    "df <- df1%>%select(locus_tag,strain,condition,slevel,locus_tag,Median_UC,Median_TC)%>%unite(title,condition, slevel, sep = \":\", remove = FALSE)\n",
    "df$title <- gsub(\"DLON\",\"LON\",df$title)\n",
    "df$title <- gsub(\"dnak-dnaJ\",\"dnaKJ-NI\",df$title)\n",
    "df$title <- gsub(\"DCLPA\",\"CLPA\",df$title)\n",
    "df$title <- gsub(\"DCLPB\",\"CLPB\",df$title)\n",
    "df$title <- gsub(\"wild-type\",\"WT\",df$title)\n",
    "df$title <- gsub(\"canavanine\",\"CN\",df$title)\n",
    "df$title <- gsub(\"oxidative-peroxide\",\"OS\",df$title)\n",
    "df$title <- gsub(\"heat\",\"HT\",df$title)\n",
    "df$title <- gsub(\"HIGH\",\"H\",df$title)\n",
    "df$title <- gsub(\"MEDIUM\",\"M\",df$title)\n",
    "df$title <- gsub(\"LOW\",\"L\",df$title)\n",
    "df <- df%>%select(title,locus_tag,Median_UC,Median_TC,strain)%>%dplyr::rename(\"stress\"=\"title\")"
   ]
  },
  {
   "cell_type": "code",
   "execution_count": 21,
   "id": "232ebd7c-b822-464f-933c-d5367a363bab",
   "metadata": {},
   "outputs": [
    {
     "data": {
      "text/html": [
       "<table class=\"dataframe\">\n",
       "<caption>A data.frame: 6 × 4</caption>\n",
       "<thead>\n",
       "\t<tr><th></th><th scope=col>stress</th><th scope=col>locus_tag</th><th scope=col>Median_UC</th><th scope=col>strain</th></tr>\n",
       "\t<tr><th></th><th scope=col>&lt;chr&gt;</th><th scope=col>&lt;chr&gt;</th><th scope=col>&lt;dbl&gt;</th><th scope=col>&lt;chr&gt;</th></tr>\n",
       "</thead>\n",
       "<tbody>\n",
       "\t<tr><th scope=row>1</th><td>CN:H</td><td>CCNA_00001</td><td> 0</td><td>DCLPA</td></tr>\n",
       "\t<tr><th scope=row>2</th><td>CN:H</td><td>CCNA_00002</td><td>42</td><td>DCLPA</td></tr>\n",
       "\t<tr><th scope=row>3</th><td>CN:H</td><td>CCNA_00003</td><td>30</td><td>DCLPA</td></tr>\n",
       "\t<tr><th scope=row>4</th><td>CN:H</td><td>CCNA_00004</td><td> 0</td><td>DCLPA</td></tr>\n",
       "\t<tr><th scope=row>5</th><td>CN:H</td><td>CCNA_00005</td><td> 0</td><td>DCLPA</td></tr>\n",
       "\t<tr><th scope=row>6</th><td>CN:H</td><td>CCNA_00006</td><td> 6</td><td>DCLPA</td></tr>\n",
       "</tbody>\n",
       "</table>\n"
      ],
      "text/latex": [
       "A data.frame: 6 × 4\n",
       "\\begin{tabular}{r|llll}\n",
       "  & stress & locus\\_tag & Median\\_UC & strain\\\\\n",
       "  & <chr> & <chr> & <dbl> & <chr>\\\\\n",
       "\\hline\n",
       "\t1 & CN:H & CCNA\\_00001 &  0 & DCLPA\\\\\n",
       "\t2 & CN:H & CCNA\\_00002 & 42 & DCLPA\\\\\n",
       "\t3 & CN:H & CCNA\\_00003 & 30 & DCLPA\\\\\n",
       "\t4 & CN:H & CCNA\\_00004 &  0 & DCLPA\\\\\n",
       "\t5 & CN:H & CCNA\\_00005 &  0 & DCLPA\\\\\n",
       "\t6 & CN:H & CCNA\\_00006 &  6 & DCLPA\\\\\n",
       "\\end{tabular}\n"
      ],
      "text/markdown": [
       "\n",
       "A data.frame: 6 × 4\n",
       "\n",
       "| <!--/--> | stress &lt;chr&gt; | locus_tag &lt;chr&gt; | Median_UC &lt;dbl&gt; | strain &lt;chr&gt; |\n",
       "|---|---|---|---|---|\n",
       "| 1 | CN:H | CCNA_00001 |  0 | DCLPA |\n",
       "| 2 | CN:H | CCNA_00002 | 42 | DCLPA |\n",
       "| 3 | CN:H | CCNA_00003 | 30 | DCLPA |\n",
       "| 4 | CN:H | CCNA_00004 |  0 | DCLPA |\n",
       "| 5 | CN:H | CCNA_00005 |  0 | DCLPA |\n",
       "| 6 | CN:H | CCNA_00006 |  6 | DCLPA |\n",
       "\n"
      ],
      "text/plain": [
       "  stress locus_tag  Median_UC strain\n",
       "1 CN:H   CCNA_00001  0        DCLPA \n",
       "2 CN:H   CCNA_00002 42        DCLPA \n",
       "3 CN:H   CCNA_00003 30        DCLPA \n",
       "4 CN:H   CCNA_00004  0        DCLPA \n",
       "5 CN:H   CCNA_00005  0        DCLPA \n",
       "6 CN:H   CCNA_00006  6        DCLPA "
      ]
     },
     "metadata": {},
     "output_type": "display_data"
    }
   ],
   "source": [
    "head(df)"
   ]
  },
  {
   "cell_type": "code",
   "execution_count": 36,
   "id": "d6d4acaa-9bd7-49b5-85dc-39171cec5181",
   "metadata": {},
   "outputs": [],
   "source": [
    "ord_slevel <- c(\"HT:L\",\"HT:M\",\"HT:H\",\"CN:L\",\"CN:M\",\"CN:H\",\"OS:L\",\"OS:M\",\"OS:H\")\n",
    "df2<- df%>%mutate(stress=fct_relevel(stress,ord_slevel))"
   ]
  },
  {
   "cell_type": "code",
   "execution_count": 38,
   "id": "a949f4c9-2fd1-4f0a-a972-194ee5f90341",
   "metadata": {},
   "outputs": [],
   "source": [
    "plot1 <- ggplot(df2,aes(x=stress, y=Median_UC, fill=factor(strain))) +\n",
    "  geom_boxplot() +ggpubr::theme_classic2()+ylab(\" Median Unique Insertion Counts\")"
   ]
  },
  {
   "cell_type": "code",
   "execution_count": 43,
   "id": "278a429d-d339-4890-bb9c-ad88c4d761cc",
   "metadata": {},
   "outputs": [],
   "source": [
    "plot2 <- ggplot(df2,aes(x=stress, y=Median_TC, fill=factor(strain))) +\n",
    "  geom_boxplot() +ggpubr::theme_classic2()+ylab(\" Median Total Insertion Counts\")+ylim(0,10000)"
   ]
  },
  {
   "cell_type": "code",
   "execution_count": 44,
   "id": "48dcbb4e-f4fb-40af-8c8a-1bc757170993",
   "metadata": {},
   "outputs": [
    {
     "name": "stderr",
     "output_type": "stream",
     "text": [
      "Warning message:\n",
      "\"\u001b[1m\u001b[22mRemoved 236 rows containing non-finite values (`stat_boxplot()`).\"\n"
     ]
    },
    {
     "data": {
      "image/png": "[encoded data removed]",
      "text/plain": [
       "plot without title"
      ]
     },
     "metadata": {
      "image/png": {
       "height": 450,
       "width": 900
      }
     },
     "output_type": "display_data"
    }
   ],
   "source": [
    "plot2"
   ]
  },
  {
   "cell_type": "code",
   "execution_count": 45,
   "id": "508ed7d7-0903-4487-96d4-9fb8db52bd9a",
   "metadata": {},
   "outputs": [
    {
     "name": "stderr",
     "output_type": "stream",
     "text": [
      "Warning message:\n",
      "\"\u001b[1m\u001b[22mRemoved 236 rows containing non-finite values (`stat_boxplot()`).\"\n"
     ]
    }
   ],
   "source": [
    "ggsave(filename = \"../../../../PNAS/FIGURES/Suppl Fig/TC_plot.pdf\", device = \"pdf\",  plot = plot2, width = 15, height =10 , dpi = 300, units = \"in\")"
   ]
  },
  {
   "cell_type": "code",
   "execution_count": 46,
   "id": "961c3a35-49e7-4439-9bb1-e8c760d399b4",
   "metadata": {},
   "outputs": [],
   "source": [
    "ggsave(filename = \"../../../../PNAS/FIGURES/Suppl Fig/UC_plot.pdf\", device = \"pdf\",  plot = plot1, width = 15, height =10 , dpi = 300, units = \"in\")"
   ]
  },
  {
   "cell_type": "code",
   "execution_count": null,
   "id": "a353830c-92df-474c-b338-256b9aa08c7a",
   "metadata": {},
   "outputs": [],
   "source": []
  },
  {
   "cell_type": "code",
   "execution_count": null,
   "id": "b639be26-c4ba-4cc2-8153-cd0cb271f57b",
   "metadata": {},
   "outputs": [],
   "source": [
    "########"
   ]
  },
  {
   "cell_type": "code",
   "execution_count": 56,
   "id": "62f5553b-03c9-43ff-94d1-5863aeff6d5a",
   "metadata": {},
   "outputs": [
    {
     "name": "stderr",
     "output_type": "stream",
     "text": [
      "Warning message:\n",
      "\"package 'egg' was built under R version 4.2.2\"\n",
      "Loading required package: gridExtra\n",
      "\n",
      "Warning message:\n",
      "\"package 'gridExtra' was built under R version 4.2.1\"\n",
      "\n",
      "Attaching package: 'gridExtra'\n",
      "\n",
      "\n",
      "The following object is masked from 'package:dplyr':\n",
      "\n",
      "    combine\n",
      "\n",
      "\n"
     ]
    }
   ],
   "source": [
    "suppressWarnings(suppressMessages(library(tidyverse)))\n",
    "suppressWarnings(suppressMessages(require(reshape)))\n",
    "library(\"egg\")\n",
    "library(\"grid\")"
   ]
  },
  {
   "cell_type": "code",
   "execution_count": 57,
   "id": "28e2edc8-6051-4e8e-9de5-4a2f91cebffa",
   "metadata": {},
   "outputs": [],
   "source": [
    "TC <- read.table(\"../../../../knockoff/DataAndCode/TC_mid_batchcorrected_dclpb_included.tsv\",header=TRUE)\n",
    "UC <-  read.table(\"../../../../knockoff/DataAndCode/UC_mid_batchcorrected_dclpb_included.tsv\",header=TRUE)\n",
    "df_merged <- merge(TC,UC,by=c(\"locus_tag\",\"strain\",\"condition\",\"slevel\",\"rep\",\"batch\",\"time\"))\n",
    "colnames(df_merged) <- c(\"locus_tag\",\"strain\",\"condition\",\"slevel\",\"rep\",\"batch\",\"time\",\"tncnt_TC\",\"Librarysize_TC\",\"tncnt_UC\",\"Librarysize_UC\")"
   ]
  },
  {
   "cell_type": "code",
   "execution_count": 58,
   "id": "45616767-5c77-4cff-b052-e0d0c0e5ffc5",
   "metadata": {},
   "outputs": [],
   "source": [
    "options(repr.plot.width=9, repr.plot.height=6)\n",
    "b = c(0,5,10,50,100,500,1000,2500)\n",
    "a=c(1,100,200,500,1000,25000)\n",
    "p1 <- ggplot(df_merged, aes(x = tncnt_TC)) + geom_histogram(colour = 4, fill = \"white\", binwidth=50)+scale_y_sqrt(labels = b, breaks = b,limits=c(0,2500))+ scale_x_continuous(breaks = a, labels = a)+\n",
    "theme_bw() +theme(panel.grid.minor=element_blank(), panel.grid.major=element_blank()) +\n",
    "ylab(\"Frequency\")+xlab(\"Total Counts\")+theme_article()+ggtitle(\"TC Histogram\")"
   ]
  },
  {
   "cell_type": "code",
   "execution_count": 59,
   "id": "22e54cff-f77b-4af3-82f9-613fe1800f50",
   "metadata": {},
   "outputs": [
    {
     "name": "stderr",
     "output_type": "stream",
     "text": [
      "Warning message:\n",
      "\"\u001b[1m\u001b[22mRemoved 214 rows containing missing values (`geom_bar()`).\"\n"
     ]
    },
    {
     "data": {
      "image/png": "[encoded data removed]",
      "text/plain": [
       "plot without title"
      ]
     },
     "metadata": {
      "image/png": {
       "height": 360,
       "width": 540
      }
     },
     "output_type": "display_data"
    }
   ],
   "source": [
    "p1"
   ]
  },
  {
   "cell_type": "code",
   "execution_count": 53,
   "id": "863c4598-fdf1-41b4-bc70-6a1f8e47893e",
   "metadata": {},
   "outputs": [
    {
     "data": {
      "text/html": [
       "7758461"
      ],
      "text/latex": [
       "7758461"
      ],
      "text/markdown": [
       "7758461"
      ],
      "text/plain": [
       "[1] 7758461"
      ]
     },
     "metadata": {},
     "output_type": "display_data"
    }
   ],
   "source": [
    "max(df_tc$N)"
   ]
  },
  {
   "cell_type": "code",
   "execution_count": 51,
   "id": "0c82b926-aae7-47b7-a43c-0bb89f8985b4",
   "metadata": {},
   "outputs": [
    {
     "data": {
      "text/html": [
       "<table class=\"dataframe\">\n",
       "<caption>A data.frame: 3 × 9</caption>\n",
       "<thead>\n",
       "\t<tr><th></th><th scope=col>locus_tag</th><th scope=col>strain</th><th scope=col>condition</th><th scope=col>slevel</th><th scope=col>rep</th><th scope=col>batch</th><th scope=col>time</th><th scope=col>N</th><th scope=col>tncnt</th></tr>\n",
       "\t<tr><th></th><th scope=col>&lt;chr&gt;</th><th scope=col>&lt;chr&gt;</th><th scope=col>&lt;chr&gt;</th><th scope=col>&lt;chr&gt;</th><th scope=col>&lt;int&gt;</th><th scope=col>&lt;int&gt;</th><th scope=col>&lt;int&gt;</th><th scope=col>&lt;int&gt;</th><th scope=col>&lt;int&gt;</th></tr>\n",
       "</thead>\n",
       "<tbody>\n",
       "\t<tr><th scope=row>1</th><td>CCNA_00001</td><td>DCLPA</td><td>canavanine</td><td>HIGH</td><td>1</td><td>2</td><td>24</td><td>62299</td><td> 0</td></tr>\n",
       "\t<tr><th scope=row>2</th><td>CCNA_00002</td><td>DCLPA</td><td>canavanine</td><td>HIGH</td><td>1</td><td>2</td><td>24</td><td>62299</td><td>53</td></tr>\n",
       "\t<tr><th scope=row>3</th><td>CCNA_00003</td><td>DCLPA</td><td>canavanine</td><td>HIGH</td><td>1</td><td>2</td><td>24</td><td>62299</td><td>30</td></tr>\n",
       "</tbody>\n",
       "</table>\n"
      ],
      "text/latex": [
       "A data.frame: 3 × 9\n",
       "\\begin{tabular}{r|lllllllll}\n",
       "  & locus\\_tag & strain & condition & slevel & rep & batch & time & N & tncnt\\\\\n",
       "  & <chr> & <chr> & <chr> & <chr> & <int> & <int> & <int> & <int> & <int>\\\\\n",
       "\\hline\n",
       "\t1 & CCNA\\_00001 & DCLPA & canavanine & HIGH & 1 & 2 & 24 & 62299 &  0\\\\\n",
       "\t2 & CCNA\\_00002 & DCLPA & canavanine & HIGH & 1 & 2 & 24 & 62299 & 53\\\\\n",
       "\t3 & CCNA\\_00003 & DCLPA & canavanine & HIGH & 1 & 2 & 24 & 62299 & 30\\\\\n",
       "\\end{tabular}\n"
      ],
      "text/markdown": [
       "\n",
       "A data.frame: 3 × 9\n",
       "\n",
       "| <!--/--> | locus_tag &lt;chr&gt; | strain &lt;chr&gt; | condition &lt;chr&gt; | slevel &lt;chr&gt; | rep &lt;int&gt; | batch &lt;int&gt; | time &lt;int&gt; | N &lt;int&gt; | tncnt &lt;int&gt; |\n",
       "|---|---|---|---|---|---|---|---|---|---|\n",
       "| 1 | CCNA_00001 | DCLPA | canavanine | HIGH | 1 | 2 | 24 | 62299 |  0 |\n",
       "| 2 | CCNA_00002 | DCLPA | canavanine | HIGH | 1 | 2 | 24 | 62299 | 53 |\n",
       "| 3 | CCNA_00003 | DCLPA | canavanine | HIGH | 1 | 2 | 24 | 62299 | 30 |\n",
       "\n"
      ],
      "text/plain": [
       "  locus_tag  strain condition  slevel rep batch time N     tncnt\n",
       "1 CCNA_00001 DCLPA  canavanine HIGH   1   2     24   62299  0   \n",
       "2 CCNA_00002 DCLPA  canavanine HIGH   1   2     24   62299 53   \n",
       "3 CCNA_00003 DCLPA  canavanine HIGH   1   2     24   62299 30   "
      ]
     },
     "metadata": {},
     "output_type": "display_data"
    }
   ],
   "source": [
    "df_uc <- read.table(\"../../../../knockoff/DataAndCode/UC_mid_batchcorrected_dclpb_included.tsv\",header=TRUE)\n",
    "head(df_uc,3)"
   ]
  },
  {
   "cell_type": "code",
   "execution_count": 52,
   "id": "364b1cd0-8e1c-4951-9e74-1569234f1a94",
   "metadata": {},
   "outputs": [
    {
     "data": {
      "text/html": [
       "336157"
      ],
      "text/latex": [
       "336157"
      ],
      "text/markdown": [
       "336157"
      ],
      "text/plain": [
       "[1] 336157"
      ]
     },
     "metadata": {},
     "output_type": "display_data"
    }
   ],
   "source": [
    "max(df_uc$N)"
   ]
  },
  {
   "cell_type": "code",
   "execution_count": null,
   "id": "4b7b698a-6562-423c-b9f4-95f0ab5aac62",
   "metadata": {},
   "outputs": [],
   "source": []
  }
 ],
 "metadata": {
  "kernelspec": {
   "display_name": "R",
   "language": "R",
   "name": "ir"
  },
  "language_info": {
   "codemirror_mode": "r",
   "file_extension": ".r",
   "mimetype": "text/x-r-source",
   "name": "R",
   "pygments_lexer": "r",
   "version": "4.2.0"
  }
 },
 "nbformat": 4,
 "nbformat_minor": 5
}

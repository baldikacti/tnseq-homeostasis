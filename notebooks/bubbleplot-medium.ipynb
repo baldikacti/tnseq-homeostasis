{
 "cells": [
  {
   "cell_type": "code",
   "execution_count": 28,
   "id": "dd6fd6fb-072b-481f-a784-43866e1a0962",
   "metadata": {},
   "outputs": [],
   "source": [
    "# Load necessary libraries\n",
    "library(ggplot2)\n",
    "library(dplyr)\n",
    "\n",
    "# Read the data\n",
    "data <- read.csv(\"emd_values_corrected_medium.csv\")"
   ]
  },
  {
   "cell_type": "code",
   "execution_count": 29,
   "id": "228be16a-ef13-4485-8987-db9d72d4a0d5",
   "metadata": {},
   "outputs": [
    {
     "data": {
      "text/html": [
       "<table class=\"dataframe\">\n",
       "<caption>A data.frame: 18 × 4</caption>\n",
       "<thead>\n",
       "\t<tr><th scope=col>Strain</th><th scope=col>Condition</th><th scope=col>EMD</th><th scope=col>Metric</th></tr>\n",
       "\t<tr><th scope=col>&lt;chr&gt;</th><th scope=col>&lt;chr&gt;</th><th scope=col>&lt;dbl&gt;</th><th scope=col>&lt;chr&gt;</th></tr>\n",
       "</thead>\n",
       "<tbody>\n",
       "\t<tr><td>wild-type</td><td>HT:M||OS:L</td><td> 56.2436497</td><td>Total_Counts </td></tr>\n",
       "\t<tr><td>wild-type</td><td>HT:M||OS:M</td><td> 17.5484992</td><td>Total_Counts </td></tr>\n",
       "\t<tr><td>wild-type</td><td>HT:M||OS:H</td><td>204.2181795</td><td>Total_Counts </td></tr>\n",
       "\t<tr><td>DCLPA    </td><td>HT:M||OS:L</td><td>172.6096328</td><td>Total_Counts </td></tr>\n",
       "\t<tr><td>DCLPA    </td><td>HT:M||OS:M</td><td>161.4348573</td><td>Total_Counts </td></tr>\n",
       "\t<tr><td>DCLPA    </td><td>HT:M||OS:H</td><td>266.8013570</td><td>Total_Counts </td></tr>\n",
       "\t<tr><td>DCLPB    </td><td>HT:M||OS:L</td><td> 49.1931839</td><td>Total_Counts </td></tr>\n",
       "\t<tr><td>DCLPB    </td><td>HT:M||OS:M</td><td> 20.2197195</td><td>Total_Counts </td></tr>\n",
       "\t<tr><td>DCLPB    </td><td>HT:M||OS:H</td><td> 31.0010618</td><td>Total_Counts </td></tr>\n",
       "\t<tr><td>wild-type</td><td>HT:M||OS:L</td><td>  1.0400716</td><td>Unique_Counts</td></tr>\n",
       "\t<tr><td>wild-type</td><td>HT:M||OS:M</td><td>  0.9151651</td><td>Unique_Counts</td></tr>\n",
       "\t<tr><td>wild-type</td><td>HT:M||OS:H</td><td>  5.9321165</td><td>Unique_Counts</td></tr>\n",
       "\t<tr><td>DCLPA    </td><td>HT:M||OS:L</td><td>  0.6186834</td><td>Unique_Counts</td></tr>\n",
       "\t<tr><td>DCLPA    </td><td>HT:M||OS:M</td><td>  0.8661364</td><td>Unique_Counts</td></tr>\n",
       "\t<tr><td>DCLPA    </td><td>HT:M||OS:H</td><td>  4.6975000</td><td>Unique_Counts</td></tr>\n",
       "\t<tr><td>DCLPB    </td><td>HT:M||OS:L</td><td>  0.2928969</td><td>Unique_Counts</td></tr>\n",
       "\t<tr><td>DCLPB    </td><td>HT:M||OS:M</td><td>  0.3113071</td><td>Unique_Counts</td></tr>\n",
       "\t<tr><td>DCLPB    </td><td>HT:M||OS:H</td><td>  0.4294872</td><td>Unique_Counts</td></tr>\n",
       "</tbody>\n",
       "</table>\n"
      ],
      "text/latex": [
       "A data.frame: 18 × 4\n",
       "\\begin{tabular}{llll}\n",
       " Strain & Condition & EMD & Metric\\\\\n",
       " <chr> & <chr> & <dbl> & <chr>\\\\\n",
       "\\hline\n",
       "\t wild-type & HT:M\\textbar{}\\textbar{}OS:L &  56.2436497 & Total\\_Counts \\\\\n",
       "\t wild-type & HT:M\\textbar{}\\textbar{}OS:M &  17.5484992 & Total\\_Counts \\\\\n",
       "\t wild-type & HT:M\\textbar{}\\textbar{}OS:H & 204.2181795 & Total\\_Counts \\\\\n",
       "\t DCLPA     & HT:M\\textbar{}\\textbar{}OS:L & 172.6096328 & Total\\_Counts \\\\\n",
       "\t DCLPA     & HT:M\\textbar{}\\textbar{}OS:M & 161.4348573 & Total\\_Counts \\\\\n",
       "\t DCLPA     & HT:M\\textbar{}\\textbar{}OS:H & 266.8013570 & Total\\_Counts \\\\\n",
       "\t DCLPB     & HT:M\\textbar{}\\textbar{}OS:L &  49.1931839 & Total\\_Counts \\\\\n",
       "\t DCLPB     & HT:M\\textbar{}\\textbar{}OS:M &  20.2197195 & Total\\_Counts \\\\\n",
       "\t DCLPB     & HT:M\\textbar{}\\textbar{}OS:H &  31.0010618 & Total\\_Counts \\\\\n",
       "\t wild-type & HT:M\\textbar{}\\textbar{}OS:L &   1.0400716 & Unique\\_Counts\\\\\n",
       "\t wild-type & HT:M\\textbar{}\\textbar{}OS:M &   0.9151651 & Unique\\_Counts\\\\\n",
       "\t wild-type & HT:M\\textbar{}\\textbar{}OS:H &   5.9321165 & Unique\\_Counts\\\\\n",
       "\t DCLPA     & HT:M\\textbar{}\\textbar{}OS:L &   0.6186834 & Unique\\_Counts\\\\\n",
       "\t DCLPA     & HT:M\\textbar{}\\textbar{}OS:M &   0.8661364 & Unique\\_Counts\\\\\n",
       "\t DCLPA     & HT:M\\textbar{}\\textbar{}OS:H &   4.6975000 & Unique\\_Counts\\\\\n",
       "\t DCLPB     & HT:M\\textbar{}\\textbar{}OS:L &   0.2928969 & Unique\\_Counts\\\\\n",
       "\t DCLPB     & HT:M\\textbar{}\\textbar{}OS:M &   0.3113071 & Unique\\_Counts\\\\\n",
       "\t DCLPB     & HT:M\\textbar{}\\textbar{}OS:H &   0.4294872 & Unique\\_Counts\\\\\n",
       "\\end{tabular}\n"
      ],
      "text/markdown": [
       "\n",
       "A data.frame: 18 × 4\n",
       "\n",
       "| Strain &lt;chr&gt; | Condition &lt;chr&gt; | EMD &lt;dbl&gt; | Metric &lt;chr&gt; |\n",
       "|---|---|---|---|\n",
       "| wild-type | HT:M||OS:L |  56.2436497 | Total_Counts  |\n",
       "| wild-type | HT:M||OS:M |  17.5484992 | Total_Counts  |\n",
       "| wild-type | HT:M||OS:H | 204.2181795 | Total_Counts  |\n",
       "| DCLPA     | HT:M||OS:L | 172.6096328 | Total_Counts  |\n",
       "| DCLPA     | HT:M||OS:M | 161.4348573 | Total_Counts  |\n",
       "| DCLPA     | HT:M||OS:H | 266.8013570 | Total_Counts  |\n",
       "| DCLPB     | HT:M||OS:L |  49.1931839 | Total_Counts  |\n",
       "| DCLPB     | HT:M||OS:M |  20.2197195 | Total_Counts  |\n",
       "| DCLPB     | HT:M||OS:H |  31.0010618 | Total_Counts  |\n",
       "| wild-type | HT:M||OS:L |   1.0400716 | Unique_Counts |\n",
       "| wild-type | HT:M||OS:M |   0.9151651 | Unique_Counts |\n",
       "| wild-type | HT:M||OS:H |   5.9321165 | Unique_Counts |\n",
       "| DCLPA     | HT:M||OS:L |   0.6186834 | Unique_Counts |\n",
       "| DCLPA     | HT:M||OS:M |   0.8661364 | Unique_Counts |\n",
       "| DCLPA     | HT:M||OS:H |   4.6975000 | Unique_Counts |\n",
       "| DCLPB     | HT:M||OS:L |   0.2928969 | Unique_Counts |\n",
       "| DCLPB     | HT:M||OS:M |   0.3113071 | Unique_Counts |\n",
       "| DCLPB     | HT:M||OS:H |   0.4294872 | Unique_Counts |\n",
       "\n"
      ],
      "text/plain": [
       "   Strain    Condition  EMD         Metric       \n",
       "1  wild-type HT:M||OS:L  56.2436497 Total_Counts \n",
       "2  wild-type HT:M||OS:M  17.5484992 Total_Counts \n",
       "3  wild-type HT:M||OS:H 204.2181795 Total_Counts \n",
       "4  DCLPA     HT:M||OS:L 172.6096328 Total_Counts \n",
       "5  DCLPA     HT:M||OS:M 161.4348573 Total_Counts \n",
       "6  DCLPA     HT:M||OS:H 266.8013570 Total_Counts \n",
       "7  DCLPB     HT:M||OS:L  49.1931839 Total_Counts \n",
       "8  DCLPB     HT:M||OS:M  20.2197195 Total_Counts \n",
       "9  DCLPB     HT:M||OS:H  31.0010618 Total_Counts \n",
       "10 wild-type HT:M||OS:L   1.0400716 Unique_Counts\n",
       "11 wild-type HT:M||OS:M   0.9151651 Unique_Counts\n",
       "12 wild-type HT:M||OS:H   5.9321165 Unique_Counts\n",
       "13 DCLPA     HT:M||OS:L   0.6186834 Unique_Counts\n",
       "14 DCLPA     HT:M||OS:M   0.8661364 Unique_Counts\n",
       "15 DCLPA     HT:M||OS:H   4.6975000 Unique_Counts\n",
       "16 DCLPB     HT:M||OS:L   0.2928969 Unique_Counts\n",
       "17 DCLPB     HT:M||OS:M   0.3113071 Unique_Counts\n",
       "18 DCLPB     HT:M||OS:H   0.4294872 Unique_Counts"
      ]
     },
     "metadata": {},
     "output_type": "display_data"
    }
   ],
   "source": [
    "data"
   ]
  },
  {
   "cell_type": "code",
   "execution_count": 30,
   "id": "bfea5f2a-2493-4bef-b202-ca847afc1ae3",
   "metadata": {},
   "outputs": [],
   "source": [
    "options(repr.plot.width=4, repr.plot.height=3)"
   ]
  },
  {
   "cell_type": "code",
   "execution_count": 31,
   "id": "ecb2789f-e21d-43e5-bebe-1458277f8005",
   "metadata": {},
   "outputs": [],
   "source": [
    "# Plot for Metric == Median_TC\n",
    "p1 <- ggplot(data %>% filter(Metric == \"Total_Counts\"), \n",
    "             aes(x = Condition, y = Strain, size = EMD, color = Strain)) +\n",
    "  geom_point(alpha = 0.7) +\n",
    "  scale_x_discrete(limits = c(\"HT:M||OS:L\", \"HT:M||OS:M\", \"HT:M||OS:H\")) +\n",
    "  labs(y = \"Strain\", title = \"Total insertions EMD distances\") +\n",
    "  theme_minimal() +ggpubr::theme_classic2()\n"
   ]
  },
  {
   "cell_type": "code",
   "execution_count": 32,
   "id": "2996adb9-2e5d-4583-871f-b4d66124a1cc",
   "metadata": {},
   "outputs": [
    {
     "data": {
      "image/png": "[encoded data removed]",
      "text/plain": [
       "plot without title"
      ]
     },
     "metadata": {
      "image/png": {
       "height": 180,
       "width": 240
      }
     },
     "output_type": "display_data"
    }
   ],
   "source": [
    "\n",
    "# Discretize the EMD values\n",
    "data <- data %>%\n",
    "  mutate(size_group = case_when(\n",
    "    EMD < 50  ~ \"small\",\n",
    "    EMD >= 50 & EMD < 100 ~ \"medium\",\n",
    "    EMD >= 100 & EMD < 200 ~ \"large\",\n",
    "    EMD >= 200 ~ \"x-large\"\n",
    "  ))\n",
    "\n",
    "# Plot\n",
    "p1 <- ggplot(data %>% filter(Metric == \"Total_Counts\"), \n",
    "             aes(x = Condition, y = Strain, size = size_group)) +\n",
    "  geom_point(alpha = 0.7) +\n",
    "  scale_x_discrete(limits = c(\"HT:M||OS:L\", \"HT:M||OS:M\", \"HT:M||OS:H\")) +\n",
    "  scale_size_manual(values = c(\"small\" = 3, \"medium\" = 6, \"large\" = 9, \"x-large\" = 18)) +\n",
    "  labs(y = \"Strain\", title = \"Total insertions EMD distances\") +scale_y_discrete(limits = c(\"DCLPB\", \"DCLPA\",\"wild-type\"))+\n",
    "  theme_minimal() +\n",
    "  ggpubr::theme_classic2()+\n",
    "  theme(legend.position = \"none\")\n",
    "\n",
    "p1\n"
   ]
  },
  {
   "cell_type": "code",
   "execution_count": 33,
   "id": "3b16dc14-920a-4537-a26d-0beccf38ad8a",
   "metadata": {},
   "outputs": [
    {
     "data": {
      "image/png": "[encoded data removed]",
      "text/plain": [
       "plot without title"
      ]
     },
     "metadata": {
      "image/png": {
       "height": 180,
       "width": 240
      }
     },
     "output_type": "display_data"
    }
   ],
   "source": [
    "# Discretize the EMD values\n",
    "data <- data %>%\n",
    "  mutate(size_group = case_when(\n",
    "    EMD <= 0.5  ~ \"small\",\n",
    "    EMD > 0.5 & EMD <= 1.5 ~ \"medium\",\n",
    "    EMD > 1.5 & EMD <= 3.5 ~ \"large\",\n",
    "    EMD > 3.5 & EMD <= 7 ~ \"x-large\"\n",
    "  ))\n",
    "\n",
    "# Plot\n",
    "p2 <- ggplot(data %>% filter(Metric == \"Unique_Counts\"), \n",
    "             aes(x = Condition, y = Strain, size = size_group)) +\n",
    "  geom_point(alpha = 0.7) +\n",
    "  scale_x_discrete(limits = c(\"HT:M||OS:L\", \"HT:M||OS:M\", \"HT:M||OS:H\")) +\n",
    "  scale_size_manual(values = c(\"small\" = 3, \"medium\" = 6, \"large\" = 9, \"x-large\" = 18)) +\n",
    "  labs(y = \"Strain\", title = \"Unique insertions EMD distances\") +scale_y_discrete(limits = c(\"DCLPB\", \"DCLPA\",\"wild-type\"))+\n",
    "  theme_minimal() +\n",
    "  ggpubr::theme_classic2() +\n",
    "  theme(legend.position = \"none\")\n",
    "\n",
    "p2\n"
   ]
  },
  {
   "cell_type": "code",
   "execution_count": null,
   "id": "b499562d-5418-40e1-b35d-03c845f3a1c0",
   "metadata": {},
   "outputs": [],
   "source": []
  },
  {
   "cell_type": "code",
   "execution_count": 34,
   "id": "41037e1b-5e06-4556-9977-be33103452d8",
   "metadata": {},
   "outputs": [],
   "source": [
    "\n",
    "data <- read.csv(\"emd_values_corrected_high.csv\")"
   ]
  },
  {
   "cell_type": "code",
   "execution_count": 35,
   "id": "66db5284-e225-46c4-9f1c-f683d27f5cb0",
   "metadata": {},
   "outputs": [
    {
     "data": {
      "text/html": [
       "<table class=\"dataframe\">\n",
       "<caption>A data.frame: 18 × 4</caption>\n",
       "<thead>\n",
       "\t<tr><th scope=col>Strain</th><th scope=col>Condition</th><th scope=col>EMD</th><th scope=col>Metric</th></tr>\n",
       "\t<tr><th scope=col>&lt;chr&gt;</th><th scope=col>&lt;chr&gt;</th><th scope=col>&lt;dbl&gt;</th><th scope=col>&lt;chr&gt;</th></tr>\n",
       "</thead>\n",
       "<tbody>\n",
       "\t<tr><td>wild-type</td><td>HT:H||OS:L</td><td> 46.2099203</td><td>Total_Counts </td></tr>\n",
       "\t<tr><td>wild-type</td><td>HT:H||OS:M</td><td> 13.4106560</td><td>Total_Counts </td></tr>\n",
       "\t<tr><td>wild-type</td><td>HT:H||OS:H</td><td>192.7041989</td><td>Total_Counts </td></tr>\n",
       "\t<tr><td>DCLPA    </td><td>HT:H||OS:L</td><td> 43.7539394</td><td>Total_Counts </td></tr>\n",
       "\t<tr><td>DCLPA    </td><td>HT:H||OS:M</td><td> 40.8429027</td><td>Total_Counts </td></tr>\n",
       "\t<tr><td>DCLPA    </td><td>HT:H||OS:H</td><td>402.7206559</td><td>Total_Counts </td></tr>\n",
       "\t<tr><td>DCLPB    </td><td>HT:H||OS:L</td><td> 59.6947209</td><td>Total_Counts </td></tr>\n",
       "\t<tr><td>DCLPB    </td><td>HT:H||OS:M</td><td> 36.9549758</td><td>Total_Counts </td></tr>\n",
       "\t<tr><td>DCLPB    </td><td>HT:H||OS:H</td><td> 31.0647935</td><td>Total_Counts </td></tr>\n",
       "\t<tr><td>wild-type</td><td>HT:H||OS:L</td><td>  1.2698854</td><td>Unique_Counts</td></tr>\n",
       "\t<tr><td>wild-type</td><td>HT:H||OS:M</td><td>  1.6342462</td><td>Unique_Counts</td></tr>\n",
       "\t<tr><td>wild-type</td><td>HT:H||OS:H</td><td>  3.9271747</td><td>Unique_Counts</td></tr>\n",
       "\t<tr><td>DCLPA    </td><td>HT:H||OS:L</td><td>  0.6930631</td><td>Unique_Counts</td></tr>\n",
       "\t<tr><td>DCLPA    </td><td>HT:H||OS:M</td><td>  0.9754352</td><td>Unique_Counts</td></tr>\n",
       "\t<tr><td>DCLPA    </td><td>HT:H||OS:H</td><td>  4.9404255</td><td>Unique_Counts</td></tr>\n",
       "\t<tr><td>DCLPB    </td><td>HT:H||OS:L</td><td>  0.3042169</td><td>Unique_Counts</td></tr>\n",
       "\t<tr><td>DCLPB    </td><td>HT:H||OS:M</td><td>  0.3329753</td><td>Unique_Counts</td></tr>\n",
       "\t<tr><td>DCLPB    </td><td>HT:H||OS:H</td><td>  0.4199372</td><td>Unique_Counts</td></tr>\n",
       "</tbody>\n",
       "</table>\n"
      ],
      "text/latex": [
       "A data.frame: 18 × 4\n",
       "\\begin{tabular}{llll}\n",
       " Strain & Condition & EMD & Metric\\\\\n",
       " <chr> & <chr> & <dbl> & <chr>\\\\\n",
       "\\hline\n",
       "\t wild-type & HT:H\\textbar{}\\textbar{}OS:L &  46.2099203 & Total\\_Counts \\\\\n",
       "\t wild-type & HT:H\\textbar{}\\textbar{}OS:M &  13.4106560 & Total\\_Counts \\\\\n",
       "\t wild-type & HT:H\\textbar{}\\textbar{}OS:H & 192.7041989 & Total\\_Counts \\\\\n",
       "\t DCLPA     & HT:H\\textbar{}\\textbar{}OS:L &  43.7539394 & Total\\_Counts \\\\\n",
       "\t DCLPA     & HT:H\\textbar{}\\textbar{}OS:M &  40.8429027 & Total\\_Counts \\\\\n",
       "\t DCLPA     & HT:H\\textbar{}\\textbar{}OS:H & 402.7206559 & Total\\_Counts \\\\\n",
       "\t DCLPB     & HT:H\\textbar{}\\textbar{}OS:L &  59.6947209 & Total\\_Counts \\\\\n",
       "\t DCLPB     & HT:H\\textbar{}\\textbar{}OS:M &  36.9549758 & Total\\_Counts \\\\\n",
       "\t DCLPB     & HT:H\\textbar{}\\textbar{}OS:H &  31.0647935 & Total\\_Counts \\\\\n",
       "\t wild-type & HT:H\\textbar{}\\textbar{}OS:L &   1.2698854 & Unique\\_Counts\\\\\n",
       "\t wild-type & HT:H\\textbar{}\\textbar{}OS:M &   1.6342462 & Unique\\_Counts\\\\\n",
       "\t wild-type & HT:H\\textbar{}\\textbar{}OS:H &   3.9271747 & Unique\\_Counts\\\\\n",
       "\t DCLPA     & HT:H\\textbar{}\\textbar{}OS:L &   0.6930631 & Unique\\_Counts\\\\\n",
       "\t DCLPA     & HT:H\\textbar{}\\textbar{}OS:M &   0.9754352 & Unique\\_Counts\\\\\n",
       "\t DCLPA     & HT:H\\textbar{}\\textbar{}OS:H &   4.9404255 & Unique\\_Counts\\\\\n",
       "\t DCLPB     & HT:H\\textbar{}\\textbar{}OS:L &   0.3042169 & Unique\\_Counts\\\\\n",
       "\t DCLPB     & HT:H\\textbar{}\\textbar{}OS:M &   0.3329753 & Unique\\_Counts\\\\\n",
       "\t DCLPB     & HT:H\\textbar{}\\textbar{}OS:H &   0.4199372 & Unique\\_Counts\\\\\n",
       "\\end{tabular}\n"
      ],
      "text/markdown": [
       "\n",
       "A data.frame: 18 × 4\n",
       "\n",
       "| Strain &lt;chr&gt; | Condition &lt;chr&gt; | EMD &lt;dbl&gt; | Metric &lt;chr&gt; |\n",
       "|---|---|---|---|\n",
       "| wild-type | HT:H||OS:L |  46.2099203 | Total_Counts  |\n",
       "| wild-type | HT:H||OS:M |  13.4106560 | Total_Counts  |\n",
       "| wild-type | HT:H||OS:H | 192.7041989 | Total_Counts  |\n",
       "| DCLPA     | HT:H||OS:L |  43.7539394 | Total_Counts  |\n",
       "| DCLPA     | HT:H||OS:M |  40.8429027 | Total_Counts  |\n",
       "| DCLPA     | HT:H||OS:H | 402.7206559 | Total_Counts  |\n",
       "| DCLPB     | HT:H||OS:L |  59.6947209 | Total_Counts  |\n",
       "| DCLPB     | HT:H||OS:M |  36.9549758 | Total_Counts  |\n",
       "| DCLPB     | HT:H||OS:H |  31.0647935 | Total_Counts  |\n",
       "| wild-type | HT:H||OS:L |   1.2698854 | Unique_Counts |\n",
       "| wild-type | HT:H||OS:M |   1.6342462 | Unique_Counts |\n",
       "| wild-type | HT:H||OS:H |   3.9271747 | Unique_Counts |\n",
       "| DCLPA     | HT:H||OS:L |   0.6930631 | Unique_Counts |\n",
       "| DCLPA     | HT:H||OS:M |   0.9754352 | Unique_Counts |\n",
       "| DCLPA     | HT:H||OS:H |   4.9404255 | Unique_Counts |\n",
       "| DCLPB     | HT:H||OS:L |   0.3042169 | Unique_Counts |\n",
       "| DCLPB     | HT:H||OS:M |   0.3329753 | Unique_Counts |\n",
       "| DCLPB     | HT:H||OS:H |   0.4199372 | Unique_Counts |\n",
       "\n"
      ],
      "text/plain": [
       "   Strain    Condition  EMD         Metric       \n",
       "1  wild-type HT:H||OS:L  46.2099203 Total_Counts \n",
       "2  wild-type HT:H||OS:M  13.4106560 Total_Counts \n",
       "3  wild-type HT:H||OS:H 192.7041989 Total_Counts \n",
       "4  DCLPA     HT:H||OS:L  43.7539394 Total_Counts \n",
       "5  DCLPA     HT:H||OS:M  40.8429027 Total_Counts \n",
       "6  DCLPA     HT:H||OS:H 402.7206559 Total_Counts \n",
       "7  DCLPB     HT:H||OS:L  59.6947209 Total_Counts \n",
       "8  DCLPB     HT:H||OS:M  36.9549758 Total_Counts \n",
       "9  DCLPB     HT:H||OS:H  31.0647935 Total_Counts \n",
       "10 wild-type HT:H||OS:L   1.2698854 Unique_Counts\n",
       "11 wild-type HT:H||OS:M   1.6342462 Unique_Counts\n",
       "12 wild-type HT:H||OS:H   3.9271747 Unique_Counts\n",
       "13 DCLPA     HT:H||OS:L   0.6930631 Unique_Counts\n",
       "14 DCLPA     HT:H||OS:M   0.9754352 Unique_Counts\n",
       "15 DCLPA     HT:H||OS:H   4.9404255 Unique_Counts\n",
       "16 DCLPB     HT:H||OS:L   0.3042169 Unique_Counts\n",
       "17 DCLPB     HT:H||OS:M   0.3329753 Unique_Counts\n",
       "18 DCLPB     HT:H||OS:H   0.4199372 Unique_Counts"
      ]
     },
     "metadata": {},
     "output_type": "display_data"
    }
   ],
   "source": [
    "data"
   ]
  },
  {
   "cell_type": "code",
   "execution_count": 36,
   "id": "798ad273-2cf1-4374-9f13-48c274389a38",
   "metadata": {},
   "outputs": [],
   "source": [
    "options(repr.plot.width=4, repr.plot.height=3)"
   ]
  },
  {
   "cell_type": "code",
   "execution_count": 37,
   "id": "bcf9d739-562d-45ce-b433-32a04a51d6df",
   "metadata": {},
   "outputs": [],
   "source": [
    "# Plot for Metric == Median_TC\n",
    "p3 <- ggplot(data %>% filter(Metric == \"Total_Counts\"), \n",
    "             aes(x = Condition, y = Strain, size = EMD, color = Strain)) +\n",
    "  geom_point(alpha = 0.7) +\n",
    "  scale_x_discrete(limits = c(\"HT:H||OS:L\", \"HT:H||OS:M\", \"HT:H||OS:H\")) +\n",
    "  labs(y = \"Strain\", title = \"Total insertions EMD distances\") +\n",
    "  theme_minimal() +ggpubr::theme_classic2()\n"
   ]
  },
  {
   "cell_type": "code",
   "execution_count": 38,
   "id": "057c7ed8-f147-4338-96b5-3c3c44de1151",
   "metadata": {},
   "outputs": [
    {
     "data": {
      "image/png": "[encoded data removed]",
      "text/plain": [
       "plot without title"
      ]
     },
     "metadata": {
      "image/png": {
       "height": 180,
       "width": 240
      }
     },
     "output_type": "display_data"
    }
   ],
   "source": [
    "\n",
    "# Discretize the EMD values\n",
    "data <- data %>%\n",
    "  mutate(size_group = case_when(\n",
    "    EMD < 50  ~ \"small\",\n",
    "    EMD >= 50 & EMD < 100 ~ \"medium\",\n",
    "    EMD >= 100 & EMD < 200 ~ \"large\",\n",
    "    EMD >= 200 ~ \"x-large\"\n",
    "  ))\n",
    "\n",
    "# Plot\n",
    "p3 <- ggplot(data %>% filter(Metric == \"Total_Counts\"), \n",
    "             aes(x = Condition, y = Strain, size = size_group)) +\n",
    "  geom_point(alpha = 0.7) +\n",
    "  scale_x_discrete(limits = c(\"HT:H||OS:L\", \"HT:H||OS:M\", \"HT:H||OS:H\")) +\n",
    "  scale_size_manual(values = c(\"small\" = 3, \"medium\" = 6, \"large\" = 9, \"x-large\" = 18)) +\n",
    "  labs(y = \"Strain\", title = \"Total insertions EMD distances\") +scale_y_discrete(limits = c(\"DCLPB\", \"DCLPA\",\"wild-type\"))+\n",
    "  theme_minimal() +\n",
    "  ggpubr::theme_classic2()+\n",
    "  theme(legend.position = \"none\")\n",
    "\n",
    "p3\n"
   ]
  },
  {
   "cell_type": "code",
   "execution_count": 39,
   "id": "16fa0bb0-fe44-4f13-97de-2adf60f5790d",
   "metadata": {},
   "outputs": [
    {
     "data": {
      "image/png": "[encoded data removed]",
      "text/plain": [
       "plot without title"
      ]
     },
     "metadata": {
      "image/png": {
       "height": 180,
       "width": 240
      }
     },
     "output_type": "display_data"
    }
   ],
   "source": [
    "# Discretize the EMD values\n",
    "data <- data %>%\n",
    "  mutate(size_group = case_when(\n",
    "    EMD <= 0.5  ~ \"small\",\n",
    "    EMD > 0.5 & EMD <= 1.5 ~ \"medium\",\n",
    "    EMD > 1.5 & EMD <= 3.5 ~ \"large\",\n",
    "    EMD > 3.5 & EMD <= 7 ~ \"x-large\"\n",
    "  ))\n",
    "\n",
    "# Plot\n",
    "p4 <- ggplot(data %>% filter(Metric == \"Unique_Counts\"), \n",
    "             aes(x = Condition, y = Strain, size = size_group)) +\n",
    "  geom_point(alpha = 0.7) +\n",
    "  scale_x_discrete(limits = c(\"HT:H||OS:L\", \"HT:H||OS:M\", \"HT:H||OS:H\")) +\n",
    "  scale_size_manual(values = c(\"small\" = 3, \"medium\" = 6, \"large\" = 9, \"x-large\" = 18)) +\n",
    "  labs(y = \"Strain\", title = \"Unique insertions EMD distances\") +scale_y_discrete(limits = c(\"DCLPB\", \"DCLPA\",\"wild-type\"))+\n",
    "  theme_minimal() +\n",
    "  ggpubr::theme_classic2() +\n",
    "  theme(legend.position = \"none\")\n",
    "\n",
    "p4\n"
   ]
  },
  {
   "cell_type": "code",
   "execution_count": 40,
   "id": "7f63add6-2aea-41ac-bc89-dd890faf7b2d",
   "metadata": {},
   "outputs": [],
   "source": [
    "suppressMessages(suppressWarnings(library(\"grid\")))"
   ]
  },
  {
   "cell_type": "code",
   "execution_count": 41,
   "id": "50d4c61c-2f90-446f-ad90-8cc05b7e560e",
   "metadata": {},
   "outputs": [],
   "source": [
    "suppressMessages(suppressWarnings(library(\"gridExtra\")))"
   ]
  },
  {
   "cell_type": "code",
   "execution_count": null,
   "id": "4c9a7ba3-ce23-43fe-b965-9d92d7bdbab4",
   "metadata": {},
   "outputs": [],
   "source": []
  },
  {
   "cell_type": "code",
   "execution_count": 42,
   "id": "0e1a8a09-52e9-402b-9449-59ff4a688687",
   "metadata": {},
   "outputs": [
    {
     "data": {
      "image/png": "[encoded data removed]",
      "text/plain": [
       "plot without title"
      ]
     },
     "metadata": {
      "image/png": {
       "height": 180,
       "width": 240
      }
     },
     "output_type": "display_data"
    }
   ],
   "source": [
    "p <- grid.arrange(p1, p2,p3,p4,ncol=2,nrow=2)"
   ]
  },
  {
   "cell_type": "code",
   "execution_count": 44,
   "id": "3f0032be-730b-4dea-bbef-8ec1485cb8c8",
   "metadata": {},
   "outputs": [],
   "source": [
    "ggsave(filename = \"../PNAS/FIGURES/Fig4b.pdf\", device = \"pdf\",  plot = p, width = 8, height =6 , dpi = 300, units = \"in\")"
   ]
  },
  {
   "cell_type": "code",
   "execution_count": null,
   "id": "3898df8b-5ee0-44ea-af02-400cc46d9b67",
   "metadata": {},
   "outputs": [],
   "source": []
  },
  {
   "cell_type": "code",
   "execution_count": null,
   "id": "94c306ec-00f6-4ab6-8107-ac9c4362d998",
   "metadata": {},
   "outputs": [],
   "source": []
  },
  {
   "cell_type": "code",
   "execution_count": null,
   "id": "3f60a774-15f6-447e-8268-4e1187ae659a",
   "metadata": {},
   "outputs": [],
   "source": []
  }
 ],
 "metadata": {
  "kernelspec": {
   "display_name": "R",
   "language": "R",
   "name": "ir"
  },
  "language_info": {
   "codemirror_mode": "r",
   "file_extension": ".r",
   "mimetype": "text/x-r-source",
   "name": "R",
   "pygments_lexer": "r",
   "version": "4.2.0"
  }
 },
 "nbformat": 4,
 "nbformat_minor": 5
}

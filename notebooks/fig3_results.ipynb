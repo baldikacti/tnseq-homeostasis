{
 "cells": [
  {
   "cell_type": "code",
   "execution_count": 1,
   "id": "7bd5a649-8d79-4885-ae17-f4b5fca8bf9a",
   "metadata": {},
   "outputs": [],
   "source": [
    "suppressWarnings(suppressMessages(library(tidyverse)))"
   ]
  },
  {
   "cell_type": "code",
   "execution_count": 2,
   "id": "7d9eac45-45f7-482d-8ce2-f45627a1bd4b",
   "metadata": {},
   "outputs": [],
   "source": [
    "setwd(\"../../../../knockoff/DataAndCode/\")"
   ]
  },
  {
   "cell_type": "code",
   "execution_count": 3,
   "id": "17144b15-f2e7-4841-b923-4732163e8c8d",
   "metadata": {},
   "outputs": [],
   "source": [
    "load(file='wildhigh_long.Rata')\n",
    "load(file='dclpahigh_long.Rata')\n",
    "load(file='dclpbhigh_long.Rata')\n",
    "load(file='dnakhigh_long.Rata')\n",
    "load(file='dlonhigh_long.Rata')"
   ]
  },
  {
   "cell_type": "code",
   "execution_count": 76,
   "id": "ea1e726c-999e-454a-8be7-e953290f6ccc",
   "metadata": {},
   "outputs": [],
   "source": [
    "wt_genes <- read.table(\"wt_genes_1.txt\",header=TRUE)\n",
    "dlon_genes <- read.table(\"dlon_genes_1.txt\",header=TRUE)\n",
    "dkj_genes <- read.table(\"dnak_genes_1.txt\",header=TRUE)\n",
    "dclpa_genes <- read.table(\"dclpa_genes_1.txt\",header=TRUE)\n",
    "dclpb_genes <- read.table(\"dclpb_genes_1.txt\",header=TRUE)"
   ]
  },
  {
   "cell_type": "code",
   "execution_count": 71,
   "id": "22550671-0299-44f6-9f2f-dc76f6097e3e",
   "metadata": {},
   "outputs": [
    {
     "data": {
      "text/html": [
       "20"
      ],
      "text/latex": [
       "20"
      ],
      "text/markdown": [
       "20"
      ],
      "text/plain": [
       "[1] 20"
      ]
     },
     "metadata": {},
     "output_type": "display_data"
    }
   ],
   "source": [
    "nrow(wt_genes)"
   ]
  },
  {
   "cell_type": "code",
   "execution_count": 73,
   "id": "1da15fbf-5906-4a29-b32c-af684f3ee8cc",
   "metadata": {},
   "outputs": [
    {
     "data": {
      "text/html": [
       "38"
      ],
      "text/latex": [
       "38"
      ],
      "text/markdown": [
       "38"
      ],
      "text/plain": [
       "[1] 38"
      ]
     },
     "metadata": {},
     "output_type": "display_data"
    }
   ],
   "source": [
    "nrow(dkj_genes)"
   ]
  },
  {
   "cell_type": "code",
   "execution_count": null,
   "id": "23b71675-49a3-46e1-b37b-10e3e7bae3cb",
   "metadata": {},
   "outputs": [],
   "source": []
  },
  {
   "cell_type": "code",
   "execution_count": null,
   "id": "04211eb3-7dc3-4838-a14a-cc7d583b3a54",
   "metadata": {},
   "outputs": [],
   "source": []
  },
  {
   "cell_type": "code",
   "execution_count": null,
   "id": "4e2c244a-b979-461f-a41d-f457b114422f",
   "metadata": {},
   "outputs": [],
   "source": []
  },
  {
   "cell_type": "code",
   "execution_count": 77,
   "id": "2227333e-ab79-4d57-bd98-d16c555018d6",
   "metadata": {},
   "outputs": [],
   "source": [
    "fd <- c(wt_genes$locus_tag,dlon_genes$locus_tag,dkj_genes$locus_tag,dclpa_genes$locus_tag,dclpb_genes$locus_tag)"
   ]
  },
  {
   "cell_type": "code",
   "execution_count": 78,
   "id": "643efe22-69f0-4e42-bf06-ed2906413761",
   "metadata": {},
   "outputs": [
    {
     "data": {
      "text/html": [
       "174"
      ],
      "text/latex": [
       "174"
      ],
      "text/markdown": [
       "174"
      ],
      "text/plain": [
       "[1] 174"
      ]
     },
     "metadata": {},
     "output_type": "display_data"
    }
   ],
   "source": [
    "length(fd)"
   ]
  },
  {
   "cell_type": "code",
   "execution_count": 63,
   "id": "d1be4d80-70ad-45af-918d-b1bee8e4c9bf",
   "metadata": {},
   "outputs": [
    {
     "data": {
      "text/html": [
       "<table class=\"dataframe\">\n",
       "<caption>A data.frame: 6 × 5</caption>\n",
       "<thead>\n",
       "\t<tr><th></th><th scope=col>locus_tag</th><th scope=col>cc_tag</th><th scope=col>geneID</th><th scope=col>protein_id</th><th scope=col>description</th></tr>\n",
       "\t<tr><th></th><th scope=col>&lt;chr&gt;</th><th scope=col>&lt;chr&gt;</th><th scope=col>&lt;chr&gt;</th><th scope=col>&lt;chr&gt;</th><th scope=col>&lt;chr&gt;</th></tr>\n",
       "</thead>\n",
       "<tbody>\n",
       "\t<tr><th scope=row>1</th><td>CCNA_00001</td><td>CC_0001</td><td>NA  </td><td>YP_002515376.1</td><td>ATP/GTP-binding protein     </td></tr>\n",
       "\t<tr><th scope=row>2</th><td>CCNA_00002</td><td>CC_0002</td><td>NA  </td><td>YP_002515377.1</td><td>septum formation protein Maf</td></tr>\n",
       "\t<tr><th scope=row>3</th><td>CCNA_00003</td><td>CC_0003</td><td>NA  </td><td>YP_002515378.1</td><td>shikimate 5-dehydrogenase   </td></tr>\n",
       "\t<tr><th scope=row>4</th><td>CCNA_00004</td><td>CC_0004</td><td>NA  </td><td>YP_002515379.1</td><td>dephospho-CoA kinase        </td></tr>\n",
       "\t<tr><th scope=row>5</th><td>CCNA_00005</td><td>CC_0005</td><td>dnaQ</td><td>NA            </td><td>NA                          </td></tr>\n",
       "\t<tr><th scope=row>6</th><td>CCNA_00006</td><td>CC_0006</td><td>NA  </td><td>YP_002515381.1</td><td>enoyl-CoA hydratase         </td></tr>\n",
       "</tbody>\n",
       "</table>\n"
      ],
      "text/latex": [
       "A data.frame: 6 × 5\n",
       "\\begin{tabular}{r|lllll}\n",
       "  & locus\\_tag & cc\\_tag & geneID & protein\\_id & description\\\\\n",
       "  & <chr> & <chr> & <chr> & <chr> & <chr>\\\\\n",
       "\\hline\n",
       "\t1 & CCNA\\_00001 & CC\\_0001 & NA   & YP\\_002515376.1 & ATP/GTP-binding protein     \\\\\n",
       "\t2 & CCNA\\_00002 & CC\\_0002 & NA   & YP\\_002515377.1 & septum formation protein Maf\\\\\n",
       "\t3 & CCNA\\_00003 & CC\\_0003 & NA   & YP\\_002515378.1 & shikimate 5-dehydrogenase   \\\\\n",
       "\t4 & CCNA\\_00004 & CC\\_0004 & NA   & YP\\_002515379.1 & dephospho-CoA kinase        \\\\\n",
       "\t5 & CCNA\\_00005 & CC\\_0005 & dnaQ & NA             & NA                          \\\\\n",
       "\t6 & CCNA\\_00006 & CC\\_0006 & NA   & YP\\_002515381.1 & enoyl-CoA hydratase         \\\\\n",
       "\\end{tabular}\n"
      ],
      "text/markdown": [
       "\n",
       "A data.frame: 6 × 5\n",
       "\n",
       "| <!--/--> | locus_tag &lt;chr&gt; | cc_tag &lt;chr&gt; | geneID &lt;chr&gt; | protein_id &lt;chr&gt; | description &lt;chr&gt; |\n",
       "|---|---|---|---|---|---|\n",
       "| 1 | CCNA_00001 | CC_0001 | NA   | YP_002515376.1 | ATP/GTP-binding protein      |\n",
       "| 2 | CCNA_00002 | CC_0002 | NA   | YP_002515377.1 | septum formation protein Maf |\n",
       "| 3 | CCNA_00003 | CC_0003 | NA   | YP_002515378.1 | shikimate 5-dehydrogenase    |\n",
       "| 4 | CCNA_00004 | CC_0004 | NA   | YP_002515379.1 | dephospho-CoA kinase         |\n",
       "| 5 | CCNA_00005 | CC_0005 | dnaQ | NA             | NA                           |\n",
       "| 6 | CCNA_00006 | CC_0006 | NA   | YP_002515381.1 | enoyl-CoA hydratase          |\n",
       "\n"
      ],
      "text/plain": [
       "  locus_tag  cc_tag  geneID protein_id     description                 \n",
       "1 CCNA_00001 CC_0001 NA     YP_002515376.1 ATP/GTP-binding protein     \n",
       "2 CCNA_00002 CC_0002 NA     YP_002515377.1 septum formation protein Maf\n",
       "3 CCNA_00003 CC_0003 NA     YP_002515378.1 shikimate 5-dehydrogenase   \n",
       "4 CCNA_00004 CC_0004 NA     YP_002515379.1 dephospho-CoA kinase        \n",
       "5 CCNA_00005 CC_0005 dnaQ   NA             NA                          \n",
       "6 CCNA_00006 CC_0006 NA     YP_002515381.1 enoyl-CoA hydratase         "
      ]
     },
     "metadata": {},
     "output_type": "display_data"
    }
   ],
   "source": [
    "df1 <- read.table(\"../../dlon-tnseq/reports/Master Table/RESULTS_FDR_LASTLEVELONLY_v2.TAB\",header=TRUE)%>%filter(locus_tag %in% fd)%>%select(strain,condition,Median_UC,locus_tag)%>%mutate(gene=locus_tag)\n",
    "gene <- read.csv(\"../../PNAS/DATA//CCNA_ref.csv\",header=TRUE,fill=TRUE)\n",
    "head(gene)"
   ]
  },
  {
   "cell_type": "code",
   "execution_count": 11,
   "id": "88201e03-fda3-4d7e-affc-61cbaba4002f",
   "metadata": {},
   "outputs": [
    {
     "data": {
      "text/html": [
       "<style>\n",
       ".list-inline {list-style: none; margin:0; padding: 0}\n",
       ".list-inline>li {display: inline-block}\n",
       ".list-inline>li:not(:last-child)::after {content: \"\\00b7\"; padding: 0 .5ex}\n",
       "</style>\n",
       "<ol class=list-inline><li>'DCLPA'</li><li>'DCLPB'</li><li>'DLON'</li><li>'dnak-dnaJ'</li><li>'wild-type'</li></ol>\n"
      ],
      "text/latex": [
       "\\begin{enumerate*}\n",
       "\\item 'DCLPA'\n",
       "\\item 'DCLPB'\n",
       "\\item 'DLON'\n",
       "\\item 'dnak-dnaJ'\n",
       "\\item 'wild-type'\n",
       "\\end{enumerate*}\n"
      ],
      "text/markdown": [
       "1. 'DCLPA'\n",
       "2. 'DCLPB'\n",
       "3. 'DLON'\n",
       "4. 'dnak-dnaJ'\n",
       "5. 'wild-type'\n",
       "\n",
       "\n"
      ],
      "text/plain": [
       "[1] \"DCLPA\"     \"DCLPB\"     \"DLON\"      \"dnak-dnaJ\" \"wild-type\""
      ]
     },
     "metadata": {},
     "output_type": "display_data"
    }
   ],
   "source": [
    "unique(df1$strain)"
   ]
  },
  {
   "cell_type": "code",
   "execution_count": 46,
   "id": "0bfd0ca9-0cca-4e10-ad3d-a428189cf498",
   "metadata": {},
   "outputs": [
    {
     "data": {
      "text/html": [
       "'CCNA_00001'"
      ],
      "text/latex": [
       "'CCNA\\_00001'"
      ],
      "text/markdown": [
       "'CCNA_00001'"
      ],
      "text/plain": [
       "[1] \"CCNA_00001\""
      ]
     },
     "metadata": {},
     "output_type": "display_data"
    }
   ],
   "source": [
    "df1$locus_tag[1]"
   ]
  },
  {
   "cell_type": "code",
   "execution_count": 64,
   "id": "4d94f515-7633-418b-992b-cf0884b79fe0",
   "metadata": {},
   "outputs": [],
   "source": [
    "options(repr.plot.width=5, repr.plot.height=5)\n",
    "cols <- c(\"wild-type\" = \"blue\", \"dnak-dnaJ\"=\"red\",\"DCLPA\"=\"yellow\",\"DCLPB\"=\"orange\",\"DLON\"=\"darkgreen\")\n",
    "suppressWarnings(suppressMessages(plots <- df1%>%group_by(locus_tag)%>%group_map(~  ggplot(.)+aes(\n",
    "    x=condition, y=Median_UC, fill=strain) + \n",
    "    geom_boxplot(width=0.6,position=position_dodge(1))+ggpubr::theme_classic2()+                                                                           \n",
    "            scale_fill_manual(values = cols) +ggpubr::theme_classic2()+scale_fill_manual(values = cols) +\n",
    "                        ggpubr::theme_classic2()+xlab(\"Stress\")+ylab(\"Unique counts across all stress levels\")+\n",
    "theme(plot.title = element_text(size = 15, face = \"bold\"))+ggtitle(paste(.$gene,\"distribution\",sep=\" \")))))\n",
    "                                                                            "
   ]
  },
  {
   "cell_type": "code",
   "execution_count": 66,
   "id": "b19c4216-d6e8-4cbc-877e-6895c6665e4c",
   "metadata": {},
   "outputs": [
    {
     "data": {
      "text/html": [
       "146"
      ],
      "text/latex": [
       "146"
      ],
      "text/markdown": [
       "146"
      ],
      "text/plain": [
       "[1] 146"
      ]
     },
     "metadata": {},
     "output_type": "display_data"
    }
   ],
   "source": [
    "length(plots)"
   ]
  },
  {
   "cell_type": "code",
   "execution_count": 68,
   "id": "1ff00b89-5e42-42fc-bf38-b97ab1da718c",
   "metadata": {},
   "outputs": [
    {
     "name": "stderr",
     "output_type": "stream",
     "text": [
      "Warning message:\n",
      "\"package 'gridExtra' was built under R version 4.2.1\"\n"
     ]
    }
   ],
   "source": [
    "suppressMessages(library(gridExtra))\n",
    "plots1 <- marrangeGrob(plots, nrow = 3, ncol = 3)\n",
    "\n",
    "ggsave(\"multipage.pdf\", plots1, width = 15, height = 15, units = \"in\")"
   ]
  },
  {
   "cell_type": "code",
   "execution_count": null,
   "id": "1eecce2a-9b62-400f-8bbc-d14c2bbb3721",
   "metadata": {},
   "outputs": [],
   "source": []
  },
  {
   "cell_type": "code",
   "execution_count": null,
   "id": "a7798608-5aa1-42aa-af5b-642e5b105782",
   "metadata": {},
   "outputs": [],
   "source": []
  },
  {
   "cell_type": "code",
   "execution_count": null,
   "id": "898b83ec-344b-43ba-afcd-bf22499f97c0",
   "metadata": {},
   "outputs": [],
   "source": []
  },
  {
   "cell_type": "code",
   "execution_count": null,
   "id": "21d7f705-b3c8-4fba-bafc-eefcc22c191f",
   "metadata": {},
   "outputs": [],
   "source": []
  },
  {
   "cell_type": "code",
   "execution_count": 56,
   "id": "6a7051d3-c776-4dfd-a7f4-fd1a24af5a46",
   "metadata": {},
   "outputs": [],
   "source": [
    "plot_df <- df1%>%filter(locus_tag==\"CCNA_00708\")%>%filter(strain==\"wild-type\"|strain==\"dnak-dnaJ\")%>%select(strain,condition,Median_UC)"
   ]
  },
  {
   "cell_type": "code",
   "execution_count": 61,
   "id": "3c77439f-a651-4945-9571-ddcd9d8049b4",
   "metadata": {},
   "outputs": [],
   "source": [
    "p <- ggplot(plot_df, aes(x=condition, y=Median_UC, fill=strain)) +geom_boxplot(width=0.6,position=position_dodge(1))+ggpubr::theme_classic2()+ggtitle(\"CCNA_00708\")+\n",
    "scale_fill_manual(values = c(\"wild-type\"=\"blue\",\"dnak-dnaJ\"=\"red\"), name = \"Strain\")+xlab(\"Stress\")+ylab(\"Unique counts across all stress levels\")\n"
   ]
  },
  {
   "cell_type": "code",
   "execution_count": 62,
   "id": "940c5565-6a58-458f-bade-14858eb49109",
   "metadata": {},
   "outputs": [
    {
     "data": {
      "image/png": "[encoded data removed]",
      "text/plain": [
       "plot without title"
      ]
     },
     "metadata": {
      "image/png": {
       "height": 420,
       "width": 420
      }
     },
     "output_type": "display_data"
    }
   ],
   "source": [
    "p"
   ]
  },
  {
   "cell_type": "code",
   "execution_count": 63,
   "id": "8b122a8d-239a-4653-9f6f-59ea59904be1",
   "metadata": {},
   "outputs": [],
   "source": [
    "ggsave(filename = \"../../PNAS//FIGURES/Suppl Fig/CCNA_00708.jpeg\", device = \"jpeg\",  plot = p, width = 10, height = 7.5, dpi = 600, units = \"in\")"
   ]
  },
  {
   "cell_type": "code",
   "execution_count": null,
   "id": "d2b106d5-dd14-4daa-9456-f5334f0be844",
   "metadata": {},
   "outputs": [],
   "source": []
  }
 ],
 "metadata": {
  "kernelspec": {
   "display_name": "R",
   "language": "R",
   "name": "ir"
  },
  "language_info": {
   "codemirror_mode": "r",
   "file_extension": ".r",
   "mimetype": "text/x-r-source",
   "name": "R",
   "pygments_lexer": "r",
   "version": "4.2.0"
  }
 },
 "nbformat": 4,
 "nbformat_minor": 5
}

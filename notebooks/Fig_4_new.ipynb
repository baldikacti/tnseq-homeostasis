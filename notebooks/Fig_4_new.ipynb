{
 "cells": [
  {
   "cell_type": "code",
   "execution_count": 2,
   "id": "7dc15eac-3587-406e-8321-50624692b85f",
   "metadata": {},
   "outputs": [
    {
     "name": "stderr",
     "output_type": "stream",
     "text": [
      "Warning message:\n",
      "\"package 'latex2exp' was built under R version 4.2.2\"\n",
      "Warning message:\n",
      "\"package 'broom' was built under R version 4.2.3\"\n",
      "Warning message:\n",
      "\"package 'raster' was built under R version 4.2.1\"\n",
      "Loading required package: sp\n",
      "\n",
      "Warning message:\n",
      "\"package 'sp' was built under R version 4.2.1\"\n",
      "\n",
      "Attaching package: 'raster'\n",
      "\n",
      "\n",
      "The following object is masked from 'package:dplyr':\n",
      "\n",
      "    select\n",
      "\n",
      "\n",
      "Warning message:\n",
      "\"package 'topicmodels' was built under R version 4.2.3\"\n",
      "Warning message:\n",
      "\"package 'transport' was built under R version 4.2.3\"\n",
      "Warning message:\n",
      "\"package 'umap' was built under R version 4.2.3\"\n"
     ]
    }
   ],
   "source": [
    "suppressWarnings(suppressMessages(library(tidyverse)))\n",
    "suppressWarnings(suppressMessages(library(hrbrthemes)))\n",
    "suppressWarnings(suppressMessages(library(forcats)))\n",
    "suppressWarnings(suppressMessages(library(glue)))\n",
    "suppressWarnings(suppressMessages(library(viridis)))\n",
    "suppressWarnings(suppressMessages(library(ggdendro)))\n",
    "suppressWarnings(suppressMessages(library(grid)))\n",
    "suppressWarnings(suppressMessages(library(colorspace)))\n",
    "suppressWarnings(suppressMessages(library(cowplot)))\n",
    "suppressWarnings(suppressMessages(library(ComplexHeatmap)))\n",
    "library(\"latex2exp\")\n",
    "suppressWarnings(suppressMessages(library(gridExtra)))\n",
    "library(broom)\n",
    "suppressWarnings(suppressMessages(library(tidyverse)))\n",
    "options(repr.plot.width=6, repr.plot.height=6)\n",
    "library(plotrix)\n",
    "library(\"png\")\n",
    "library(\"raster\")\n",
    "library('topicmodels')\n",
    "library(transport)\n",
    "library('umap')"
   ]
  },
  {
   "cell_type": "code",
   "execution_count": 3,
   "id": "a016c5ce-3b0a-47fc-8c6d-129f9d2522e0",
   "metadata": {},
   "outputs": [
    {
     "name": "stderr",
     "output_type": "stream",
     "text": [
      "Warning message:\n",
      "\"package 'philentropy' was built under R version 4.2.2\"\n",
      "\n",
      "Attaching package: 'philentropy'\n",
      "\n",
      "\n",
      "The following object is masked from 'package:raster':\n",
      "\n",
      "    distance\n",
      "\n",
      "\n"
     ]
    }
   ],
   "source": [
    "library('philentropy')"
   ]
  },
  {
   "cell_type": "code",
   "execution_count": 4,
   "id": "d96d4bd4-40dd-4d8e-becc-8d15203d0f08",
   "metadata": {},
   "outputs": [],
   "source": [
    "# Read Wild-type Inference File\n",
    "# Select only canavanine,heat,oxidative.peroxide posteriors \n",
    "# Add column of maximum posterior for filtration purposes"
   ]
  },
  {
   "cell_type": "code",
   "execution_count": 44,
   "id": "619bdee5-e694-4b99-a734-e9da6363c7b6",
   "metadata": {},
   "outputs": [],
   "source": [
    "wt_r <- read.csv(\"WT_peter_UC_processed__inference_oak_1.csv\",skip=1,header=TRUE)%>%dplyr::select(-H,-Top_Level,-canavanine,-heat,-oxidative.peroxide,-contains(\"none\"))%>%\n",
    "mutate(CN_L=dplyr::select(.,contains(\"canavanine....LOW\"))%>%rowMeans(na.rm = TRUE))%>%\n",
    "mutate(CN_M=dplyr::select(.,contains(\"canavanine....MEDIUM\"))%>%rowMeans(na.rm = TRUE))%>%\n",
    "mutate(CN_H=dplyr::select(.,contains(\"canavanine....HIGH\"))%>%rowMeans(na.rm = TRUE))%>%\n",
    "mutate(HT_L=dplyr::select(.,contains(\"heat....LOW\"))%>%rowMeans(na.rm = TRUE))%>%\n",
    "mutate(HT_M=dplyr::select(.,contains(\"heat....MEDIUM\"))%>%rowMeans(na.rm = TRUE))%>%\n",
    "mutate(HT_H=dplyr::select(.,contains(\"heat....HIGH\"))%>%rowMeans(na.rm = TRUE))%>%\n",
    "mutate(OS_L=dplyr::select(.,contains(\"oxidative.peroxide....LOW\"))%>%rowMeans(na.rm = TRUE))%>%\n",
    "mutate(OS_M=dplyr::select(.,contains(\"oxidative.peroxide....MEDIUM\"))%>%rowMeans(na.rm = TRUE))%>%\n",
    "mutate(OS_H=dplyr::select(.,contains(\"oxidative.peroxide....HIGH\"))%>%rowMeans(na.rm = TRUE))%>%\n",
    "dplyr::select(HT_L,OS_L,OS_M,OS_H)%>%rowwise()%>% mutate(max_r = max(HT_L,OS_L,OS_M,OS_H))"
   ]
  },
  {
   "cell_type": "code",
   "execution_count": 45,
   "id": "d59867e6-71b9-4335-97bd-a11d77ac7b83",
   "metadata": {},
   "outputs": [],
   "source": [
    "# Calculate JSD between canavanine,heat,oxidative.peroxide for components Posterior > 0.05 but also rest of them aggregated through colSums\n",
    "# Add row and column names to matrix and convert to data frame\n",
    "# Add diagonal element as NA and zero divergence as NA"
   ]
  },
  {
   "cell_type": "code",
   "execution_count": 46,
   "id": "c6b582fe-88f3-4ef1-9b76-bded72eb1d51",
   "metadata": {},
   "outputs": [
    {
     "name": "stderr",
     "output_type": "stream",
     "text": [
      "Metric: 'jensen-shannon' using unit: 'log2'; comparing: 4 vectors.\n",
      "\n"
     ]
    }
   ],
   "source": [
    "wt_JSD <- JSD(t(as.matrix(rbind(wt_r%>%filter(max_r>=0.05),colSums(wt_r%>%filter(max_r<0.05)))%>%dplyr::select(-max_r))))#%>%\n",
    "dimnames(wt_JSD) <- list(c(\"HT:L\",\"OS:L\",\"OS:M\",\"OS:H\"), \n",
    "                         c(\"HT:L\",\"OS:L\",\"OS:M\",\"OS:H\"))\n",
    "wt_JSD <- as.data.frame(as.table(wt_JSD))\n",
    "wt_JSD[wt_JSD == 0] <- NA\n",
    "wt_JSD <- wt_JSD%>%mutate(Freq=case_when(Var1==Var2 ~ 0,TRUE ~ as.double(Freq)))\n",
    "wt_JSD$Freq[wt_JSD$Freq == 0] <- NA"
   ]
  },
  {
   "cell_type": "code",
   "execution_count": 47,
   "id": "02897aba-850a-4d4c-ab44-f5e6bb048651",
   "metadata": {},
   "outputs": [],
   "source": [
    "# Plot the divergences"
   ]
  },
  {
   "cell_type": "code",
   "execution_count": 48,
   "id": "da955f0a-009b-40ba-9e92-1b8e47d9adc6",
   "metadata": {},
   "outputs": [],
   "source": [
    "options(repr.plot.width=7, repr.plot.height=6) \n",
    "p1<- ggplot(wt_JSD, aes(Var1,Var2, fill= Freq)) + \n",
    "  geom_tile(color=\"gray\")  +\n",
    "   scale_fill_viridis(discrete = FALSE)  +\n",
    "  theme_ipsum()+xlab(\"\")+ylab(\"\")+theme_minimal()+\n",
    "theme(axis.text.x = element_text(size = 18),axis.text.y = element_text(size = 18),plot.title = element_text(size = 18),\n",
    "     panel.grid.major = element_blank(), panel.grid.minor = element_blank())+ggtitle(\"Wild-type\")+labs(fill='JS Divergence(log2)') +\n",
    "scale_x_discrete(limits = c(\"HT:L\",\"OS:L\",\"OS:M\",\"OS:H\"))+\n",
    "scale_y_discrete(limits = c(\"HT:L\",\"OS:L\",\"OS:M\",\"OS:H\"))"
   ]
  },
  {
   "cell_type": "code",
   "execution_count": 49,
   "id": "2c38107b-208b-4e95-8822-5f51b1b5199d",
   "metadata": {},
   "outputs": [
    {
     "data": {
      "image/png": "[encoded data removed]",
      "text/plain": [
       "plot without title"
      ]
     },
     "metadata": {
      "image/png": {
       "height": 360,
       "width": 420
      }
     },
     "output_type": "display_data"
    }
   ],
   "source": [
    "p1"
   ]
  },
  {
   "cell_type": "code",
   "execution_count": 50,
   "id": "1f64fbc9-ec58-49f6-af8b-176ec69912d8",
   "metadata": {},
   "outputs": [],
   "source": [
    "#CLPA"
   ]
  },
  {
   "cell_type": "code",
   "execution_count": 51,
   "id": "efc0a7fb-0452-4eea-a5bc-1db0bfb4187d",
   "metadata": {},
   "outputs": [],
   "source": [
    "dclpa_r <- read.csv(\"DCLPA_peter_UC_processed__inference_oak_1.csv\",skip=1,header=TRUE)%>%dplyr::select(-H,-Top_Level,-canavanine,-heat,-oxidative.peroxide,-contains(\"none\"))%>%\n",
    "mutate(CN_L=dplyr::select(.,contains(\"canavanine....LOW\"))%>%rowMeans(na.rm = TRUE))%>%\n",
    "mutate(CN_M=dplyr::select(.,contains(\"canavanine....MEDIUM\"))%>%rowMeans(na.rm = TRUE))%>%\n",
    "mutate(CN_H=dplyr::select(.,contains(\"canavanine....HIGH\"))%>%rowMeans(na.rm = TRUE))%>%\n",
    "mutate(HT_L=dplyr::select(.,contains(\"heat....LOW\"))%>%rowMeans(na.rm = TRUE))%>%\n",
    "mutate(HT_M=dplyr::select(.,contains(\"heat....MEDIUM\"))%>%rowMeans(na.rm = TRUE))%>%\n",
    "mutate(HT_H=dplyr::select(.,contains(\"heat....HIGH\"))%>%rowMeans(na.rm = TRUE))%>%\n",
    "mutate(OS_L=dplyr::select(.,contains(\"oxidative.peroxide....LOW\"))%>%rowMeans(na.rm = TRUE))%>%\n",
    "mutate(OS_M=dplyr::select(.,contains(\"oxidative.peroxide....MEDIUM\"))%>%rowMeans(na.rm = TRUE))%>%\n",
    "mutate(OS_H=dplyr::select(.,contains(\"oxidative.peroxide....HIGH\"))%>%rowMeans(na.rm = TRUE))%>%\n",
    "dplyr::select(HT_L,OS_L,OS_M,OS_H)%>%rowwise()%>% mutate(max_r = max(HT_L,OS_L,OS_M,OS_H))"
   ]
  },
  {
   "cell_type": "code",
   "execution_count": 52,
   "id": "06f67b40-1334-440d-a6ee-f263aa005874",
   "metadata": {},
   "outputs": [],
   "source": [
    "# Calculate JSD between canavanine,heat,oxidative.peroxide for components Posterior > 0.05 but also rest of them aggregated through colSums\n",
    "# Add row and column names to matrix and convert to data frame\n",
    "# Add diagonal element as NA and zero divergence as NA"
   ]
  },
  {
   "cell_type": "code",
   "execution_count": 53,
   "id": "3a9e698e-eb34-45ff-bdf5-cad31361436f",
   "metadata": {},
   "outputs": [
    {
     "name": "stderr",
     "output_type": "stream",
     "text": [
      "Metric: 'jensen-shannon' using unit: 'log2'; comparing: 4 vectors.\n",
      "\n"
     ]
    }
   ],
   "source": [
    "dclpa_JSD <- JSD(t(as.matrix(rbind(dclpa_r%>%filter(max_r>=0.05),colSums(wt_r%>%filter(max_r<0.05)))%>%dplyr::select(-max_r))))#%>%\n",
    "dimnames(dclpa_JSD) <- list(c(\"HT:L\",\"OS:L\",\"OS:M\",\"OS:H\"), \n",
    "                         c(\"HT:L\",\"OS:L\",\"OS:M\",\"OS:H\"))\n",
    "dclpa_JSD <- as.data.frame(as.table(dclpa_JSD))\n",
    "dclpa_JSD[dclpa_JSD == 0] <- NA\n",
    "dclpa_JSD <- dclpa_JSD%>%mutate(Freq=case_when(Var1==Var2 ~ 0,TRUE ~ as.double(Freq)))\n",
    "dclpa_JSD$Freq[dclpa_JSD$Freq == 0] <- NA"
   ]
  },
  {
   "cell_type": "code",
   "execution_count": 54,
   "id": "e8e17ed5-9ccc-4929-be76-c1d5d4fed993",
   "metadata": {},
   "outputs": [],
   "source": [
    "# Plot the divergences"
   ]
  },
  {
   "cell_type": "code",
   "execution_count": 55,
   "id": "bd9bcd7c-dff7-4661-a3e7-3a3eff62745a",
   "metadata": {},
   "outputs": [],
   "source": [
    "\n",
    "p2<- ggplot(dclpa_JSD, aes(Var1,Var2, fill= Freq)) + \n",
    "  geom_tile(color=\"gray\")  +\n",
    "   scale_fill_viridis(discrete = FALSE)  +\n",
    "  theme_ipsum()+xlab(\"\")+ylab(\"\")+theme_minimal()+\n",
    "theme(axis.text.x = element_text(size = 18),axis.text.y = element_text(size = 18),plot.title = element_text(size = 18),\n",
    "     panel.grid.major = element_blank(), panel.grid.minor = element_blank())+ggtitle(\"CLPA\")+labs(fill='JS Divergence(log2)') +\n",
    "scale_x_discrete(limits = c(\"HT:L\",\"OS:L\",\"OS:M\",\"OS:H\"))+\n",
    "scale_y_discrete(limits = c(\"HT:L\",\"OS:L\",\"OS:M\",\"OS:H\"))"
   ]
  },
  {
   "cell_type": "code",
   "execution_count": 56,
   "id": "7f56c4f1-0edf-4a6f-a900-fad687bdf48f",
   "metadata": {},
   "outputs": [
    {
     "data": {
      "image/png": "[encoded data removed]",
      "text/plain": [
       "plot without title"
      ]
     },
     "metadata": {
      "image/png": {
       "height": 360,
       "width": 420
      }
     },
     "output_type": "display_data"
    }
   ],
   "source": [
    "p2"
   ]
  },
  {
   "cell_type": "code",
   "execution_count": null,
   "id": "f6e680fc-f8bb-4eea-949e-7d1476da604f",
   "metadata": {},
   "outputs": [],
   "source": []
  },
  {
   "cell_type": "code",
   "execution_count": 57,
   "id": "d9ec13de-9d29-4f75-b081-6a45dc9ca6ae",
   "metadata": {},
   "outputs": [],
   "source": [
    "dclpb_r <- read.csv(\"DCLPB_peter_UC_processed__inference_oak_1.csv\",skip=1,header=TRUE)%>%dplyr::select(-H,-Top_Level,-canavanine,-heat,-oxidative.peroxide,-contains(\"none\"))%>%\n",
    "mutate(CN_L=dplyr::select(.,contains(\"canavanine....LOW\"))%>%rowMeans(na.rm = TRUE))%>%\n",
    "mutate(CN_M=dplyr::select(.,contains(\"canavanine....MEDIUM\"))%>%rowMeans(na.rm = TRUE))%>%\n",
    "mutate(CN_H=dplyr::select(.,contains(\"canavanine....HIGH\"))%>%rowMeans(na.rm = TRUE))%>%\n",
    "mutate(HT_L=dplyr::select(.,contains(\"heat....LOW\"))%>%rowMeans(na.rm = TRUE))%>%\n",
    "mutate(HT_M=dplyr::select(.,contains(\"heat....MEDIUM\"))%>%rowMeans(na.rm = TRUE))%>%\n",
    "mutate(HT_H=dplyr::select(.,contains(\"heat....HIGH\"))%>%rowMeans(na.rm = TRUE))%>%\n",
    "mutate(OS_L=dplyr::select(.,contains(\"oxidative.peroxide....LOW\"))%>%rowMeans(na.rm = TRUE))%>%\n",
    "mutate(OS_M=dplyr::select(.,contains(\"oxidative.peroxide....MEDIUM\"))%>%rowMeans(na.rm = TRUE))%>%\n",
    "mutate(OS_H=dplyr::select(.,contains(\"oxidative.peroxide....HIGH\"))%>%rowMeans(na.rm = TRUE))%>%\n",
    "dplyr::select(HT_L,OS_L,OS_M,OS_H)%>%rowwise()%>% mutate(max_r = max(HT_L,OS_L,OS_M,OS_H))"
   ]
  },
  {
   "cell_type": "code",
   "execution_count": 58,
   "id": "bbfd59fc-d732-45ad-8c97-31685996be8c",
   "metadata": {},
   "outputs": [],
   "source": [
    "# Calculate JSD between canavanine,heat,oxidative.peroxide for components Posterior > 0.05 but also rest of them aggregated through colSums\n",
    "# Add row and column names to matrix and convert to data frame\n",
    "# Add diagonal element as NA and zero divergence as NA"
   ]
  },
  {
   "cell_type": "code",
   "execution_count": 59,
   "id": "52bf78ff-eb34-4b6b-ac3f-80cbdf50d1d8",
   "metadata": {},
   "outputs": [
    {
     "name": "stderr",
     "output_type": "stream",
     "text": [
      "Metric: 'jensen-shannon' using unit: 'log2'; comparing: 4 vectors.\n",
      "\n"
     ]
    }
   ],
   "source": [
    "dclpb_JSD <- JSD(t(as.matrix(rbind(dclpb_r%>%filter(max_r>=0.05),colSums(wt_r%>%filter(max_r<0.05)))%>%dplyr::select(-max_r))))#%>%\n",
    "dimnames(dclpb_JSD) <- list(c(\"HT:L\",\"OS:L\",\"OS:M\",\"OS:H\"), \n",
    "                         c(\"HT:L\",\"OS:L\",\"OS:M\",\"OS:H\"))\n",
    "dclpb_JSD <- as.data.frame(as.table(dclpb_JSD))\n",
    "dclpb_JSD[dclpa_JSD == 0] <- NA\n",
    "dclpb_JSD <- dclpb_JSD%>%mutate(Freq=case_when(Var1==Var2 ~ 0,TRUE ~ as.double(Freq)))\n",
    "dclpb_JSD$Freq[dclpb_JSD$Freq == 0] <- NA"
   ]
  },
  {
   "cell_type": "code",
   "execution_count": 60,
   "id": "7b7785b3-023c-4a0e-a2ad-9e27b3cfc203",
   "metadata": {},
   "outputs": [],
   "source": [
    "# Plot the divergences"
   ]
  },
  {
   "cell_type": "code",
   "execution_count": 61,
   "id": "dce79ad2-b7c9-456d-a70c-2b638e7be0c0",
   "metadata": {},
   "outputs": [],
   "source": [
    "\n",
    "p3<- ggplot(dclpb_JSD, aes(Var1,Var2, fill= Freq)) + \n",
    "  geom_tile(color=\"gray\")  +\n",
    "   scale_fill_viridis(discrete = FALSE)  +\n",
    "  theme_ipsum()+xlab(\"\")+ylab(\"\")+theme_minimal()+\n",
    "theme(axis.text.x = element_text(size = 18),axis.text.y = element_text(size = 18),plot.title = element_text(size = 18),\n",
    "     panel.grid.major = element_blank(), panel.grid.minor = element_blank())+ggtitle(\"CLPB\")+labs(fill='JS Divergence(log2)') +\n",
    "scale_x_discrete(limits = c(\"HT:L\",\"OS:L\",\"OS:M\",\"OS:H\"))+\n",
    "scale_y_discrete(limits = c(\"HT:L\",\"OS:L\",\"OS:M\",\"OS:H\"))"
   ]
  },
  {
   "cell_type": "code",
   "execution_count": 62,
   "id": "4a9c0264-9c35-44b1-8d27-5dff91132923",
   "metadata": {},
   "outputs": [
    {
     "data": {
      "image/png": "[encoded data removed]",
      "text/plain": [
       "plot without title"
      ]
     },
     "metadata": {
      "image/png": {
       "height": 360,
       "width": 420
      }
     },
     "output_type": "display_data"
    }
   ],
   "source": [
    "p3"
   ]
  },
  {
   "cell_type": "code",
   "execution_count": 63,
   "id": "00611ef5-b491-4cfc-9f11-1050154a07c7",
   "metadata": {},
   "outputs": [
    {
     "data": {
      "image/png": "[encoded data removed]",
      "text/plain": [
       "plot without title"
      ]
     },
     "metadata": {
      "image/png": {
       "height": 360,
       "width": 420
      }
     },
     "output_type": "display_data"
    }
   ],
   "source": [
    "p <- grid.arrange(p1,p2,p3,ncol=3,nrow=1)"
   ]
  },
  {
   "cell_type": "code",
   "execution_count": 65,
   "id": "9c7320a5-7d95-4ef2-83e7-ffcb51727550",
   "metadata": {},
   "outputs": [],
   "source": [
    "ggsave(filename = \"../../../PNAS/FIGURES/Fig4_final_v3.pdf\",plot = p, width = 21,height = 7, dpi = 300, units = \"in\")"
   ]
  },
  {
   "cell_type": "code",
   "execution_count": null,
   "id": "8f3aaf3c-9dee-4a14-87c6-40bdb26906fb",
   "metadata": {},
   "outputs": [],
   "source": []
  },
  {
   "cell_type": "code",
   "execution_count": null,
   "id": "417ddd5c-2690-4c7e-84e0-f1c8043292a9",
   "metadata": {},
   "outputs": [],
   "source": []
  },
  {
   "cell_type": "code",
   "execution_count": null,
   "id": "8acab4ca-84cc-4e80-9eef-591d35a6ff19",
   "metadata": {},
   "outputs": [],
   "source": []
  },
  {
   "cell_type": "code",
   "execution_count": null,
   "id": "fcfc8f13-b1b2-44eb-ac96-0dfb5ecbdbfa",
   "metadata": {},
   "outputs": [],
   "source": []
  },
  {
   "cell_type": "code",
   "execution_count": null,
   "id": "5b0f94d0-fa30-4e4c-abb4-022c564c9530",
   "metadata": {},
   "outputs": [],
   "source": []
  },
  {
   "cell_type": "code",
   "execution_count": null,
   "id": "29a9a678-6803-4596-b02f-292b0e8b0cfb",
   "metadata": {},
   "outputs": [],
   "source": []
  },
  {
   "cell_type": "code",
   "execution_count": null,
   "id": "2a2367ef-a32e-42d8-ac0c-cfbb0156285f",
   "metadata": {},
   "outputs": [],
   "source": []
  },
  {
   "cell_type": "code",
   "execution_count": 290,
   "id": "09921f0c-3ea8-4d33-b62f-27c363e1e373",
   "metadata": {},
   "outputs": [],
   "source": [
    "# Print the divergences"
   ]
  },
  {
   "cell_type": "code",
   "execution_count": 292,
   "id": "8d902e62-aa5b-44ce-b8e8-e53ddce9f172",
   "metadata": {},
   "outputs": [],
   "source": [
    "# DKJ"
   ]
  },
  {
   "cell_type": "code",
   "execution_count": 293,
   "id": "1ef70509-b92b-417a-92db-f349209809c9",
   "metadata": {},
   "outputs": [],
   "source": [
    "# Read DKJ Inference File\n",
    "# Select only canavanine,heat,oxidative.peroxide posteriors \n",
    "# Add column of maximum posterior for filtration purposes"
   ]
  },
  {
   "cell_type": "code",
   "execution_count": 9,
   "id": "0b659a44-c0af-4e38-b23f-a57756315264",
   "metadata": {},
   "outputs": [],
   "source": [
    "dkj_r <- read.csv(\"DKJ_peter_UC_processed__inference_oak_1.csv\",skip=1,header=TRUE)%>%dplyr::select(-H,-Top_Level,-canavanine,-heat,-oxidative.peroxide,-contains(\"none\"))%>%\n",
    "mutate(CN_L=dplyr::select(.,contains(\"canavanine....LOW\"))%>%rowMeans(na.rm = TRUE))%>%\n",
    "mutate(CN_M=dplyr::select(.,contains(\"canavanine....MEDIUM\"))%>%rowMeans(na.rm = TRUE))%>%\n",
    "mutate(CN_H=dplyr::select(.,contains(\"canavanine....HIGH\"))%>%rowMeans(na.rm = TRUE))%>%\n",
    "mutate(HT_L=dplyr::select(.,contains(\"heat....LOW\"))%>%rowMeans(na.rm = TRUE))%>%\n",
    "mutate(HT_M=dplyr::select(.,contains(\"heat....MEDIUM\"))%>%rowMeans(na.rm = TRUE))%>%\n",
    "mutate(HT_H=dplyr::select(.,contains(\"heat....HIGH\"))%>%rowMeans(na.rm = TRUE))%>%\n",
    "mutate(OS_L=dplyr::select(.,contains(\"oxidative.peroxide....LOW\"))%>%rowMeans(na.rm = TRUE))%>%\n",
    "mutate(OS_M=dplyr::select(.,contains(\"oxidative.peroxide....MEDIUM\"))%>%rowMeans(na.rm = TRUE))%>%\n",
    "mutate(OS_H=dplyr::select(.,contains(\"oxidative.peroxide....HIGH\"))%>%rowMeans(na.rm = TRUE))%>%\n",
    "dplyr::select(CN_L,CN_M,CN_H,HT_L,HT_M,HT_H,OS_L,OS_M,OS_H)%>%rowwise() %>% \n",
    "mutate(max_r = max(CN_L,CN_M,CN_H,HT_L,HT_M,HT_H,OS_L,OS_M,OS_H))"
   ]
  },
  {
   "cell_type": "code",
   "execution_count": 296,
   "id": "0acb98e7-e740-4fdb-bc63-47ab6b7251f2",
   "metadata": {},
   "outputs": [],
   "source": [
    "# Calculate JSD between canavanine,heat,oxidative.peroxide for components Posterior > 0.05 but also rest of them aggregated through colSums\n",
    "# Add row and column names to matrix and convert to data frame\n",
    "# Add diagonal element as NA and zero divergence as NA"
   ]
  },
  {
   "cell_type": "code",
   "execution_count": 10,
   "id": "ed4d354d-701b-4d8a-9fbf-9d9a42533783",
   "metadata": {},
   "outputs": [
    {
     "name": "stderr",
     "output_type": "stream",
     "text": [
      "Metric: 'jensen-shannon' using unit: 'log2'; comparing: 9 vectors.\n",
      "\n"
     ]
    }
   ],
   "source": [
    "dkj_JSD <- JSD(t(as.matrix(rbind(dkj_r%>%filter(max_r>=0.05),colSums(dkj_r%>%filter(max_r<0.05)))%>%dplyr::select(-max_r))))#%>%\n",
    "dimnames(dkj_JSD) <- list(c(\"CN:L\",\"CN:M\",\"CN:H\",\"HT:L\",\"HT:M\",\"HT:H\",\"OS:L\",\"OS:M\",\"OS:H\"), \n",
    "                         c(\"CN:L\",\"CN:M\",\"CN:H\",\"HT:L\",\"HT:M\",\"HT:H\",\"OS:L\",\"OS:M\",\"OS:H\"))\n",
    "dkj_JSD <- as.data.frame(as.table(dkj_JSD))\n",
    "dkj_JSD[dkj_JSD == 0] <- NA\n",
    "dkj_JSD <- dkj_JSD%>%mutate(Freq=case_when(Var1==Var2 ~ 0,TRUE ~ as.double(Freq)))\n",
    "dkj_JSD$Freq[dkj_JSD$Freq == 0] <- NA"
   ]
  },
  {
   "cell_type": "code",
   "execution_count": 298,
   "id": "8b95eace-7154-41ee-88bb-a01a1501d884",
   "metadata": {},
   "outputs": [],
   "source": [
    "# Plot the divergences"
   ]
  },
  {
   "cell_type": "code",
   "execution_count": 11,
   "id": "f8303832-6fad-4c23-96d2-5eeb29ab969e",
   "metadata": {},
   "outputs": [],
   "source": [
    "options(repr.plot.width=10, repr.plot.height=8) \n",
    "p2 <- ggplot(dkj_JSD, aes(Var1,Var2, fill= Freq)) + \n",
    "  geom_tile(color=\"gray\")  +\n",
    "   scale_fill_viridis(discrete = FALSE)+\n",
    "  theme_ipsum()+xlab(\"\")+ylab(\"\")+theme_minimal()+\n",
    "theme(axis.text.x = element_text(size = 18),axis.text.y = element_text(size = 18),plot.title = element_text(size = 18),\n",
    "      panel.grid.major = element_blank(), panel.grid.minor = element_blank())+ggtitle(\"dnaKJ-NI\")+labs(fill='JS Divergence(log2)') +\n",
    "scale_x_discrete(limits = c(\"CN:L\",\"CN:M\",\"CN:H\",\"HT:L\",\"HT:M\",\"HT:H\",\"OS:L\",\"OS:M\",\"OS:H\"))+\n",
    "scale_y_discrete(limits = c(\"CN:L\",\"CN:M\",\"CN:H\",\"HT:L\",\"HT:M\",\"HT:H\",\"OS:L\",\"OS:M\",\"OS:H\"))"
   ]
  },
  {
   "cell_type": "code",
   "execution_count": 12,
   "id": "7b10538a-c99c-44ff-b355-12a73a97ebe1",
   "metadata": {},
   "outputs": [
    {
     "data": {
      "image/png": "[encoded data removed]",
      "text/plain": [
       "plot without title"
      ]
     },
     "metadata": {
      "image/png": {
       "height": 480,
       "width": 600
      }
     },
     "output_type": "display_data"
    }
   ],
   "source": [
    "p2"
   ]
  },
  {
   "cell_type": "code",
   "execution_count": 301,
   "id": "d86b12c3-bed3-4862-a24a-5288c1a3662a",
   "metadata": {},
   "outputs": [],
   "source": [
    "# Print the divergences"
   ]
  },
  {
   "cell_type": "code",
   "execution_count": 302,
   "id": "e6f39ec3-3a4f-4878-8e13-999dba9cb140",
   "metadata": {},
   "outputs": [
    {
     "data": {
      "text/html": [
       "<table class=\"dataframe\">\n",
       "<caption>A data.frame: 9 × 3</caption>\n",
       "<thead>\n",
       "\t<tr><th scope=col>Var1</th><th scope=col>Var2</th><th scope=col>Freq</th></tr>\n",
       "\t<tr><th scope=col>&lt;fct&gt;</th><th scope=col>&lt;fct&gt;</th><th scope=col>&lt;dbl&gt;</th></tr>\n",
       "</thead>\n",
       "<tbody>\n",
       "\t<tr><td>canavanine</td><td>canavanine</td><td>       NA</td></tr>\n",
       "\t<tr><td>heat      </td><td>canavanine</td><td>0.4428671</td></tr>\n",
       "\t<tr><td>oxidative </td><td>canavanine</td><td>0.3094786</td></tr>\n",
       "\t<tr><td>canavanine</td><td>heat      </td><td>0.4428671</td></tr>\n",
       "\t<tr><td>heat      </td><td>heat      </td><td>       NA</td></tr>\n",
       "\t<tr><td>oxidative </td><td>heat      </td><td>0.6856851</td></tr>\n",
       "\t<tr><td>canavanine</td><td>oxidative </td><td>0.3094786</td></tr>\n",
       "\t<tr><td>heat      </td><td>oxidative </td><td>0.6856851</td></tr>\n",
       "\t<tr><td>oxidative </td><td>oxidative </td><td>       NA</td></tr>\n",
       "</tbody>\n",
       "</table>\n"
      ],
      "text/latex": [
       "A data.frame: 9 × 3\n",
       "\\begin{tabular}{lll}\n",
       " Var1 & Var2 & Freq\\\\\n",
       " <fct> & <fct> & <dbl>\\\\\n",
       "\\hline\n",
       "\t canavanine & canavanine &        NA\\\\\n",
       "\t heat       & canavanine & 0.4428671\\\\\n",
       "\t oxidative  & canavanine & 0.3094786\\\\\n",
       "\t canavanine & heat       & 0.4428671\\\\\n",
       "\t heat       & heat       &        NA\\\\\n",
       "\t oxidative  & heat       & 0.6856851\\\\\n",
       "\t canavanine & oxidative  & 0.3094786\\\\\n",
       "\t heat       & oxidative  & 0.6856851\\\\\n",
       "\t oxidative  & oxidative  &        NA\\\\\n",
       "\\end{tabular}\n"
      ],
      "text/markdown": [
       "\n",
       "A data.frame: 9 × 3\n",
       "\n",
       "| Var1 &lt;fct&gt; | Var2 &lt;fct&gt; | Freq &lt;dbl&gt; |\n",
       "|---|---|---|\n",
       "| canavanine | canavanine |        NA |\n",
       "| heat       | canavanine | 0.4428671 |\n",
       "| oxidative  | canavanine | 0.3094786 |\n",
       "| canavanine | heat       | 0.4428671 |\n",
       "| heat       | heat       |        NA |\n",
       "| oxidative  | heat       | 0.6856851 |\n",
       "| canavanine | oxidative  | 0.3094786 |\n",
       "| heat       | oxidative  | 0.6856851 |\n",
       "| oxidative  | oxidative  |        NA |\n",
       "\n"
      ],
      "text/plain": [
       "  Var1       Var2       Freq     \n",
       "1 canavanine canavanine        NA\n",
       "2 heat       canavanine 0.4428671\n",
       "3 oxidative  canavanine 0.3094786\n",
       "4 canavanine heat       0.4428671\n",
       "5 heat       heat              NA\n",
       "6 oxidative  heat       0.6856851\n",
       "7 canavanine oxidative  0.3094786\n",
       "8 heat       oxidative  0.6856851\n",
       "9 oxidative  oxidative         NA"
      ]
     },
     "metadata": {},
     "output_type": "display_data"
    }
   ],
   "source": [
    "dkj_JSD"
   ]
  },
  {
   "cell_type": "code",
   "execution_count": null,
   "id": "62fa5d76-ce78-48a4-8b9b-1944ed6b6a99",
   "metadata": {},
   "outputs": [],
   "source": [
    "### Read the illustartion figure"
   ]
  },
  {
   "cell_type": "code",
   "execution_count": 13,
   "id": "4467f227-b220-4fa6-8064-beddaba21e2f",
   "metadata": {},
   "outputs": [],
   "source": [
    "p3_1 <- rasterGrob(readPNG(source=\"Illustration1.png\"))\n",
    "p3_2 <- rasterGrob(readPNG(source=\"Illustration2.png\"))"
   ]
  },
  {
   "cell_type": "code",
   "execution_count": 14,
   "id": "8e5e6f43-2214-4339-8ee9-24b361f91c27",
   "metadata": {},
   "outputs": [],
   "source": [
    "## Single stress plot for WT"
   ]
  },
  {
   "cell_type": "code",
   "execution_count": 18,
   "id": "e2d57b8e-2b35-4c60-8a44-c422fbc46cac",
   "metadata": {},
   "outputs": [],
   "source": [
    "df <- read.table(\"2023-02-15-wt-medheat-doublestress_auc_data.tsv\",header=TRUE)%>%filter(status==\"singlestress\")%>%filter(condition!=\"heat_control\")"
   ]
  },
  {
   "cell_type": "code",
   "execution_count": 19,
   "id": "207d5764-7b9a-47a0-95f8-fc379358b379",
   "metadata": {},
   "outputs": [],
   "source": [
    "df$condition <- factor(df$condition,levels=unique(df$condition))\n",
    "df$stress <- factor(df$stress,levels=c(\"oxidative\",\"canavanine\"))\n",
    "df1s <- df%>%group_by(stress,condition)%>%summarise_at(vars(delta_auc), list(Ind = mean,se=std.error))\n",
    "colnames(df)[colnames(df) == 'delta_auc'] <- 'ci'"
   ]
  },
  {
   "cell_type": "code",
   "execution_count": null,
   "id": "2074eb34-9f26-4aab-a507-71cd093cd4ce",
   "metadata": {},
   "outputs": [],
   "source": []
  },
  {
   "cell_type": "code",
   "execution_count": 20,
   "id": "87177816-3a97-47c4-939c-6ff0f3fba0c8",
   "metadata": {},
   "outputs": [
    {
     "name": "stderr",
     "output_type": "stream",
     "text": [
      "Warning message:\n",
      "\"\u001b[1m\u001b[22mUsing `size` aesthetic for lines was deprecated in ggplot2 3.4.0.\n",
      "\u001b[36mℹ\u001b[39m Please use `linewidth` instead.\"\n",
      "Warning message:\n",
      "\"\u001b[1m\u001b[22mDuplicated aesthetics after name standardisation: \u001b[32msize\u001b[39m\"\n"
     ]
    },
    {
     "data": {
      "image/png": "[encoded data removed]",
      "text/plain": [
       "plot without title"
      ]
     },
     "metadata": {
      "image/png": {
       "height": 480,
       "width": 600
      }
     },
     "output_type": "display_data"
    }
   ],
   "source": [
    "p4 <- ggplot(df1s, aes(x=stress, y=Ind, fill=condition)) + \n",
    "  geom_bar(aes(color=condition),fill=\"white\",stat=\"identity\",position=position_dodge(0.66),width=0.6,size=1.9) +\n",
    "  geom_errorbar(data=df1s,aes(ymin=Ind-se, ymax=Ind+se,color=condition), width=.30,size=1.2,\n",
    "                 position=position_dodge(.66))+geom_point(data=df, aes(stress, ci, group=condition,color=condition,shape=condition),size=3,position = position_dodge(width = 0.9), size=5, show.legend=FALSE)+  \n",
    "#scale_y_continuous(breaks = seq(-5, -5, -2.5)) +\n",
    "labs(title=\"\", x = \"\")+ylab(expression(atop( paste(\"Single Stress\"),\"\\u394 auc\")))+\n",
    "   theme_classic() +ggtitle(\"Wild-type\")+theme(legend.position=\"none\")+theme(plot.title = element_text(size = 18),axis.text=element_text(size=20),axis.title=element_text(size=20))+ylim(-8,2)\n",
    "p4"
   ]
  },
  {
   "cell_type": "code",
   "execution_count": 21,
   "id": "46df5f5e-87d9-468e-a5c2-e72330f4773b",
   "metadata": {},
   "outputs": [],
   "source": [
    "## Single stress plot for DKJ"
   ]
  },
  {
   "cell_type": "code",
   "execution_count": 22,
   "id": "695a6443-331e-48f0-831e-5186a3723ec6",
   "metadata": {},
   "outputs": [],
   "source": [
    "df <- read.table(\"2023-02-16-cpc237-medheat-doublestress_auc_data.tsv\",header=TRUE)%>%filter(status==\"singlestress\")%>%filter(condition!=\"heat_control\")"
   ]
  },
  {
   "cell_type": "code",
   "execution_count": 23,
   "id": "ed9f8b76-5bb6-4b52-b3da-e54d2231e890",
   "metadata": {},
   "outputs": [],
   "source": [
    "df$condition <- factor(df$condition,levels=unique(df$condition))\n",
    "df$stress <- factor(df$stress,levels=c(\"oxidative\",\"canavanine\"))\n",
    "df1s <- df%>%group_by(stress,condition)%>%summarise_at(vars(delta_auc), list(Ind = mean,se=std.error))\n",
    "colnames(df)[colnames(df) == 'delta_auc'] <- 'ci'"
   ]
  },
  {
   "cell_type": "code",
   "execution_count": 24,
   "id": "2da28108-d423-4d02-bf22-7e8791fabbbd",
   "metadata": {},
   "outputs": [
    {
     "name": "stderr",
     "output_type": "stream",
     "text": [
      "Warning message:\n",
      "\"\u001b[1m\u001b[22mDuplicated aesthetics after name standardisation: \u001b[32msize\u001b[39m\"\n"
     ]
    },
    {
     "data": {
      "image/png": "[encoded data removed]",
      "text/plain": [
       "plot without title"
      ]
     },
     "metadata": {
      "image/png": {
       "height": 480,
       "width": 600
      }
     },
     "output_type": "display_data"
    }
   ],
   "source": [
    "p5 <- ggplot(df1s, aes(x=stress, y=Ind, fill=condition)) + \n",
    "  geom_bar(aes(color=condition),fill=\"white\",stat=\"identity\",position=position_dodge(0.66),width=0.6,size=1.9) +\n",
    "  geom_errorbar(data=df1s,aes(ymin=Ind-se, ymax=Ind+se,color=condition), width=.30,size=1.2,\n",
    "                 position=position_dodge(.66))+geom_point(data=df, aes(stress, ci, group=condition,color=condition,shape=condition),size=3,position = position_dodge(width = 0.9), size=5, show.legend=FALSE)+  \n",
    "#scale_y_continuous(breaks = seq(-6, -2, -2)) +\n",
    "labs(title=\"\", x = \"\")+ylab(expression(atop( paste(\"Single Stress\"),\"\\u394 auc\")))+\n",
    "   theme_classic() +ggtitle(\"dnaKJ-NI\")+theme(legend.position=\"none\")+theme(plot.title = element_text(size = 18),axis.text=element_text(size=20),axis.title=element_text(size=20))+ylim(-8,2)\n",
    "p5"
   ]
  },
  {
   "cell_type": "code",
   "execution_count": 25,
   "id": "3e1128d1-bb16-4e06-a69e-6b6a0611c1c0",
   "metadata": {},
   "outputs": [],
   "source": [
    "## Double stress plot for WT"
   ]
  },
  {
   "cell_type": "code",
   "execution_count": 26,
   "id": "914f1b28-2e2f-4f0e-baf7-a1547462cc5c",
   "metadata": {},
   "outputs": [],
   "source": [
    "df <- read.table(\"2023-02-15-wt-medheat-doublestress_auc_data.tsv\",header=TRUE)%>%filter(auc_fit!=\"NA\")%>%filter(condition!=\"heat_control\")\n",
    "df$condition <- factor(df$condition,levels=unique(df$condition))\n",
    "df$stress <- factor(df$stress,levels=c(\"oxidative\",\"canavanine\"))\n",
    "df1s <- df%>%group_by(stress,condition)%>%summarise_at(vars(auc_fit), list(Ind = mean,se=std.error))\n",
    "colnames(df)[colnames(df) == 'auc_fit'] <- 'ci'"
   ]
  },
  {
   "cell_type": "code",
   "execution_count": 27,
   "id": "9da4fe20-2446-4041-bca1-5eea2ea45b16",
   "metadata": {},
   "outputs": [
    {
     "name": "stderr",
     "output_type": "stream",
     "text": [
      "Warning message:\n",
      "\"\u001b[1m\u001b[22mDuplicated aesthetics after name standardisation: \u001b[32msize\u001b[39m\"\n",
      "Warning message:\n",
      "\"\u001b[1m\u001b[22mRemoved 1 rows containing missing values (`geom_point()`).\"\n",
      "Warning message:\n",
      "\"\u001b[1m\u001b[22mRemoved 1 rows containing missing values (`geom_point()`).\"\n"
     ]
    },
    {
     "data": {
      "text/plain": [
       "TableGrob (5 x 5) \"guide-box\": 2 grobs\n",
       "                                    z     cells                  name\n",
       "99_7482767047643dd39a59fb9e6f238fc7 1 (3-3,3-3)                guides\n",
       "                                    0 (2-4,2-4) legend.box.background\n",
       "                                              grob\n",
       "99_7482767047643dd39a59fb9e6f238fc7 gtable[layout]\n",
       "                                    zeroGrob[NULL]"
      ]
     },
     "metadata": {},
     "output_type": "display_data"
    },
    {
     "data": {
      "image/png": "[encoded data removed]",
      "text/plain": [
       "plot without title"
      ]
     },
     "metadata": {
      "image/png": {
       "height": 480,
       "width": 600
      }
     },
     "output_type": "display_data"
    }
   ],
   "source": [
    "p6 <- ggplot(df1s, aes(x=stress, y=Ind, fill=condition)) + \n",
    "  geom_bar(aes(color=condition),fill=\"white\",stat=\"identity\",position=position_dodge(0.66),width=0.6,size=1.9) +\n",
    "  geom_errorbar(data=df1s,aes(ymin=Ind-se, ymax=Ind+se,color=condition), width=.30,size=1.2,\n",
    "                 position=position_dodge(.66))+geom_point(data=df, aes(stress, ci, group=condition,color=condition,shape=condition),size=3,position = position_dodge(width = 0.9), size=5, show.legend=FALSE)+  \n",
    "#scale_y_continuous(breaks = seq(0, -10, -2.5)) +\n",
    "labs(title=\"\", x = \"\")+ylab(expression(atop( paste(\"Double Stress with Heat\"),\"\\u394 auc\")))+\n",
    "   theme_classic() +ggtitle(\"Wild-type\")+theme(plot.title = element_text(size = 18),axis.text=element_text(size=20),axis.title=element_text(size=20))+\n",
    "theme(legend.title=element_blank())+\n",
    "theme(legend.justification = \"top\")+theme(legend.position=\"bottom\")+theme(plot.title = element_text(size=24))+theme(legend.text=element_text(size=24))+ylim(-8,2)\n",
    "legend <- get_legend(p6)\n",
    "p6 <- p6 +theme(legend.position=\"none\")+theme(plot.title = element_text(size = 18),axis.text=element_text(size=20),axis.title=element_text(size=20))\n",
    "p6\n",
    "legend"
   ]
  },
  {
   "cell_type": "code",
   "execution_count": null,
   "id": "bce66c95-ecb2-45ce-871e-c89c59680ac9",
   "metadata": {},
   "outputs": [],
   "source": []
  },
  {
   "cell_type": "code",
   "execution_count": null,
   "id": "3c304e23-18b1-40a3-b889-769b666e9dcb",
   "metadata": {},
   "outputs": [],
   "source": []
  },
  {
   "cell_type": "code",
   "execution_count": 28,
   "id": "d601b668-c98a-4460-8725-0e270415c0b8",
   "metadata": {},
   "outputs": [],
   "source": [
    "## Double stress plot for dKJ"
   ]
  },
  {
   "cell_type": "code",
   "execution_count": 29,
   "id": "347ab617-03b5-4811-9a1b-149866c0c43b",
   "metadata": {},
   "outputs": [],
   "source": [
    "df <- read.table(\"2023-02-16-cpc237-medheat-doublestress_auc_data.tsv\",header=TRUE)%>%filter(auc_fit!=\"NA\")%>%filter(condition!=\"heat_control\")\n",
    "df$condition <- factor(df$condition,levels=unique(df$condition))\n",
    "df$stress <- factor(df$stress,levels=c(\"oxidative\",\"canavanine\"))\n",
    "df1s <- df%>%group_by(stress,condition)%>%summarise_at(vars(auc_fit), list(Ind = mean,se=std.error))\n",
    "colnames(df)[colnames(df) == 'auc_fit'] <- 'ci'"
   ]
  },
  {
   "cell_type": "code",
   "execution_count": 30,
   "id": "1c11bcc6-e5af-41ed-be69-a237e3de3432",
   "metadata": {},
   "outputs": [
    {
     "name": "stderr",
     "output_type": "stream",
     "text": [
      "Warning message:\n",
      "\"\u001b[1m\u001b[22mDuplicated aesthetics after name standardisation: \u001b[32msize\u001b[39m\"\n",
      "Warning message:\n",
      "\"\u001b[1m\u001b[22mRemoved 1 rows containing missing values (`geom_point()`).\"\n"
     ]
    },
    {
     "data": {
      "text/plain": [
       "NULL"
      ]
     },
     "metadata": {},
     "output_type": "display_data"
    },
    {
     "data": {
      "image/png": "[encoded data removed]",
      "text/plain": [
       "plot without title"
      ]
     },
     "metadata": {
      "image/png": {
       "height": 480,
       "width": 600
      }
     },
     "output_type": "display_data"
    }
   ],
   "source": [
    "p7 <- ggplot(df1s, aes(x=stress, y=Ind, fill=condition)) + \n",
    "  geom_bar(aes(color=condition),fill=\"white\",stat=\"identity\",position=position_dodge(0.66),width=0.6,size=1.9) +\n",
    "  geom_errorbar(data=df1s,aes(ymin=Ind-se, ymax=Ind+se,color=condition), width=.30,size=1.2,\n",
    "                 position=position_dodge(.66))+geom_point(data=df, aes(stress, ci, group=condition,color=condition,shape=condition),size=3,position = position_dodge(width = 0.9), size=5, show.legend=FALSE)+  \n",
    "#scale_y_continuous(breaks = seq(0, -10, -2.5)) +\n",
    "labs(title=\"\", x = \"\")+ylab(expression(atop( paste(\"Double Stress with Heat\"),\"\\u394 auc\")))+\n",
    "   theme_classic() +ggtitle(\"dnaKJ-NI\")+theme(plot.title = element_text(size = 18),axis.text=element_text(size=20),axis.title=element_text(size=20))+\n",
    "theme(legend.title=element_blank())+\n",
    "theme(legend.justification = \"top\")+theme(legend.position=\"bottom\")+theme(plot.title = element_text(size=24))+theme(legend.text=element_text(size=24))+ylim(-8,2)\n",
    "legend <- get_legend(p6)\n",
    "p7 <- p7 +theme(legend.position=\"none\")+theme(plot.title = element_text(size = 18),axis.text=element_text(size=20),axis.title=element_text(size=20))\n",
    "p7\n",
    "legend"
   ]
  },
  {
   "cell_type": "code",
   "execution_count": 33,
   "id": "75e86fba-a038-4389-8536-e7203ab5be0e",
   "metadata": {},
   "outputs": [],
   "source": [
    "p0 <- ggplot() + theme_void()"
   ]
  },
  {
   "cell_type": "code",
   "execution_count": 36,
   "id": "71c07b01-f6d0-4800-a366-39b26643f99d",
   "metadata": {},
   "outputs": [
    {
     "name": "stderr",
     "output_type": "stream",
     "text": [
      "Warning message:\n",
      "\"\u001b[1m\u001b[22mRemoved 1 rows containing missing values (`geom_point()`).\"\n"
     ]
    },
    {
     "data": {
      "image/png": "[encoded data removed]",
      "text/plain": [
       "plot without title"
      ]
     },
     "metadata": {
      "image/png": {
       "height": 480,
       "width": 600
      }
     },
     "output_type": "display_data"
    }
   ],
   "source": [
    "p <- grid.arrange(arrangeGrob(p0,p1,p2),arrangeGrob(p3_1,p4,p5),arrangeGrob(p3_2,p6,p7),legend,ncol=3,nrow=2, widths=c(1.5,1,1),heights=c(1,0.1))"
   ]
  },
  {
   "cell_type": "code",
   "execution_count": 38,
   "id": "a9a94a0e-883e-4517-8b6c-e62c54e3cba5",
   "metadata": {},
   "outputs": [
    {
     "name": "stderr",
     "output_type": "stream",
     "text": [
      "Warning message in grid.Call(C_textBounds, as.graphicsAnnot(x$label), x$x, x$y, :\n",
      "\"font metrics unknown for Unicode character U+0394\"\n",
      "Warning message in grid.Call(C_textBounds, as.graphicsAnnot(x$label), x$x, x$y, :\n",
      "\"conversion failure on 'Δ auc' in 'mbcsToSbcs': dot substituted for <ce>\"\n",
      "Warning message in grid.Call(C_textBounds, as.graphicsAnnot(x$label), x$x, x$y, :\n",
      "\"conversion failure on 'Δ auc' in 'mbcsToSbcs': dot substituted for <94>\"\n",
      "Warning message in grid.Call(C_textBounds, as.graphicsAnnot(x$label), x$x, x$y, :\n",
      "\"font metrics unknown for Unicode character U+0394\"\n",
      "Warning message in grid.Call(C_textBounds, as.graphicsAnnot(x$label), x$x, x$y, :\n",
      "\"conversion failure on 'Δ auc' in 'mbcsToSbcs': dot substituted for <ce>\"\n",
      "Warning message in grid.Call(C_textBounds, as.graphicsAnnot(x$label), x$x, x$y, :\n",
      "\"conversion failure on 'Δ auc' in 'mbcsToSbcs': dot substituted for <94>\"\n",
      "Warning message in grid.Call(C_textBounds, as.graphicsAnnot(x$label), x$x, x$y, :\n",
      "\"font metrics unknown for Unicode character U+0394\"\n",
      "Warning message in grid.Call(C_textBounds, as.graphicsAnnot(x$label), x$x, x$y, :\n",
      "\"conversion failure on 'Δ auc' in 'mbcsToSbcs': dot substituted for <ce>\"\n",
      "Warning message in grid.Call(C_textBounds, as.graphicsAnnot(x$label), x$x, x$y, :\n",
      "\"conversion failure on 'Δ auc' in 'mbcsToSbcs': dot substituted for <94>\"\n",
      "Warning message in grid.Call(C_textBounds, as.graphicsAnnot(x$label), x$x, x$y, :\n",
      "\"font metrics unknown for Unicode character U+0394\"\n",
      "Warning message in grid.Call(C_textBounds, as.graphicsAnnot(x$label), x$x, x$y, :\n",
      "\"conversion failure on 'Δ auc' in 'mbcsToSbcs': dot substituted for <ce>\"\n",
      "Warning message in grid.Call(C_textBounds, as.graphicsAnnot(x$label), x$x, x$y, :\n",
      "\"conversion failure on 'Δ auc' in 'mbcsToSbcs': dot substituted for <94>\"\n",
      "Warning message in grid.Call(C_textBounds, as.graphicsAnnot(x$label), x$x, x$y, :\n",
      "\"font metrics unknown for Unicode character U+0394\"\n",
      "Warning message in grid.Call(C_textBounds, as.graphicsAnnot(x$label), x$x, x$y, :\n",
      "\"conversion failure on 'Δ auc' in 'mbcsToSbcs': dot substituted for <ce>\"\n",
      "Warning message in grid.Call(C_textBounds, as.graphicsAnnot(x$label), x$x, x$y, :\n",
      "\"conversion failure on 'Δ auc' in 'mbcsToSbcs': dot substituted for <94>\"\n",
      "Warning message in grid.Call(C_textBounds, as.graphicsAnnot(x$label), x$x, x$y, :\n",
      "\"font metrics unknown for Unicode character U+0394\"\n",
      "Warning message in grid.Call(C_textBounds, as.graphicsAnnot(x$label), x$x, x$y, :\n",
      "\"conversion failure on 'Δ auc' in 'mbcsToSbcs': dot substituted for <ce>\"\n",
      "Warning message in grid.Call(C_textBounds, as.graphicsAnnot(x$label), x$x, x$y, :\n",
      "\"conversion failure on 'Δ auc' in 'mbcsToSbcs': dot substituted for <94>\"\n",
      "Warning message in grid.Call(C_textBounds, as.graphicsAnnot(x$label), x$x, x$y, :\n",
      "\"font metrics unknown for Unicode character U+0394\"\n",
      "Warning message in grid.Call(C_textBounds, as.graphicsAnnot(x$label), x$x, x$y, :\n",
      "\"conversion failure on 'Δ auc' in 'mbcsToSbcs': dot substituted for <ce>\"\n",
      "Warning message in grid.Call(C_textBounds, as.graphicsAnnot(x$label), x$x, x$y, :\n",
      "\"conversion failure on 'Δ auc' in 'mbcsToSbcs': dot substituted for <94>\"\n",
      "Warning message in grid.Call(C_textBounds, as.graphicsAnnot(x$label), x$x, x$y, :\n",
      "\"font metrics unknown for Unicode character U+0394\"\n",
      "Warning message in grid.Call(C_textBounds, as.graphicsAnnot(x$label), x$x, x$y, :\n",
      "\"conversion failure on 'Δ auc' in 'mbcsToSbcs': dot substituted for <ce>\"\n",
      "Warning message in grid.Call(C_textBounds, as.graphicsAnnot(x$label), x$x, x$y, :\n",
      "\"conversion failure on 'Δ auc' in 'mbcsToSbcs': dot substituted for <94>\"\n",
      "Warning message in grid.Call(C_textBounds, as.graphicsAnnot(x$label), x$x, x$y, :\n",
      "\"font metrics unknown for Unicode character U+0394\"\n",
      "Warning message in grid.Call(C_textBounds, as.graphicsAnnot(x$label), x$x, x$y, :\n",
      "\"conversion failure on 'Δ auc' in 'mbcsToSbcs': dot substituted for <ce>\"\n",
      "Warning message in grid.Call(C_textBounds, as.graphicsAnnot(x$label), x$x, x$y, :\n",
      "\"conversion failure on 'Δ auc' in 'mbcsToSbcs': dot substituted for <94>\"\n",
      "Warning message in grid.Call(C_textBounds, as.graphicsAnnot(x$label), x$x, x$y, :\n",
      "\"font metrics unknown for Unicode character U+0394\"\n",
      "Warning message in grid.Call(C_textBounds, as.graphicsAnnot(x$label), x$x, x$y, :\n",
      "\"conversion failure on 'Δ auc' in 'mbcsToSbcs': dot substituted for <ce>\"\n",
      "Warning message in grid.Call(C_textBounds, as.graphicsAnnot(x$label), x$x, x$y, :\n",
      "\"conversion failure on 'Δ auc' in 'mbcsToSbcs': dot substituted for <94>\"\n",
      "Warning message in grid.Call(C_textBounds, as.graphicsAnnot(x$label), x$x, x$y, :\n",
      "\"font metrics unknown for Unicode character U+0394\"\n",
      "Warning message in grid.Call(C_textBounds, as.graphicsAnnot(x$label), x$x, x$y, :\n",
      "\"conversion failure on 'Δ auc' in 'mbcsToSbcs': dot substituted for <ce>\"\n",
      "Warning message in grid.Call(C_textBounds, as.graphicsAnnot(x$label), x$x, x$y, :\n",
      "\"conversion failure on 'Δ auc' in 'mbcsToSbcs': dot substituted for <94>\"\n",
      "Warning message in grid.Call(C_textBounds, as.graphicsAnnot(x$label), x$x, x$y, :\n",
      "\"font metrics unknown for Unicode character U+0394\"\n",
      "Warning message in grid.Call(C_textBounds, as.graphicsAnnot(x$label), x$x, x$y, :\n",
      "\"conversion failure on 'Δ auc' in 'mbcsToSbcs': dot substituted for <ce>\"\n",
      "Warning message in grid.Call(C_textBounds, as.graphicsAnnot(x$label), x$x, x$y, :\n",
      "\"conversion failure on 'Δ auc' in 'mbcsToSbcs': dot substituted for <94>\"\n",
      "Warning message in grid.Call(C_textBounds, as.graphicsAnnot(x$label), x$x, x$y, :\n",
      "\"font metrics unknown for Unicode character U+0394\"\n",
      "Warning message in grid.Call(C_textBounds, as.graphicsAnnot(x$label), x$x, x$y, :\n",
      "\"conversion failure on 'Δ auc' in 'mbcsToSbcs': dot substituted for <ce>\"\n",
      "Warning message in grid.Call(C_textBounds, as.graphicsAnnot(x$label), x$x, x$y, :\n",
      "\"conversion failure on 'Δ auc' in 'mbcsToSbcs': dot substituted for <94>\"\n",
      "Warning message in grid.Call(C_textBounds, as.graphicsAnnot(x$label), x$x, x$y, :\n",
      "\"font metrics unknown for Unicode character U+0394\"\n",
      "Warning message in grid.Call(C_textBounds, as.graphicsAnnot(x$label), x$x, x$y, :\n",
      "\"conversion failure on 'Δ auc' in 'mbcsToSbcs': dot substituted for <ce>\"\n",
      "Warning message in grid.Call(C_textBounds, as.graphicsAnnot(x$label), x$x, x$y, :\n",
      "\"conversion failure on 'Δ auc' in 'mbcsToSbcs': dot substituted for <94>\"\n",
      "Warning message in grid.Call(C_textBounds, as.graphicsAnnot(x$label), x$x, x$y, :\n",
      "\"font metrics unknown for Unicode character U+0394\"\n",
      "Warning message in grid.Call(C_textBounds, as.graphicsAnnot(x$label), x$x, x$y, :\n",
      "\"conversion failure on 'Δ auc' in 'mbcsToSbcs': dot substituted for <ce>\"\n",
      "Warning message in grid.Call(C_textBounds, as.graphicsAnnot(x$label), x$x, x$y, :\n",
      "\"conversion failure on 'Δ auc' in 'mbcsToSbcs': dot substituted for <94>\"\n",
      "Warning message in grid.Call(C_textBounds, as.graphicsAnnot(x$label), x$x, x$y, :\n",
      "\"font metrics unknown for Unicode character U+0394\"\n",
      "Warning message in grid.Call(C_textBounds, as.graphicsAnnot(x$label), x$x, x$y, :\n",
      "\"conversion failure on 'Δ auc' in 'mbcsToSbcs': dot substituted for <ce>\"\n",
      "Warning message in grid.Call(C_textBounds, as.graphicsAnnot(x$label), x$x, x$y, :\n",
      "\"conversion failure on 'Δ auc' in 'mbcsToSbcs': dot substituted for <94>\"\n",
      "Warning message in grid.Call(C_textBounds, as.graphicsAnnot(x$label), x$x, x$y, :\n",
      "\"font metrics unknown for Unicode character U+0394\"\n",
      "Warning message in grid.Call(C_textBounds, as.graphicsAnnot(x$label), x$x, x$y, :\n",
      "\"conversion failure on 'Δ auc' in 'mbcsToSbcs': dot substituted for <ce>\"\n",
      "Warning message in grid.Call(C_textBounds, as.graphicsAnnot(x$label), x$x, x$y, :\n",
      "\"conversion failure on 'Δ auc' in 'mbcsToSbcs': dot substituted for <94>\"\n",
      "Warning message in grid.Call(C_textBounds, as.graphicsAnnot(x$label), x$x, x$y, :\n",
      "\"font metrics unknown for Unicode character U+0394\"\n",
      "Warning message in grid.Call(C_textBounds, as.graphicsAnnot(x$label), x$x, x$y, :\n",
      "\"conversion failure on 'Δ auc' in 'mbcsToSbcs': dot substituted for <ce>\"\n",
      "Warning message in grid.Call(C_textBounds, as.graphicsAnnot(x$label), x$x, x$y, :\n",
      "\"conversion failure on 'Δ auc' in 'mbcsToSbcs': dot substituted for <94>\"\n",
      "Warning message in grid.Call(C_textBounds, as.graphicsAnnot(x$label), x$x, x$y, :\n",
      "\"font metrics unknown for Unicode character U+0394\"\n",
      "Warning message in grid.Call(C_textBounds, as.graphicsAnnot(x$label), x$x, x$y, :\n",
      "\"conversion failure on 'Δ auc' in 'mbcsToSbcs': dot substituted for <ce>\"\n",
      "Warning message in grid.Call(C_textBounds, as.graphicsAnnot(x$label), x$x, x$y, :\n",
      "\"conversion failure on 'Δ auc' in 'mbcsToSbcs': dot substituted for <94>\"\n",
      "Warning message in grid.Call(C_textBounds, as.graphicsAnnot(x$label), x$x, x$y, :\n",
      "\"font metrics unknown for Unicode character U+0394\"\n",
      "Warning message in grid.Call(C_textBounds, as.graphicsAnnot(x$label), x$x, x$y, :\n",
      "\"conversion failure on 'Δ auc' in 'mbcsToSbcs': dot substituted for <ce>\"\n",
      "Warning message in grid.Call(C_textBounds, as.graphicsAnnot(x$label), x$x, x$y, :\n",
      "\"conversion failure on 'Δ auc' in 'mbcsToSbcs': dot substituted for <94>\"\n",
      "Warning message in grid.Call(C_textBounds, as.graphicsAnnot(x$label), x$x, x$y, :\n",
      "\"font metrics unknown for Unicode character U+0394\"\n",
      "Warning message in grid.Call(C_textBounds, as.graphicsAnnot(x$label), x$x, x$y, :\n",
      "\"conversion failure on 'Δ auc' in 'mbcsToSbcs': dot substituted for <ce>\"\n",
      "Warning message in grid.Call(C_textBounds, as.graphicsAnnot(x$label), x$x, x$y, :\n",
      "\"conversion failure on 'Δ auc' in 'mbcsToSbcs': dot substituted for <94>\"\n",
      "Warning message in grid.Call(C_textBounds, as.graphicsAnnot(x$label), x$x, x$y, :\n",
      "\"font metrics unknown for Unicode character U+0394\"\n",
      "Warning message in grid.Call(C_textBounds, as.graphicsAnnot(x$label), x$x, x$y, :\n",
      "\"conversion failure on 'Δ auc' in 'mbcsToSbcs': dot substituted for <ce>\"\n",
      "Warning message in grid.Call(C_textBounds, as.graphicsAnnot(x$label), x$x, x$y, :\n",
      "\"conversion failure on 'Δ auc' in 'mbcsToSbcs': dot substituted for <94>\"\n",
      "Warning message in grid.Call(C_textBounds, as.graphicsAnnot(x$label), x$x, x$y, :\n",
      "\"font metrics unknown for Unicode character U+0394\"\n",
      "Warning message in grid.Call(C_textBounds, as.graphicsAnnot(x$label), x$x, x$y, :\n",
      "\"conversion failure on 'Δ auc' in 'mbcsToSbcs': dot substituted for <ce>\"\n",
      "Warning message in grid.Call(C_textBounds, as.graphicsAnnot(x$label), x$x, x$y, :\n",
      "\"conversion failure on 'Δ auc' in 'mbcsToSbcs': dot substituted for <94>\"\n",
      "Warning message in grid.Call(C_textBounds, as.graphicsAnnot(x$label), x$x, x$y, :\n",
      "\"font metrics unknown for Unicode character U+0394\"\n",
      "Warning message in grid.Call(C_textBounds, as.graphicsAnnot(x$label), x$x, x$y, :\n",
      "\"conversion failure on 'Δ auc' in 'mbcsToSbcs': dot substituted for <ce>\"\n",
      "Warning message in grid.Call(C_textBounds, as.graphicsAnnot(x$label), x$x, x$y, :\n",
      "\"conversion failure on 'Δ auc' in 'mbcsToSbcs': dot substituted for <94>\"\n",
      "Warning message in grid.Call(C_textBounds, as.graphicsAnnot(x$label), x$x, x$y, :\n",
      "\"font metrics unknown for Unicode character U+0394\"\n",
      "Warning message in grid.Call(C_textBounds, as.graphicsAnnot(x$label), x$x, x$y, :\n",
      "\"conversion failure on 'Δ auc' in 'mbcsToSbcs': dot substituted for <ce>\"\n",
      "Warning message in grid.Call(C_textBounds, as.graphicsAnnot(x$label), x$x, x$y, :\n",
      "\"conversion failure on 'Δ auc' in 'mbcsToSbcs': dot substituted for <94>\"\n",
      "Warning message in grid.Call(C_textBounds, as.graphicsAnnot(x$label), x$x, x$y, :\n",
      "\"font metrics unknown for Unicode character U+0394\"\n",
      "Warning message in grid.Call(C_textBounds, as.graphicsAnnot(x$label), x$x, x$y, :\n",
      "\"conversion failure on 'Δ auc' in 'mbcsToSbcs': dot substituted for <ce>\"\n",
      "Warning message in grid.Call(C_textBounds, as.graphicsAnnot(x$label), x$x, x$y, :\n",
      "\"conversion failure on 'Δ auc' in 'mbcsToSbcs': dot substituted for <94>\"\n",
      "Warning message in grid.Call(C_textBounds, as.graphicsAnnot(x$label), x$x, x$y, :\n",
      "\"font metrics unknown for Unicode character U+0394\"\n",
      "Warning message in grid.Call(C_textBounds, as.graphicsAnnot(x$label), x$x, x$y, :\n",
      "\"conversion failure on 'Δ auc' in 'mbcsToSbcs': dot substituted for <ce>\"\n",
      "Warning message in grid.Call(C_textBounds, as.graphicsAnnot(x$label), x$x, x$y, :\n",
      "\"conversion failure on 'Δ auc' in 'mbcsToSbcs': dot substituted for <94>\"\n",
      "Warning message in grid.Call(C_textBounds, as.graphicsAnnot(x$label), x$x, x$y, :\n",
      "\"font metrics unknown for Unicode character U+0394\"\n",
      "Warning message in grid.Call(C_textBounds, as.graphicsAnnot(x$label), x$x, x$y, :\n",
      "\"conversion failure on 'Δ auc' in 'mbcsToSbcs': dot substituted for <ce>\"\n",
      "Warning message in grid.Call(C_textBounds, as.graphicsAnnot(x$label), x$x, x$y, :\n",
      "\"conversion failure on 'Δ auc' in 'mbcsToSbcs': dot substituted for <94>\"\n",
      "Warning message in grid.Call.graphics(C_text, as.graphicsAnnot(x$label), x$x, x$y, :\n",
      "\"font metrics unknown for Unicode character U+0394\"\n",
      "Warning message in grid.Call.graphics(C_text, as.graphicsAnnot(x$label), x$x, x$y, :\n",
      "\"conversion failure on 'Δ auc' in 'mbcsToSbcs': dot substituted for <ce>\"\n",
      "Warning message in grid.Call.graphics(C_text, as.graphicsAnnot(x$label), x$x, x$y, :\n",
      "\"conversion failure on 'Δ auc' in 'mbcsToSbcs': dot substituted for <94>\"\n",
      "Warning message in grid.Call.graphics(C_text, as.graphicsAnnot(x$label), x$x, x$y, :\n",
      "\"font metrics unknown for Unicode character U+0394\"\n",
      "Warning message in grid.Call.graphics(C_text, as.graphicsAnnot(x$label), x$x, x$y, :\n",
      "\"conversion failure on 'Δ auc' in 'mbcsToSbcs': dot substituted for <ce>\"\n",
      "Warning message in grid.Call.graphics(C_text, as.graphicsAnnot(x$label), x$x, x$y, :\n",
      "\"conversion failure on 'Δ auc' in 'mbcsToSbcs': dot substituted for <94>\"\n",
      "Warning message in grid.Call.graphics(C_text, as.graphicsAnnot(x$label), x$x, x$y, :\n",
      "\"font metrics unknown for Unicode character U+0394\"\n",
      "Warning message in grid.Call.graphics(C_text, as.graphicsAnnot(x$label), x$x, x$y, :\n",
      "\"conversion failure on 'Δ auc' in 'mbcsToSbcs': dot substituted for <ce>\"\n",
      "Warning message in grid.Call.graphics(C_text, as.graphicsAnnot(x$label), x$x, x$y, :\n",
      "\"conversion failure on 'Δ auc' in 'mbcsToSbcs': dot substituted for <94>\"\n",
      "Warning message in grid.Call.graphics(C_text, as.graphicsAnnot(x$label), x$x, x$y, :\n",
      "\"font metrics unknown for Unicode character U+0394\"\n",
      "Warning message in grid.Call.graphics(C_text, as.graphicsAnnot(x$label), x$x, x$y, :\n",
      "\"conversion failure on 'Δ auc' in 'mbcsToSbcs': dot substituted for <ce>\"\n",
      "Warning message in grid.Call.graphics(C_text, as.graphicsAnnot(x$label), x$x, x$y, :\n",
      "\"conversion failure on 'Δ auc' in 'mbcsToSbcs': dot substituted for <94>\"\n",
      "Warning message in grid.Call.graphics(C_text, as.graphicsAnnot(x$label), x$x, x$y, :\n",
      "\"conversion failure on 'Δ auc' in 'mbcsToSbcs': dot substituted for <ce>\"\n",
      "Warning message in grid.Call.graphics(C_text, as.graphicsAnnot(x$label), x$x, x$y, :\n",
      "\"conversion failure on 'Δ auc' in 'mbcsToSbcs': dot substituted for <94>\"\n",
      "Warning message in grid.Call.graphics(C_text, as.graphicsAnnot(x$label), x$x, x$y, :\n",
      "\"conversion failure on 'Δ auc' in 'mbcsToSbcs': dot substituted for <ce>\"\n",
      "Warning message in grid.Call.graphics(C_text, as.graphicsAnnot(x$label), x$x, x$y, :\n",
      "\"conversion failure on 'Δ auc' in 'mbcsToSbcs': dot substituted for <94>\"\n",
      "Warning message in grid.Call(C_textBounds, as.graphicsAnnot(x$label), x$x, x$y, :\n",
      "\"font metrics unknown for Unicode character U+0394\"\n",
      "Warning message in grid.Call(C_textBounds, as.graphicsAnnot(x$label), x$x, x$y, :\n",
      "\"conversion failure on 'Δ auc' in 'mbcsToSbcs': dot substituted for <ce>\"\n",
      "Warning message in grid.Call(C_textBounds, as.graphicsAnnot(x$label), x$x, x$y, :\n",
      "\"conversion failure on 'Δ auc' in 'mbcsToSbcs': dot substituted for <94>\"\n",
      "Warning message in grid.Call(C_textBounds, as.graphicsAnnot(x$label), x$x, x$y, :\n",
      "\"font metrics unknown for Unicode character U+0394\"\n",
      "Warning message in grid.Call(C_textBounds, as.graphicsAnnot(x$label), x$x, x$y, :\n",
      "\"conversion failure on 'Δ auc' in 'mbcsToSbcs': dot substituted for <ce>\"\n",
      "Warning message in grid.Call(C_textBounds, as.graphicsAnnot(x$label), x$x, x$y, :\n",
      "\"conversion failure on 'Δ auc' in 'mbcsToSbcs': dot substituted for <94>\"\n",
      "Warning message in grid.Call(C_textBounds, as.graphicsAnnot(x$label), x$x, x$y, :\n",
      "\"font metrics unknown for Unicode character U+0394\"\n",
      "Warning message in grid.Call(C_textBounds, as.graphicsAnnot(x$label), x$x, x$y, :\n",
      "\"conversion failure on 'Δ auc' in 'mbcsToSbcs': dot substituted for <ce>\"\n",
      "Warning message in grid.Call(C_textBounds, as.graphicsAnnot(x$label), x$x, x$y, :\n",
      "\"conversion failure on 'Δ auc' in 'mbcsToSbcs': dot substituted for <94>\"\n",
      "Warning message in grid.Call(C_textBounds, as.graphicsAnnot(x$label), x$x, x$y, :\n",
      "\"font metrics unknown for Unicode character U+0394\"\n",
      "Warning message in grid.Call(C_textBounds, as.graphicsAnnot(x$label), x$x, x$y, :\n",
      "\"conversion failure on 'Δ auc' in 'mbcsToSbcs': dot substituted for <ce>\"\n",
      "Warning message in grid.Call(C_textBounds, as.graphicsAnnot(x$label), x$x, x$y, :\n",
      "\"conversion failure on 'Δ auc' in 'mbcsToSbcs': dot substituted for <94>\"\n",
      "Warning message in grid.Call(C_textBounds, as.graphicsAnnot(x$label), x$x, x$y, :\n",
      "\"font metrics unknown for Unicode character U+0394\"\n",
      "Warning message in grid.Call(C_textBounds, as.graphicsAnnot(x$label), x$x, x$y, :\n",
      "\"conversion failure on 'Δ auc' in 'mbcsToSbcs': dot substituted for <ce>\"\n",
      "Warning message in grid.Call(C_textBounds, as.graphicsAnnot(x$label), x$x, x$y, :\n",
      "\"conversion failure on 'Δ auc' in 'mbcsToSbcs': dot substituted for <94>\"\n",
      "Warning message in grid.Call(C_textBounds, as.graphicsAnnot(x$label), x$x, x$y, :\n",
      "\"font metrics unknown for Unicode character U+0394\"\n",
      "Warning message in grid.Call(C_textBounds, as.graphicsAnnot(x$label), x$x, x$y, :\n",
      "\"conversion failure on 'Δ auc' in 'mbcsToSbcs': dot substituted for <ce>\"\n",
      "Warning message in grid.Call(C_textBounds, as.graphicsAnnot(x$label), x$x, x$y, :\n",
      "\"conversion failure on 'Δ auc' in 'mbcsToSbcs': dot substituted for <94>\"\n",
      "Warning message in grid.Call(C_textBounds, as.graphicsAnnot(x$label), x$x, x$y, :\n",
      "\"font metrics unknown for Unicode character U+0394\"\n",
      "Warning message in grid.Call(C_textBounds, as.graphicsAnnot(x$label), x$x, x$y, :\n",
      "\"conversion failure on 'Δ auc' in 'mbcsToSbcs': dot substituted for <ce>\"\n",
      "Warning message in grid.Call(C_textBounds, as.graphicsAnnot(x$label), x$x, x$y, :\n",
      "\"conversion failure on 'Δ auc' in 'mbcsToSbcs': dot substituted for <94>\"\n",
      "Warning message in grid.Call(C_textBounds, as.graphicsAnnot(x$label), x$x, x$y, :\n",
      "\"font metrics unknown for Unicode character U+0394\"\n",
      "Warning message in grid.Call(C_textBounds, as.graphicsAnnot(x$label), x$x, x$y, :\n",
      "\"conversion failure on 'Δ auc' in 'mbcsToSbcs': dot substituted for <ce>\"\n",
      "Warning message in grid.Call(C_textBounds, as.graphicsAnnot(x$label), x$x, x$y, :\n",
      "\"conversion failure on 'Δ auc' in 'mbcsToSbcs': dot substituted for <94>\"\n",
      "Warning message in grid.Call(C_textBounds, as.graphicsAnnot(x$label), x$x, x$y, :\n",
      "\"font metrics unknown for Unicode character U+0394\"\n",
      "Warning message in grid.Call(C_textBounds, as.graphicsAnnot(x$label), x$x, x$y, :\n",
      "\"conversion failure on 'Δ auc' in 'mbcsToSbcs': dot substituted for <ce>\"\n",
      "Warning message in grid.Call(C_textBounds, as.graphicsAnnot(x$label), x$x, x$y, :\n",
      "\"conversion failure on 'Δ auc' in 'mbcsToSbcs': dot substituted for <94>\"\n",
      "Warning message in grid.Call(C_textBounds, as.graphicsAnnot(x$label), x$x, x$y, :\n",
      "\"font metrics unknown for Unicode character U+0394\"\n",
      "Warning message in grid.Call(C_textBounds, as.graphicsAnnot(x$label), x$x, x$y, :\n",
      "\"conversion failure on 'Δ auc' in 'mbcsToSbcs': dot substituted for <ce>\"\n",
      "Warning message in grid.Call(C_textBounds, as.graphicsAnnot(x$label), x$x, x$y, :\n",
      "\"conversion failure on 'Δ auc' in 'mbcsToSbcs': dot substituted for <94>\"\n",
      "Warning message in grid.Call(C_textBounds, as.graphicsAnnot(x$label), x$x, x$y, :\n",
      "\"font metrics unknown for Unicode character U+0394\"\n",
      "Warning message in grid.Call(C_textBounds, as.graphicsAnnot(x$label), x$x, x$y, :\n",
      "\"conversion failure on 'Δ auc' in 'mbcsToSbcs': dot substituted for <ce>\"\n",
      "Warning message in grid.Call(C_textBounds, as.graphicsAnnot(x$label), x$x, x$y, :\n",
      "\"conversion failure on 'Δ auc' in 'mbcsToSbcs': dot substituted for <94>\"\n",
      "Warning message in grid.Call(C_textBounds, as.graphicsAnnot(x$label), x$x, x$y, :\n",
      "\"font metrics unknown for Unicode character U+0394\"\n",
      "Warning message in grid.Call(C_textBounds, as.graphicsAnnot(x$label), x$x, x$y, :\n",
      "\"conversion failure on 'Δ auc' in 'mbcsToSbcs': dot substituted for <ce>\"\n",
      "Warning message in grid.Call(C_textBounds, as.graphicsAnnot(x$label), x$x, x$y, :\n",
      "\"conversion failure on 'Δ auc' in 'mbcsToSbcs': dot substituted for <94>\"\n",
      "Warning message in grid.Call(C_textBounds, as.graphicsAnnot(x$label), x$x, x$y, :\n",
      "\"font metrics unknown for Unicode character U+0394\"\n",
      "Warning message in grid.Call(C_textBounds, as.graphicsAnnot(x$label), x$x, x$y, :\n",
      "\"conversion failure on 'Δ auc' in 'mbcsToSbcs': dot substituted for <ce>\"\n",
      "Warning message in grid.Call(C_textBounds, as.graphicsAnnot(x$label), x$x, x$y, :\n",
      "\"conversion failure on 'Δ auc' in 'mbcsToSbcs': dot substituted for <94>\"\n",
      "Warning message in grid.Call(C_textBounds, as.graphicsAnnot(x$label), x$x, x$y, :\n",
      "\"font metrics unknown for Unicode character U+0394\"\n",
      "Warning message in grid.Call(C_textBounds, as.graphicsAnnot(x$label), x$x, x$y, :\n",
      "\"conversion failure on 'Δ auc' in 'mbcsToSbcs': dot substituted for <ce>\"\n",
      "Warning message in grid.Call(C_textBounds, as.graphicsAnnot(x$label), x$x, x$y, :\n",
      "\"conversion failure on 'Δ auc' in 'mbcsToSbcs': dot substituted for <94>\"\n",
      "Warning message in grid.Call(C_textBounds, as.graphicsAnnot(x$label), x$x, x$y, :\n",
      "\"font metrics unknown for Unicode character U+0394\"\n",
      "Warning message in grid.Call(C_textBounds, as.graphicsAnnot(x$label), x$x, x$y, :\n",
      "\"conversion failure on 'Δ auc' in 'mbcsToSbcs': dot substituted for <ce>\"\n",
      "Warning message in grid.Call(C_textBounds, as.graphicsAnnot(x$label), x$x, x$y, :\n",
      "\"conversion failure on 'Δ auc' in 'mbcsToSbcs': dot substituted for <94>\"\n",
      "Warning message in grid.Call(C_textBounds, as.graphicsAnnot(x$label), x$x, x$y, :\n",
      "\"font metrics unknown for Unicode character U+0394\"\n",
      "Warning message in grid.Call(C_textBounds, as.graphicsAnnot(x$label), x$x, x$y, :\n",
      "\"conversion failure on 'Δ auc' in 'mbcsToSbcs': dot substituted for <ce>\"\n",
      "Warning message in grid.Call(C_textBounds, as.graphicsAnnot(x$label), x$x, x$y, :\n",
      "\"conversion failure on 'Δ auc' in 'mbcsToSbcs': dot substituted for <94>\"\n",
      "Warning message in grid.Call(C_textBounds, as.graphicsAnnot(x$label), x$x, x$y, :\n",
      "\"font metrics unknown for Unicode character U+0394\"\n",
      "Warning message in grid.Call(C_textBounds, as.graphicsAnnot(x$label), x$x, x$y, :\n",
      "\"conversion failure on 'Δ auc' in 'mbcsToSbcs': dot substituted for <ce>\"\n",
      "Warning message in grid.Call(C_textBounds, as.graphicsAnnot(x$label), x$x, x$y, :\n",
      "\"conversion failure on 'Δ auc' in 'mbcsToSbcs': dot substituted for <94>\"\n",
      "Warning message in grid.Call(C_textBounds, as.graphicsAnnot(x$label), x$x, x$y, :\n",
      "\"font metrics unknown for Unicode character U+0394\"\n",
      "Warning message in grid.Call(C_textBounds, as.graphicsAnnot(x$label), x$x, x$y, :\n",
      "\"conversion failure on 'Δ auc' in 'mbcsToSbcs': dot substituted for <ce>\"\n",
      "Warning message in grid.Call(C_textBounds, as.graphicsAnnot(x$label), x$x, x$y, :\n",
      "\"conversion failure on 'Δ auc' in 'mbcsToSbcs': dot substituted for <94>\"\n",
      "Warning message in grid.Call(C_textBounds, as.graphicsAnnot(x$label), x$x, x$y, :\n",
      "\"font metrics unknown for Unicode character U+0394\"\n",
      "Warning message in grid.Call(C_textBounds, as.graphicsAnnot(x$label), x$x, x$y, :\n",
      "\"conversion failure on 'Δ auc' in 'mbcsToSbcs': dot substituted for <ce>\"\n",
      "Warning message in grid.Call(C_textBounds, as.graphicsAnnot(x$label), x$x, x$y, :\n",
      "\"conversion failure on 'Δ auc' in 'mbcsToSbcs': dot substituted for <94>\"\n",
      "Warning message in grid.Call(C_textBounds, as.graphicsAnnot(x$label), x$x, x$y, :\n",
      "\"font metrics unknown for Unicode character U+0394\"\n",
      "Warning message in grid.Call(C_textBounds, as.graphicsAnnot(x$label), x$x, x$y, :\n",
      "\"conversion failure on 'Δ auc' in 'mbcsToSbcs': dot substituted for <ce>\"\n",
      "Warning message in grid.Call(C_textBounds, as.graphicsAnnot(x$label), x$x, x$y, :\n",
      "\"conversion failure on 'Δ auc' in 'mbcsToSbcs': dot substituted for <94>\"\n",
      "Warning message in grid.Call(C_textBounds, as.graphicsAnnot(x$label), x$x, x$y, :\n",
      "\"font metrics unknown for Unicode character U+0394\"\n",
      "Warning message in grid.Call(C_textBounds, as.graphicsAnnot(x$label), x$x, x$y, :\n",
      "\"conversion failure on 'Δ auc' in 'mbcsToSbcs': dot substituted for <ce>\"\n",
      "Warning message in grid.Call(C_textBounds, as.graphicsAnnot(x$label), x$x, x$y, :\n",
      "\"conversion failure on 'Δ auc' in 'mbcsToSbcs': dot substituted for <94>\"\n",
      "Warning message in grid.Call(C_textBounds, as.graphicsAnnot(x$label), x$x, x$y, :\n",
      "\"font metrics unknown for Unicode character U+0394\"\n",
      "Warning message in grid.Call(C_textBounds, as.graphicsAnnot(x$label), x$x, x$y, :\n",
      "\"conversion failure on 'Δ auc' in 'mbcsToSbcs': dot substituted for <ce>\"\n",
      "Warning message in grid.Call(C_textBounds, as.graphicsAnnot(x$label), x$x, x$y, :\n",
      "\"conversion failure on 'Δ auc' in 'mbcsToSbcs': dot substituted for <94>\"\n",
      "Warning message in grid.Call(C_textBounds, as.graphicsAnnot(x$label), x$x, x$y, :\n",
      "\"font metrics unknown for Unicode character U+0394\"\n",
      "Warning message in grid.Call(C_textBounds, as.graphicsAnnot(x$label), x$x, x$y, :\n",
      "\"conversion failure on 'Δ auc' in 'mbcsToSbcs': dot substituted for <ce>\"\n",
      "Warning message in grid.Call(C_textBounds, as.graphicsAnnot(x$label), x$x, x$y, :\n",
      "\"conversion failure on 'Δ auc' in 'mbcsToSbcs': dot substituted for <94>\"\n",
      "Warning message in grid.Call(C_textBounds, as.graphicsAnnot(x$label), x$x, x$y, :\n",
      "\"font metrics unknown for Unicode character U+0394\"\n",
      "Warning message in grid.Call(C_textBounds, as.graphicsAnnot(x$label), x$x, x$y, :\n",
      "\"conversion failure on 'Δ auc' in 'mbcsToSbcs': dot substituted for <ce>\"\n",
      "Warning message in grid.Call(C_textBounds, as.graphicsAnnot(x$label), x$x, x$y, :\n",
      "\"conversion failure on 'Δ auc' in 'mbcsToSbcs': dot substituted for <94>\"\n",
      "Warning message in grid.Call(C_textBounds, as.graphicsAnnot(x$label), x$x, x$y, :\n",
      "\"font metrics unknown for Unicode character U+0394\"\n",
      "Warning message in grid.Call(C_textBounds, as.graphicsAnnot(x$label), x$x, x$y, :\n",
      "\"conversion failure on 'Δ auc' in 'mbcsToSbcs': dot substituted for <ce>\"\n",
      "Warning message in grid.Call(C_textBounds, as.graphicsAnnot(x$label), x$x, x$y, :\n",
      "\"conversion failure on 'Δ auc' in 'mbcsToSbcs': dot substituted for <94>\"\n",
      "Warning message in grid.Call(C_textBounds, as.graphicsAnnot(x$label), x$x, x$y, :\n",
      "\"font metrics unknown for Unicode character U+0394\"\n",
      "Warning message in grid.Call(C_textBounds, as.graphicsAnnot(x$label), x$x, x$y, :\n",
      "\"conversion failure on 'Δ auc' in 'mbcsToSbcs': dot substituted for <ce>\"\n",
      "Warning message in grid.Call(C_textBounds, as.graphicsAnnot(x$label), x$x, x$y, :\n",
      "\"conversion failure on 'Δ auc' in 'mbcsToSbcs': dot substituted for <94>\"\n",
      "Warning message in grid.Call(C_textBounds, as.graphicsAnnot(x$label), x$x, x$y, :\n",
      "\"font metrics unknown for Unicode character U+0394\"\n",
      "Warning message in grid.Call(C_textBounds, as.graphicsAnnot(x$label), x$x, x$y, :\n",
      "\"conversion failure on 'Δ auc' in 'mbcsToSbcs': dot substituted for <ce>\"\n",
      "Warning message in grid.Call(C_textBounds, as.graphicsAnnot(x$label), x$x, x$y, :\n",
      "\"conversion failure on 'Δ auc' in 'mbcsToSbcs': dot substituted for <94>\"\n",
      "Warning message in grid.Call(C_textBounds, as.graphicsAnnot(x$label), x$x, x$y, :\n",
      "\"font metrics unknown for Unicode character U+0394\"\n",
      "Warning message in grid.Call(C_textBounds, as.graphicsAnnot(x$label), x$x, x$y, :\n",
      "\"conversion failure on 'Δ auc' in 'mbcsToSbcs': dot substituted for <ce>\"\n",
      "Warning message in grid.Call(C_textBounds, as.graphicsAnnot(x$label), x$x, x$y, :\n",
      "\"conversion failure on 'Δ auc' in 'mbcsToSbcs': dot substituted for <94>\"\n",
      "Warning message in grid.Call.graphics(C_text, as.graphicsAnnot(x$label), x$x, x$y, :\n",
      "\"font metrics unknown for Unicode character U+0394\"\n",
      "Warning message in grid.Call.graphics(C_text, as.graphicsAnnot(x$label), x$x, x$y, :\n",
      "\"conversion failure on 'Δ auc' in 'mbcsToSbcs': dot substituted for <ce>\"\n",
      "Warning message in grid.Call.graphics(C_text, as.graphicsAnnot(x$label), x$x, x$y, :\n",
      "\"conversion failure on 'Δ auc' in 'mbcsToSbcs': dot substituted for <94>\"\n",
      "Warning message in grid.Call.graphics(C_text, as.graphicsAnnot(x$label), x$x, x$y, :\n",
      "\"font metrics unknown for Unicode character U+0394\"\n",
      "Warning message in grid.Call.graphics(C_text, as.graphicsAnnot(x$label), x$x, x$y, :\n",
      "\"conversion failure on 'Δ auc' in 'mbcsToSbcs': dot substituted for <ce>\"\n",
      "Warning message in grid.Call.graphics(C_text, as.graphicsAnnot(x$label), x$x, x$y, :\n",
      "\"conversion failure on 'Δ auc' in 'mbcsToSbcs': dot substituted for <94>\"\n",
      "Warning message in grid.Call.graphics(C_text, as.graphicsAnnot(x$label), x$x, x$y, :\n",
      "\"font metrics unknown for Unicode character U+0394\"\n",
      "Warning message in grid.Call.graphics(C_text, as.graphicsAnnot(x$label), x$x, x$y, :\n",
      "\"conversion failure on 'Δ auc' in 'mbcsToSbcs': dot substituted for <ce>\"\n",
      "Warning message in grid.Call.graphics(C_text, as.graphicsAnnot(x$label), x$x, x$y, :\n",
      "\"conversion failure on 'Δ auc' in 'mbcsToSbcs': dot substituted for <94>\"\n",
      "Warning message in grid.Call.graphics(C_text, as.graphicsAnnot(x$label), x$x, x$y, :\n",
      "\"font metrics unknown for Unicode character U+0394\"\n",
      "Warning message in grid.Call.graphics(C_text, as.graphicsAnnot(x$label), x$x, x$y, :\n",
      "\"conversion failure on 'Δ auc' in 'mbcsToSbcs': dot substituted for <ce>\"\n",
      "Warning message in grid.Call.graphics(C_text, as.graphicsAnnot(x$label), x$x, x$y, :\n",
      "\"conversion failure on 'Δ auc' in 'mbcsToSbcs': dot substituted for <94>\"\n",
      "Warning message in grid.Call.graphics(C_text, as.graphicsAnnot(x$label), x$x, x$y, :\n",
      "\"conversion failure on 'Δ auc' in 'mbcsToSbcs': dot substituted for <ce>\"\n",
      "Warning message in grid.Call.graphics(C_text, as.graphicsAnnot(x$label), x$x, x$y, :\n",
      "\"conversion failure on 'Δ auc' in 'mbcsToSbcs': dot substituted for <94>\"\n",
      "Warning message in grid.Call.graphics(C_text, as.graphicsAnnot(x$label), x$x, x$y, :\n",
      "\"conversion failure on 'Δ auc' in 'mbcsToSbcs': dot substituted for <ce>\"\n",
      "Warning message in grid.Call.graphics(C_text, as.graphicsAnnot(x$label), x$x, x$y, :\n",
      "\"conversion failure on 'Δ auc' in 'mbcsToSbcs': dot substituted for <94>\"\n",
      "Warning message in grid.Call(C_textBounds, as.graphicsAnnot(x$label), x$x, x$y, :\n",
      "\"font metrics unknown for Unicode character U+0394\"\n",
      "Warning message in grid.Call(C_textBounds, as.graphicsAnnot(x$label), x$x, x$y, :\n",
      "\"conversion failure on 'Δ auc' in 'mbcsToSbcs': dot substituted for <ce>\"\n",
      "Warning message in grid.Call(C_textBounds, as.graphicsAnnot(x$label), x$x, x$y, :\n",
      "\"conversion failure on 'Δ auc' in 'mbcsToSbcs': dot substituted for <94>\"\n",
      "Warning message in grid.Call(C_textBounds, as.graphicsAnnot(x$label), x$x, x$y, :\n",
      "\"font metrics unknown for Unicode character U+0394\"\n",
      "Warning message in grid.Call(C_textBounds, as.graphicsAnnot(x$label), x$x, x$y, :\n",
      "\"conversion failure on 'Δ auc' in 'mbcsToSbcs': dot substituted for <ce>\"\n",
      "Warning message in grid.Call(C_textBounds, as.graphicsAnnot(x$label), x$x, x$y, :\n",
      "\"conversion failure on 'Δ auc' in 'mbcsToSbcs': dot substituted for <94>\"\n",
      "Warning message in grid.Call(C_textBounds, as.graphicsAnnot(x$label), x$x, x$y, :\n",
      "\"font metrics unknown for Unicode character U+0394\"\n",
      "Warning message in grid.Call(C_textBounds, as.graphicsAnnot(x$label), x$x, x$y, :\n",
      "\"conversion failure on 'Δ auc' in 'mbcsToSbcs': dot substituted for <ce>\"\n",
      "Warning message in grid.Call(C_textBounds, as.graphicsAnnot(x$label), x$x, x$y, :\n",
      "\"conversion failure on 'Δ auc' in 'mbcsToSbcs': dot substituted for <94>\"\n",
      "Warning message in grid.Call(C_textBounds, as.graphicsAnnot(x$label), x$x, x$y, :\n",
      "\"font metrics unknown for Unicode character U+0394\"\n",
      "Warning message in grid.Call(C_textBounds, as.graphicsAnnot(x$label), x$x, x$y, :\n",
      "\"conversion failure on 'Δ auc' in 'mbcsToSbcs': dot substituted for <ce>\"\n",
      "Warning message in grid.Call(C_textBounds, as.graphicsAnnot(x$label), x$x, x$y, :\n",
      "\"conversion failure on 'Δ auc' in 'mbcsToSbcs': dot substituted for <94>\"\n",
      "Warning message in grid.Call(C_textBounds, as.graphicsAnnot(x$label), x$x, x$y, :\n",
      "\"font metrics unknown for Unicode character U+0394\"\n",
      "Warning message in grid.Call(C_textBounds, as.graphicsAnnot(x$label), x$x, x$y, :\n",
      "\"conversion failure on 'Δ auc' in 'mbcsToSbcs': dot substituted for <ce>\"\n",
      "Warning message in grid.Call(C_textBounds, as.graphicsAnnot(x$label), x$x, x$y, :\n",
      "\"conversion failure on 'Δ auc' in 'mbcsToSbcs': dot substituted for <94>\"\n",
      "Warning message in grid.Call(C_textBounds, as.graphicsAnnot(x$label), x$x, x$y, :\n",
      "\"font metrics unknown for Unicode character U+0394\"\n",
      "Warning message in grid.Call(C_textBounds, as.graphicsAnnot(x$label), x$x, x$y, :\n",
      "\"conversion failure on 'Δ auc' in 'mbcsToSbcs': dot substituted for <ce>\"\n",
      "Warning message in grid.Call(C_textBounds, as.graphicsAnnot(x$label), x$x, x$y, :\n",
      "\"conversion failure on 'Δ auc' in 'mbcsToSbcs': dot substituted for <94>\"\n",
      "Warning message in grid.Call(C_textBounds, as.graphicsAnnot(x$label), x$x, x$y, :\n",
      "\"font metrics unknown for Unicode character U+0394\"\n",
      "Warning message in grid.Call(C_textBounds, as.graphicsAnnot(x$label), x$x, x$y, :\n",
      "\"conversion failure on 'Δ auc' in 'mbcsToSbcs': dot substituted for <ce>\"\n",
      "Warning message in grid.Call(C_textBounds, as.graphicsAnnot(x$label), x$x, x$y, :\n",
      "\"conversion failure on 'Δ auc' in 'mbcsToSbcs': dot substituted for <94>\"\n",
      "Warning message in grid.Call(C_textBounds, as.graphicsAnnot(x$label), x$x, x$y, :\n",
      "\"font metrics unknown for Unicode character U+0394\"\n",
      "Warning message in grid.Call(C_textBounds, as.graphicsAnnot(x$label), x$x, x$y, :\n",
      "\"conversion failure on 'Δ auc' in 'mbcsToSbcs': dot substituted for <ce>\"\n",
      "Warning message in grid.Call(C_textBounds, as.graphicsAnnot(x$label), x$x, x$y, :\n",
      "\"conversion failure on 'Δ auc' in 'mbcsToSbcs': dot substituted for <94>\"\n",
      "Warning message in grid.Call(C_textBounds, as.graphicsAnnot(x$label), x$x, x$y, :\n",
      "\"font metrics unknown for Unicode character U+0394\"\n",
      "Warning message in grid.Call(C_textBounds, as.graphicsAnnot(x$label), x$x, x$y, :\n",
      "\"conversion failure on 'Δ auc' in 'mbcsToSbcs': dot substituted for <ce>\"\n",
      "Warning message in grid.Call(C_textBounds, as.graphicsAnnot(x$label), x$x, x$y, :\n",
      "\"conversion failure on 'Δ auc' in 'mbcsToSbcs': dot substituted for <94>\"\n",
      "Warning message in grid.Call(C_textBounds, as.graphicsAnnot(x$label), x$x, x$y, :\n",
      "\"font metrics unknown for Unicode character U+0394\"\n",
      "Warning message in grid.Call(C_textBounds, as.graphicsAnnot(x$label), x$x, x$y, :\n",
      "\"conversion failure on 'Δ auc' in 'mbcsToSbcs': dot substituted for <ce>\"\n",
      "Warning message in grid.Call(C_textBounds, as.graphicsAnnot(x$label), x$x, x$y, :\n",
      "\"conversion failure on 'Δ auc' in 'mbcsToSbcs': dot substituted for <94>\"\n",
      "Warning message in grid.Call(C_textBounds, as.graphicsAnnot(x$label), x$x, x$y, :\n",
      "\"font metrics unknown for Unicode character U+0394\"\n",
      "Warning message in grid.Call(C_textBounds, as.graphicsAnnot(x$label), x$x, x$y, :\n",
      "\"conversion failure on 'Δ auc' in 'mbcsToSbcs': dot substituted for <ce>\"\n",
      "Warning message in grid.Call(C_textBounds, as.graphicsAnnot(x$label), x$x, x$y, :\n",
      "\"conversion failure on 'Δ auc' in 'mbcsToSbcs': dot substituted for <94>\"\n",
      "Warning message in grid.Call(C_textBounds, as.graphicsAnnot(x$label), x$x, x$y, :\n",
      "\"font metrics unknown for Unicode character U+0394\"\n",
      "Warning message in grid.Call(C_textBounds, as.graphicsAnnot(x$label), x$x, x$y, :\n",
      "\"conversion failure on 'Δ auc' in 'mbcsToSbcs': dot substituted for <ce>\"\n",
      "Warning message in grid.Call(C_textBounds, as.graphicsAnnot(x$label), x$x, x$y, :\n",
      "\"conversion failure on 'Δ auc' in 'mbcsToSbcs': dot substituted for <94>\"\n",
      "Warning message in grid.Call(C_textBounds, as.graphicsAnnot(x$label), x$x, x$y, :\n",
      "\"font metrics unknown for Unicode character U+0394\"\n",
      "Warning message in grid.Call(C_textBounds, as.graphicsAnnot(x$label), x$x, x$y, :\n",
      "\"conversion failure on 'Δ auc' in 'mbcsToSbcs': dot substituted for <ce>\"\n",
      "Warning message in grid.Call(C_textBounds, as.graphicsAnnot(x$label), x$x, x$y, :\n",
      "\"conversion failure on 'Δ auc' in 'mbcsToSbcs': dot substituted for <94>\"\n",
      "Warning message in grid.Call(C_textBounds, as.graphicsAnnot(x$label), x$x, x$y, :\n",
      "\"font metrics unknown for Unicode character U+0394\"\n",
      "Warning message in grid.Call(C_textBounds, as.graphicsAnnot(x$label), x$x, x$y, :\n",
      "\"conversion failure on 'Δ auc' in 'mbcsToSbcs': dot substituted for <ce>\"\n",
      "Warning message in grid.Call(C_textBounds, as.graphicsAnnot(x$label), x$x, x$y, :\n",
      "\"conversion failure on 'Δ auc' in 'mbcsToSbcs': dot substituted for <94>\"\n",
      "Warning message in grid.Call(C_textBounds, as.graphicsAnnot(x$label), x$x, x$y, :\n",
      "\"font metrics unknown for Unicode character U+0394\"\n",
      "Warning message in grid.Call(C_textBounds, as.graphicsAnnot(x$label), x$x, x$y, :\n",
      "\"conversion failure on 'Δ auc' in 'mbcsToSbcs': dot substituted for <ce>\"\n",
      "Warning message in grid.Call(C_textBounds, as.graphicsAnnot(x$label), x$x, x$y, :\n",
      "\"conversion failure on 'Δ auc' in 'mbcsToSbcs': dot substituted for <94>\"\n",
      "Warning message in grid.Call(C_textBounds, as.graphicsAnnot(x$label), x$x, x$y, :\n",
      "\"font metrics unknown for Unicode character U+0394\"\n",
      "Warning message in grid.Call(C_textBounds, as.graphicsAnnot(x$label), x$x, x$y, :\n",
      "\"conversion failure on 'Δ auc' in 'mbcsToSbcs': dot substituted for <ce>\"\n",
      "Warning message in grid.Call(C_textBounds, as.graphicsAnnot(x$label), x$x, x$y, :\n",
      "\"conversion failure on 'Δ auc' in 'mbcsToSbcs': dot substituted for <94>\"\n",
      "Warning message in grid.Call(C_textBounds, as.graphicsAnnot(x$label), x$x, x$y, :\n",
      "\"font metrics unknown for Unicode character U+0394\"\n",
      "Warning message in grid.Call(C_textBounds, as.graphicsAnnot(x$label), x$x, x$y, :\n",
      "\"conversion failure on 'Δ auc' in 'mbcsToSbcs': dot substituted for <ce>\"\n",
      "Warning message in grid.Call(C_textBounds, as.graphicsAnnot(x$label), x$x, x$y, :\n",
      "\"conversion failure on 'Δ auc' in 'mbcsToSbcs': dot substituted for <94>\"\n",
      "Warning message in grid.Call(C_textBounds, as.graphicsAnnot(x$label), x$x, x$y, :\n",
      "\"font metrics unknown for Unicode character U+0394\"\n",
      "Warning message in grid.Call(C_textBounds, as.graphicsAnnot(x$label), x$x, x$y, :\n",
      "\"conversion failure on 'Δ auc' in 'mbcsToSbcs': dot substituted for <ce>\"\n",
      "Warning message in grid.Call(C_textBounds, as.graphicsAnnot(x$label), x$x, x$y, :\n",
      "\"conversion failure on 'Δ auc' in 'mbcsToSbcs': dot substituted for <94>\"\n",
      "Warning message in grid.Call(C_textBounds, as.graphicsAnnot(x$label), x$x, x$y, :\n",
      "\"font metrics unknown for Unicode character U+0394\"\n",
      "Warning message in grid.Call(C_textBounds, as.graphicsAnnot(x$label), x$x, x$y, :\n",
      "\"conversion failure on 'Δ auc' in 'mbcsToSbcs': dot substituted for <ce>\"\n",
      "Warning message in grid.Call(C_textBounds, as.graphicsAnnot(x$label), x$x, x$y, :\n",
      "\"conversion failure on 'Δ auc' in 'mbcsToSbcs': dot substituted for <94>\"\n",
      "Warning message in grid.Call(C_textBounds, as.graphicsAnnot(x$label), x$x, x$y, :\n",
      "\"font metrics unknown for Unicode character U+0394\"\n",
      "Warning message in grid.Call(C_textBounds, as.graphicsAnnot(x$label), x$x, x$y, :\n",
      "\"conversion failure on 'Δ auc' in 'mbcsToSbcs': dot substituted for <ce>\"\n",
      "Warning message in grid.Call(C_textBounds, as.graphicsAnnot(x$label), x$x, x$y, :\n",
      "\"conversion failure on 'Δ auc' in 'mbcsToSbcs': dot substituted for <94>\"\n",
      "Warning message in grid.Call(C_textBounds, as.graphicsAnnot(x$label), x$x, x$y, :\n",
      "\"font metrics unknown for Unicode character U+0394\"\n",
      "Warning message in grid.Call(C_textBounds, as.graphicsAnnot(x$label), x$x, x$y, :\n",
      "\"conversion failure on 'Δ auc' in 'mbcsToSbcs': dot substituted for <ce>\"\n",
      "Warning message in grid.Call(C_textBounds, as.graphicsAnnot(x$label), x$x, x$y, :\n",
      "\"conversion failure on 'Δ auc' in 'mbcsToSbcs': dot substituted for <94>\"\n",
      "Warning message in grid.Call(C_textBounds, as.graphicsAnnot(x$label), x$x, x$y, :\n",
      "\"font metrics unknown for Unicode character U+0394\"\n",
      "Warning message in grid.Call(C_textBounds, as.graphicsAnnot(x$label), x$x, x$y, :\n",
      "\"conversion failure on 'Δ auc' in 'mbcsToSbcs': dot substituted for <ce>\"\n",
      "Warning message in grid.Call(C_textBounds, as.graphicsAnnot(x$label), x$x, x$y, :\n",
      "\"conversion failure on 'Δ auc' in 'mbcsToSbcs': dot substituted for <94>\"\n",
      "Warning message in grid.Call(C_textBounds, as.graphicsAnnot(x$label), x$x, x$y, :\n",
      "\"font metrics unknown for Unicode character U+0394\"\n",
      "Warning message in grid.Call(C_textBounds, as.graphicsAnnot(x$label), x$x, x$y, :\n",
      "\"conversion failure on 'Δ auc' in 'mbcsToSbcs': dot substituted for <ce>\"\n",
      "Warning message in grid.Call(C_textBounds, as.graphicsAnnot(x$label), x$x, x$y, :\n",
      "\"conversion failure on 'Δ auc' in 'mbcsToSbcs': dot substituted for <94>\"\n",
      "Warning message in grid.Call(C_textBounds, as.graphicsAnnot(x$label), x$x, x$y, :\n",
      "\"font metrics unknown for Unicode character U+0394\"\n",
      "Warning message in grid.Call(C_textBounds, as.graphicsAnnot(x$label), x$x, x$y, :\n",
      "\"conversion failure on 'Δ auc' in 'mbcsToSbcs': dot substituted for <ce>\"\n",
      "Warning message in grid.Call(C_textBounds, as.graphicsAnnot(x$label), x$x, x$y, :\n",
      "\"conversion failure on 'Δ auc' in 'mbcsToSbcs': dot substituted for <94>\"\n",
      "Warning message in grid.Call(C_textBounds, as.graphicsAnnot(x$label), x$x, x$y, :\n",
      "\"font metrics unknown for Unicode character U+0394\"\n",
      "Warning message in grid.Call(C_textBounds, as.graphicsAnnot(x$label), x$x, x$y, :\n",
      "\"conversion failure on 'Δ auc' in 'mbcsToSbcs': dot substituted for <ce>\"\n",
      "Warning message in grid.Call(C_textBounds, as.graphicsAnnot(x$label), x$x, x$y, :\n",
      "\"conversion failure on 'Δ auc' in 'mbcsToSbcs': dot substituted for <94>\"\n",
      "Warning message in grid.Call(C_textBounds, as.graphicsAnnot(x$label), x$x, x$y, :\n",
      "\"font metrics unknown for Unicode character U+0394\"\n",
      "Warning message in grid.Call(C_textBounds, as.graphicsAnnot(x$label), x$x, x$y, :\n",
      "\"conversion failure on 'Δ auc' in 'mbcsToSbcs': dot substituted for <ce>\"\n",
      "Warning message in grid.Call(C_textBounds, as.graphicsAnnot(x$label), x$x, x$y, :\n",
      "\"conversion failure on 'Δ auc' in 'mbcsToSbcs': dot substituted for <94>\"\n",
      "Warning message in grid.Call(C_textBounds, as.graphicsAnnot(x$label), x$x, x$y, :\n",
      "\"font metrics unknown for Unicode character U+0394\"\n",
      "Warning message in grid.Call(C_textBounds, as.graphicsAnnot(x$label), x$x, x$y, :\n",
      "\"conversion failure on 'Δ auc' in 'mbcsToSbcs': dot substituted for <ce>\"\n",
      "Warning message in grid.Call(C_textBounds, as.graphicsAnnot(x$label), x$x, x$y, :\n",
      "\"conversion failure on 'Δ auc' in 'mbcsToSbcs': dot substituted for <94>\"\n",
      "Warning message in grid.Call(C_textBounds, as.graphicsAnnot(x$label), x$x, x$y, :\n",
      "\"font metrics unknown for Unicode character U+0394\"\n",
      "Warning message in grid.Call(C_textBounds, as.graphicsAnnot(x$label), x$x, x$y, :\n",
      "\"conversion failure on 'Δ auc' in 'mbcsToSbcs': dot substituted for <ce>\"\n",
      "Warning message in grid.Call(C_textBounds, as.graphicsAnnot(x$label), x$x, x$y, :\n",
      "\"conversion failure on 'Δ auc' in 'mbcsToSbcs': dot substituted for <94>\"\n",
      "Warning message in grid.Call.graphics(C_text, as.graphicsAnnot(x$label), x$x, x$y, :\n",
      "\"font metrics unknown for Unicode character U+0394\"\n",
      "Warning message in grid.Call.graphics(C_text, as.graphicsAnnot(x$label), x$x, x$y, :\n",
      "\"conversion failure on 'Δ auc' in 'mbcsToSbcs': dot substituted for <ce>\"\n",
      "Warning message in grid.Call.graphics(C_text, as.graphicsAnnot(x$label), x$x, x$y, :\n",
      "\"conversion failure on 'Δ auc' in 'mbcsToSbcs': dot substituted for <94>\"\n",
      "Warning message in grid.Call.graphics(C_text, as.graphicsAnnot(x$label), x$x, x$y, :\n",
      "\"font metrics unknown for Unicode character U+0394\"\n",
      "Warning message in grid.Call.graphics(C_text, as.graphicsAnnot(x$label), x$x, x$y, :\n",
      "\"conversion failure on 'Δ auc' in 'mbcsToSbcs': dot substituted for <ce>\"\n",
      "Warning message in grid.Call.graphics(C_text, as.graphicsAnnot(x$label), x$x, x$y, :\n",
      "\"conversion failure on 'Δ auc' in 'mbcsToSbcs': dot substituted for <94>\"\n",
      "Warning message in grid.Call.graphics(C_text, as.graphicsAnnot(x$label), x$x, x$y, :\n",
      "\"font metrics unknown for Unicode character U+0394\"\n",
      "Warning message in grid.Call.graphics(C_text, as.graphicsAnnot(x$label), x$x, x$y, :\n",
      "\"conversion failure on 'Δ auc' in 'mbcsToSbcs': dot substituted for <ce>\"\n",
      "Warning message in grid.Call.graphics(C_text, as.graphicsAnnot(x$label), x$x, x$y, :\n",
      "\"conversion failure on 'Δ auc' in 'mbcsToSbcs': dot substituted for <94>\"\n",
      "Warning message in grid.Call.graphics(C_text, as.graphicsAnnot(x$label), x$x, x$y, :\n",
      "\"font metrics unknown for Unicode character U+0394\"\n",
      "Warning message in grid.Call.graphics(C_text, as.graphicsAnnot(x$label), x$x, x$y, :\n",
      "\"conversion failure on 'Δ auc' in 'mbcsToSbcs': dot substituted for <ce>\"\n",
      "Warning message in grid.Call.graphics(C_text, as.graphicsAnnot(x$label), x$x, x$y, :\n",
      "\"conversion failure on 'Δ auc' in 'mbcsToSbcs': dot substituted for <94>\"\n",
      "Warning message in grid.Call.graphics(C_text, as.graphicsAnnot(x$label), x$x, x$y, :\n",
      "\"conversion failure on 'Δ auc' in 'mbcsToSbcs': dot substituted for <ce>\"\n",
      "Warning message in grid.Call.graphics(C_text, as.graphicsAnnot(x$label), x$x, x$y, :\n",
      "\"conversion failure on 'Δ auc' in 'mbcsToSbcs': dot substituted for <94>\"\n",
      "Warning message in grid.Call.graphics(C_text, as.graphicsAnnot(x$label), x$x, x$y, :\n",
      "\"conversion failure on 'Δ auc' in 'mbcsToSbcs': dot substituted for <ce>\"\n",
      "Warning message in grid.Call.graphics(C_text, as.graphicsAnnot(x$label), x$x, x$y, :\n",
      "\"conversion failure on 'Δ auc' in 'mbcsToSbcs': dot substituted for <94>\"\n",
      "Warning message in grid.Call(C_textBounds, as.graphicsAnnot(x$label), x$x, x$y, :\n",
      "\"font metrics unknown for Unicode character U+0394\"\n",
      "Warning message in grid.Call(C_textBounds, as.graphicsAnnot(x$label), x$x, x$y, :\n",
      "\"conversion failure on 'Δ auc' in 'mbcsToSbcs': dot substituted for <ce>\"\n",
      "Warning message in grid.Call(C_textBounds, as.graphicsAnnot(x$label), x$x, x$y, :\n",
      "\"conversion failure on 'Δ auc' in 'mbcsToSbcs': dot substituted for <94>\"\n",
      "Warning message in grid.Call(C_textBounds, as.graphicsAnnot(x$label), x$x, x$y, :\n",
      "\"font metrics unknown for Unicode character U+0394\"\n",
      "Warning message in grid.Call(C_textBounds, as.graphicsAnnot(x$label), x$x, x$y, :\n",
      "\"conversion failure on 'Δ auc' in 'mbcsToSbcs': dot substituted for <ce>\"\n",
      "Warning message in grid.Call(C_textBounds, as.graphicsAnnot(x$label), x$x, x$y, :\n",
      "\"conversion failure on 'Δ auc' in 'mbcsToSbcs': dot substituted for <94>\"\n",
      "Warning message in grid.Call(C_textBounds, as.graphicsAnnot(x$label), x$x, x$y, :\n",
      "\"font metrics unknown for Unicode character U+0394\"\n",
      "Warning message in grid.Call(C_textBounds, as.graphicsAnnot(x$label), x$x, x$y, :\n",
      "\"conversion failure on 'Δ auc' in 'mbcsToSbcs': dot substituted for <ce>\"\n",
      "Warning message in grid.Call(C_textBounds, as.graphicsAnnot(x$label), x$x, x$y, :\n",
      "\"conversion failure on 'Δ auc' in 'mbcsToSbcs': dot substituted for <94>\"\n",
      "Warning message in grid.Call(C_textBounds, as.graphicsAnnot(x$label), x$x, x$y, :\n",
      "\"font metrics unknown for Unicode character U+0394\"\n",
      "Warning message in grid.Call(C_textBounds, as.graphicsAnnot(x$label), x$x, x$y, :\n",
      "\"conversion failure on 'Δ auc' in 'mbcsToSbcs': dot substituted for <ce>\"\n",
      "Warning message in grid.Call(C_textBounds, as.graphicsAnnot(x$label), x$x, x$y, :\n",
      "\"conversion failure on 'Δ auc' in 'mbcsToSbcs': dot substituted for <94>\"\n",
      "Warning message in grid.Call(C_textBounds, as.graphicsAnnot(x$label), x$x, x$y, :\n",
      "\"font metrics unknown for Unicode character U+0394\"\n",
      "Warning message in grid.Call(C_textBounds, as.graphicsAnnot(x$label), x$x, x$y, :\n",
      "\"conversion failure on 'Δ auc' in 'mbcsToSbcs': dot substituted for <ce>\"\n",
      "Warning message in grid.Call(C_textBounds, as.graphicsAnnot(x$label), x$x, x$y, :\n",
      "\"conversion failure on 'Δ auc' in 'mbcsToSbcs': dot substituted for <94>\"\n",
      "Warning message in grid.Call(C_textBounds, as.graphicsAnnot(x$label), x$x, x$y, :\n",
      "\"font metrics unknown for Unicode character U+0394\"\n",
      "Warning message in grid.Call(C_textBounds, as.graphicsAnnot(x$label), x$x, x$y, :\n",
      "\"conversion failure on 'Δ auc' in 'mbcsToSbcs': dot substituted for <ce>\"\n",
      "Warning message in grid.Call(C_textBounds, as.graphicsAnnot(x$label), x$x, x$y, :\n",
      "\"conversion failure on 'Δ auc' in 'mbcsToSbcs': dot substituted for <94>\"\n",
      "Warning message in grid.Call(C_textBounds, as.graphicsAnnot(x$label), x$x, x$y, :\n",
      "\"font metrics unknown for Unicode character U+0394\"\n",
      "Warning message in grid.Call(C_textBounds, as.graphicsAnnot(x$label), x$x, x$y, :\n",
      "\"conversion failure on 'Δ auc' in 'mbcsToSbcs': dot substituted for <ce>\"\n",
      "Warning message in grid.Call(C_textBounds, as.graphicsAnnot(x$label), x$x, x$y, :\n",
      "\"conversion failure on 'Δ auc' in 'mbcsToSbcs': dot substituted for <94>\"\n",
      "Warning message in grid.Call(C_textBounds, as.graphicsAnnot(x$label), x$x, x$y, :\n",
      "\"font metrics unknown for Unicode character U+0394\"\n",
      "Warning message in grid.Call(C_textBounds, as.graphicsAnnot(x$label), x$x, x$y, :\n",
      "\"conversion failure on 'Δ auc' in 'mbcsToSbcs': dot substituted for <ce>\"\n",
      "Warning message in grid.Call(C_textBounds, as.graphicsAnnot(x$label), x$x, x$y, :\n",
      "\"conversion failure on 'Δ auc' in 'mbcsToSbcs': dot substituted for <94>\"\n",
      "Warning message in grid.Call(C_textBounds, as.graphicsAnnot(x$label), x$x, x$y, :\n",
      "\"font metrics unknown for Unicode character U+0394\"\n",
      "Warning message in grid.Call(C_textBounds, as.graphicsAnnot(x$label), x$x, x$y, :\n",
      "\"conversion failure on 'Δ auc' in 'mbcsToSbcs': dot substituted for <ce>\"\n",
      "Warning message in grid.Call(C_textBounds, as.graphicsAnnot(x$label), x$x, x$y, :\n",
      "\"conversion failure on 'Δ auc' in 'mbcsToSbcs': dot substituted for <94>\"\n",
      "Warning message in grid.Call(C_textBounds, as.graphicsAnnot(x$label), x$x, x$y, :\n",
      "\"font metrics unknown for Unicode character U+0394\"\n",
      "Warning message in grid.Call(C_textBounds, as.graphicsAnnot(x$label), x$x, x$y, :\n",
      "\"conversion failure on 'Δ auc' in 'mbcsToSbcs': dot substituted for <ce>\"\n",
      "Warning message in grid.Call(C_textBounds, as.graphicsAnnot(x$label), x$x, x$y, :\n",
      "\"conversion failure on 'Δ auc' in 'mbcsToSbcs': dot substituted for <94>\"\n",
      "Warning message in grid.Call(C_textBounds, as.graphicsAnnot(x$label), x$x, x$y, :\n",
      "\"font metrics unknown for Unicode character U+0394\"\n",
      "Warning message in grid.Call(C_textBounds, as.graphicsAnnot(x$label), x$x, x$y, :\n",
      "\"conversion failure on 'Δ auc' in 'mbcsToSbcs': dot substituted for <ce>\"\n",
      "Warning message in grid.Call(C_textBounds, as.graphicsAnnot(x$label), x$x, x$y, :\n",
      "\"conversion failure on 'Δ auc' in 'mbcsToSbcs': dot substituted for <94>\"\n",
      "Warning message in grid.Call(C_textBounds, as.graphicsAnnot(x$label), x$x, x$y, :\n",
      "\"font metrics unknown for Unicode character U+0394\"\n",
      "Warning message in grid.Call(C_textBounds, as.graphicsAnnot(x$label), x$x, x$y, :\n",
      "\"conversion failure on 'Δ auc' in 'mbcsToSbcs': dot substituted for <ce>\"\n",
      "Warning message in grid.Call(C_textBounds, as.graphicsAnnot(x$label), x$x, x$y, :\n",
      "\"conversion failure on 'Δ auc' in 'mbcsToSbcs': dot substituted for <94>\"\n",
      "Warning message in grid.Call(C_textBounds, as.graphicsAnnot(x$label), x$x, x$y, :\n",
      "\"font metrics unknown for Unicode character U+0394\"\n",
      "Warning message in grid.Call(C_textBounds, as.graphicsAnnot(x$label), x$x, x$y, :\n",
      "\"conversion failure on 'Δ auc' in 'mbcsToSbcs': dot substituted for <ce>\"\n",
      "Warning message in grid.Call(C_textBounds, as.graphicsAnnot(x$label), x$x, x$y, :\n",
      "\"conversion failure on 'Δ auc' in 'mbcsToSbcs': dot substituted for <94>\"\n",
      "Warning message in grid.Call(C_textBounds, as.graphicsAnnot(x$label), x$x, x$y, :\n",
      "\"font metrics unknown for Unicode character U+0394\"\n",
      "Warning message in grid.Call(C_textBounds, as.graphicsAnnot(x$label), x$x, x$y, :\n",
      "\"conversion failure on 'Δ auc' in 'mbcsToSbcs': dot substituted for <ce>\"\n",
      "Warning message in grid.Call(C_textBounds, as.graphicsAnnot(x$label), x$x, x$y, :\n",
      "\"conversion failure on 'Δ auc' in 'mbcsToSbcs': dot substituted for <94>\"\n",
      "Warning message in grid.Call(C_textBounds, as.graphicsAnnot(x$label), x$x, x$y, :\n",
      "\"font metrics unknown for Unicode character U+0394\"\n",
      "Warning message in grid.Call(C_textBounds, as.graphicsAnnot(x$label), x$x, x$y, :\n",
      "\"conversion failure on 'Δ auc' in 'mbcsToSbcs': dot substituted for <ce>\"\n",
      "Warning message in grid.Call(C_textBounds, as.graphicsAnnot(x$label), x$x, x$y, :\n",
      "\"conversion failure on 'Δ auc' in 'mbcsToSbcs': dot substituted for <94>\"\n",
      "Warning message in grid.Call(C_textBounds, as.graphicsAnnot(x$label), x$x, x$y, :\n",
      "\"font metrics unknown for Unicode character U+0394\"\n",
      "Warning message in grid.Call(C_textBounds, as.graphicsAnnot(x$label), x$x, x$y, :\n",
      "\"conversion failure on 'Δ auc' in 'mbcsToSbcs': dot substituted for <ce>\"\n",
      "Warning message in grid.Call(C_textBounds, as.graphicsAnnot(x$label), x$x, x$y, :\n",
      "\"conversion failure on 'Δ auc' in 'mbcsToSbcs': dot substituted for <94>\"\n",
      "Warning message in grid.Call(C_textBounds, as.graphicsAnnot(x$label), x$x, x$y, :\n",
      "\"font metrics unknown for Unicode character U+0394\"\n",
      "Warning message in grid.Call(C_textBounds, as.graphicsAnnot(x$label), x$x, x$y, :\n",
      "\"conversion failure on 'Δ auc' in 'mbcsToSbcs': dot substituted for <ce>\"\n",
      "Warning message in grid.Call(C_textBounds, as.graphicsAnnot(x$label), x$x, x$y, :\n",
      "\"conversion failure on 'Δ auc' in 'mbcsToSbcs': dot substituted for <94>\"\n",
      "Warning message in grid.Call(C_textBounds, as.graphicsAnnot(x$label), x$x, x$y, :\n",
      "\"font metrics unknown for Unicode character U+0394\"\n",
      "Warning message in grid.Call(C_textBounds, as.graphicsAnnot(x$label), x$x, x$y, :\n",
      "\"conversion failure on 'Δ auc' in 'mbcsToSbcs': dot substituted for <ce>\"\n",
      "Warning message in grid.Call(C_textBounds, as.graphicsAnnot(x$label), x$x, x$y, :\n",
      "\"conversion failure on 'Δ auc' in 'mbcsToSbcs': dot substituted for <94>\"\n",
      "Warning message in grid.Call(C_textBounds, as.graphicsAnnot(x$label), x$x, x$y, :\n",
      "\"font metrics unknown for Unicode character U+0394\"\n",
      "Warning message in grid.Call(C_textBounds, as.graphicsAnnot(x$label), x$x, x$y, :\n",
      "\"conversion failure on 'Δ auc' in 'mbcsToSbcs': dot substituted for <ce>\"\n",
      "Warning message in grid.Call(C_textBounds, as.graphicsAnnot(x$label), x$x, x$y, :\n",
      "\"conversion failure on 'Δ auc' in 'mbcsToSbcs': dot substituted for <94>\"\n",
      "Warning message in grid.Call(C_textBounds, as.graphicsAnnot(x$label), x$x, x$y, :\n",
      "\"font metrics unknown for Unicode character U+0394\"\n",
      "Warning message in grid.Call(C_textBounds, as.graphicsAnnot(x$label), x$x, x$y, :\n",
      "\"conversion failure on 'Δ auc' in 'mbcsToSbcs': dot substituted for <ce>\"\n",
      "Warning message in grid.Call(C_textBounds, as.graphicsAnnot(x$label), x$x, x$y, :\n",
      "\"conversion failure on 'Δ auc' in 'mbcsToSbcs': dot substituted for <94>\"\n",
      "Warning message in grid.Call(C_textBounds, as.graphicsAnnot(x$label), x$x, x$y, :\n",
      "\"font metrics unknown for Unicode character U+0394\"\n",
      "Warning message in grid.Call(C_textBounds, as.graphicsAnnot(x$label), x$x, x$y, :\n",
      "\"conversion failure on 'Δ auc' in 'mbcsToSbcs': dot substituted for <ce>\"\n",
      "Warning message in grid.Call(C_textBounds, as.graphicsAnnot(x$label), x$x, x$y, :\n",
      "\"conversion failure on 'Δ auc' in 'mbcsToSbcs': dot substituted for <94>\"\n",
      "Warning message in grid.Call(C_textBounds, as.graphicsAnnot(x$label), x$x, x$y, :\n",
      "\"font metrics unknown for Unicode character U+0394\"\n",
      "Warning message in grid.Call(C_textBounds, as.graphicsAnnot(x$label), x$x, x$y, :\n",
      "\"conversion failure on 'Δ auc' in 'mbcsToSbcs': dot substituted for <ce>\"\n",
      "Warning message in grid.Call(C_textBounds, as.graphicsAnnot(x$label), x$x, x$y, :\n",
      "\"conversion failure on 'Δ auc' in 'mbcsToSbcs': dot substituted for <94>\"\n",
      "Warning message in grid.Call(C_textBounds, as.graphicsAnnot(x$label), x$x, x$y, :\n",
      "\"font metrics unknown for Unicode character U+0394\"\n",
      "Warning message in grid.Call(C_textBounds, as.graphicsAnnot(x$label), x$x, x$y, :\n",
      "\"conversion failure on 'Δ auc' in 'mbcsToSbcs': dot substituted for <ce>\"\n",
      "Warning message in grid.Call(C_textBounds, as.graphicsAnnot(x$label), x$x, x$y, :\n",
      "\"conversion failure on 'Δ auc' in 'mbcsToSbcs': dot substituted for <94>\"\n",
      "Warning message in grid.Call(C_textBounds, as.graphicsAnnot(x$label), x$x, x$y, :\n",
      "\"font metrics unknown for Unicode character U+0394\"\n",
      "Warning message in grid.Call(C_textBounds, as.graphicsAnnot(x$label), x$x, x$y, :\n",
      "\"conversion failure on 'Δ auc' in 'mbcsToSbcs': dot substituted for <ce>\"\n",
      "Warning message in grid.Call(C_textBounds, as.graphicsAnnot(x$label), x$x, x$y, :\n",
      "\"conversion failure on 'Δ auc' in 'mbcsToSbcs': dot substituted for <94>\"\n",
      "Warning message in grid.Call(C_textBounds, as.graphicsAnnot(x$label), x$x, x$y, :\n",
      "\"font metrics unknown for Unicode character U+0394\"\n",
      "Warning message in grid.Call(C_textBounds, as.graphicsAnnot(x$label), x$x, x$y, :\n",
      "\"conversion failure on 'Δ auc' in 'mbcsToSbcs': dot substituted for <ce>\"\n",
      "Warning message in grid.Call(C_textBounds, as.graphicsAnnot(x$label), x$x, x$y, :\n",
      "\"conversion failure on 'Δ auc' in 'mbcsToSbcs': dot substituted for <94>\"\n",
      "Warning message in grid.Call(C_textBounds, as.graphicsAnnot(x$label), x$x, x$y, :\n",
      "\"font metrics unknown for Unicode character U+0394\"\n",
      "Warning message in grid.Call(C_textBounds, as.graphicsAnnot(x$label), x$x, x$y, :\n",
      "\"conversion failure on 'Δ auc' in 'mbcsToSbcs': dot substituted for <ce>\"\n",
      "Warning message in grid.Call(C_textBounds, as.graphicsAnnot(x$label), x$x, x$y, :\n",
      "\"conversion failure on 'Δ auc' in 'mbcsToSbcs': dot substituted for <94>\"\n",
      "Warning message in grid.Call(C_textBounds, as.graphicsAnnot(x$label), x$x, x$y, :\n",
      "\"font metrics unknown for Unicode character U+0394\"\n",
      "Warning message in grid.Call(C_textBounds, as.graphicsAnnot(x$label), x$x, x$y, :\n",
      "\"conversion failure on 'Δ auc' in 'mbcsToSbcs': dot substituted for <ce>\"\n",
      "Warning message in grid.Call(C_textBounds, as.graphicsAnnot(x$label), x$x, x$y, :\n",
      "\"conversion failure on 'Δ auc' in 'mbcsToSbcs': dot substituted for <94>\"\n",
      "Warning message in grid.Call(C_textBounds, as.graphicsAnnot(x$label), x$x, x$y, :\n",
      "\"font metrics unknown for Unicode character U+0394\"\n",
      "Warning message in grid.Call(C_textBounds, as.graphicsAnnot(x$label), x$x, x$y, :\n",
      "\"conversion failure on 'Δ auc' in 'mbcsToSbcs': dot substituted for <ce>\"\n",
      "Warning message in grid.Call(C_textBounds, as.graphicsAnnot(x$label), x$x, x$y, :\n",
      "\"conversion failure on 'Δ auc' in 'mbcsToSbcs': dot substituted for <94>\"\n",
      "Warning message in grid.Call.graphics(C_text, as.graphicsAnnot(x$label), x$x, x$y, :\n",
      "\"font metrics unknown for Unicode character U+0394\"\n",
      "Warning message in grid.Call.graphics(C_text, as.graphicsAnnot(x$label), x$x, x$y, :\n",
      "\"conversion failure on 'Δ auc' in 'mbcsToSbcs': dot substituted for <ce>\"\n",
      "Warning message in grid.Call.graphics(C_text, as.graphicsAnnot(x$label), x$x, x$y, :\n",
      "\"conversion failure on 'Δ auc' in 'mbcsToSbcs': dot substituted for <94>\"\n",
      "Warning message in grid.Call.graphics(C_text, as.graphicsAnnot(x$label), x$x, x$y, :\n",
      "\"font metrics unknown for Unicode character U+0394\"\n",
      "Warning message in grid.Call.graphics(C_text, as.graphicsAnnot(x$label), x$x, x$y, :\n",
      "\"conversion failure on 'Δ auc' in 'mbcsToSbcs': dot substituted for <ce>\"\n",
      "Warning message in grid.Call.graphics(C_text, as.graphicsAnnot(x$label), x$x, x$y, :\n",
      "\"conversion failure on 'Δ auc' in 'mbcsToSbcs': dot substituted for <94>\"\n",
      "Warning message in grid.Call.graphics(C_text, as.graphicsAnnot(x$label), x$x, x$y, :\n",
      "\"font metrics unknown for Unicode character U+0394\"\n",
      "Warning message in grid.Call.graphics(C_text, as.graphicsAnnot(x$label), x$x, x$y, :\n",
      "\"conversion failure on 'Δ auc' in 'mbcsToSbcs': dot substituted for <ce>\"\n",
      "Warning message in grid.Call.graphics(C_text, as.graphicsAnnot(x$label), x$x, x$y, :\n",
      "\"conversion failure on 'Δ auc' in 'mbcsToSbcs': dot substituted for <94>\"\n",
      "Warning message in grid.Call.graphics(C_text, as.graphicsAnnot(x$label), x$x, x$y, :\n",
      "\"font metrics unknown for Unicode character U+0394\"\n",
      "Warning message in grid.Call.graphics(C_text, as.graphicsAnnot(x$label), x$x, x$y, :\n",
      "\"conversion failure on 'Δ auc' in 'mbcsToSbcs': dot substituted for <ce>\"\n",
      "Warning message in grid.Call.graphics(C_text, as.graphicsAnnot(x$label), x$x, x$y, :\n",
      "\"conversion failure on 'Δ auc' in 'mbcsToSbcs': dot substituted for <94>\"\n",
      "Warning message in grid.Call.graphics(C_text, as.graphicsAnnot(x$label), x$x, x$y, :\n",
      "\"conversion failure on 'Δ auc' in 'mbcsToSbcs': dot substituted for <ce>\"\n",
      "Warning message in grid.Call.graphics(C_text, as.graphicsAnnot(x$label), x$x, x$y, :\n",
      "\"conversion failure on 'Δ auc' in 'mbcsToSbcs': dot substituted for <94>\"\n",
      "Warning message in grid.Call.graphics(C_text, as.graphicsAnnot(x$label), x$x, x$y, :\n",
      "\"conversion failure on 'Δ auc' in 'mbcsToSbcs': dot substituted for <ce>\"\n",
      "Warning message in grid.Call.graphics(C_text, as.graphicsAnnot(x$label), x$x, x$y, :\n",
      "\"conversion failure on 'Δ auc' in 'mbcsToSbcs': dot substituted for <94>\"\n"
     ]
    }
   ],
   "source": [
    "ggsave(filename = \"../../../PNAS/FIGURES/Fig4_final_v2.pdf\",plot = p, width = 25,height = 20, dpi = 300, units = \"in\")"
   ]
  },
  {
   "cell_type": "code",
   "execution_count": null,
   "id": "bde32c82-71ed-4ae4-8dcb-8006342f37b4",
   "metadata": {},
   "outputs": [],
   "source": []
  },
  {
   "cell_type": "code",
   "execution_count": null,
   "id": "7a69d1f2-f42e-4907-a91f-d5724655f470",
   "metadata": {},
   "outputs": [],
   "source": []
  },
  {
   "cell_type": "code",
   "execution_count": null,
   "id": "12705b57-2b3a-4b24-a6fd-e029b64a477b",
   "metadata": {},
   "outputs": [],
   "source": []
  },
  {
   "cell_type": "code",
   "execution_count": null,
   "id": "5a62ed8f-c4d0-4bf1-99ec-0238265b335a",
   "metadata": {},
   "outputs": [],
   "source": []
  }
 ],
 "metadata": {
  "kernelspec": {
   "display_name": "R",
   "language": "R",
   "name": "ir"
  },
  "language_info": {
   "codemirror_mode": "r",
   "file_extension": ".r",
   "mimetype": "text/x-r-source",
   "name": "R",
   "pygments_lexer": "r",
   "version": "4.2.0"
  }
 },
 "nbformat": 4,
 "nbformat_minor": 5
}

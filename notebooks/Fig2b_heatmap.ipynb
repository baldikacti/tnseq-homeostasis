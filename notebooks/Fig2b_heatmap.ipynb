{
 "cells": [
  {
   "cell_type": "code",
   "execution_count": 24,
   "id": "34ff1771-8f8d-418d-bcc0-24d7f5680e54",
   "metadata": {},
   "outputs": [
    {
     "data": {
      "text/html": [
       "'LC_COLLATE=en_US.UTF-8;LC_CTYPE=en_US.UTF-8;LC_MONETARY=en_US.UTF-8;LC_NUMERIC=C;LC_TIME=en_US.UTF-8'"
      ],
      "text/latex": [
       "'LC\\_COLLATE=en\\_US.UTF-8;LC\\_CTYPE=en\\_US.UTF-8;LC\\_MONETARY=en\\_US.UTF-8;LC\\_NUMERIC=C;LC\\_TIME=en\\_US.UTF-8'"
      ],
      "text/markdown": [
       "'LC_COLLATE=en_US.UTF-8;LC_CTYPE=en_US.UTF-8;LC_MONETARY=en_US.UTF-8;LC_NUMERIC=C;LC_TIME=en_US.UTF-8'"
      ],
      "text/plain": [
       "[1] \"LC_COLLATE=en_US.UTF-8;LC_CTYPE=en_US.UTF-8;LC_MONETARY=en_US.UTF-8;LC_NUMERIC=C;LC_TIME=en_US.UTF-8\""
      ]
     },
     "metadata": {},
     "output_type": "display_data"
    }
   ],
   "source": [
    "suppressWarnings(suppressMessages(library(dplyr)))\n",
    "suppressWarnings(suppressMessages(library(tidyr)))\n",
    "suppressMessages(require(reshape))\n",
    "suppressMessages(library(gridExtra))\n",
    "suppressMessages(library(RColorBrewer))\n",
    "suppressMessages(library(ggpubr))\n",
    "suppressWarnings(suppressMessages(library(viridis)))\n",
    "suppressWarnings(suppressMessages(library(viridis)))\n",
    "\n",
    "suppressWarnings(suppressMessages(library(UpSetR)))\n",
    "suppressWarnings(suppressMessages(library(ggplot2)))\n",
    "suppressWarnings(suppressMessages(library(ComplexUpset)))\n",
    "suppressWarnings(suppressMessages(library('ggplot2movies')))\n",
    "suppressWarnings(suppressMessages(library('ComplexHeatmap')))\n",
    "suppressWarnings(suppressMessages(library('ggplot2movies')))\n",
    "Sys.setlocale(\"LC_ALL\", \"en_US.UTF-8\")"
   ]
  },
  {
   "cell_type": "code",
   "execution_count": 2,
   "id": "46fc344c-2f95-44d3-ab69-ea409b76f257",
   "metadata": {},
   "outputs": [
    {
     "data": {
      "text/html": [
       "<table class=\"dataframe\">\n",
       "<caption>A data.frame: 6 × 5</caption>\n",
       "<thead>\n",
       "\t<tr><th></th><th scope=col>locus_tag</th><th scope=col>cc_tag</th><th scope=col>geneID</th><th scope=col>protein_id</th><th scope=col>description</th></tr>\n",
       "\t<tr><th></th><th scope=col>&lt;chr&gt;</th><th scope=col>&lt;chr&gt;</th><th scope=col>&lt;chr&gt;</th><th scope=col>&lt;chr&gt;</th><th scope=col>&lt;chr&gt;</th></tr>\n",
       "</thead>\n",
       "<tbody>\n",
       "\t<tr><th scope=row>1</th><td>CCNA_00001</td><td>CC_0001</td><td>NA  </td><td>YP_002515376.1</td><td>ATP/GTP-binding protein     </td></tr>\n",
       "\t<tr><th scope=row>2</th><td>CCNA_00002</td><td>CC_0002</td><td>NA  </td><td>YP_002515377.1</td><td>septum formation protein Maf</td></tr>\n",
       "\t<tr><th scope=row>3</th><td>CCNA_00003</td><td>CC_0003</td><td>NA  </td><td>YP_002515378.1</td><td>shikimate 5-dehydrogenase   </td></tr>\n",
       "\t<tr><th scope=row>4</th><td>CCNA_00004</td><td>CC_0004</td><td>NA  </td><td>YP_002515379.1</td><td>dephospho-CoA kinase        </td></tr>\n",
       "\t<tr><th scope=row>5</th><td>CCNA_00005</td><td>CC_0005</td><td>dnaQ</td><td>NA            </td><td>NA                          </td></tr>\n",
       "\t<tr><th scope=row>6</th><td>CCNA_00006</td><td>CC_0006</td><td>NA  </td><td>YP_002515381.1</td><td>enoyl-CoA hydratase         </td></tr>\n",
       "</tbody>\n",
       "</table>\n"
      ],
      "text/latex": [
       "A data.frame: 6 × 5\n",
       "\\begin{tabular}{r|lllll}\n",
       "  & locus\\_tag & cc\\_tag & geneID & protein\\_id & description\\\\\n",
       "  & <chr> & <chr> & <chr> & <chr> & <chr>\\\\\n",
       "\\hline\n",
       "\t1 & CCNA\\_00001 & CC\\_0001 & NA   & YP\\_002515376.1 & ATP/GTP-binding protein     \\\\\n",
       "\t2 & CCNA\\_00002 & CC\\_0002 & NA   & YP\\_002515377.1 & septum formation protein Maf\\\\\n",
       "\t3 & CCNA\\_00003 & CC\\_0003 & NA   & YP\\_002515378.1 & shikimate 5-dehydrogenase   \\\\\n",
       "\t4 & CCNA\\_00004 & CC\\_0004 & NA   & YP\\_002515379.1 & dephospho-CoA kinase        \\\\\n",
       "\t5 & CCNA\\_00005 & CC\\_0005 & dnaQ & NA             & NA                          \\\\\n",
       "\t6 & CCNA\\_00006 & CC\\_0006 & NA   & YP\\_002515381.1 & enoyl-CoA hydratase         \\\\\n",
       "\\end{tabular}\n"
      ],
      "text/markdown": [
       "\n",
       "A data.frame: 6 × 5\n",
       "\n",
       "| <!--/--> | locus_tag &lt;chr&gt; | cc_tag &lt;chr&gt; | geneID &lt;chr&gt; | protein_id &lt;chr&gt; | description &lt;chr&gt; |\n",
       "|---|---|---|---|---|---|\n",
       "| 1 | CCNA_00001 | CC_0001 | NA   | YP_002515376.1 | ATP/GTP-binding protein      |\n",
       "| 2 | CCNA_00002 | CC_0002 | NA   | YP_002515377.1 | septum formation protein Maf |\n",
       "| 3 | CCNA_00003 | CC_0003 | NA   | YP_002515378.1 | shikimate 5-dehydrogenase    |\n",
       "| 4 | CCNA_00004 | CC_0004 | NA   | YP_002515379.1 | dephospho-CoA kinase         |\n",
       "| 5 | CCNA_00005 | CC_0005 | dnaQ | NA             | NA                           |\n",
       "| 6 | CCNA_00006 | CC_0006 | NA   | YP_002515381.1 | enoyl-CoA hydratase          |\n",
       "\n"
      ],
      "text/plain": [
       "  locus_tag  cc_tag  geneID protein_id     description                 \n",
       "1 CCNA_00001 CC_0001 NA     YP_002515376.1 ATP/GTP-binding protein     \n",
       "2 CCNA_00002 CC_0002 NA     YP_002515377.1 septum formation protein Maf\n",
       "3 CCNA_00003 CC_0003 NA     YP_002515378.1 shikimate 5-dehydrogenase   \n",
       "4 CCNA_00004 CC_0004 NA     YP_002515379.1 dephospho-CoA kinase        \n",
       "5 CCNA_00005 CC_0005 dnaQ   NA             NA                          \n",
       "6 CCNA_00006 CC_0006 NA     YP_002515381.1 enoyl-CoA hydratase         "
      ]
     },
     "metadata": {},
     "output_type": "display_data"
    }
   ],
   "source": [
    "df1 <- read.table(\"../../../reports/Master Table/RESULTS_FDR_LASTLEVELONLY_v2.TAB\",header=TRUE)\n",
    "gene <- read.csv(\"../../../../PNAS/DATA/CCNA_ref.csv\",header=TRUE,fill=TRUE)\n",
    "head(gene)"
   ]
  },
  {
   "cell_type": "code",
   "execution_count": 3,
   "id": "16b59c0f-ae40-419a-9303-45518172d633",
   "metadata": {},
   "outputs": [],
   "source": [
    "#CE"
   ]
  },
  {
   "cell_type": "code",
   "execution_count": 4,
   "id": "c4d56915-8e60-4aa6-9fe6-bfcd23c53d65",
   "metadata": {},
   "outputs": [],
   "source": [
    "df <- df1%>%filter(Annotation_UC==\"Conditionally_Essential\")%>%select(strain,condition,slevel,locus_tag)%>%unite(title,strain, condition, slevel, sep = \":\", remove = FALSE)\n",
    "df$title <- gsub(\"DLON\",\"LON\",df$title)\n",
    "df$title <- gsub(\"dnak-dnaJ\",\"dnaKJ-NI\",df$title)\n",
    "df$title <- gsub(\"DCLPA\",\"CLPA\",df$title)\n",
    "df$title <- gsub(\"DCLPB\",\"CLPB\",df$title)\n",
    "df$title <- gsub(\"wild-type\",\"WT\",df$title)\n",
    "df$title <- gsub(\"canavanine\",\"CN\",df$title)\n",
    "df$title <- gsub(\"oxidative-peroxide\",\"OS\",df$title)\n",
    "df$title <- gsub(\"heat\",\"HT\",df$title)\n",
    "df$title <- gsub(\"HIGH\",\"H\",df$title)\n",
    "df$title <- gsub(\"MEDIUM\",\"M\",df$title)\n",
    "df$title <- gsub(\"LOW\",\"L\",df$title)\n",
    "df <- df%>%select(title,locus_tag)%>%dplyr::rename(\"stress\"=\"title\")"
   ]
  },
  {
   "cell_type": "code",
   "execution_count": 12,
   "id": "730acc20-76a4-434d-9ba9-ec40e095ad2f",
   "metadata": {},
   "outputs": [],
   "source": [
    "title <- c('WT:CN:L','WT:CN:M','WT:CN:H','WT:HT:L','WT:HT:M','WT:HT:H','WT:OS:L','WT:OS:M','WT:OS:H',\n",
    "'LON:CN:L','LON:CN:M','LON:CN:H','LON:HT:L','LON:HT:M','LON:HT:H','LON:OS:L','LON:OS:M','LON:OS:H',\n",
    "'CLPA:CN:L','CLPA:CN:M','CLPA:CN:H','CLPA:HT:L','CLPA:HT:M','CLPA:HT:H','CLPA:OS:L','CLPA:OS:M','CLPA:OS:H',\n",
    "'CLPB:CN:L','CLPB:CN:M','CLPB:CN:H','CLPB:HT:L','CLPB:HT:M','CLPB:HT:H','CLPB:OS:L','CLPB:OS:M','CLPB:OS:H',\n",
    "'dnaKJ-NI:CN:L','dnaKJ-NI:CN:M','dnaKJ-NI:CN:H','dnaKJ-NI:HT:L','dnaKJ-NI:HT:M','dnaKJ-NI:HT:H','dnaKJ-NI:OS:L','dnaKJ-NI:OS:M','dnaKJ-NI:OS:H')\n",
    "title <- gsub(\"LON\", paste0(\"\\u0394\", \"lon\"), title)\n",
    "title <- gsub(\"CLPA\", paste0(\"\\u0394\", \"clpA\"), title)\n",
    "title <- gsub(\"CLPB\", paste0(\"\\u0394\", \"clpB\"), title)\n"
   ]
  },
  {
   "cell_type": "code",
   "execution_count": 13,
   "id": "7bafd8df-6bf3-4c6f-bf7b-7529943210d3",
   "metadata": {},
   "outputs": [
    {
     "data": {
      "text/html": [
       "<style>\n",
       ".list-inline {list-style: none; margin:0; padding: 0}\n",
       ".list-inline>li {display: inline-block}\n",
       ".list-inline>li:not(:last-child)::after {content: \"\\00b7\"; padding: 0 .5ex}\n",
       "</style>\n",
       "<ol class=list-inline><li>'WT:CN:L'</li><li>'WT:CN:M'</li><li>'WT:CN:H'</li><li>'WT:HT:L'</li><li>'WT:HT:M'</li><li>'WT:HT:H'</li><li>'WT:OS:L'</li><li>'WT:OS:M'</li><li>'WT:OS:H'</li><li>'Δlon:CN:L'</li><li>'Δlon:CN:M'</li><li>'Δlon:CN:H'</li><li>'Δlon:HT:L'</li><li>'Δlon:HT:M'</li><li>'Δlon:HT:H'</li><li>'Δlon:OS:L'</li><li>'Δlon:OS:M'</li><li>'Δlon:OS:H'</li><li>'ΔclpA:CN:L'</li><li>'ΔclpA:CN:M'</li><li>'ΔclpA:CN:H'</li><li>'ΔclpA:HT:L'</li><li>'ΔclpA:HT:M'</li><li>'ΔclpA:HT:H'</li><li>'ΔclpA:OS:L'</li><li>'ΔclpA:OS:M'</li><li>'ΔclpA:OS:H'</li><li>'ΔclpB:CN:L'</li><li>'ΔclpB:CN:M'</li><li>'ΔclpB:CN:H'</li><li>'ΔclpB:HT:L'</li><li>'ΔclpB:HT:M'</li><li>'ΔclpB:HT:H'</li><li>'ΔclpB:OS:L'</li><li>'ΔclpB:OS:M'</li><li>'ΔclpB:OS:H'</li><li>'dnaKJ-NI:CN:L'</li><li>'dnaKJ-NI:CN:M'</li><li>'dnaKJ-NI:CN:H'</li><li>'dnaKJ-NI:HT:L'</li><li>'dnaKJ-NI:HT:M'</li><li>'dnaKJ-NI:HT:H'</li><li>'dnaKJ-NI:OS:L'</li><li>'dnaKJ-NI:OS:M'</li><li>'dnaKJ-NI:OS:H'</li></ol>\n"
      ],
      "text/latex": [
       "\\begin{enumerate*}\n",
       "\\item 'WT:CN:L'\n",
       "\\item 'WT:CN:M'\n",
       "\\item 'WT:CN:H'\n",
       "\\item 'WT:HT:L'\n",
       "\\item 'WT:HT:M'\n",
       "\\item 'WT:HT:H'\n",
       "\\item 'WT:OS:L'\n",
       "\\item 'WT:OS:M'\n",
       "\\item 'WT:OS:H'\n",
       "\\item 'Δlon:CN:L'\n",
       "\\item 'Δlon:CN:M'\n",
       "\\item 'Δlon:CN:H'\n",
       "\\item 'Δlon:HT:L'\n",
       "\\item 'Δlon:HT:M'\n",
       "\\item 'Δlon:HT:H'\n",
       "\\item 'Δlon:OS:L'\n",
       "\\item 'Δlon:OS:M'\n",
       "\\item 'Δlon:OS:H'\n",
       "\\item 'ΔclpA:CN:L'\n",
       "\\item 'ΔclpA:CN:M'\n",
       "\\item 'ΔclpA:CN:H'\n",
       "\\item 'ΔclpA:HT:L'\n",
       "\\item 'ΔclpA:HT:M'\n",
       "\\item 'ΔclpA:HT:H'\n",
       "\\item 'ΔclpA:OS:L'\n",
       "\\item 'ΔclpA:OS:M'\n",
       "\\item 'ΔclpA:OS:H'\n",
       "\\item 'ΔclpB:CN:L'\n",
       "\\item 'ΔclpB:CN:M'\n",
       "\\item 'ΔclpB:CN:H'\n",
       "\\item 'ΔclpB:HT:L'\n",
       "\\item 'ΔclpB:HT:M'\n",
       "\\item 'ΔclpB:HT:H'\n",
       "\\item 'ΔclpB:OS:L'\n",
       "\\item 'ΔclpB:OS:M'\n",
       "\\item 'ΔclpB:OS:H'\n",
       "\\item 'dnaKJ-NI:CN:L'\n",
       "\\item 'dnaKJ-NI:CN:M'\n",
       "\\item 'dnaKJ-NI:CN:H'\n",
       "\\item 'dnaKJ-NI:HT:L'\n",
       "\\item 'dnaKJ-NI:HT:M'\n",
       "\\item 'dnaKJ-NI:HT:H'\n",
       "\\item 'dnaKJ-NI:OS:L'\n",
       "\\item 'dnaKJ-NI:OS:M'\n",
       "\\item 'dnaKJ-NI:OS:H'\n",
       "\\end{enumerate*}\n"
      ],
      "text/markdown": [
       "1. 'WT:CN:L'\n",
       "2. 'WT:CN:M'\n",
       "3. 'WT:CN:H'\n",
       "4. 'WT:HT:L'\n",
       "5. 'WT:HT:M'\n",
       "6. 'WT:HT:H'\n",
       "7. 'WT:OS:L'\n",
       "8. 'WT:OS:M'\n",
       "9. 'WT:OS:H'\n",
       "10. 'Δlon:CN:L'\n",
       "11. 'Δlon:CN:M'\n",
       "12. 'Δlon:CN:H'\n",
       "13. 'Δlon:HT:L'\n",
       "14. 'Δlon:HT:M'\n",
       "15. 'Δlon:HT:H'\n",
       "16. 'Δlon:OS:L'\n",
       "17. 'Δlon:OS:M'\n",
       "18. 'Δlon:OS:H'\n",
       "19. 'ΔclpA:CN:L'\n",
       "20. 'ΔclpA:CN:M'\n",
       "21. 'ΔclpA:CN:H'\n",
       "22. 'ΔclpA:HT:L'\n",
       "23. 'ΔclpA:HT:M'\n",
       "24. 'ΔclpA:HT:H'\n",
       "25. 'ΔclpA:OS:L'\n",
       "26. 'ΔclpA:OS:M'\n",
       "27. 'ΔclpA:OS:H'\n",
       "28. 'ΔclpB:CN:L'\n",
       "29. 'ΔclpB:CN:M'\n",
       "30. 'ΔclpB:CN:H'\n",
       "31. 'ΔclpB:HT:L'\n",
       "32. 'ΔclpB:HT:M'\n",
       "33. 'ΔclpB:HT:H'\n",
       "34. 'ΔclpB:OS:L'\n",
       "35. 'ΔclpB:OS:M'\n",
       "36. 'ΔclpB:OS:H'\n",
       "37. 'dnaKJ-NI:CN:L'\n",
       "38. 'dnaKJ-NI:CN:M'\n",
       "39. 'dnaKJ-NI:CN:H'\n",
       "40. 'dnaKJ-NI:HT:L'\n",
       "41. 'dnaKJ-NI:HT:M'\n",
       "42. 'dnaKJ-NI:HT:H'\n",
       "43. 'dnaKJ-NI:OS:L'\n",
       "44. 'dnaKJ-NI:OS:M'\n",
       "45. 'dnaKJ-NI:OS:H'\n",
       "\n",
       "\n"
      ],
      "text/plain": [
       " [1] \"WT:CN:L\"       \"WT:CN:M\"       \"WT:CN:H\"       \"WT:HT:L\"      \n",
       " [5] \"WT:HT:M\"       \"WT:HT:H\"       \"WT:OS:L\"       \"WT:OS:M\"      \n",
       " [9] \"WT:OS:H\"       \"Δlon:CN:L\"     \"Δlon:CN:M\"     \"Δlon:CN:H\"    \n",
       "[13] \"Δlon:HT:L\"     \"Δlon:HT:M\"     \"Δlon:HT:H\"     \"Δlon:OS:L\"    \n",
       "[17] \"Δlon:OS:M\"     \"Δlon:OS:H\"     \"ΔclpA:CN:L\"    \"ΔclpA:CN:M\"   \n",
       "[21] \"ΔclpA:CN:H\"    \"ΔclpA:HT:L\"    \"ΔclpA:HT:M\"    \"ΔclpA:HT:H\"   \n",
       "[25] \"ΔclpA:OS:L\"    \"ΔclpA:OS:M\"    \"ΔclpA:OS:H\"    \"ΔclpB:CN:L\"   \n",
       "[29] \"ΔclpB:CN:M\"    \"ΔclpB:CN:H\"    \"ΔclpB:HT:L\"    \"ΔclpB:HT:M\"   \n",
       "[33] \"ΔclpB:HT:H\"    \"ΔclpB:OS:L\"    \"ΔclpB:OS:M\"    \"ΔclpB:OS:H\"   \n",
       "[37] \"dnaKJ-NI:CN:L\" \"dnaKJ-NI:CN:M\" \"dnaKJ-NI:CN:H\" \"dnaKJ-NI:HT:L\"\n",
       "[41] \"dnaKJ-NI:HT:M\" \"dnaKJ-NI:HT:H\" \"dnaKJ-NI:OS:L\" \"dnaKJ-NI:OS:M\"\n",
       "[45] \"dnaKJ-NI:OS:H\""
      ]
     },
     "metadata": {},
     "output_type": "display_data"
    }
   ],
   "source": [
    "title"
   ]
  },
  {
   "cell_type": "code",
   "execution_count": 14,
   "id": "6c317262-999d-42cb-959f-638eb5beb81f",
   "metadata": {},
   "outputs": [],
   "source": [
    "m_title <- c('CN:L','CN:M','CN:H','HT:L','HT:M','HT:H','OS:L','OS:M','OS:H',\n",
    "'CN:L','CN:M','CN:H','HT:L','HT:M','HT:H','OS:L','OS:M','OS:H',\n",
    "'CN:L','CN:M','CN:H','HT:L','HT:M','HT:H','OS:L','OS:M','OS:H',\n",
    "'CN:L','CN:M','CN:H','HT:L','HT:M','HT:H','OS:L','OS:M','OS:H',\n",
    "'CN:L','CN:M','CN:H','HT:L','HT:M','HT:H','OS:L','OS:M','OS:H')\n"
   ]
  },
  {
   "cell_type": "code",
   "execution_count": 17,
   "id": "43ff3fca-ef20-4c39-be1f-dad74848ca78",
   "metadata": {},
   "outputs": [],
   "source": [
    "df$stress <- gsub(\"CLPA\", paste0(\"\\u0394\", \"clpA\"),df$stress)\n",
    "df$stress <- gsub(\"CLPB\", paste0(\"\\u0394\", \"clpB\"), df$stress)\n",
    "df$stress <- gsub(\"LON\", paste0(\"\\u0394\", \"lon\"), df$stress)\n",
    "\n",
    "mat<- table(df[1:2]) %*% t(table(df[1:2]))\n",
    "mat<-mat[match(title,row.names(mat)),match(title,colnames(mat))]\n",
    "mat[upper.tri(mat, diag = TRUE)] <- 0"
   ]
  },
  {
   "cell_type": "code",
   "execution_count": 18,
   "id": "fc49f5cd-4544-48b8-b33d-e3131d045ca2",
   "metadata": {},
   "outputs": [
    {
     "name": "stderr",
     "output_type": "stream",
     "text": [
      "Warning message in type.convert.default(X[[i]], ...):\n",
      "\"'as.is' should be specified by the caller; using TRUE\"\n",
      "Warning message in type.convert.default(X[[i]], ...):\n",
      "\"'as.is' should be specified by the caller; using TRUE\"\n"
     ]
    },
    {
     "data": {
      "text/plain": [
       "   Min. 1st Qu.  Median    Mean 3rd Qu.    Max. \n",
       "  0.000   0.000   0.000   4.812   4.000  88.000 "
      ]
     },
     "metadata": {},
     "output_type": "display_data"
    }
   ],
   "source": [
    "summary(na.omit(melt(mat)$value))"
   ]
  },
  {
   "cell_type": "code",
   "execution_count": 19,
   "id": "0fb5368d-3438-4240-aa75-a533906a4701",
   "metadata": {},
   "outputs": [],
   "source": [
    "library(circlize)\n",
    "col_fun = colorRamp2(c(0,20,40,90), c(\"white\",'#FB8861FF','#FCFDBFFF','#30123BFF'))"
   ]
  },
  {
   "cell_type": "code",
   "execution_count": 20,
   "id": "6e0ea0d5-13c5-45b1-88d3-de365764b4c0",
   "metadata": {},
   "outputs": [
    {
     "data": {
      "text/html": [
       "<style>\n",
       ".list-inline {list-style: none; margin:0; padding: 0}\n",
       ".list-inline>li {display: inline-block}\n",
       ".list-inline>li:not(:last-child)::after {content: \"\\00b7\"; padding: 0 .5ex}\n",
       "</style>\n",
       "<ol class=list-inline><li>'WT:CN:L'</li><li>'WT:CN:M'</li><li>'WT:CN:H'</li><li>'WT:HT:L'</li><li>'WT:HT:M'</li><li>'WT:HT:H'</li><li>'WT:OS:L'</li><li>'WT:OS:M'</li><li>'WT:OS:H'</li><li>'Δlon:CN:L'</li><li>'Δlon:CN:M'</li><li>'Δlon:CN:H'</li><li>'Δlon:HT:L'</li><li>'Δlon:HT:M'</li><li>'Δlon:HT:H'</li><li>'Δlon:OS:L'</li><li>'Δlon:OS:M'</li><li>'Δlon:OS:H'</li><li>'ΔclpA:CN:L'</li><li>'ΔclpA:CN:M'</li><li>'ΔclpA:CN:H'</li><li>'ΔclpA:HT:L'</li><li>'ΔclpA:HT:M'</li><li>'ΔclpA:HT:H'</li><li>'ΔclpA:OS:L'</li><li>'ΔclpA:OS:M'</li><li>'ΔclpA:OS:H'</li><li>'ΔclpB:CN:L'</li><li>'ΔclpB:CN:M'</li><li>'ΔclpB:CN:H'</li><li>'ΔclpB:HT:L'</li><li>'ΔclpB:HT:M'</li><li>'ΔclpB:HT:H'</li><li>'ΔclpB:OS:L'</li><li>'ΔclpB:OS:M'</li><li>'ΔclpB:OS:H'</li><li>'dnaKJ-NI:CN:L'</li><li>'dnaKJ-NI:CN:M'</li><li>'dnaKJ-NI:CN:H'</li><li>'dnaKJ-NI:HT:L'</li><li>'dnaKJ-NI:HT:M'</li><li>'dnaKJ-NI:HT:H'</li><li>'dnaKJ-NI:OS:L'</li><li>'dnaKJ-NI:OS:M'</li><li>'dnaKJ-NI:OS:H'</li></ol>\n"
      ],
      "text/latex": [
       "\\begin{enumerate*}\n",
       "\\item 'WT:CN:L'\n",
       "\\item 'WT:CN:M'\n",
       "\\item 'WT:CN:H'\n",
       "\\item 'WT:HT:L'\n",
       "\\item 'WT:HT:M'\n",
       "\\item 'WT:HT:H'\n",
       "\\item 'WT:OS:L'\n",
       "\\item 'WT:OS:M'\n",
       "\\item 'WT:OS:H'\n",
       "\\item 'Δlon:CN:L'\n",
       "\\item 'Δlon:CN:M'\n",
       "\\item 'Δlon:CN:H'\n",
       "\\item 'Δlon:HT:L'\n",
       "\\item 'Δlon:HT:M'\n",
       "\\item 'Δlon:HT:H'\n",
       "\\item 'Δlon:OS:L'\n",
       "\\item 'Δlon:OS:M'\n",
       "\\item 'Δlon:OS:H'\n",
       "\\item 'ΔclpA:CN:L'\n",
       "\\item 'ΔclpA:CN:M'\n",
       "\\item 'ΔclpA:CN:H'\n",
       "\\item 'ΔclpA:HT:L'\n",
       "\\item 'ΔclpA:HT:M'\n",
       "\\item 'ΔclpA:HT:H'\n",
       "\\item 'ΔclpA:OS:L'\n",
       "\\item 'ΔclpA:OS:M'\n",
       "\\item 'ΔclpA:OS:H'\n",
       "\\item 'ΔclpB:CN:L'\n",
       "\\item 'ΔclpB:CN:M'\n",
       "\\item 'ΔclpB:CN:H'\n",
       "\\item 'ΔclpB:HT:L'\n",
       "\\item 'ΔclpB:HT:M'\n",
       "\\item 'ΔclpB:HT:H'\n",
       "\\item 'ΔclpB:OS:L'\n",
       "\\item 'ΔclpB:OS:M'\n",
       "\\item 'ΔclpB:OS:H'\n",
       "\\item 'dnaKJ-NI:CN:L'\n",
       "\\item 'dnaKJ-NI:CN:M'\n",
       "\\item 'dnaKJ-NI:CN:H'\n",
       "\\item 'dnaKJ-NI:HT:L'\n",
       "\\item 'dnaKJ-NI:HT:M'\n",
       "\\item 'dnaKJ-NI:HT:H'\n",
       "\\item 'dnaKJ-NI:OS:L'\n",
       "\\item 'dnaKJ-NI:OS:M'\n",
       "\\item 'dnaKJ-NI:OS:H'\n",
       "\\end{enumerate*}\n"
      ],
      "text/markdown": [
       "1. 'WT:CN:L'\n",
       "2. 'WT:CN:M'\n",
       "3. 'WT:CN:H'\n",
       "4. 'WT:HT:L'\n",
       "5. 'WT:HT:M'\n",
       "6. 'WT:HT:H'\n",
       "7. 'WT:OS:L'\n",
       "8. 'WT:OS:M'\n",
       "9. 'WT:OS:H'\n",
       "10. 'Δlon:CN:L'\n",
       "11. 'Δlon:CN:M'\n",
       "12. 'Δlon:CN:H'\n",
       "13. 'Δlon:HT:L'\n",
       "14. 'Δlon:HT:M'\n",
       "15. 'Δlon:HT:H'\n",
       "16. 'Δlon:OS:L'\n",
       "17. 'Δlon:OS:M'\n",
       "18. 'Δlon:OS:H'\n",
       "19. 'ΔclpA:CN:L'\n",
       "20. 'ΔclpA:CN:M'\n",
       "21. 'ΔclpA:CN:H'\n",
       "22. 'ΔclpA:HT:L'\n",
       "23. 'ΔclpA:HT:M'\n",
       "24. 'ΔclpA:HT:H'\n",
       "25. 'ΔclpA:OS:L'\n",
       "26. 'ΔclpA:OS:M'\n",
       "27. 'ΔclpA:OS:H'\n",
       "28. 'ΔclpB:CN:L'\n",
       "29. 'ΔclpB:CN:M'\n",
       "30. 'ΔclpB:CN:H'\n",
       "31. 'ΔclpB:HT:L'\n",
       "32. 'ΔclpB:HT:M'\n",
       "33. 'ΔclpB:HT:H'\n",
       "34. 'ΔclpB:OS:L'\n",
       "35. 'ΔclpB:OS:M'\n",
       "36. 'ΔclpB:OS:H'\n",
       "37. 'dnaKJ-NI:CN:L'\n",
       "38. 'dnaKJ-NI:CN:M'\n",
       "39. 'dnaKJ-NI:CN:H'\n",
       "40. 'dnaKJ-NI:HT:L'\n",
       "41. 'dnaKJ-NI:HT:M'\n",
       "42. 'dnaKJ-NI:HT:H'\n",
       "43. 'dnaKJ-NI:OS:L'\n",
       "44. 'dnaKJ-NI:OS:M'\n",
       "45. 'dnaKJ-NI:OS:H'\n",
       "\n",
       "\n"
      ],
      "text/plain": [
       " [1] \"WT:CN:L\"       \"WT:CN:M\"       \"WT:CN:H\"       \"WT:HT:L\"      \n",
       " [5] \"WT:HT:M\"       \"WT:HT:H\"       \"WT:OS:L\"       \"WT:OS:M\"      \n",
       " [9] \"WT:OS:H\"       \"Δlon:CN:L\"     \"Δlon:CN:M\"     \"Δlon:CN:H\"    \n",
       "[13] \"Δlon:HT:L\"     \"Δlon:HT:M\"     \"Δlon:HT:H\"     \"Δlon:OS:L\"    \n",
       "[17] \"Δlon:OS:M\"     \"Δlon:OS:H\"     \"ΔclpA:CN:L\"    \"ΔclpA:CN:M\"   \n",
       "[21] \"ΔclpA:CN:H\"    \"ΔclpA:HT:L\"    \"ΔclpA:HT:M\"    \"ΔclpA:HT:H\"   \n",
       "[25] \"ΔclpA:OS:L\"    \"ΔclpA:OS:M\"    \"ΔclpA:OS:H\"    \"ΔclpB:CN:L\"   \n",
       "[29] \"ΔclpB:CN:M\"    \"ΔclpB:CN:H\"    \"ΔclpB:HT:L\"    \"ΔclpB:HT:M\"   \n",
       "[33] \"ΔclpB:HT:H\"    \"ΔclpB:OS:L\"    \"ΔclpB:OS:M\"    \"ΔclpB:OS:H\"   \n",
       "[37] \"dnaKJ-NI:CN:L\" \"dnaKJ-NI:CN:M\" \"dnaKJ-NI:CN:H\" \"dnaKJ-NI:HT:L\"\n",
       "[41] \"dnaKJ-NI:HT:M\" \"dnaKJ-NI:HT:H\" \"dnaKJ-NI:OS:L\" \"dnaKJ-NI:OS:M\"\n",
       "[45] \"dnaKJ-NI:OS:H\""
      ]
     },
     "metadata": {},
     "output_type": "display_data"
    }
   ],
   "source": [
    "row.names(mat)"
   ]
  },
  {
   "cell_type": "code",
   "execution_count": 26,
   "id": "ad3e8ee8-0b35-44fe-bdd1-919958e35621",
   "metadata": {},
   "outputs": [],
   "source": [
    "suppressWarnings(ce <- Heatmap(mat, name =\"Intersection_ce\",rect_gp = gpar(col = \"white\", lwd = 2),show_column_dend = FALSE,show_row_dend = FALSE ,row_names_gp  = gpar(fontsize = 10, fontface = \"italic\"),\n",
    "        column_names_gp  = gpar(fontsize = 10, fontface = \"italic\")  ,na_col = \"grey\",col = col_fun,column_order=match(title,row.names(mat)),row_order=match(title,row.names(mat)),\n",
    "       column_title = \"Conditionally Essential\"))"
   ]
  },
  {
   "cell_type": "code",
   "execution_count": 28,
   "id": "07a290b3-bd85-4f83-868d-6d772f86b270",
   "metadata": {},
   "outputs": [
    {
     "data": {
      "text/html": [
       "<strong>png:</strong> 2"
      ],
      "text/latex": [
       "\\textbf{png:} 2"
      ],
      "text/markdown": [
       "**png:** 2"
      ],
      "text/plain": [
       "png \n",
       "  2 "
      ]
     },
     "metadata": {},
     "output_type": "display_data"
    }
   ],
   "source": [
    "jpeg(file=\"ce_heatmap.jpeg\",width=10,height=10,res=300,units = \"in\")\n",
    "suppressWarnings(draw(ce))\n",
    "dev.off()"
   ]
  },
  {
   "cell_type": "code",
   "execution_count": 13,
   "id": "6f313bc4-6f71-48bd-b0f6-ff395d9993f9",
   "metadata": {},
   "outputs": [],
   "source": [
    "#cb"
   ]
  },
  {
   "cell_type": "code",
   "execution_count": 30,
   "id": "8d882337-6a6e-4746-8e28-71de6466d8be",
   "metadata": {},
   "outputs": [],
   "source": [
    "df <- df1%>%filter(Annotation_UC==\"Conditionally_Beneficial\")%>%select(strain,condition,slevel,locus_tag)%>%unite(title,strain, condition, slevel, sep = \":\", remove = FALSE)\n",
    "df$title <- gsub(\"DLON\",\"LON\",df$title)\n",
    "df$title <- gsub(\"dnak-dnaJ\",\"dnaKJ-NI\",df$title)\n",
    "df$title <- gsub(\"DCLPA\",\"CLPA\",df$title)\n",
    "df$title <- gsub(\"DCLPB\",\"CLPB\",df$title)\n",
    "df$title <- gsub(\"wild-type\",\"WT\",df$title)\n",
    "df$title <- gsub(\"canavanine\",\"CN\",df$title)\n",
    "df$title <- gsub(\"oxidative-peroxide\",\"OS\",df$title)\n",
    "df$title <- gsub(\"heat\",\"HT\",df$title)\n",
    "df$title <- gsub(\"HIGH\",\"H\",df$title)\n",
    "df$title <- gsub(\"MEDIUM\",\"M\",df$title)\n",
    "df$title <- gsub(\"LOW\",\"L\",df$title)\n",
    "df <- df%>%select(title,locus_tag)%>%dplyr::rename(\"stress\"=\"title\")\n",
    "df$stress <- gsub(\"CLPA\", paste0(\"\\u0394\", \"clpA\"),df$stress)\n",
    "df$stress <- gsub(\"CLPB\", paste0(\"\\u0394\", \"clpB\"), df$stress)\n",
    "df$stress <- gsub(\"LON\", paste0(\"\\u0394\", \"lon\"), df$stress)"
   ]
  },
  {
   "cell_type": "code",
   "execution_count": 31,
   "id": "523cd594-7662-4e30-bec3-d88b8df635f4",
   "metadata": {},
   "outputs": [],
   "source": [
    "mat<- table(df[1:2]) %*% t(table(df[1:2]))\n",
    "mat<-mat[match(title,row.names(mat)),match(title,colnames(mat))]\n",
    "mat[upper.tri(mat, diag = TRUE)] <- 0"
   ]
  },
  {
   "cell_type": "code",
   "execution_count": 32,
   "id": "67c569eb-1116-4b61-af0b-9341ad865000",
   "metadata": {},
   "outputs": [
    {
     "name": "stderr",
     "output_type": "stream",
     "text": [
      "Warning message in type.convert.default(X[[i]], ...):\n",
      "\"'as.is' should be specified by the caller; using TRUE\"\n",
      "Warning message in type.convert.default(X[[i]], ...):\n",
      "\"'as.is' should be specified by the caller; using TRUE\"\n"
     ]
    },
    {
     "data": {
      "text/plain": [
       "   Min. 1st Qu.  Median    Mean 3rd Qu.    Max. \n",
       "   0.00    0.00    0.00    1.33    2.00   24.00 "
      ]
     },
     "metadata": {},
     "output_type": "display_data"
    }
   ],
   "source": [
    "summary(na.omit(melt(mat)$value))"
   ]
  },
  {
   "cell_type": "code",
   "execution_count": 34,
   "id": "e9b0f645-ed30-4c97-aa92-2253a3982497",
   "metadata": {},
   "outputs": [],
   "source": [
    "library(circlize)\n",
    "col_fun = colorRamp2(c(0,3,6,10,24), c(\"white\", \"yellow\", \"orange\",\"red\",\"darkred\"))"
   ]
  },
  {
   "cell_type": "code",
   "execution_count": 35,
   "id": "1afa5774-a34b-4bed-b86f-2a50045221ba",
   "metadata": {},
   "outputs": [],
   "source": [
    "suppressWarnings(cb <- Heatmap(mat, name =\"Intersection_cb\",rect_gp = gpar(col = \"white\", lwd = 2),show_column_dend = FALSE,show_row_dend = FALSE ,row_names_gp  = gpar(fontsize = 10, fontface = \"italic\"),\n",
    "        column_names_gp  = gpar(fontsize = 10, fontface = \"italic\")  ,na_col = \"grey\",col = col_fun,column_order=match(title,row.names(mat)),row_order=match(title,row.names(mat)),\n",
    "       column_title = \"Conditionally beneficial\"))"
   ]
  },
  {
   "cell_type": "code",
   "execution_count": 20,
   "id": "3afd271a-6f84-4244-8b18-5243f8bcbc8b",
   "metadata": {},
   "outputs": [
    {
     "data": {
      "image/png": "[encoded data removed]",
      "text/plain": [
       "plot without title"
      ]
     },
     "metadata": {
      "image/png": {
       "height": 420,
       "width": 420
      }
     },
     "output_type": "display_data"
    }
   ],
   "source": [
    "draw(cb)"
   ]
  },
  {
   "cell_type": "code",
   "execution_count": 36,
   "id": "7a0494f9-5c02-4f46-8631-ee97b8b3e926",
   "metadata": {},
   "outputs": [
    {
     "data": {
      "text/html": [
       "<strong>png:</strong> 2"
      ],
      "text/latex": [
       "\\textbf{png:} 2"
      ],
      "text/markdown": [
       "**png:** 2"
      ],
      "text/plain": [
       "png \n",
       "  2 "
      ]
     },
     "metadata": {},
     "output_type": "display_data"
    }
   ],
   "source": [
    "jpeg(file=\"cb_heatmap.jpeg\",width=10,height=10,res=300,units = \"in\")\n",
    "suppressWarnings(draw(cb))\n",
    "dev.off()"
   ]
  },
  {
   "cell_type": "code",
   "execution_count": 22,
   "id": "f0078c7b-36c7-4260-90eb-42c7de044be7",
   "metadata": {},
   "outputs": [],
   "source": [
    "#CD"
   ]
  },
  {
   "cell_type": "code",
   "execution_count": 37,
   "id": "8875f6cd-ef87-4240-923d-ffc01595af1c",
   "metadata": {},
   "outputs": [],
   "source": [
    "df <- df1%>%filter(Annotation_UC==\"Conditionally_Detrimental\")%>%select(strain,condition,slevel,locus_tag)%>%unite(title,strain, condition, slevel, sep = \":\", remove = FALSE)\n",
    "df$title <- gsub(\"DLON\",\"LON\",df$title)\n",
    "df$title <- gsub(\"dnak-dnaJ\",\"dnaKJ-NI\",df$title)\n",
    "df$title <- gsub(\"DCLPA\",\"CLPA\",df$title)\n",
    "df$title <- gsub(\"DCLPB\",\"CLPB\",df$title)\n",
    "df$title <- gsub(\"wild-type\",\"WT\",df$title)\n",
    "df$title <- gsub(\"canavanine\",\"CN\",df$title)\n",
    "df$title <- gsub(\"oxidative-peroxide\",\"OS\",df$title)\n",
    "df$title <- gsub(\"heat\",\"HT\",df$title)\n",
    "df$title <- gsub(\"HIGH\",\"H\",df$title)\n",
    "df$title <- gsub(\"MEDIUM\",\"M\",df$title)\n",
    "df$title <- gsub(\"LOW\",\"L\",df$title)\n",
    "df <- df%>%select(title,locus_tag)%>%dplyr::rename(\"stress\"=\"title\")\n",
    "df$stress <- gsub(\"CLPA\", paste0(\"\\u0394\", \"clpA\"),df$stress)\n",
    "df$stress <- gsub(\"CLPB\", paste0(\"\\u0394\", \"clpB\"), df$stress)\n",
    "df$stress <- gsub(\"LON\", paste0(\"\\u0394\", \"lon\"), df$stress)"
   ]
  },
  {
   "cell_type": "code",
   "execution_count": 38,
   "id": "8a17ca19-f83e-44d4-a701-653f8242b52e",
   "metadata": {},
   "outputs": [],
   "source": [
    "mat<- table(df[1:2]) %*% t(table(df[1:2]))\n",
    "mat<-mat[match(title,row.names(mat)),match(title,colnames(mat))]\n",
    "mat[upper.tri(mat, diag = TRUE)] <- 0"
   ]
  },
  {
   "cell_type": "code",
   "execution_count": 39,
   "id": "d05c7635-e19f-4807-ba57-d972fc7fb33b",
   "metadata": {},
   "outputs": [
    {
     "name": "stderr",
     "output_type": "stream",
     "text": [
      "Warning message in type.convert.default(X[[i]], ...):\n",
      "\"'as.is' should be specified by the caller; using TRUE\"\n",
      "Warning message in type.convert.default(X[[i]], ...):\n",
      "\"'as.is' should be specified by the caller; using TRUE\"\n"
     ]
    },
    {
     "data": {
      "text/plain": [
       "   Min. 1st Qu.  Median    Mean 3rd Qu.    Max. \n",
       "  0.000   0.000   0.000   2.779   2.000  87.000 "
      ]
     },
     "metadata": {},
     "output_type": "display_data"
    }
   ],
   "source": [
    "summary(na.omit(melt(mat)$value))"
   ]
  },
  {
   "cell_type": "code",
   "execution_count": 40,
   "id": "801b0172-3754-41c1-af95-4761106d1173",
   "metadata": {},
   "outputs": [],
   "source": [
    "library(circlize)\n",
    "col_fun = colorRamp2(c(0,10,20,40,88), c(\"white\", \"yellow\", \"orange\",\"red\",\"darkred\"))"
   ]
  },
  {
   "cell_type": "code",
   "execution_count": 41,
   "id": "4b967639-a979-4daf-9024-665c027e7c45",
   "metadata": {},
   "outputs": [],
   "source": [
    "suppressWarnings(cd <- Heatmap(mat, name =\"Intersection_cd\",rect_gp = gpar(col = \"white\", lwd = 2),show_column_dend = FALSE,show_row_dend = FALSE ,row_names_gp  = gpar(fontsize = 10, fontface = \"italic\"),\n",
    "        column_names_gp  = gpar(fontsize = 10, fontface = \"italic\")  ,na_col = \"grey\",col = col_fun,column_order=match(title,row.names(mat)),row_order=match(title,row.names(mat)),\n",
    "       column_title = \"Conditionally detrimental\"))"
   ]
  },
  {
   "cell_type": "code",
   "execution_count": 28,
   "id": "2397de41-60bf-4822-9d05-7d5dd161aceb",
   "metadata": {},
   "outputs": [
    {
     "data": {
      "image/png": "[encoded data removed]",
      "text/plain": [
       "plot without title"
      ]
     },
     "metadata": {
      "image/png": {
       "height": 420,
       "width": 420
      }
     },
     "output_type": "display_data"
    }
   ],
   "source": [
    "cd"
   ]
  },
  {
   "cell_type": "code",
   "execution_count": 42,
   "id": "5588a552-1cb9-4645-89a7-3cb33d145f44",
   "metadata": {},
   "outputs": [
    {
     "data": {
      "text/html": [
       "<strong>png:</strong> 2"
      ],
      "text/latex": [
       "\\textbf{png:} 2"
      ],
      "text/markdown": [
       "**png:** 2"
      ],
      "text/plain": [
       "png \n",
       "  2 "
      ]
     },
     "metadata": {},
     "output_type": "display_data"
    }
   ],
   "source": [
    "jpeg(file=\"cd_heatmap.jpeg\",width=10,height=10,res=300,units = \"in\")\n",
    "suppressWarnings(draw(cd))\n",
    "dev.off()"
   ]
  },
  {
   "cell_type": "code",
   "execution_count": null,
   "id": "36f4f961-4087-4c3f-9ca4-0d586a54efe9",
   "metadata": {},
   "outputs": [],
   "source": []
  }
 ],
 "metadata": {
  "kernelspec": {
   "display_name": "R",
   "language": "R",
   "name": "ir"
  },
  "language_info": {
   "codemirror_mode": "r",
   "file_extension": ".r",
   "mimetype": "text/x-r-source",
   "name": "R",
   "pygments_lexer": "r",
   "version": "4.2.0"
  }
 },
 "nbformat": 4,
 "nbformat_minor": 5
}

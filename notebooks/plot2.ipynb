{
 "cells": [
  {
   "cell_type": "code",
   "execution_count": 1,
   "id": "834dfadf-2acd-4879-8a78-176dec6bd1ab",
   "metadata": {},
   "outputs": [
    {
     "name": "stderr",
     "output_type": "stream",
     "text": [
      "Warning message:\n",
      "\"package 'circlize' was built under R version 4.2.1\"\n",
      "========================================\n",
      "circlize version 0.4.15\n",
      "CRAN page: https://cran.r-project.org/package=circlize\n",
      "Github page: https://github.com/jokergoo/circlize\n",
      "Documentation: https://jokergoo.github.io/circlize_book/book/\n",
      "\n",
      "If you use it in published research, please cite:\n",
      "Gu, Z. circlize implements and enhances circular visualization\n",
      "  in R. Bioinformatics 2014.\n",
      "\n",
      "This message can be suppressed by:\n",
      "  suppressPackageStartupMessages(library(circlize))\n",
      "========================================\n",
      "\n",
      "\n"
     ]
    }
   ],
   "source": [
    "suppressWarnings(suppressMessages(library(tidyverse)))\n",
    "suppressWarnings(suppressMessages(library(hrbrthemes)))\n",
    "suppressWarnings(suppressMessages(library(forcats)))\n",
    "suppressWarnings(suppressMessages(library(glue)))\n",
    "suppressWarnings(suppressMessages(library(viridis)))\n",
    "suppressWarnings(suppressMessages(library(ggdendro)))\n",
    "suppressWarnings(suppressMessages(library(grid)))\n",
    "suppressWarnings(suppressMessages(library(colorspace)))\n",
    "suppressWarnings(suppressMessages(library(cowplot)))\n",
    "suppressWarnings(suppressMessages(library(ComplexHeatmap)))\n",
    "library(circlize)\n",
    "suppressWarnings(suppressMessages(library(\"dendextend\")))"
   ]
  },
  {
   "cell_type": "code",
   "execution_count": 2,
   "id": "063ae0d4-7b54-48de-aee9-d21c1b5d407b",
   "metadata": {},
   "outputs": [],
   "source": [
    "load(file='wildhigh_long.Rata')\n",
    "load(file='wildSelect.Rata')"
   ]
  },
  {
   "cell_type": "code",
   "execution_count": 4,
   "id": "1b91b0aa-11e0-4c94-a39e-090242b849b2",
   "metadata": {},
   "outputs": [
    {
     "data": {
      "text/html": [
       "<table class=\"dataframe\">\n",
       "<caption>A matrix: 4 × 4 of type chr</caption>\n",
       "<thead>\n",
       "\t<tr><th></th><th scope=col>s1</th><th scope=col>s2</th><th scope=col>s3</th><th scope=col>s4</th></tr>\n",
       "</thead>\n",
       "<tbody>\n",
       "\t<tr><th scope=row>g1</th><td>   </td><td>snv;intronic</td><td>snv;intronic</td><td>snv         </td></tr>\n",
       "\t<tr><th scope=row>g2</th><td>   </td><td>            </td><td>            </td><td>snv;intronic</td></tr>\n",
       "\t<tr><th scope=row>g3</th><td>   </td><td>            </td><td>            </td><td>            </td></tr>\n",
       "\t<tr><th scope=row>g4</th><td>snv</td><td>indel;exonic</td><td>snv         </td><td>            </td></tr>\n",
       "</tbody>\n",
       "</table>\n"
      ],
      "text/latex": [
       "A matrix: 4 × 4 of type chr\n",
       "\\begin{tabular}{r|llll}\n",
       "  & s1 & s2 & s3 & s4\\\\\n",
       "\\hline\n",
       "\tg1 &     & snv;intronic & snv;intronic & snv         \\\\\n",
       "\tg2 &     &              &              & snv;intronic\\\\\n",
       "\tg3 &     &              &              &             \\\\\n",
       "\tg4 & snv & indel;exonic & snv          &             \\\\\n",
       "\\end{tabular}\n"
      ],
      "text/markdown": [
       "\n",
       "A matrix: 4 × 4 of type chr\n",
       "\n",
       "| <!--/--> | s1 | s2 | s3 | s4 |\n",
       "|---|---|---|---|---|\n",
       "| g1 | <!----> | snv;intronic | snv;intronic | snv          |\n",
       "| g2 | <!----> | <!----> | <!----> | snv;intronic |\n",
       "| g3 | <!----> | <!----> | <!----> | <!----> |\n",
       "| g4 | snv | indel;exonic | snv          | <!----> |\n",
       "\n"
      ],
      "text/plain": [
       "   s1  s2           s3           s4          \n",
       "g1     snv;intronic snv;intronic snv         \n",
       "g2                               snv;intronic\n",
       "g3                                           \n",
       "g4 snv indel;exonic snv                      "
      ]
     },
     "metadata": {},
     "output_type": "display_data"
    }
   ],
   "source": [
    "set.seed(123)\n",
    "x1 = sample(c(\"\", \"snv\"), 100, replace = TRUE, prob = c(8, 2))\n",
    "x2 = sample(c(\"\", \"indel\"), 100, replace = TRUE, prob = c(8, 2))\n",
    "x2[x1 == \"snv\"] = \"\"\n",
    "x3 = sample(c(\"\", \"intronic\"), 100, replace = TRUE, prob = c(5, 5))\n",
    "x4 = sample(c(\"\", \"exonic\"), 100, replace = TRUE, prob = c(5, 5))\n",
    "x3[x1 == \"\" & x2 == \"\"] = \"\"\n",
    "x4[x1 == \"\" & x2 == \"\"] = \"\"\n",
    "x4[x3 == \"intronic\"] = \"\"\n",
    "x = apply(cbind(x1, x2, x3, x4), 1, function(x) {\n",
    "    x = x[x != \"\"]\n",
    "    paste(x, collapse = \";\")\n",
    "})\n",
    "m = matrix(x, nrow = 10, ncol = 10, dimnames = list(paste0(\"g\", 1:10), paste0(\"s\", 1:10)))\n",
    "m[1:4, 1:4]"
   ]
  },
  {
   "cell_type": "code",
   "execution_count": 5,
   "id": "9c9bc6bc-0808-4942-b1de-1e2b5b4f8727",
   "metadata": {},
   "outputs": [
    {
     "data": {
      "text/html": [
       "<table class=\"dataframe\">\n",
       "<caption>A matrix: 10 × 10 of type chr</caption>\n",
       "<thead>\n",
       "\t<tr><th></th><th scope=col>s1</th><th scope=col>s2</th><th scope=col>s3</th><th scope=col>s4</th><th scope=col>s5</th><th scope=col>s6</th><th scope=col>s7</th><th scope=col>s8</th><th scope=col>s9</th><th scope=col>s10</th></tr>\n",
       "</thead>\n",
       "<tbody>\n",
       "\t<tr><th scope=row>g1</th><td>              </td><td>snv;intronic  </td><td>snv;intronic  </td><td>snv           </td><td>              </td><td>indel;intronic</td><td>            </td><td>              </td><td>indel       </td><td>              </td></tr>\n",
       "\t<tr><th scope=row>g2</th><td>              </td><td>              </td><td>              </td><td>snv;intronic  </td><td>              </td><td>              </td><td>            </td><td>              </td><td>            </td><td>              </td></tr>\n",
       "\t<tr><th scope=row>g3</th><td>              </td><td>              </td><td>              </td><td>              </td><td>              </td><td>              </td><td>            </td><td>indel;intronic</td><td>            </td><td>indel;intronic</td></tr>\n",
       "\t<tr><th scope=row>g4</th><td>snv           </td><td>indel;exonic  </td><td>snv           </td><td>              </td><td>              </td><td>              </td><td>            </td><td>              </td><td>            </td><td>              </td></tr>\n",
       "\t<tr><th scope=row>g5</th><td>snv;intronic  </td><td>              </td><td>              </td><td>              </td><td>indel;intronic</td><td>              </td><td>snv;exonic  </td><td>              </td><td>            </td><td>indel;exonic  </td></tr>\n",
       "\t<tr><th scope=row>g6</th><td>indel;exonic  </td><td>snv           </td><td>indel;intronic</td><td>              </td><td>              </td><td>              </td><td>            </td><td>              </td><td>            </td><td>              </td></tr>\n",
       "\t<tr><th scope=row>g7</th><td>indel;intronic</td><td>              </td><td>              </td><td>indel;intronic</td><td>              </td><td>              </td><td>snv;intronic</td><td>              </td><td>snv;intronic</td><td>              </td></tr>\n",
       "\t<tr><th scope=row>g8</th><td>snv;intronic  </td><td>indel;intronic</td><td>              </td><td>              </td><td>              </td><td>              </td><td>snv;intronic</td><td>              </td><td>snv;intronic</td><td>              </td></tr>\n",
       "\t<tr><th scope=row>g9</th><td>              </td><td>              </td><td>              </td><td>indel;intronic</td><td>              </td><td>snv;intronic  </td><td>            </td><td>indel;intronic</td><td>snv;intronic</td><td>              </td></tr>\n",
       "\t<tr><th scope=row>g10</th><td>              </td><td>snv           </td><td>              </td><td>              </td><td>snv           </td><td>              </td><td>            </td><td>              </td><td>indel;exonic</td><td>              </td></tr>\n",
       "</tbody>\n",
       "</table>\n"
      ],
      "text/latex": [
       "A matrix: 10 × 10 of type chr\n",
       "\\begin{tabular}{r|llllllllll}\n",
       "  & s1 & s2 & s3 & s4 & s5 & s6 & s7 & s8 & s9 & s10\\\\\n",
       "\\hline\n",
       "\tg1 &                & snv;intronic   & snv;intronic   & snv            &                & indel;intronic &              &                & indel        &               \\\\\n",
       "\tg2 &                &                &                & snv;intronic   &                &                &              &                &              &               \\\\\n",
       "\tg3 &                &                &                &                &                &                &              & indel;intronic &              & indel;intronic\\\\\n",
       "\tg4 & snv            & indel;exonic   & snv            &                &                &                &              &                &              &               \\\\\n",
       "\tg5 & snv;intronic   &                &                &                & indel;intronic &                & snv;exonic   &                &              & indel;exonic  \\\\\n",
       "\tg6 & indel;exonic   & snv            & indel;intronic &                &                &                &              &                &              &               \\\\\n",
       "\tg7 & indel;intronic &                &                & indel;intronic &                &                & snv;intronic &                & snv;intronic &               \\\\\n",
       "\tg8 & snv;intronic   & indel;intronic &                &                &                &                & snv;intronic &                & snv;intronic &               \\\\\n",
       "\tg9 &                &                &                & indel;intronic &                & snv;intronic   &              & indel;intronic & snv;intronic &               \\\\\n",
       "\tg10 &                & snv            &                &                & snv            &                &              &                & indel;exonic &               \\\\\n",
       "\\end{tabular}\n"
      ],
      "text/markdown": [
       "\n",
       "A matrix: 10 × 10 of type chr\n",
       "\n",
       "| <!--/--> | s1 | s2 | s3 | s4 | s5 | s6 | s7 | s8 | s9 | s10 |\n",
       "|---|---|---|---|---|---|---|---|---|---|---|\n",
       "| g1 | <!----> | snv;intronic   | snv;intronic   | snv            | <!----> | indel;intronic | <!----> | <!----> | indel        | <!----> |\n",
       "| g2 | <!----> | <!----> | <!----> | snv;intronic   | <!----> | <!----> | <!----> | <!----> | <!----> | <!----> |\n",
       "| g3 | <!----> | <!----> | <!----> | <!----> | <!----> | <!----> | <!----> | indel;intronic | <!----> | indel;intronic |\n",
       "| g4 | snv            | indel;exonic   | snv            | <!----> | <!----> | <!----> | <!----> | <!----> | <!----> | <!----> |\n",
       "| g5 | snv;intronic   | <!----> | <!----> | <!----> | indel;intronic | <!----> | snv;exonic   | <!----> | <!----> | indel;exonic   |\n",
       "| g6 | indel;exonic   | snv            | indel;intronic | <!----> | <!----> | <!----> | <!----> | <!----> | <!----> | <!----> |\n",
       "| g7 | indel;intronic | <!----> | <!----> | indel;intronic | <!----> | <!----> | snv;intronic | <!----> | snv;intronic | <!----> |\n",
       "| g8 | snv;intronic   | indel;intronic | <!----> | <!----> | <!----> | <!----> | snv;intronic | <!----> | snv;intronic | <!----> |\n",
       "| g9 | <!----> | <!----> | <!----> | indel;intronic | <!----> | snv;intronic   | <!----> | indel;intronic | snv;intronic | <!----> |\n",
       "| g10 | <!----> | snv            | <!----> | <!----> | snv            | <!----> | <!----> | <!----> | indel;exonic | <!----> |\n",
       "\n"
      ],
      "text/plain": [
       "    s1             s2             s3             s4             s5            \n",
       "g1                 snv;intronic   snv;intronic   snv                          \n",
       "g2                                               snv;intronic                 \n",
       "g3                                                                            \n",
       "g4  snv            indel;exonic   snv                                         \n",
       "g5  snv;intronic                                                indel;intronic\n",
       "g6  indel;exonic   snv            indel;intronic                              \n",
       "g7  indel;intronic                               indel;intronic               \n",
       "g8  snv;intronic   indel;intronic                                             \n",
       "g9                                               indel;intronic               \n",
       "g10                snv                                          snv           \n",
       "    s6             s7           s8             s9           s10           \n",
       "g1  indel;intronic                             indel                      \n",
       "g2                                                                        \n",
       "g3                              indel;intronic              indel;intronic\n",
       "g4                                                                        \n",
       "g5                 snv;exonic                               indel;exonic  \n",
       "g6                                                                        \n",
       "g7                 snv;intronic                snv;intronic               \n",
       "g8                 snv;intronic                snv;intronic               \n",
       "g9  snv;intronic                indel;intronic snv;intronic               \n",
       "g10                                            indel;exonic               "
      ]
     },
     "metadata": {},
     "output_type": "display_data"
    }
   ],
   "source": [
    "m"
   ]
  },
  {
   "cell_type": "code",
   "execution_count": 6,
   "id": "1819628a-bdae-49ba-8b86-31f97834eef5",
   "metadata": {},
   "outputs": [],
   "source": [
    "alter_fun = list(\n",
    "    background = function(x, y, w, h) \n",
    "        grid.rect(x, y, w*0.9, h*0.9, gp = gpar(fill = \"#CCCCCC\", col = NA)),\n",
    "    # red rectangles\n",
    "    snv = function(x, y, w, h) \n",
    "        grid.rect(x, y, w*0.9, h*0.9, gp = gpar(fill = \"red\", col = NA)),\n",
    "    # blue rectangles\n",
    "    indel = function(x, y, w, h) \n",
    "        grid.rect(x, y, w*0.9, h*0.9, gp = gpar(fill = \"blue\", col = NA)),\n",
    "    # dots\n",
    "    intronic = function(x, y, w, h) \n",
    "        grid.points(x, y, pch = 16),\n",
    "    # crossed lines\n",
    "    exonic = function(x, y, w, h) {\n",
    "        grid.segments(x - w*0.4, y - h*0.4, x + w*0.4, y + h*0.4, gp = gpar(lwd = 2))\n",
    "        grid.segments(x + w*0.4, y - h*0.4, x - w*0.4, y + h*0.4, gp = gpar(lwd = 2))\n",
    "    }\n",
    ")"
   ]
  },
  {
   "cell_type": "code",
   "execution_count": 7,
   "id": "dce657be-f25a-45f9-8d8e-d7cdf6b8db07",
   "metadata": {},
   "outputs": [
    {
     "data": {
      "text/html": [
       "<dl>\n",
       "\t<dt>$background</dt>\n",
       "\t\t<dd><pre class=language-r><code>function (x, y, w, h) \n",
       "grid.rect(x, y, w * 0.9, h * 0.9, gp = gpar(fill = \"#CCCCCC\", \n",
       "<span style=white-space:pre-wrap>    col = NA))</span></code></pre></dd>\n",
       "\t<dt>$snv</dt>\n",
       "\t\t<dd><pre class=language-r><code>function (x, y, w, h) \n",
       "grid.rect(x, y, w * 0.9, h * 0.9, gp = gpar(fill = \"red\", col = NA))</code></pre></dd>\n",
       "\t<dt>$indel</dt>\n",
       "\t\t<dd><pre class=language-r><code>function (x, y, w, h) \n",
       "grid.rect(x, y, w * 0.9, h * 0.9, gp = gpar(fill = \"blue\", col = NA))</code></pre></dd>\n",
       "\t<dt>$intronic</dt>\n",
       "\t\t<dd><pre class=language-r><code>function (x, y, w, h) \n",
       "grid.points(x, y, pch = 16)</code></pre></dd>\n",
       "\t<dt>$exonic</dt>\n",
       "\t\t<dd><pre class=language-r><code>function (x, y, w, h) \n",
       "{\n",
       "<span style=white-space:pre-wrap>    grid.segments(x - w * 0.4, y - h * 0.4, x + w * 0.4, y + </span>\n",
       "<span style=white-space:pre-wrap>        h * 0.4, gp = gpar(lwd = 2))</span>\n",
       "<span style=white-space:pre-wrap>    grid.segments(x + w * 0.4, y - h * 0.4, x - w * 0.4, y + </span>\n",
       "<span style=white-space:pre-wrap>        h * 0.4, gp = gpar(lwd = 2))</span>\n",
       "}</code></pre></dd>\n",
       "</dl>\n"
      ],
      "text/latex": [
       "\\begin{description}\n",
       "\\item[\\$background] \\begin{minted}{r}\n",
       "function (x, y, w, h) \n",
       "grid.rect(x, y, w * 0.9, h * 0.9, gp = gpar(fill = \"\\#CCCCCC\", \n",
       "    col = NA))\n",
       "\\end{minted}\n",
       "\\item[\\$snv] \\begin{minted}{r}\n",
       "function (x, y, w, h) \n",
       "grid.rect(x, y, w * 0.9, h * 0.9, gp = gpar(fill = \"red\", col = NA))\n",
       "\\end{minted}\n",
       "\\item[\\$indel] \\begin{minted}{r}\n",
       "function (x, y, w, h) \n",
       "grid.rect(x, y, w * 0.9, h * 0.9, gp = gpar(fill = \"blue\", col = NA))\n",
       "\\end{minted}\n",
       "\\item[\\$intronic] \\begin{minted}{r}\n",
       "function (x, y, w, h) \n",
       "grid.points(x, y, pch = 16)\n",
       "\\end{minted}\n",
       "\\item[\\$exonic] \\begin{minted}{r}\n",
       "function (x, y, w, h) \n",
       "\\{\n",
       "    grid.segments(x - w * 0.4, y - h * 0.4, x + w * 0.4, y + \n",
       "        h * 0.4, gp = gpar(lwd = 2))\n",
       "    grid.segments(x + w * 0.4, y - h * 0.4, x - w * 0.4, y + \n",
       "        h * 0.4, gp = gpar(lwd = 2))\n",
       "\\}\n",
       "\\end{minted}\n",
       "\\end{description}\n"
      ],
      "text/markdown": [
       "$background\n",
       ":   ```r\n",
       "function (x, y, w, h) \n",
       "grid.rect(x, y, w * 0.9, h * 0.9, gp = gpar(fill = \"#CCCCCC\", \n",
       "    col = NA))\n",
       "```\n",
       "$snv\n",
       ":   ```r\n",
       "function (x, y, w, h) \n",
       "grid.rect(x, y, w * 0.9, h * 0.9, gp = gpar(fill = \"red\", col = NA))\n",
       "```\n",
       "$indel\n",
       ":   ```r\n",
       "function (x, y, w, h) \n",
       "grid.rect(x, y, w * 0.9, h * 0.9, gp = gpar(fill = \"blue\", col = NA))\n",
       "```\n",
       "$intronic\n",
       ":   ```r\n",
       "function (x, y, w, h) \n",
       "grid.points(x, y, pch = 16)\n",
       "```\n",
       "$exonic\n",
       ":   ```r\n",
       "function (x, y, w, h) \n",
       "{\n",
       "    grid.segments(x - w * 0.4, y - h * 0.4, x + w * 0.4, y + \n",
       "        h * 0.4, gp = gpar(lwd = 2))\n",
       "    grid.segments(x + w * 0.4, y - h * 0.4, x - w * 0.4, y + \n",
       "        h * 0.4, gp = gpar(lwd = 2))\n",
       "}\n",
       "```\n",
       "\n",
       "\n"
      ],
      "text/plain": [
       "$background\n",
       "function(x, y, w, h) \n",
       "        grid.rect(x, y, w*0.9, h*0.9, gp = gpar(fill = \"#CCCCCC\", col = NA))\n",
       "\n",
       "$snv\n",
       "function(x, y, w, h) \n",
       "        grid.rect(x, y, w*0.9, h*0.9, gp = gpar(fill = \"red\", col = NA))\n",
       "\n",
       "$indel\n",
       "function(x, y, w, h) \n",
       "        grid.rect(x, y, w*0.9, h*0.9, gp = gpar(fill = \"blue\", col = NA))\n",
       "\n",
       "$intronic\n",
       "function(x, y, w, h) \n",
       "        grid.points(x, y, pch = 16)\n",
       "\n",
       "$exonic\n",
       "function(x, y, w, h) {\n",
       "        grid.segments(x - w*0.4, y - h*0.4, x + w*0.4, y + h*0.4, gp = gpar(lwd = 2))\n",
       "        grid.segments(x + w*0.4, y - h*0.4, x - w*0.4, y + h*0.4, gp = gpar(lwd = 2))\n",
       "    }\n"
      ]
     },
     "metadata": {},
     "output_type": "display_data"
    }
   ],
   "source": [
    "alter_fun"
   ]
  },
  {
   "cell_type": "code",
   "execution_count": 8,
   "id": "82a2120d-cd6d-4c7b-8fe4-ed38d54533ef",
   "metadata": {},
   "outputs": [
    {
     "data": {
      "text/html": [
       "<pre class=language-r><code>function (x, y, w, h) \n",
       "grid.rect(x, y, w * 0.9, h * 0.9, gp = gpar(fill = \"red\", col = NA))</code></pre>"
      ],
      "text/latex": [
       "\\begin{minted}{r}\n",
       "function (x, y, w, h) \n",
       "grid.rect(x, y, w * 0.9, h * 0.9, gp = gpar(fill = \"red\", col = NA))\n",
       "\\end{minted}"
      ],
      "text/markdown": [
       "```r\n",
       "function (x, y, w, h) \n",
       "grid.rect(x, y, w * 0.9, h * 0.9, gp = gpar(fill = \"red\", col = NA))\n",
       "```"
      ],
      "text/plain": [
       "function(x, y, w, h) \n",
       "        grid.rect(x, y, w*0.9, h*0.9, gp = gpar(fill = \"red\", col = NA))"
      ]
     },
     "metadata": {},
     "output_type": "display_data"
    }
   ],
   "source": [
    "alter_fun$snv"
   ]
  },
  {
   "cell_type": "code",
   "execution_count": 9,
   "id": "ba3c77a4-9add-4b5d-a1e3-66d5714a2f47",
   "metadata": {},
   "outputs": [
    {
     "data": {
      "text/html": [
       "<table class=\"dataframe\">\n",
       "<caption>A matrix: 10 × 10 of type chr</caption>\n",
       "<thead>\n",
       "\t<tr><th></th><th scope=col>s1</th><th scope=col>s2</th><th scope=col>s3</th><th scope=col>s4</th><th scope=col>s5</th><th scope=col>s6</th><th scope=col>s7</th><th scope=col>s8</th><th scope=col>s9</th><th scope=col>s10</th></tr>\n",
       "</thead>\n",
       "<tbody>\n",
       "\t<tr><th scope=row>g1</th><td>              </td><td>snv;intronic  </td><td>snv;intronic  </td><td>snv           </td><td>              </td><td>indel;intronic</td><td>            </td><td>              </td><td>indel       </td><td>              </td></tr>\n",
       "\t<tr><th scope=row>g2</th><td>              </td><td>              </td><td>              </td><td>snv;intronic  </td><td>              </td><td>              </td><td>            </td><td>              </td><td>            </td><td>              </td></tr>\n",
       "\t<tr><th scope=row>g3</th><td>              </td><td>              </td><td>              </td><td>              </td><td>              </td><td>              </td><td>            </td><td>indel;intronic</td><td>            </td><td>indel;intronic</td></tr>\n",
       "\t<tr><th scope=row>g4</th><td>snv           </td><td>indel;exonic  </td><td>snv           </td><td>              </td><td>              </td><td>              </td><td>            </td><td>              </td><td>            </td><td>              </td></tr>\n",
       "\t<tr><th scope=row>g5</th><td>snv;intronic  </td><td>              </td><td>              </td><td>              </td><td>indel;intronic</td><td>              </td><td>snv;exonic  </td><td>              </td><td>            </td><td>indel;exonic  </td></tr>\n",
       "\t<tr><th scope=row>g6</th><td>indel;exonic  </td><td>snv           </td><td>indel;intronic</td><td>              </td><td>              </td><td>              </td><td>            </td><td>              </td><td>            </td><td>              </td></tr>\n",
       "\t<tr><th scope=row>g7</th><td>indel;intronic</td><td>              </td><td>              </td><td>indel;intronic</td><td>              </td><td>              </td><td>snv;intronic</td><td>              </td><td>snv;intronic</td><td>              </td></tr>\n",
       "\t<tr><th scope=row>g8</th><td>snv;intronic  </td><td>indel;intronic</td><td>              </td><td>              </td><td>              </td><td>              </td><td>snv;intronic</td><td>              </td><td>snv;intronic</td><td>              </td></tr>\n",
       "\t<tr><th scope=row>g9</th><td>              </td><td>              </td><td>              </td><td>indel;intronic</td><td>              </td><td>snv;intronic  </td><td>            </td><td>indel;intronic</td><td>snv;intronic</td><td>              </td></tr>\n",
       "\t<tr><th scope=row>g10</th><td>              </td><td>snv           </td><td>              </td><td>              </td><td>snv           </td><td>              </td><td>            </td><td>              </td><td>indel;exonic</td><td>              </td></tr>\n",
       "</tbody>\n",
       "</table>\n"
      ],
      "text/latex": [
       "A matrix: 10 × 10 of type chr\n",
       "\\begin{tabular}{r|llllllllll}\n",
       "  & s1 & s2 & s3 & s4 & s5 & s6 & s7 & s8 & s9 & s10\\\\\n",
       "\\hline\n",
       "\tg1 &                & snv;intronic   & snv;intronic   & snv            &                & indel;intronic &              &                & indel        &               \\\\\n",
       "\tg2 &                &                &                & snv;intronic   &                &                &              &                &              &               \\\\\n",
       "\tg3 &                &                &                &                &                &                &              & indel;intronic &              & indel;intronic\\\\\n",
       "\tg4 & snv            & indel;exonic   & snv            &                &                &                &              &                &              &               \\\\\n",
       "\tg5 & snv;intronic   &                &                &                & indel;intronic &                & snv;exonic   &                &              & indel;exonic  \\\\\n",
       "\tg6 & indel;exonic   & snv            & indel;intronic &                &                &                &              &                &              &               \\\\\n",
       "\tg7 & indel;intronic &                &                & indel;intronic &                &                & snv;intronic &                & snv;intronic &               \\\\\n",
       "\tg8 & snv;intronic   & indel;intronic &                &                &                &                & snv;intronic &                & snv;intronic &               \\\\\n",
       "\tg9 &                &                &                & indel;intronic &                & snv;intronic   &              & indel;intronic & snv;intronic &               \\\\\n",
       "\tg10 &                & snv            &                &                & snv            &                &              &                & indel;exonic &               \\\\\n",
       "\\end{tabular}\n"
      ],
      "text/markdown": [
       "\n",
       "A matrix: 10 × 10 of type chr\n",
       "\n",
       "| <!--/--> | s1 | s2 | s3 | s4 | s5 | s6 | s7 | s8 | s9 | s10 |\n",
       "|---|---|---|---|---|---|---|---|---|---|---|\n",
       "| g1 | <!----> | snv;intronic   | snv;intronic   | snv            | <!----> | indel;intronic | <!----> | <!----> | indel        | <!----> |\n",
       "| g2 | <!----> | <!----> | <!----> | snv;intronic   | <!----> | <!----> | <!----> | <!----> | <!----> | <!----> |\n",
       "| g3 | <!----> | <!----> | <!----> | <!----> | <!----> | <!----> | <!----> | indel;intronic | <!----> | indel;intronic |\n",
       "| g4 | snv            | indel;exonic   | snv            | <!----> | <!----> | <!----> | <!----> | <!----> | <!----> | <!----> |\n",
       "| g5 | snv;intronic   | <!----> | <!----> | <!----> | indel;intronic | <!----> | snv;exonic   | <!----> | <!----> | indel;exonic   |\n",
       "| g6 | indel;exonic   | snv            | indel;intronic | <!----> | <!----> | <!----> | <!----> | <!----> | <!----> | <!----> |\n",
       "| g7 | indel;intronic | <!----> | <!----> | indel;intronic | <!----> | <!----> | snv;intronic | <!----> | snv;intronic | <!----> |\n",
       "| g8 | snv;intronic   | indel;intronic | <!----> | <!----> | <!----> | <!----> | snv;intronic | <!----> | snv;intronic | <!----> |\n",
       "| g9 | <!----> | <!----> | <!----> | indel;intronic | <!----> | snv;intronic   | <!----> | indel;intronic | snv;intronic | <!----> |\n",
       "| g10 | <!----> | snv            | <!----> | <!----> | snv            | <!----> | <!----> | <!----> | indel;exonic | <!----> |\n",
       "\n"
      ],
      "text/plain": [
       "    s1             s2             s3             s4             s5            \n",
       "g1                 snv;intronic   snv;intronic   snv                          \n",
       "g2                                               snv;intronic                 \n",
       "g3                                                                            \n",
       "g4  snv            indel;exonic   snv                                         \n",
       "g5  snv;intronic                                                indel;intronic\n",
       "g6  indel;exonic   snv            indel;intronic                              \n",
       "g7  indel;intronic                               indel;intronic               \n",
       "g8  snv;intronic   indel;intronic                                             \n",
       "g9                                               indel;intronic               \n",
       "g10                snv                                          snv           \n",
       "    s6             s7           s8             s9           s10           \n",
       "g1  indel;intronic                             indel                      \n",
       "g2                                                                        \n",
       "g3                              indel;intronic              indel;intronic\n",
       "g4                                                                        \n",
       "g5                 snv;exonic                               indel;exonic  \n",
       "g6                                                                        \n",
       "g7                 snv;intronic                snv;intronic               \n",
       "g8                 snv;intronic                snv;intronic               \n",
       "g9  snv;intronic                indel;intronic snv;intronic               \n",
       "g10                                            indel;exonic               "
      ]
     },
     "metadata": {},
     "output_type": "display_data"
    }
   ],
   "source": [
    "m"
   ]
  },
  {
   "cell_type": "code",
   "execution_count": 10,
   "id": "95845231-0bef-4ff2-9471-b9ec6cc6da86",
   "metadata": {},
   "outputs": [
    {
     "name": "stderr",
     "output_type": "stream",
     "text": [
      "All mutation types: snv, intronic, indel, exonic.\n",
      "\n",
      "`alter_fun` is assumed vectorizable. If it does not generate correct\n",
      "plot, please set `alter_fun_is_vectorized = FALSE` in `oncoPrint()`.\n",
      "\n",
      "Colors are not defined for: intronic, exonic. They won't be shown in\n",
      "the barplots.\n",
      "\n"
     ]
    },
    {
     "data": {
      "image/png": "[encoded data removed]",
      "text/plain": [
       "plot without title"
      ]
     },
     "metadata": {
      "image/png": {
       "height": 420,
       "width": 420
      }
     },
     "output_type": "display_data"
    }
   ],
   "source": [
    "oncoPrint(m, alter_fun = alter_fun, col = c(snv = \"red\", indel = \"blue\"))"
   ]
  },
  {
   "cell_type": "code",
   "execution_count": null,
   "id": "a7c6d23e-5a2d-4892-9ceb-9337f4801fee",
   "metadata": {},
   "outputs": [],
   "source": []
  }
 ],
 "metadata": {
  "kernelspec": {
   "display_name": "R",
   "language": "R",
   "name": "ir"
  },
  "language_info": {
   "codemirror_mode": "r",
   "file_extension": ".r",
   "mimetype": "text/x-r-source",
   "name": "R",
   "pygments_lexer": "r",
   "version": "4.2.0"
  }
 },
 "nbformat": 4,
 "nbformat_minor": 5
}

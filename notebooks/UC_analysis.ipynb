{
 "cells": [
  {
   "cell_type": "code",
   "execution_count": 4,
   "id": "0fffaa8f",
   "metadata": {},
   "outputs": [],
   "source": [
    "suppressWarnings(suppressMessages(library(tidyverse)))\n",
    "suppressWarnings(suppressMessages(require(reshape)))\n",
    "suppressWarnings(suppressMessages(library(fdrtool)))\n",
    " normalize <- function(x){\n",
    "  return((x-mean(x,na.rm = TRUE)) / (sd(x,na.rm = TRUE)))\n",
    "}"
   ]
  },
  {
   "cell_type": "code",
   "execution_count": 5,
   "id": "acc6611c",
   "metadata": {},
   "outputs": [],
   "source": [
    "filter_genes <- read.table(\"../../reports/Master Table/Unique_Counts_master_table_Median_long_v2.tab\",header=TRUE)"
   ]
  },
  {
   "cell_type": "code",
   "execution_count": null,
   "id": "0b2437c8",
   "metadata": {},
   "outputs": [],
   "source": []
  },
  {
   "cell_type": "code",
   "execution_count": 6,
   "id": "f7109b87",
   "metadata": {},
   "outputs": [
    {
     "data": {
      "text/html": [
       "<table class=\"dataframe\">\n",
       "<caption>A data.frame: 2 × 12</caption>\n",
       "<thead>\n",
       "\t<tr><th></th><th scope=col>strain</th><th scope=col>condition</th><th scope=col>slevel</th><th scope=col>locus_tag</th><th scope=col>Median</th><th scope=col>controlMedian</th><th scope=col>effect</th><th scope=col>log2_coefficient</th><th scope=col>mean</th><th scope=col>controlmean</th><th scope=col>fdr</th><th scope=col>Annotation</th></tr>\n",
       "\t<tr><th></th><th scope=col>&lt;chr&gt;</th><th scope=col>&lt;chr&gt;</th><th scope=col>&lt;chr&gt;</th><th scope=col>&lt;chr&gt;</th><th scope=col>&lt;dbl&gt;</th><th scope=col>&lt;dbl&gt;</th><th scope=col>&lt;chr&gt;</th><th scope=col>&lt;dbl&gt;</th><th scope=col>&lt;dbl&gt;</th><th scope=col>&lt;dbl&gt;</th><th scope=col>&lt;dbl&gt;</th><th scope=col>&lt;chr&gt;</th></tr>\n",
       "</thead>\n",
       "<tbody>\n",
       "\t<tr><th scope=row>1</th><td>DCLPA</td><td>canavanine</td><td>HIGH</td><td>CCNA_00001</td><td> 0</td><td> 0.0</td><td>strainDCLPA:conditionCAN:slevelHIGH</td><td>-1.17219507</td><td> 0.3333333</td><td> 42.75</td><td>4.234444e-06</td><td>Essential            </td></tr>\n",
       "\t<tr><th scope=row>2</th><td>DCLPA</td><td>canavanine</td><td>HIGH</td><td>CCNA_00002</td><td>42</td><td>50.5</td><td>strainDCLPA:conditionCAN:slevelHIGH</td><td>-0.06495413</td><td>46.0000000</td><td>109.25</td><td>1.000000e+00</td><td>Conditionally_Neutral</td></tr>\n",
       "</tbody>\n",
       "</table>\n"
      ],
      "text/latex": [
       "A data.frame: 2 × 12\n",
       "\\begin{tabular}{r|llllllllllll}\n",
       "  & strain & condition & slevel & locus\\_tag & Median & controlMedian & effect & log2\\_coefficient & mean & controlmean & fdr & Annotation\\\\\n",
       "  & <chr> & <chr> & <chr> & <chr> & <dbl> & <dbl> & <chr> & <dbl> & <dbl> & <dbl> & <dbl> & <chr>\\\\\n",
       "\\hline\n",
       "\t1 & DCLPA & canavanine & HIGH & CCNA\\_00001 &  0 &  0.0 & strainDCLPA:conditionCAN:slevelHIGH & -1.17219507 &  0.3333333 &  42.75 & 4.234444e-06 & Essential            \\\\\n",
       "\t2 & DCLPA & canavanine & HIGH & CCNA\\_00002 & 42 & 50.5 & strainDCLPA:conditionCAN:slevelHIGH & -0.06495413 & 46.0000000 & 109.25 & 1.000000e+00 & Conditionally\\_Neutral\\\\\n",
       "\\end{tabular}\n"
      ],
      "text/markdown": [
       "\n",
       "A data.frame: 2 × 12\n",
       "\n",
       "| <!--/--> | strain &lt;chr&gt; | condition &lt;chr&gt; | slevel &lt;chr&gt; | locus_tag &lt;chr&gt; | Median &lt;dbl&gt; | controlMedian &lt;dbl&gt; | effect &lt;chr&gt; | log2_coefficient &lt;dbl&gt; | mean &lt;dbl&gt; | controlmean &lt;dbl&gt; | fdr &lt;dbl&gt; | Annotation &lt;chr&gt; |\n",
       "|---|---|---|---|---|---|---|---|---|---|---|---|---|\n",
       "| 1 | DCLPA | canavanine | HIGH | CCNA_00001 |  0 |  0.0 | strainDCLPA:conditionCAN:slevelHIGH | -1.17219507 |  0.3333333 |  42.75 | 4.234444e-06 | Essential             |\n",
       "| 2 | DCLPA | canavanine | HIGH | CCNA_00002 | 42 | 50.5 | strainDCLPA:conditionCAN:slevelHIGH | -0.06495413 | 46.0000000 | 109.25 | 1.000000e+00 | Conditionally_Neutral |\n",
       "\n"
      ],
      "text/plain": [
       "  strain condition  slevel locus_tag  Median controlMedian\n",
       "1 DCLPA  canavanine HIGH   CCNA_00001  0      0.0         \n",
       "2 DCLPA  canavanine HIGH   CCNA_00002 42     50.5         \n",
       "  effect                              log2_coefficient mean       controlmean\n",
       "1 strainDCLPA:conditionCAN:slevelHIGH -1.17219507       0.3333333  42.75     \n",
       "2 strainDCLPA:conditionCAN:slevelHIGH -0.06495413      46.0000000 109.25     \n",
       "  fdr          Annotation           \n",
       "1 4.234444e-06 Essential            \n",
       "2 1.000000e+00 Conditionally_Neutral"
      ]
     },
     "metadata": {},
     "output_type": "display_data"
    }
   ],
   "source": [
    "head(filter_genes,2)"
   ]
  },
  {
   "cell_type": "code",
   "execution_count": 7,
   "id": "8ea525ce",
   "metadata": {},
   "outputs": [],
   "source": [
    " f_genes <- filter_genes%>%filter(Annotation==\"Conditionally_Essential\"|Annotation== \"Essential\")%>%select(strain,condition,slevel,locus_tag)%>%mutate(nonmodel=\"Yes\")"
   ]
  },
  {
   "cell_type": "code",
   "execution_count": 5,
   "id": "d56a9f13",
   "metadata": {},
   "outputs": [],
   "source": [
    "##"
   ]
  },
  {
   "cell_type": "code",
   "execution_count": 8,
   "id": "2a9e7b4d",
   "metadata": {},
   "outputs": [],
   "source": [
    "TC <- read.table(\"../../reports/HORSHOE_LFSR/GLMNET_UC_RESULTS.TAB\",header=TRUE,check.names=FALSE,fill=TRUE)\n",
    "TC <- melt(TC,id=\"locus_tag\")\n",
    "colnames(TC) <- c(\"locus_tag\",\"Effect\",\"Estimate\")"
   ]
  },
  {
   "cell_type": "code",
   "execution_count": 9,
   "id": "649f2c8d",
   "metadata": {},
   "outputs": [
    {
     "data": {
      "text/html": [
       "<table class=\"dataframe\">\n",
       "<caption>A data.frame: 2 × 3</caption>\n",
       "<thead>\n",
       "\t<tr><th></th><th scope=col>locus_tag</th><th scope=col>Effect</th><th scope=col>Estimate</th></tr>\n",
       "\t<tr><th></th><th scope=col>&lt;chr&gt;</th><th scope=col>&lt;fct&gt;</th><th scope=col>&lt;dbl&gt;</th></tr>\n",
       "</thead>\n",
       "<tbody>\n",
       "\t<tr><th scope=row>1</th><td>CCNA_00001</td><td>Intercept</td><td>3.356621</td></tr>\n",
       "\t<tr><th scope=row>2</th><td>CCNA_00002</td><td>Intercept</td><td>4.665810</td></tr>\n",
       "</tbody>\n",
       "</table>\n"
      ],
      "text/latex": [
       "A data.frame: 2 × 3\n",
       "\\begin{tabular}{r|lll}\n",
       "  & locus\\_tag & Effect & Estimate\\\\\n",
       "  & <chr> & <fct> & <dbl>\\\\\n",
       "\\hline\n",
       "\t1 & CCNA\\_00001 & Intercept & 3.356621\\\\\n",
       "\t2 & CCNA\\_00002 & Intercept & 4.665810\\\\\n",
       "\\end{tabular}\n"
      ],
      "text/markdown": [
       "\n",
       "A data.frame: 2 × 3\n",
       "\n",
       "| <!--/--> | locus_tag &lt;chr&gt; | Effect &lt;fct&gt; | Estimate &lt;dbl&gt; |\n",
       "|---|---|---|---|\n",
       "| 1 | CCNA_00001 | Intercept | 3.356621 |\n",
       "| 2 | CCNA_00002 | Intercept | 4.665810 |\n",
       "\n"
      ],
      "text/plain": [
       "  locus_tag  Effect    Estimate\n",
       "1 CCNA_00001 Intercept 3.356621\n",
       "2 CCNA_00002 Intercept 4.665810"
      ]
     },
     "metadata": {},
     "output_type": "display_data"
    }
   ],
   "source": [
    "head(TC,2)"
   ]
  },
  {
   "cell_type": "code",
   "execution_count": 10,
   "id": "74f2fbac",
   "metadata": {},
   "outputs": [],
   "source": [
    "#%>%filter(condition!=\"NA\" & slevel!=\"NA\")"
   ]
  },
  {
   "cell_type": "code",
   "execution_count": 11,
   "id": "594ce1c3",
   "metadata": {},
   "outputs": [
    {
     "name": "stderr",
     "output_type": "stream",
     "text": [
      "Warning message:\n",
      "\"Expected 3 pieces. Missing pieces filled with `NA` in 81680 rows [1, 2, 3, 4, 5, 6, 7, 8, 9, 10, 11, 12, 13, 14, 15, 16, 17, 18, 19, 20, ...].\"\n"
     ]
    }
   ],
   "source": [
    "TC_filter <- TC%>%separate(Effect, c(\"strain\",\"condition\",\"slevel\"), \":\",remove=FALSE)%>%filter(condition!=\"NA\" & slevel!=\"NA\")%>%mutate(strain=gsub(\"strain\",\"\",strain),\n",
    "                                                                                                                                   condition=gsub(\"condition\",\"\",condition),\n",
    "                                                                                                                                   slevel=gsub(\"slevel\",\"\",slevel))%>%\n",
    "filter(Effect!=\"Intercept\")%>%mutate(condition=gsub(\"CONTROL\",\"none\",condition))"
   ]
  },
  {
   "cell_type": "code",
   "execution_count": 12,
   "id": "b33b3e72",
   "metadata": {},
   "outputs": [
    {
     "data": {
      "text/html": [
       "<table class=\"dataframe\">\n",
       "<caption>A data.frame: 6 × 6</caption>\n",
       "<thead>\n",
       "\t<tr><th></th><th scope=col>locus_tag</th><th scope=col>Effect</th><th scope=col>strain</th><th scope=col>condition</th><th scope=col>slevel</th><th scope=col>Estimate</th></tr>\n",
       "\t<tr><th></th><th scope=col>&lt;chr&gt;</th><th scope=col>&lt;fct&gt;</th><th scope=col>&lt;chr&gt;</th><th scope=col>&lt;chr&gt;</th><th scope=col>&lt;chr&gt;</th><th scope=col>&lt;dbl&gt;</th></tr>\n",
       "</thead>\n",
       "<tbody>\n",
       "\t<tr><th scope=row>1</th><td>CCNA_00001</td><td>strainwild-type:conditionheat:slevelLOW</td><td>wild-type</td><td>heat</td><td>LOW</td><td> 0.09104253</td></tr>\n",
       "\t<tr><th scope=row>2</th><td>CCNA_00002</td><td>strainwild-type:conditionheat:slevelLOW</td><td>wild-type</td><td>heat</td><td>LOW</td><td>-0.09296463</td></tr>\n",
       "\t<tr><th scope=row>3</th><td>CCNA_00003</td><td>strainwild-type:conditionheat:slevelLOW</td><td>wild-type</td><td>heat</td><td>LOW</td><td>-0.24017590</td></tr>\n",
       "\t<tr><th scope=row>4</th><td>CCNA_00004</td><td>strainwild-type:conditionheat:slevelLOW</td><td>wild-type</td><td>heat</td><td>LOW</td><td>-0.39609785</td></tr>\n",
       "\t<tr><th scope=row>5</th><td>CCNA_00005</td><td>strainwild-type:conditionheat:slevelLOW</td><td>wild-type</td><td>heat</td><td>LOW</td><td>-0.20476829</td></tr>\n",
       "\t<tr><th scope=row>6</th><td>CCNA_00006</td><td>strainwild-type:conditionheat:slevelLOW</td><td>wild-type</td><td>heat</td><td>LOW</td><td>-0.11481813</td></tr>\n",
       "</tbody>\n",
       "</table>\n"
      ],
      "text/latex": [
       "A data.frame: 6 × 6\n",
       "\\begin{tabular}{r|llllll}\n",
       "  & locus\\_tag & Effect & strain & condition & slevel & Estimate\\\\\n",
       "  & <chr> & <fct> & <chr> & <chr> & <chr> & <dbl>\\\\\n",
       "\\hline\n",
       "\t1 & CCNA\\_00001 & strainwild-type:conditionheat:slevelLOW & wild-type & heat & LOW &  0.09104253\\\\\n",
       "\t2 & CCNA\\_00002 & strainwild-type:conditionheat:slevelLOW & wild-type & heat & LOW & -0.09296463\\\\\n",
       "\t3 & CCNA\\_00003 & strainwild-type:conditionheat:slevelLOW & wild-type & heat & LOW & -0.24017590\\\\\n",
       "\t4 & CCNA\\_00004 & strainwild-type:conditionheat:slevelLOW & wild-type & heat & LOW & -0.39609785\\\\\n",
       "\t5 & CCNA\\_00005 & strainwild-type:conditionheat:slevelLOW & wild-type & heat & LOW & -0.20476829\\\\\n",
       "\t6 & CCNA\\_00006 & strainwild-type:conditionheat:slevelLOW & wild-type & heat & LOW & -0.11481813\\\\\n",
       "\\end{tabular}\n"
      ],
      "text/markdown": [
       "\n",
       "A data.frame: 6 × 6\n",
       "\n",
       "| <!--/--> | locus_tag &lt;chr&gt; | Effect &lt;fct&gt; | strain &lt;chr&gt; | condition &lt;chr&gt; | slevel &lt;chr&gt; | Estimate &lt;dbl&gt; |\n",
       "|---|---|---|---|---|---|---|\n",
       "| 1 | CCNA_00001 | strainwild-type:conditionheat:slevelLOW | wild-type | heat | LOW |  0.09104253 |\n",
       "| 2 | CCNA_00002 | strainwild-type:conditionheat:slevelLOW | wild-type | heat | LOW | -0.09296463 |\n",
       "| 3 | CCNA_00003 | strainwild-type:conditionheat:slevelLOW | wild-type | heat | LOW | -0.24017590 |\n",
       "| 4 | CCNA_00004 | strainwild-type:conditionheat:slevelLOW | wild-type | heat | LOW | -0.39609785 |\n",
       "| 5 | CCNA_00005 | strainwild-type:conditionheat:slevelLOW | wild-type | heat | LOW | -0.20476829 |\n",
       "| 6 | CCNA_00006 | strainwild-type:conditionheat:slevelLOW | wild-type | heat | LOW | -0.11481813 |\n",
       "\n"
      ],
      "text/plain": [
       "  locus_tag  Effect                                  strain    condition slevel\n",
       "1 CCNA_00001 strainwild-type:conditionheat:slevelLOW wild-type heat      LOW   \n",
       "2 CCNA_00002 strainwild-type:conditionheat:slevelLOW wild-type heat      LOW   \n",
       "3 CCNA_00003 strainwild-type:conditionheat:slevelLOW wild-type heat      LOW   \n",
       "4 CCNA_00004 strainwild-type:conditionheat:slevelLOW wild-type heat      LOW   \n",
       "5 CCNA_00005 strainwild-type:conditionheat:slevelLOW wild-type heat      LOW   \n",
       "6 CCNA_00006 strainwild-type:conditionheat:slevelLOW wild-type heat      LOW   \n",
       "  Estimate   \n",
       "1  0.09104253\n",
       "2 -0.09296463\n",
       "3 -0.24017590\n",
       "4 -0.39609785\n",
       "5 -0.20476829\n",
       "6 -0.11481813"
      ]
     },
     "metadata": {},
     "output_type": "display_data"
    }
   ],
   "source": [
    "head(TC_filter)"
   ]
  },
  {
   "cell_type": "code",
   "execution_count": 11,
   "id": "3be28195",
   "metadata": {},
   "outputs": [],
   "source": [
    "#TC_filter <- TC%>%separate(Effect, c(\"strain\",\"condition\",\"slevel\"), \":\",remove=FALSE)%>%drop_na()%>%filter(condition!=\"conditionnone\")%>%mutate(strain=gsub(\"strain\",\"\",strain),\n",
    "                                                                                                                                 #  condition=gsub(\"condition\",\"\",condition),\n",
    "                                                                                                                                 #  slevel=gsub(\"slevel\",\"\",slevel))"
   ]
  },
  {
   "cell_type": "code",
   "execution_count": 13,
   "id": "1d33c42f",
   "metadata": {},
   "outputs": [
    {
     "data": {
      "text/html": [
       "48007"
      ],
      "text/latex": [
       "48007"
      ],
      "text/markdown": [
       "48007"
      ],
      "text/plain": [
       "[1] 48007"
      ]
     },
     "metadata": {},
     "output_type": "display_data"
    }
   ],
   "source": [
    "nrow(f_genes)"
   ]
  },
  {
   "cell_type": "code",
   "execution_count": 14,
   "id": "dd35997b",
   "metadata": {},
   "outputs": [
    {
     "data": {
      "text/html": [
       "183780"
      ],
      "text/latex": [
       "183780"
      ],
      "text/markdown": [
       "183780"
      ],
      "text/plain": [
       "[1] 183780"
      ]
     },
     "metadata": {},
     "output_type": "display_data"
    }
   ],
   "source": [
    "nrow(TC_filter)"
   ]
  },
  {
   "cell_type": "code",
   "execution_count": 15,
   "id": "54c6375e",
   "metadata": {},
   "outputs": [],
   "source": [
    "TC <- merge(TC_filter,f_genes,by=c(\"strain\",\"condition\",\"slevel\",\"locus_tag\"),all.x = TRUE)%>%filter(locus_tag!=\"NA\")%>%filter(is.na(nonmodel))%>%select(-nonmodel)"
   ]
  },
  {
   "cell_type": "code",
   "execution_count": 16,
   "id": "51e41249",
   "metadata": {},
   "outputs": [
    {
     "data": {
      "text/html": [
       "140224"
      ],
      "text/latex": [
       "140224"
      ],
      "text/markdown": [
       "140224"
      ],
      "text/plain": [
       "[1] 140224"
      ]
     },
     "metadata": {},
     "output_type": "display_data"
    }
   ],
   "source": [
    "nrow(TC)"
   ]
  },
  {
   "cell_type": "code",
   "execution_count": 17,
   "id": "5d8a046e",
   "metadata": {},
   "outputs": [],
   "source": [
    "LFDR <- TC%>%group_by(Effect)%>%mutate(coeff_log2value=as.numeric(Estimate)/log(2))%>%mutate(Norm_effect=normalize(coeff_log2value))%>%drop_na(Norm_effect)%>%mutate(fdr=(fdrtool(Norm_effect,cutoff.method=\"locfdr\",plot=FALSE,verbose=FALSE)$lfdr))"
   ]
  },
  {
   "cell_type": "code",
   "execution_count": 18,
   "id": "e3b7da09",
   "metadata": {},
   "outputs": [],
   "source": [
    "TC_results <- merge(filter_genes,LFDR,by=c(\"locus_tag\",\"strain\",\"condition\",\"slevel\"),all.x=TRUE)%>%mutate( Annotation = case_when(\n",
    "                              fdr.y<0.10 & coeff_log2value >0 ~ \"Conditionally_Detrimental\",\n",
    "                              fdr.y<0.10 & coeff_log2value <0 ~ \"Conditionally_Beneficial\",fdr.y>=0.10~\"Conditionally_Neutral\",TRUE ~ as.character(Annotation)))%>%select(locus_tag,strain,condition,\n",
    "                              slevel,Annotation,Median,controlMedian,fdr.y,coeff_log2value,fdr.y)%>%dplyr::rename(fdr=fdr.y)%>%filter(condition!=\"none\")"
   ]
  },
  {
   "cell_type": "code",
   "execution_count": 19,
   "id": "fdf08b03",
   "metadata": {},
   "outputs": [],
   "source": [
    "write.table(TC_results,\"../../reports/Master Table/Unique_Counts_FDR_v2.TAB\",quote=FALSE,sep=\"\\t\")"
   ]
  },
  {
   "cell_type": "code",
   "execution_count": null,
   "id": "88a62326",
   "metadata": {},
   "outputs": [],
   "source": []
  }
 ],
 "metadata": {
  "kernelspec": {
   "display_name": "R",
   "language": "R",
   "name": "ir"
  },
  "language_info": {
   "codemirror_mode": "r",
   "file_extension": ".r",
   "mimetype": "text/x-r-source",
   "name": "R",
   "pygments_lexer": "r",
   "version": "4.2.0"
  }
 },
 "nbformat": 4,
 "nbformat_minor": 5
}

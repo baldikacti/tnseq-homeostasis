{
 "cells": [
  {
   "cell_type": "markdown",
   "metadata": {},
   "source": [
    "# PRE-PROCESSING  Unique MidCounts"
   ]
  },
  {
   "cell_type": "markdown",
   "metadata": {},
   "source": [
    "# Purpose"
   ]
  },
  {
   "cell_type": "markdown",
   "metadata": {},
   "source": [
    "To Prepare Necessary Data files of Unique Counts required for the modeling"
   ]
  },
  {
   "cell_type": "markdown",
   "metadata": {},
   "source": [
    "# Steps\n"
   ]
  },
  {
   "cell_type": "markdown",
   "metadata": {},
   "source": [
    "1) New Code to Import data from metadata files\n",
    "\n",
    "2) Import function automatically parses rep,batch and other metadata\n",
    "\n",
    "2) Adding Mean and Control Mean along with the effect to Data Frame"
   ]
  },
  {
   "cell_type": "markdown",
   "metadata": {},
   "source": [
    "# Outputs"
   ]
  },
  {
   "cell_type": "markdown",
   "metadata": {},
   "source": [
    "1) ../processed/UC.tsv \n",
    "\n",
    "2) ../processed/UC_meanadded.tsv"
   ]
  },
  {
   "cell_type": "code",
   "execution_count": 3,
   "metadata": {},
   "outputs": [],
   "source": [
    "# NOTEBOOK"
   ]
  },
  {
   "cell_type": "code",
   "execution_count": 9,
   "metadata": {},
   "outputs": [],
   "source": [
    "#Required Packages "
   ]
  },
  {
   "cell_type": "code",
   "execution_count": 1,
   "metadata": {},
   "outputs": [],
   "source": [
    "suppressWarnings(suppressMessages(library(tidyverse)))\n",
    "suppressWarnings(suppressMessages(require(reshape)))"
   ]
  },
  {
   "cell_type": "code",
   "execution_count": 2,
   "metadata": {},
   "outputs": [],
   "source": [
    "# Data Import and construct a large data frame containing all of the experiments in this batch."
   ]
  },
  {
   "cell_type": "code",
   "execution_count": 3,
   "metadata": {},
   "outputs": [],
   "source": [
    "## A Function That can Reurn dataframe from metadata file of filelocations,strain,condition,rep\n",
    "##Input : Metadata file\n",
    "## ouput :: Dataframe\n",
    "\n",
    "import_tndata <- function(file){\n",
    "\n",
    "##Creating a empty list to concatenate dataframes produced in the for loop\n",
    "tnfiles<- list()\n",
    "suppressWarnings(\n",
    "# For every row in the metadata file\n",
    "for (g in 1:nrow(file)){\n",
    "    # capture file location\n",
    "    floc=as.character(file$Filename[g])\n",
    "    # Check if file is a dataframe of merged replicates(n>1) or just one replicate \n",
    "    # if file has merged replicates, perform below operation\n",
    "    if ((file$Type[g]==\"MERGED\")& (file$nrep[g]>1)){\n",
    "    \n",
    "         tnfiles[[g]]<- read_tsv(floc, \n",
    "            col_names=c('ref', 'start', 'stop', 'tag', paste(\"rep\", seq(1,file$nrep[g]), sep=\"\")),\n",
    "            col_types=paste(\"ciic\",strrep(\"i\", file$nrep[g]), sep=\"\"), na='.') %>%  # read from csv with headers\n",
    "        dplyr::select(-ref, -start, -stop) %>%  # drop not-needed columns\n",
    "        gather(rep, tncnt, -tag) %>%\n",
    "        mutate(rep = parse_number(rep)) %>%\n",
    "        mutate(locus_tag = str_match(tag, \"locus_tag=([a-zA-Z0-9_]+)\")[,2])%>%add_column(strain=file$Strain[g],condition=file$Condition[g],batch=file$Batch[g],time=file$Time[g])%>%  # add background and condition columns\n",
    "        dplyr::select(strain, condition, locus_tag,rep,batch,time,tncnt)%>%mutate(tncnt=replace_na(tncnt, 0))%>%drop_na()\n",
    "\n",
    "    \n",
    "}\n",
    "    # if file has only one replicate per line, perform below operation\n",
    "   suppressMessages( if (file$Type[g]==\"REP\"){\n",
    "    \n",
    "         tnfiles[[g]]<- read_tsv(floc, na='.')  %>%  # drop not-needed columns\n",
    "        mutate(locus_tag = locus_tag)%>%mutate(tncnt = value)%>%\n",
    "        add_column(strain=file$Strain[g],condition=file$Condition[g],batch=file$Batch[g],rep=file$nrep[g],slevel=file$Slevel[g],time=file$Time[g])%>%  # add background and condition columns\n",
    "        dplyr::select(locus_tag,strain, condition,slevel,rep,batch,tncnt,time)%>%mutate(tncnt=replace_na(tncnt, 0))%>%drop_na()%>%filter(batch!=\".\")\n",
    "\n",
    "    \n",
    "    })\n",
    "    \n",
    "    \n",
    "})\n",
    "tn <- do.call(rbind, tnfiles)\n",
    "    return(tn)\n",
    "    \n",
    "    }"
   ]
  },
  {
   "cell_type": "code",
   "execution_count": 4,
   "metadata": {},
   "outputs": [],
   "source": [
    "# Input Sample Metadata of Unique counts to the import function"
   ]
  },
  {
   "cell_type": "code",
   "execution_count": 5,
   "metadata": {},
   "outputs": [],
   "source": [
    "metafile <- read.table(\"../../data//interim/p1p2p3_metadata_unique_mid.txt\",header=T)\n",
    "tn<- import_tndata(metafile)\n",
    "tn <- tn%>%filter(time!=0)\n",
    "tn <- tn%>%group_by(strain,condition,slevel,rep,batch,time)%>%mutate(Librarysize=sum(tncnt))%>%ungroup()\n",
    "write_tsv(tn, '../../data/processed/UC_mid_production1_2_3_4_5.tsv')"
   ]
  },
  {
   "cell_type": "code",
   "execution_count": 6,
   "metadata": {},
   "outputs": [],
   "source": [
    "# Writing UC data to TC.tsv "
   ]
  },
  {
   "cell_type": "code",
   "execution_count": 7,
   "metadata": {},
   "outputs": [],
   "source": [
    "#Adding Mean and Control Mean along with effect"
   ]
  },
  {
   "cell_type": "code",
   "execution_count": 8,
   "metadata": {},
   "outputs": [
    {
     "ename": "ERROR",
     "evalue": "Error in library(rnbtn): there is no package called 'rnbtn'\n",
     "output_type": "error",
     "traceback": [
      "Error in library(rnbtn): there is no package called 'rnbtn'\nTraceback:\n",
      "1. suppressWarnings(suppressMessages(library(rnbtn)))",
      "2. withCallingHandlers(expr, warning = function(w) if (inherits(w, \n .     classes)) tryInvokeRestart(\"muffleWarning\"))",
      "3. suppressMessages(library(rnbtn))",
      "4. withCallingHandlers(expr, message = function(c) if (inherits(c, \n .     classes)) tryInvokeRestart(\"muffleMessage\"))",
      "5. library(rnbtn)"
     ]
    }
   ],
   "source": [
    "suppressWarnings(suppressMessages(library(rnbtn)))\n",
    "fct_rel <- list(strain =c('WT','DLON','DCLPA','DKJ','DCLPB'), condition=c('CONTROL','HS','OS','CAN'), slevel=c('none','HIGH','MEDIUM','LOW'))\n",
    "\n",
    "tnmean <- rnbtn_mean_agg(df = tn,locus_tag = 'locus_tag',tncnt = 'tncnt',fctrel = fct_rel)\n",
    "tnmean%>%dplyr::filter(locus_tag==\"CCNA_03138\")"
   ]
  },
  {
   "cell_type": "code",
   "execution_count": 9,
   "metadata": {},
   "outputs": [],
   "source": [
    "write_tsv(tnmean, '../../data/processed/UC_mid_production1_2_3_4_5_mean.tsv')"
   ]
  },
  {
   "cell_type": "code",
   "execution_count": 25,
   "metadata": {},
   "outputs": [],
   "source": [
    "#library size"
   ]
  },
  {
   "cell_type": "code",
   "execution_count": 9,
   "metadata": {},
   "outputs": [
    {
     "name": "stderr",
     "output_type": "stream",
     "text": [
      "\u001b[1m\u001b[22m`summarise()` has grouped output by 'strain', 'condition', 'slevel', 'rep', 'batch'. You can override using\n",
      "the `.groups` argument.\n"
     ]
    }
   ],
   "source": [
    "ldf<- tn%>%group_by(strain,condition,slevel,rep,batch,time)%>%summarise(N=sum(tncnt))\n",
    "ldf$batch=as.factor(ldf$batch)\n",
    "ldf$rep=as.factor(ldf$rep)"
   ]
  },
  {
   "cell_type": "code",
   "execution_count": 12,
   "metadata": {},
   "outputs": [
    {
     "data": {
      "text/html": [
       "89739.2835820896"
      ],
      "text/latex": [
       "89739.2835820896"
      ],
      "text/markdown": [
       "89739.2835820896"
      ],
      "text/plain": [
       "[1] 89739.28"
      ]
     },
     "metadata": {},
     "output_type": "display_data"
    }
   ],
   "source": [
    "mean(ldf$N)"
   ]
  },
  {
   "cell_type": "code",
   "execution_count": 10,
   "metadata": {},
   "outputs": [
    {
     "data": {
      "text/html": [
       "<table class=\"dataframe\">\n",
       "<caption>A tibble: 5 × 2</caption>\n",
       "<thead>\n",
       "\t<tr><th scope=col>strain</th><th scope=col>name</th></tr>\n",
       "\t<tr><th scope=col>&lt;chr&gt;</th><th scope=col>&lt;dbl&gt;</th></tr>\n",
       "</thead>\n",
       "<tbody>\n",
       "\t<tr><td>DCLPA</td><td> 53129.54</td></tr>\n",
       "\t<tr><td>DCLPB</td><td> 30556.00</td></tr>\n",
       "\t<tr><td>DKJ  </td><td> 37059.25</td></tr>\n",
       "\t<tr><td>DLON </td><td>146410.36</td></tr>\n",
       "\t<tr><td>WT   </td><td>186481.55</td></tr>\n",
       "</tbody>\n",
       "</table>\n"
      ],
      "text/latex": [
       "A tibble: 5 × 2\n",
       "\\begin{tabular}{ll}\n",
       " strain & name\\\\\n",
       " <chr> & <dbl>\\\\\n",
       "\\hline\n",
       "\t DCLPA &  53129.54\\\\\n",
       "\t DCLPB &  30556.00\\\\\n",
       "\t DKJ   &  37059.25\\\\\n",
       "\t DLON  & 146410.36\\\\\n",
       "\t WT    & 186481.55\\\\\n",
       "\\end{tabular}\n"
      ],
      "text/markdown": [
       "\n",
       "A tibble: 5 × 2\n",
       "\n",
       "| strain &lt;chr&gt; | name &lt;dbl&gt; |\n",
       "|---|---|\n",
       "| DCLPA |  53129.54 |\n",
       "| DCLPB |  30556.00 |\n",
       "| DKJ   |  37059.25 |\n",
       "| DLON  | 146410.36 |\n",
       "| WT    | 186481.55 |\n",
       "\n"
      ],
      "text/plain": [
       "  strain name     \n",
       "1 DCLPA   53129.54\n",
       "2 DCLPB   30556.00\n",
       "3 DKJ     37059.25\n",
       "4 DLON   146410.36\n",
       "5 WT     186481.55"
      ]
     },
     "metadata": {},
     "output_type": "display_data"
    }
   ],
   "source": [
    "ldf%>%group_by(strain) %>%\n",
    "  summarise_at(vars(N), list(name = mean))"
   ]
  },
  {
   "cell_type": "code",
   "execution_count": 13,
   "metadata": {},
   "outputs": [
    {
     "data": {
      "text/html": [
       "<table class=\"dataframe\">\n",
       "<caption>A tibble: 4 × 2</caption>\n",
       "<thead>\n",
       "\t<tr><th scope=col>condition</th><th scope=col>name</th></tr>\n",
       "\t<tr><th scope=col>&lt;chr&gt;</th><th scope=col>&lt;dbl&gt;</th></tr>\n",
       "</thead>\n",
       "<tbody>\n",
       "\t<tr><td>CAN    </td><td> 91008.35</td></tr>\n",
       "\t<tr><td>CONTROL</td><td>100604.50</td></tr>\n",
       "\t<tr><td>HS     </td><td> 90436.60</td></tr>\n",
       "\t<tr><td>OS     </td><td> 84013.42</td></tr>\n",
       "</tbody>\n",
       "</table>\n"
      ],
      "text/latex": [
       "A tibble: 4 × 2\n",
       "\\begin{tabular}{ll}\n",
       " condition & name\\\\\n",
       " <chr> & <dbl>\\\\\n",
       "\\hline\n",
       "\t CAN     &  91008.35\\\\\n",
       "\t CONTROL & 100604.50\\\\\n",
       "\t HS      &  90436.60\\\\\n",
       "\t OS      &  84013.42\\\\\n",
       "\\end{tabular}\n"
      ],
      "text/markdown": [
       "\n",
       "A tibble: 4 × 2\n",
       "\n",
       "| condition &lt;chr&gt; | name &lt;dbl&gt; |\n",
       "|---|---|\n",
       "| CAN     |  91008.35 |\n",
       "| CONTROL | 100604.50 |\n",
       "| HS      |  90436.60 |\n",
       "| OS      |  84013.42 |\n",
       "\n"
      ],
      "text/plain": [
       "  condition name     \n",
       "1 CAN        91008.35\n",
       "2 CONTROL   100604.50\n",
       "3 HS         90436.60\n",
       "4 OS         84013.42"
      ]
     },
     "metadata": {},
     "output_type": "display_data"
    }
   ],
   "source": [
    "ldf%>%group_by(condition) %>%\n",
    "  summarise_at(vars(N), list(name = mean))"
   ]
  },
  {
   "cell_type": "code",
   "execution_count": 14,
   "metadata": {},
   "outputs": [
    {
     "data": {
      "text/html": [
       "<table class=\"dataframe\">\n",
       "<caption>A grouped_df: 20 × 3</caption>\n",
       "<thead>\n",
       "\t<tr><th scope=col>strain</th><th scope=col>condition</th><th scope=col>name</th></tr>\n",
       "\t<tr><th scope=col>&lt;chr&gt;</th><th scope=col>&lt;chr&gt;</th><th scope=col>&lt;dbl&gt;</th></tr>\n",
       "</thead>\n",
       "<tbody>\n",
       "\t<tr><td>DCLPA</td><td>CAN    </td><td> 53051.36</td></tr>\n",
       "\t<tr><td>DCLPA</td><td>CONTROL</td><td> 49058.75</td></tr>\n",
       "\t<tr><td>DCLPA</td><td>HS     </td><td> 47961.08</td></tr>\n",
       "\t<tr><td>DCLPA</td><td>OS     </td><td> 59726.58</td></tr>\n",
       "\t<tr><td>DCLPB</td><td>CAN    </td><td> 30588.07</td></tr>\n",
       "\t<tr><td>DCLPB</td><td>CONTROL</td><td> 29412.00</td></tr>\n",
       "\t<tr><td>DCLPB</td><td>HS     </td><td> 30835.42</td></tr>\n",
       "\t<tr><td>DCLPB</td><td>OS     </td><td> 30617.83</td></tr>\n",
       "\t<tr><td>DKJ  </td><td>CAN    </td><td> 34009.17</td></tr>\n",
       "\t<tr><td>DKJ  </td><td>CONTROL</td><td> 41007.00</td></tr>\n",
       "\t<tr><td>DKJ  </td><td>HS     </td><td> 39832.83</td></tr>\n",
       "\t<tr><td>DKJ  </td><td>OS     </td><td> 36019.83</td></tr>\n",
       "\t<tr><td>DLON </td><td>CAN    </td><td>164375.92</td></tr>\n",
       "\t<tr><td>DLON </td><td>CONTROL</td><td>176206.75</td></tr>\n",
       "\t<tr><td>DLON </td><td>HS     </td><td>149831.75</td></tr>\n",
       "\t<tr><td>DLON </td><td>OS     </td><td>112244.09</td></tr>\n",
       "\t<tr><td>WT   </td><td>CAN    </td><td>184959.25</td></tr>\n",
       "\t<tr><td>WT   </td><td>CONTROL</td><td>207338.00</td></tr>\n",
       "\t<tr><td>WT   </td><td>HS     </td><td>183721.92</td></tr>\n",
       "\t<tr><td>WT   </td><td>OS     </td><td>183811.33</td></tr>\n",
       "</tbody>\n",
       "</table>\n"
      ],
      "text/latex": [
       "A grouped\\_df: 20 × 3\n",
       "\\begin{tabular}{lll}\n",
       " strain & condition & name\\\\\n",
       " <chr> & <chr> & <dbl>\\\\\n",
       "\\hline\n",
       "\t DCLPA & CAN     &  53051.36\\\\\n",
       "\t DCLPA & CONTROL &  49058.75\\\\\n",
       "\t DCLPA & HS      &  47961.08\\\\\n",
       "\t DCLPA & OS      &  59726.58\\\\\n",
       "\t DCLPB & CAN     &  30588.07\\\\\n",
       "\t DCLPB & CONTROL &  29412.00\\\\\n",
       "\t DCLPB & HS      &  30835.42\\\\\n",
       "\t DCLPB & OS      &  30617.83\\\\\n",
       "\t DKJ   & CAN     &  34009.17\\\\\n",
       "\t DKJ   & CONTROL &  41007.00\\\\\n",
       "\t DKJ   & HS      &  39832.83\\\\\n",
       "\t DKJ   & OS      &  36019.83\\\\\n",
       "\t DLON  & CAN     & 164375.92\\\\\n",
       "\t DLON  & CONTROL & 176206.75\\\\\n",
       "\t DLON  & HS      & 149831.75\\\\\n",
       "\t DLON  & OS      & 112244.09\\\\\n",
       "\t WT    & CAN     & 184959.25\\\\\n",
       "\t WT    & CONTROL & 207338.00\\\\\n",
       "\t WT    & HS      & 183721.92\\\\\n",
       "\t WT    & OS      & 183811.33\\\\\n",
       "\\end{tabular}\n"
      ],
      "text/markdown": [
       "\n",
       "A grouped_df: 20 × 3\n",
       "\n",
       "| strain &lt;chr&gt; | condition &lt;chr&gt; | name &lt;dbl&gt; |\n",
       "|---|---|---|\n",
       "| DCLPA | CAN     |  53051.36 |\n",
       "| DCLPA | CONTROL |  49058.75 |\n",
       "| DCLPA | HS      |  47961.08 |\n",
       "| DCLPA | OS      |  59726.58 |\n",
       "| DCLPB | CAN     |  30588.07 |\n",
       "| DCLPB | CONTROL |  29412.00 |\n",
       "| DCLPB | HS      |  30835.42 |\n",
       "| DCLPB | OS      |  30617.83 |\n",
       "| DKJ   | CAN     |  34009.17 |\n",
       "| DKJ   | CONTROL |  41007.00 |\n",
       "| DKJ   | HS      |  39832.83 |\n",
       "| DKJ   | OS      |  36019.83 |\n",
       "| DLON  | CAN     | 164375.92 |\n",
       "| DLON  | CONTROL | 176206.75 |\n",
       "| DLON  | HS      | 149831.75 |\n",
       "| DLON  | OS      | 112244.09 |\n",
       "| WT    | CAN     | 184959.25 |\n",
       "| WT    | CONTROL | 207338.00 |\n",
       "| WT    | HS      | 183721.92 |\n",
       "| WT    | OS      | 183811.33 |\n",
       "\n"
      ],
      "text/plain": [
       "   strain condition name     \n",
       "1  DCLPA  CAN        53051.36\n",
       "2  DCLPA  CONTROL    49058.75\n",
       "3  DCLPA  HS         47961.08\n",
       "4  DCLPA  OS         59726.58\n",
       "5  DCLPB  CAN        30588.07\n",
       "6  DCLPB  CONTROL    29412.00\n",
       "7  DCLPB  HS         30835.42\n",
       "8  DCLPB  OS         30617.83\n",
       "9  DKJ    CAN        34009.17\n",
       "10 DKJ    CONTROL    41007.00\n",
       "11 DKJ    HS         39832.83\n",
       "12 DKJ    OS         36019.83\n",
       "13 DLON   CAN       164375.92\n",
       "14 DLON   CONTROL   176206.75\n",
       "15 DLON   HS        149831.75\n",
       "16 DLON   OS        112244.09\n",
       "17 WT     CAN       184959.25\n",
       "18 WT     CONTROL   207338.00\n",
       "19 WT     HS        183721.92\n",
       "20 WT     OS        183811.33"
      ]
     },
     "metadata": {},
     "output_type": "display_data"
    }
   ],
   "source": [
    "ldf%>%group_by(strain,condition) %>%\n",
    "  summarise_at(vars(N), list(name = mean))"
   ]
  },
  {
   "cell_type": "code",
   "execution_count": 15,
   "metadata": {},
   "outputs": [
    {
     "data": {
      "text/html": [
       "<table class=\"dataframe\">\n",
       "<caption>A tibble: 5 × 2</caption>\n",
       "<thead>\n",
       "\t<tr><th scope=col>batch</th><th scope=col>name</th></tr>\n",
       "\t<tr><th scope=col>&lt;fct&gt;</th><th scope=col>&lt;dbl&gt;</th></tr>\n",
       "</thead>\n",
       "<tbody>\n",
       "\t<tr><td>1</td><td>138705.27</td></tr>\n",
       "\t<tr><td>2</td><td>115869.86</td></tr>\n",
       "\t<tr><td>3</td><td> 50190.66</td></tr>\n",
       "\t<tr><td>4</td><td> 87492.50</td></tr>\n",
       "\t<tr><td>5</td><td> 31657.80</td></tr>\n",
       "</tbody>\n",
       "</table>\n"
      ],
      "text/latex": [
       "A tibble: 5 × 2\n",
       "\\begin{tabular}{ll}\n",
       " batch & name\\\\\n",
       " <fct> & <dbl>\\\\\n",
       "\\hline\n",
       "\t 1 & 138705.27\\\\\n",
       "\t 2 & 115869.86\\\\\n",
       "\t 3 &  50190.66\\\\\n",
       "\t 4 &  87492.50\\\\\n",
       "\t 5 &  31657.80\\\\\n",
       "\\end{tabular}\n"
      ],
      "text/markdown": [
       "\n",
       "A tibble: 5 × 2\n",
       "\n",
       "| batch &lt;fct&gt; | name &lt;dbl&gt; |\n",
       "|---|---|\n",
       "| 1 | 138705.27 |\n",
       "| 2 | 115869.86 |\n",
       "| 3 |  50190.66 |\n",
       "| 4 |  87492.50 |\n",
       "| 5 |  31657.80 |\n",
       "\n"
      ],
      "text/plain": [
       "  batch name     \n",
       "1 1     138705.27\n",
       "2 2     115869.86\n",
       "3 3      50190.66\n",
       "4 4      87492.50\n",
       "5 5      31657.80"
      ]
     },
     "metadata": {},
     "output_type": "display_data"
    }
   ],
   "source": [
    "ldf%>%group_by(batch) %>%4,016,942\n",
    "  summarise_at(vars(N), list(name = mean))"
   ]
  },
  {
   "cell_type": "code",
   "execution_count": 16,
   "metadata": {},
   "outputs": [
    {
     "name": "stderr",
     "output_type": "stream",
     "text": [
      "`summarise()` has grouped output by 'strain', 'condition', 'slevel', 'rep', 'batch'. You can override using the `.groups` argument.\n",
      "\n"
     ]
    },
    {
     "data": {
      "image/png": "[encoded data removed]",
      "text/plain": [
       "plot without title"
      ]
     },
     "metadata": {
      "image/png": {
       "height": 300,
       "width": 300
      }
     },
     "output_type": "display_data"
    }
   ],
   "source": [
    "ldf<- tn%>%group_by(strain,condition,slevel,rep,batch,time)%>%summarise(N=sum(tncnt))\n",
    "ldf$batch=as.factor(ldf$batch)\n",
    "ldf$rep=as.factor(ldf$rep)\n",
    "\n",
    "options(repr.plot.width=5, repr.plot.height=5)\n",
    "p1<- ggplot()+geom_jitter(data=ldf, aes(x=1, y=N, color=batch,shape=rep))+theme_bw()+ylab(\"Library Size\")+xlab(\"\")+theme(axis.line = element_line(colour = \"black\"),\n",
    "    panel.grid.major = element_blank(),\n",
    "    panel.grid.minor = element_blank(),\n",
    "    panel.border = element_blank(),\n",
    "    panel.background = element_blank())+ggtitle(\"Library sizes across all Samples\")+ylim(c(0,400000))\n",
    "#WT\n",
    "ldf1<- ldf%>%filter(strain==\"WT\")\n",
    "p2<- ggplot()+geom_jitter(data=ldf1, aes(x=1, y=N, color=batch,shape=rep))+theme_bw()+ylab(\"Library Size\")+xlab(\"\")+theme(axis.line = element_line(colour = \"black\"),\n",
    "    panel.grid.major = element_blank(),\n",
    "    panel.grid.minor = element_blank(),\n",
    "    panel.border = element_blank(),\n",
    "    panel.background = element_blank())+ggtitle(\"Library sizes across WT\")+ylim(c(0,400000))\n",
    "#dlon\n",
    "ldf2<- ldf%>%filter(strain==\"DLON\")\n",
    "p3<- ggplot()+geom_jitter(data=ldf2, aes(x=1, y=N, color=batch,shape=rep))+theme_bw()+ylab(\"Library Size\")+xlab(\"\")+theme(axis.line = element_line(colour = \"black\"),\n",
    "    panel.grid.major = element_blank(),\n",
    "    panel.grid.minor = element_blank(),\n",
    "    panel.border = element_blank(),\n",
    "    panel.background = element_blank())+ggtitle(\"Library sizes across DLON\")+ylim(c(0,400000))\n",
    "#dclpA\n",
    "ldf3<- ldf%>%filter(strain==\"DCLPA\")\n",
    "p4<- ggplot()+geom_jitter(data=ldf3, aes(x=1, y=N, color=batch,shape=rep))+theme_bw()+ylab(\"Library Size\")+xlab(\"\")+theme(axis.line = element_line(colour = \"black\"),\n",
    "    panel.grid.major = element_blank(),\n",
    "    panel.grid.minor = element_blank(),\n",
    "    panel.border = element_blank(),\n",
    "    panel.background = element_blank())+ggtitle(\"Library sizes across DCLPA\")+ylim(c(0,400000))\n",
    "#dclpB\n",
    "ldf4<- ldf%>%filter(strain==\"DCLPB\")\n",
    "p5<- ggplot()+geom_jitter(data=ldf4, aes(x=1, y=N, color=batch,shape=rep))+theme_bw()+ylab(\"Library Size\")+xlab(\"\")+theme(axis.line = element_line(colour = \"black\"),\n",
    "    panel.grid.major = element_blank(),\n",
    "    panel.grid.minor = element_blank(),\n",
    "    panel.border = element_blank(),\n",
    "    panel.background = element_blank())+ggtitle(\"Library sizes across DCLPB\")+ylim(c(0,400000))\n",
    "#DKJ\n",
    "ldf5<- ldf%>%filter(strain==\"DKJ\")\n",
    "p6<- ggplot()+geom_jitter(data=ldf5, aes(x=1, y=N, color=batch,shape=rep))+theme_bw()+ylab(\"Library Size\")+xlab(\"\")+theme(axis.line = element_line(colour = \"black\"),\n",
    "    panel.grid.major = element_blank(),\n",
    "    panel.grid.minor = element_blank(),\n",
    "    panel.border = element_blank(),\n",
    "    panel.background = element_blank())+ggtitle(\"Library sizes across DKJ\")+ylim(c(0,400000))\n",
    "library(gridExtra)\n",
    "p0 <- ggplot() + theme_void()\n",
    "p <- grid.arrange(p0,p1,p0,p2,p3,p4,p5,p6 ,ncol=3,heights = c(0.5,0.5,0.5))\n",
    "ggsave(filename = \"../../reports/production1_2_3/Library_size_UC.pdf\", device = \"pdf\",  plot = p, width = 15, height = 15, dpi = 300, units = \"in\")\n"
   ]
  },
  {
   "cell_type": "code",
   "execution_count": null,
   "metadata": {},
   "outputs": [],
   "source": []
  },
  {
   "cell_type": "code",
   "execution_count": null,
   "metadata": {},
   "outputs": [],
   "source": []
  }
 ],
 "metadata": {
  "kernelspec": {
   "display_name": "R",
   "language": "R",
   "name": "ir"
  },
  "language_info": {
   "codemirror_mode": "r",
   "file_extension": ".r",
   "mimetype": "text/x-r-source",
   "name": "R",
   "pygments_lexer": "r",
   "version": "4.2.0"
  }
 },
 "nbformat": 4,
 "nbformat_minor": 4
}

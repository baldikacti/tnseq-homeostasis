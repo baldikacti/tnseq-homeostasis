{
 "cells": [
  {
   "cell_type": "code",
   "execution_count": 1,
   "id": "8d98d46d-fbcd-40cc-8494-9c033aa23d18",
   "metadata": {},
   "outputs": [
    {
     "name": "stderr",
     "output_type": "stream",
     "text": [
      "Warning message:\n",
      "\"package 'reshape' was built under R version 4.2.3\"\n",
      "Warning message:\n",
      "\"package 'gridExtra' was built under R version 4.2.1\"\n",
      "Warning message:\n",
      "\"package 'ggpubr' was built under R version 4.2.1\"\n",
      "Warning message:\n",
      "\"package 'ggplot2' was built under R version 4.2.3\"\n"
     ]
    }
   ],
   "source": [
    "suppressWarnings(suppressMessages(library(dplyr)))\n",
    "suppressWarnings(suppressMessages(library(tidyr)))\n",
    "suppressMessages(require(reshape))\n",
    "suppressMessages(library(gridExtra))\n",
    "suppressMessages(library(RColorBrewer))\n",
    "suppressMessages(library(ggpubr))\n",
    "suppressWarnings(suppressMessages(library(viridis)))\n",
    "suppressWarnings(suppressMessages(library(viridis)))\n",
    "\n",
    "suppressWarnings(suppressMessages(library(UpSetR)))\n",
    "suppressWarnings(suppressMessages(library(ggplot2)))\n",
    "suppressWarnings(suppressMessages(library(ComplexUpset)))\n",
    "suppressWarnings(suppressMessages(library('ggplot2movies')))\n",
    "suppressWarnings(suppressMessages(library('ComplexHeatmap')))\n",
    "suppressWarnings(suppressMessages(library('ggplot2movies')))"
   ]
  },
  {
   "cell_type": "code",
   "execution_count": 14,
   "id": "97944dd6-9efb-47c6-b2e8-1b3eb889debe",
   "metadata": {},
   "outputs": [
    {
     "data": {
      "text/html": [
       "<style>\n",
       ".list-inline {list-style: none; margin:0; padding: 0}\n",
       ".list-inline>li {display: inline-block}\n",
       ".list-inline>li:not(:last-child)::after {content: \"\\00b7\"; padding: 0 .5ex}\n",
       "</style>\n",
       "<ol class=list-inline><li>'DCLPA'</li><li>'DCLPB'</li><li>'DLON'</li><li>'dnak-dnaJ'</li><li>'wild-type'</li></ol>\n"
      ],
      "text/latex": [
       "\\begin{enumerate*}\n",
       "\\item 'DCLPA'\n",
       "\\item 'DCLPB'\n",
       "\\item 'DLON'\n",
       "\\item 'dnak-dnaJ'\n",
       "\\item 'wild-type'\n",
       "\\end{enumerate*}\n"
      ],
      "text/markdown": [
       "1. 'DCLPA'\n",
       "2. 'DCLPB'\n",
       "3. 'DLON'\n",
       "4. 'dnak-dnaJ'\n",
       "5. 'wild-type'\n",
       "\n",
       "\n"
      ],
      "text/plain": [
       "[1] \"DCLPA\"     \"DCLPB\"     \"DLON\"      \"dnak-dnaJ\" \"wild-type\""
      ]
     },
     "metadata": {},
     "output_type": "display_data"
    }
   ],
   "source": [
    "unique((read.table(\"../../../reports/Master Table/RESULTS_FDR_LASTLEVELONLY_v2.TAB\",header=TRUE))$strain)"
   ]
  },
  {
   "cell_type": "code",
   "execution_count": 15,
   "id": "488fddc9-e1be-4f12-ae3d-e607c184b967",
   "metadata": {},
   "outputs": [
    {
     "data": {
      "text/html": [
       "<table class=\"dataframe\">\n",
       "<caption>A data.frame: 6 × 5</caption>\n",
       "<thead>\n",
       "\t<tr><th></th><th scope=col>locus_tag</th><th scope=col>cc_tag</th><th scope=col>geneID</th><th scope=col>protein_id</th><th scope=col>description</th></tr>\n",
       "\t<tr><th></th><th scope=col>&lt;chr&gt;</th><th scope=col>&lt;chr&gt;</th><th scope=col>&lt;chr&gt;</th><th scope=col>&lt;chr&gt;</th><th scope=col>&lt;chr&gt;</th></tr>\n",
       "</thead>\n",
       "<tbody>\n",
       "\t<tr><th scope=row>1</th><td>CCNA_00001</td><td>CC_0001</td><td>NA  </td><td>YP_002515376.1</td><td>ATP/GTP-binding protein     </td></tr>\n",
       "\t<tr><th scope=row>2</th><td>CCNA_00002</td><td>CC_0002</td><td>NA  </td><td>YP_002515377.1</td><td>septum formation protein Maf</td></tr>\n",
       "\t<tr><th scope=row>3</th><td>CCNA_00003</td><td>CC_0003</td><td>NA  </td><td>YP_002515378.1</td><td>shikimate 5-dehydrogenase   </td></tr>\n",
       "\t<tr><th scope=row>4</th><td>CCNA_00004</td><td>CC_0004</td><td>NA  </td><td>YP_002515379.1</td><td>dephospho-CoA kinase        </td></tr>\n",
       "\t<tr><th scope=row>5</th><td>CCNA_00005</td><td>CC_0005</td><td>dnaQ</td><td>NA            </td><td>NA                          </td></tr>\n",
       "\t<tr><th scope=row>6</th><td>CCNA_00006</td><td>CC_0006</td><td>NA  </td><td>YP_002515381.1</td><td>enoyl-CoA hydratase         </td></tr>\n",
       "</tbody>\n",
       "</table>\n"
      ],
      "text/latex": [
       "A data.frame: 6 × 5\n",
       "\\begin{tabular}{r|lllll}\n",
       "  & locus\\_tag & cc\\_tag & geneID & protein\\_id & description\\\\\n",
       "  & <chr> & <chr> & <chr> & <chr> & <chr>\\\\\n",
       "\\hline\n",
       "\t1 & CCNA\\_00001 & CC\\_0001 & NA   & YP\\_002515376.1 & ATP/GTP-binding protein     \\\\\n",
       "\t2 & CCNA\\_00002 & CC\\_0002 & NA   & YP\\_002515377.1 & septum formation protein Maf\\\\\n",
       "\t3 & CCNA\\_00003 & CC\\_0003 & NA   & YP\\_002515378.1 & shikimate 5-dehydrogenase   \\\\\n",
       "\t4 & CCNA\\_00004 & CC\\_0004 & NA   & YP\\_002515379.1 & dephospho-CoA kinase        \\\\\n",
       "\t5 & CCNA\\_00005 & CC\\_0005 & dnaQ & NA             & NA                          \\\\\n",
       "\t6 & CCNA\\_00006 & CC\\_0006 & NA   & YP\\_002515381.1 & enoyl-CoA hydratase         \\\\\n",
       "\\end{tabular}\n"
      ],
      "text/markdown": [
       "\n",
       "A data.frame: 6 × 5\n",
       "\n",
       "| <!--/--> | locus_tag &lt;chr&gt; | cc_tag &lt;chr&gt; | geneID &lt;chr&gt; | protein_id &lt;chr&gt; | description &lt;chr&gt; |\n",
       "|---|---|---|---|---|---|\n",
       "| 1 | CCNA_00001 | CC_0001 | NA   | YP_002515376.1 | ATP/GTP-binding protein      |\n",
       "| 2 | CCNA_00002 | CC_0002 | NA   | YP_002515377.1 | septum formation protein Maf |\n",
       "| 3 | CCNA_00003 | CC_0003 | NA   | YP_002515378.1 | shikimate 5-dehydrogenase    |\n",
       "| 4 | CCNA_00004 | CC_0004 | NA   | YP_002515379.1 | dephospho-CoA kinase         |\n",
       "| 5 | CCNA_00005 | CC_0005 | dnaQ | NA             | NA                           |\n",
       "| 6 | CCNA_00006 | CC_0006 | NA   | YP_002515381.1 | enoyl-CoA hydratase          |\n",
       "\n"
      ],
      "text/plain": [
       "  locus_tag  cc_tag  geneID protein_id     description                 \n",
       "1 CCNA_00001 CC_0001 NA     YP_002515376.1 ATP/GTP-binding protein     \n",
       "2 CCNA_00002 CC_0002 NA     YP_002515377.1 septum formation protein Maf\n",
       "3 CCNA_00003 CC_0003 NA     YP_002515378.1 shikimate 5-dehydrogenase   \n",
       "4 CCNA_00004 CC_0004 NA     YP_002515379.1 dephospho-CoA kinase        \n",
       "5 CCNA_00005 CC_0005 dnaQ   NA             NA                          \n",
       "6 CCNA_00006 CC_0006 NA     YP_002515381.1 enoyl-CoA hydratase         "
      ]
     },
     "metadata": {},
     "output_type": "display_data"
    }
   ],
   "source": [
    "df1 <- read.table(\"../../../reports/Master Table/RESULTS_FDR_LASTLEVELONLY_v2.TAB\",header=TRUE)\n",
    "gene <- read.csv(\"../../../../PNAS/DATA/CCNA_ref.csv\",header=TRUE,fill=TRUE)\n",
    "head(gene)"
   ]
  },
  {
   "cell_type": "code",
   "execution_count": 16,
   "id": "5aa4d955-ccc6-438a-b695-c10ad24aa7d3",
   "metadata": {},
   "outputs": [],
   "source": [
    "titleorder <- c('W:CN:L','W:CN:M','W:CN:H','W:HT:L','W:HT:M','W:HT:H','W:OS:L','W:OS:M','W:OS:H','K:CN:L',\n",
    "                'K:CN:M','K:CN:H','K:HT:L','K:HT:M','K:HT:H','K:OS:L','K:OS:M','K:OS:H','D:CN:L','D:CN:M',\n",
    "                'D:CN:H','D:HT:L','D:HT:M','D:HT:H','D:OS:L','D:OS:M','D:OS:H','A:CN:L','A:CN:M','A:CN:H',\n",
    "                'A:HT:L','A:HT:M','A:HT:H','A:OS:L','A:OS:M','A:OS:H','B:CN:L','B:CN:M','B:CN:H','B:HT:L',\n",
    "                'B:HT:M','B:HT:H','B:OS:L','B:OS:M','B:OS:H')"
   ]
  },
  {
   "cell_type": "code",
   "execution_count": 13,
   "id": "ae49ffbb-4889-41c8-87b7-b1f9f14f92ef",
   "metadata": {},
   "outputs": [
    {
     "ename": "ERROR",
     "evalue": "Error in eval(expr, envir, enclos): object 'Annotation_UC' not found\n",
     "output_type": "error",
     "traceback": [
      "Error in eval(expr, envir, enclos): object 'Annotation_UC' not found\nTraceback:\n"
     ]
    }
   ],
   "source": [
    "Annotation_UC"
   ]
  },
  {
   "cell_type": "code",
   "execution_count": 5,
   "id": "2fe6db6f-02a5-4c01-931f-69d02c434aba",
   "metadata": {},
   "outputs": [],
   "source": [
    "#strain"
   ]
  },
  {
   "cell_type": "code",
   "execution_count": 6,
   "id": "0413c23c-0e36-4a98-ac13-77faec48d801",
   "metadata": {},
   "outputs": [
    {
     "data": {
      "text/html": [
       "<style>\n",
       ".list-inline {list-style: none; margin:0; padding: 0}\n",
       ".list-inline>li {display: inline-block}\n",
       ".list-inline>li:not(:last-child)::after {content: \"\\00b7\"; padding: 0 .5ex}\n",
       "</style>\n",
       "<ol class=list-inline><li>'Essential'</li><li>'Conditionally_Neutral'</li><li>'Conditionally_Essential'</li><li>'Conditionally_Beneficial'</li><li>'Conditionally_Detrimental'</li></ol>\n"
      ],
      "text/latex": [
       "\\begin{enumerate*}\n",
       "\\item 'Essential'\n",
       "\\item 'Conditionally\\_Neutral'\n",
       "\\item 'Conditionally\\_Essential'\n",
       "\\item 'Conditionally\\_Beneficial'\n",
       "\\item 'Conditionally\\_Detrimental'\n",
       "\\end{enumerate*}\n"
      ],
      "text/markdown": [
       "1. 'Essential'\n",
       "2. 'Conditionally_Neutral'\n",
       "3. 'Conditionally_Essential'\n",
       "4. 'Conditionally_Beneficial'\n",
       "5. 'Conditionally_Detrimental'\n",
       "\n",
       "\n"
      ],
      "text/plain": [
       "[1] \"Essential\"                 \"Conditionally_Neutral\"    \n",
       "[3] \"Conditionally_Essential\"   \"Conditionally_Beneficial\" \n",
       "[5] \"Conditionally_Detrimental\""
      ]
     },
     "metadata": {},
     "output_type": "display_data"
    }
   ],
   "source": [
    "unique(df1$Annotation_UC)"
   ]
  },
  {
   "cell_type": "code",
   "execution_count": 17,
   "id": "083d8504-00b6-453e-8cf9-2a54e4b52f9a",
   "metadata": {},
   "outputs": [],
   "source": [
    "df <- df1%>%filter(Annotation_UC==\"Conditionally_Essential\"|Annotation_UC==\"Conditionally_Beneficial\"|Annotation_UC==\"Conditionally_Detrimental\")%>%select(strain,condition,slevel,locus_tag,controlMedian_UC,Annotation_UC)%>%unite(title,strain, condition, slevel, sep = \":\", remove = FALSE)\n",
    "df$title <- gsub(\"DLON\",\"D\",df$title)\n",
    "df$title <- gsub(\"dnak-dnaJ\",\"K\",df$title)\n",
    "df$title <- gsub(\"DCLPA\",\"A\",df$title)\n",
    "df$title <- gsub(\"DCLPB\",\"B\",df$title)\n",
    "df$title <- gsub(\"wild-type\",\"W\",df$title)\n",
    "df$title <- gsub(\"canavanine\",\"CN\",df$title)\n",
    "df$title <- gsub(\"oxidative-peroxide\",\"OS\",df$title)\n",
    "df$title <- gsub(\"heat\",\"HT\",df$title)\n",
    "df$title <- gsub(\"HIGH\",\"H\",df$title)\n",
    "df$title <- gsub(\"MEDIUM\",\"M\",df$title)\n",
    "df$title <- gsub(\"LOW\",\"L\",df$title)"
   ]
  },
  {
   "cell_type": "code",
   "execution_count": 18,
   "id": "2a0bc231-8880-4d1e-9142-91c42a2da9c5",
   "metadata": {},
   "outputs": [
    {
     "name": "stderr",
     "output_type": "stream",
     "text": [
      "Warning message:\n",
      "\"\u001b[1m\u001b[22mUsing an external vector in selections was deprecated in tidyselect 1.1.0.\n",
      "\u001b[36mℹ\u001b[39m Please use `all_of()` or `any_of()` instead.\n",
      "  # Was:\n",
      "  data %>% select(titleorder)\n",
      "\n",
      "  # Now:\n",
      "  data %>% select(all_of(titleorder))\n",
      "\n",
      "See <https://tidyselect.r-lib.org/reference/faq-external-vector.html>.\"\n"
     ]
    }
   ],
   "source": [
    "\n",
    "movies <- df%>%select(title,locus_tag,controlMedian_UC,Annotation_UC)%>%\n",
    "  pivot_wider(names_from = title, values_from = controlMedian_UC)%>% mutate_if(is.numeric, ~1 * (. > 0))\n",
    "movies[is.na(movies)] <- 0\n",
    "ltags <- movies$locus_tag\n",
    "movies <- movies[2:47]%>% select(Annotation_UC,titleorder)"
   ]
  },
  {
   "cell_type": "code",
   "execution_count": 19,
   "id": "fb1ab654-bc4f-4526-ae85-f5db6c003035",
   "metadata": {},
   "outputs": [
    {
     "data": {
      "text/html": [
       "<table class=\"dataframe\">\n",
       "<caption>A tibble: 3108 × 46</caption>\n",
       "<thead>\n",
       "\t<tr><th scope=col>Annotation_UC</th><th scope=col>W:CN:L</th><th scope=col>W:CN:M</th><th scope=col>W:CN:H</th><th scope=col>W:HT:L</th><th scope=col>W:HT:M</th><th scope=col>W:HT:H</th><th scope=col>W:OS:L</th><th scope=col>W:OS:M</th><th scope=col>W:OS:H</th><th scope=col>⋯</th><th scope=col>A:OS:H</th><th scope=col>B:CN:L</th><th scope=col>B:CN:M</th><th scope=col>B:CN:H</th><th scope=col>B:HT:L</th><th scope=col>B:HT:M</th><th scope=col>B:HT:H</th><th scope=col>B:OS:L</th><th scope=col>B:OS:M</th><th scope=col>B:OS:H</th></tr>\n",
       "\t<tr><th scope=col>&lt;chr&gt;</th><th scope=col>&lt;dbl&gt;</th><th scope=col>&lt;dbl&gt;</th><th scope=col>&lt;dbl&gt;</th><th scope=col>&lt;dbl&gt;</th><th scope=col>&lt;dbl&gt;</th><th scope=col>&lt;dbl&gt;</th><th scope=col>&lt;dbl&gt;</th><th scope=col>&lt;dbl&gt;</th><th scope=col>&lt;dbl&gt;</th><th scope=col>⋯</th><th scope=col>&lt;dbl&gt;</th><th scope=col>&lt;dbl&gt;</th><th scope=col>&lt;dbl&gt;</th><th scope=col>&lt;dbl&gt;</th><th scope=col>&lt;dbl&gt;</th><th scope=col>&lt;dbl&gt;</th><th scope=col>&lt;dbl&gt;</th><th scope=col>&lt;dbl&gt;</th><th scope=col>&lt;dbl&gt;</th><th scope=col>&lt;dbl&gt;</th></tr>\n",
       "</thead>\n",
       "<tbody>\n",
       "\t<tr><td>Conditionally_Essential  </td><td>0</td><td>0</td><td>0</td><td>0</td><td>0</td><td>0</td><td>0</td><td>0</td><td>0</td><td>⋯</td><td>0</td><td>0</td><td>0</td><td>0</td><td>0</td><td>1</td><td>1</td><td>0</td><td>0</td><td>0</td></tr>\n",
       "\t<tr><td>Conditionally_Essential  </td><td>0</td><td>0</td><td>0</td><td>0</td><td>0</td><td>0</td><td>0</td><td>0</td><td>0</td><td>⋯</td><td>1</td><td>0</td><td>0</td><td>0</td><td>0</td><td>0</td><td>0</td><td>0</td><td>0</td><td>0</td></tr>\n",
       "\t<tr><td>Conditionally_Beneficial </td><td>0</td><td>0</td><td>0</td><td>0</td><td>0</td><td>0</td><td>0</td><td>0</td><td>0</td><td>⋯</td><td>0</td><td>0</td><td>0</td><td>0</td><td>0</td><td>0</td><td>0</td><td>0</td><td>0</td><td>0</td></tr>\n",
       "\t<tr><td>Conditionally_Essential  </td><td>0</td><td>0</td><td>0</td><td>0</td><td>0</td><td>0</td><td>0</td><td>0</td><td>0</td><td>⋯</td><td>0</td><td>0</td><td>0</td><td>0</td><td>0</td><td>0</td><td>0</td><td>0</td><td>0</td><td>0</td></tr>\n",
       "\t<tr><td>Conditionally_Essential  </td><td>0</td><td>0</td><td>0</td><td>0</td><td>0</td><td>0</td><td>0</td><td>0</td><td>0</td><td>⋯</td><td>1</td><td>0</td><td>0</td><td>0</td><td>0</td><td>0</td><td>0</td><td>0</td><td>0</td><td>0</td></tr>\n",
       "\t<tr><td>Conditionally_Essential  </td><td>0</td><td>0</td><td>0</td><td>0</td><td>0</td><td>0</td><td>0</td><td>0</td><td>0</td><td>⋯</td><td>0</td><td>0</td><td>0</td><td>0</td><td>0</td><td>0</td><td>0</td><td>0</td><td>0</td><td>0</td></tr>\n",
       "\t<tr><td>Conditionally_Essential  </td><td>0</td><td>0</td><td>0</td><td>0</td><td>0</td><td>0</td><td>0</td><td>0</td><td>0</td><td>⋯</td><td>1</td><td>0</td><td>0</td><td>0</td><td>0</td><td>0</td><td>0</td><td>0</td><td>0</td><td>0</td></tr>\n",
       "\t<tr><td>Conditionally_Beneficial </td><td>0</td><td>0</td><td>1</td><td>0</td><td>0</td><td>1</td><td>0</td><td>0</td><td>0</td><td>⋯</td><td>0</td><td>0</td><td>0</td><td>0</td><td>0</td><td>0</td><td>0</td><td>0</td><td>0</td><td>0</td></tr>\n",
       "\t<tr><td>Conditionally_Essential  </td><td>0</td><td>0</td><td>0</td><td>0</td><td>0</td><td>0</td><td>0</td><td>0</td><td>0</td><td>⋯</td><td>0</td><td>0</td><td>0</td><td>0</td><td>0</td><td>0</td><td>0</td><td>0</td><td>0</td><td>0</td></tr>\n",
       "\t<tr><td>Conditionally_Beneficial </td><td>0</td><td>0</td><td>0</td><td>0</td><td>0</td><td>0</td><td>0</td><td>0</td><td>0</td><td>⋯</td><td>0</td><td>0</td><td>0</td><td>0</td><td>0</td><td>0</td><td>0</td><td>0</td><td>0</td><td>0</td></tr>\n",
       "\t<tr><td>Conditionally_Detrimental</td><td>0</td><td>0</td><td>0</td><td>0</td><td>0</td><td>0</td><td>0</td><td>0</td><td>0</td><td>⋯</td><td>0</td><td>0</td><td>0</td><td>0</td><td>0</td><td>0</td><td>0</td><td>0</td><td>0</td><td>0</td></tr>\n",
       "\t<tr><td>Conditionally_Beneficial </td><td>0</td><td>0</td><td>0</td><td>0</td><td>0</td><td>0</td><td>0</td><td>0</td><td>0</td><td>⋯</td><td>0</td><td>0</td><td>0</td><td>0</td><td>0</td><td>0</td><td>0</td><td>0</td><td>0</td><td>0</td></tr>\n",
       "\t<tr><td>Conditionally_Essential  </td><td>0</td><td>0</td><td>0</td><td>0</td><td>0</td><td>0</td><td>0</td><td>0</td><td>0</td><td>⋯</td><td>0</td><td>0</td><td>0</td><td>0</td><td>0</td><td>0</td><td>0</td><td>0</td><td>0</td><td>0</td></tr>\n",
       "\t<tr><td>Conditionally_Detrimental</td><td>0</td><td>0</td><td>0</td><td>0</td><td>0</td><td>0</td><td>0</td><td>0</td><td>0</td><td>⋯</td><td>0</td><td>0</td><td>0</td><td>0</td><td>0</td><td>0</td><td>0</td><td>0</td><td>0</td><td>0</td></tr>\n",
       "\t<tr><td>Conditionally_Detrimental</td><td>0</td><td>0</td><td>0</td><td>0</td><td>0</td><td>0</td><td>0</td><td>0</td><td>0</td><td>⋯</td><td>0</td><td>0</td><td>0</td><td>0</td><td>0</td><td>0</td><td>0</td><td>0</td><td>0</td><td>0</td></tr>\n",
       "\t<tr><td>Conditionally_Beneficial </td><td>0</td><td>0</td><td>1</td><td>0</td><td>0</td><td>0</td><td>0</td><td>0</td><td>0</td><td>⋯</td><td>0</td><td>0</td><td>0</td><td>0</td><td>0</td><td>0</td><td>0</td><td>0</td><td>0</td><td>0</td></tr>\n",
       "\t<tr><td>Conditionally_Essential  </td><td>0</td><td>0</td><td>0</td><td>0</td><td>0</td><td>0</td><td>0</td><td>0</td><td>0</td><td>⋯</td><td>0</td><td>0</td><td>0</td><td>0</td><td>0</td><td>0</td><td>0</td><td>0</td><td>0</td><td>0</td></tr>\n",
       "\t<tr><td>Conditionally_Essential  </td><td>0</td><td>0</td><td>0</td><td>0</td><td>0</td><td>0</td><td>0</td><td>0</td><td>0</td><td>⋯</td><td>1</td><td>0</td><td>0</td><td>0</td><td>0</td><td>0</td><td>0</td><td>0</td><td>0</td><td>0</td></tr>\n",
       "\t<tr><td>Conditionally_Detrimental</td><td>0</td><td>0</td><td>1</td><td>0</td><td>0</td><td>0</td><td>0</td><td>0</td><td>0</td><td>⋯</td><td>0</td><td>0</td><td>0</td><td>0</td><td>0</td><td>0</td><td>0</td><td>0</td><td>0</td><td>0</td></tr>\n",
       "\t<tr><td>Conditionally_Essential  </td><td>0</td><td>0</td><td>0</td><td>0</td><td>0</td><td>0</td><td>0</td><td>0</td><td>0</td><td>⋯</td><td>0</td><td>0</td><td>0</td><td>0</td><td>0</td><td>0</td><td>0</td><td>0</td><td>0</td><td>0</td></tr>\n",
       "\t<tr><td>Conditionally_Essential  </td><td>0</td><td>1</td><td>1</td><td>0</td><td>0</td><td>0</td><td>0</td><td>1</td><td>0</td><td>⋯</td><td>0</td><td>0</td><td>0</td><td>0</td><td>0</td><td>0</td><td>0</td><td>0</td><td>0</td><td>0</td></tr>\n",
       "\t<tr><td>Conditionally_Essential  </td><td>0</td><td>1</td><td>0</td><td>1</td><td>0</td><td>0</td><td>1</td><td>1</td><td>1</td><td>⋯</td><td>0</td><td>0</td><td>0</td><td>0</td><td>0</td><td>0</td><td>0</td><td>0</td><td>0</td><td>0</td></tr>\n",
       "\t<tr><td>Conditionally_Essential  </td><td>0</td><td>0</td><td>0</td><td>0</td><td>0</td><td>0</td><td>0</td><td>0</td><td>0</td><td>⋯</td><td>0</td><td>1</td><td>1</td><td>1</td><td>1</td><td>1</td><td>1</td><td>1</td><td>1</td><td>1</td></tr>\n",
       "\t<tr><td>Conditionally_Essential  </td><td>0</td><td>0</td><td>0</td><td>0</td><td>0</td><td>0</td><td>0</td><td>0</td><td>0</td><td>⋯</td><td>0</td><td>0</td><td>0</td><td>0</td><td>0</td><td>0</td><td>0</td><td>0</td><td>0</td><td>0</td></tr>\n",
       "\t<tr><td>Conditionally_Detrimental</td><td>0</td><td>0</td><td>0</td><td>0</td><td>0</td><td>0</td><td>0</td><td>0</td><td>0</td><td>⋯</td><td>0</td><td>0</td><td>0</td><td>0</td><td>0</td><td>0</td><td>0</td><td>0</td><td>0</td><td>0</td></tr>\n",
       "\t<tr><td>Conditionally_Beneficial </td><td>1</td><td>0</td><td>1</td><td>0</td><td>0</td><td>1</td><td>0</td><td>0</td><td>0</td><td>⋯</td><td>1</td><td>0</td><td>0</td><td>0</td><td>0</td><td>0</td><td>0</td><td>0</td><td>0</td><td>0</td></tr>\n",
       "\t<tr><td>Conditionally_Beneficial </td><td>0</td><td>0</td><td>0</td><td>0</td><td>0</td><td>0</td><td>0</td><td>0</td><td>0</td><td>⋯</td><td>0</td><td>0</td><td>0</td><td>0</td><td>0</td><td>0</td><td>0</td><td>0</td><td>0</td><td>0</td></tr>\n",
       "\t<tr><td>Conditionally_Detrimental</td><td>0</td><td>0</td><td>1</td><td>0</td><td>0</td><td>0</td><td>0</td><td>0</td><td>0</td><td>⋯</td><td>0</td><td>0</td><td>0</td><td>1</td><td>0</td><td>0</td><td>0</td><td>0</td><td>0</td><td>0</td></tr>\n",
       "\t<tr><td>Conditionally_Detrimental</td><td>0</td><td>0</td><td>0</td><td>0</td><td>0</td><td>0</td><td>0</td><td>0</td><td>0</td><td>⋯</td><td>0</td><td>0</td><td>0</td><td>0</td><td>0</td><td>0</td><td>0</td><td>0</td><td>0</td><td>0</td></tr>\n",
       "\t<tr><td>Conditionally_Detrimental</td><td>0</td><td>0</td><td>0</td><td>0</td><td>0</td><td>0</td><td>0</td><td>0</td><td>0</td><td>⋯</td><td>0</td><td>0</td><td>0</td><td>0</td><td>0</td><td>1</td><td>0</td><td>0</td><td>0</td><td>0</td></tr>\n",
       "\t<tr><td>⋮</td><td>⋮</td><td>⋮</td><td>⋮</td><td>⋮</td><td>⋮</td><td>⋮</td><td>⋮</td><td>⋮</td><td>⋮</td><td>⋱</td><td>⋮</td><td>⋮</td><td>⋮</td><td>⋮</td><td>⋮</td><td>⋮</td><td>⋮</td><td>⋮</td><td>⋮</td><td>⋮</td></tr>\n",
       "\t<tr><td>Conditionally_Detrimental</td><td>0</td><td>0</td><td>0</td><td>0</td><td>0</td><td>0</td><td>1</td><td>0</td><td>0</td><td>⋯</td><td>0</td><td>0</td><td>0</td><td>0</td><td>0</td><td>0</td><td>0</td><td>0</td><td>0</td><td>0</td></tr>\n",
       "\t<tr><td>Conditionally_Detrimental</td><td>0</td><td>0</td><td>0</td><td>0</td><td>0</td><td>0</td><td>1</td><td>0</td><td>0</td><td>⋯</td><td>0</td><td>0</td><td>0</td><td>0</td><td>0</td><td>0</td><td>0</td><td>0</td><td>0</td><td>0</td></tr>\n",
       "\t<tr><td>Conditionally_Detrimental</td><td>0</td><td>0</td><td>0</td><td>0</td><td>0</td><td>0</td><td>1</td><td>0</td><td>0</td><td>⋯</td><td>0</td><td>0</td><td>0</td><td>0</td><td>0</td><td>0</td><td>0</td><td>0</td><td>0</td><td>0</td></tr>\n",
       "\t<tr><td>Conditionally_Beneficial </td><td>0</td><td>0</td><td>0</td><td>0</td><td>0</td><td>0</td><td>1</td><td>0</td><td>0</td><td>⋯</td><td>0</td><td>0</td><td>0</td><td>0</td><td>0</td><td>0</td><td>0</td><td>0</td><td>0</td><td>0</td></tr>\n",
       "\t<tr><td>Conditionally_Beneficial </td><td>0</td><td>0</td><td>0</td><td>0</td><td>0</td><td>0</td><td>1</td><td>0</td><td>0</td><td>⋯</td><td>0</td><td>0</td><td>0</td><td>0</td><td>0</td><td>0</td><td>0</td><td>0</td><td>0</td><td>0</td></tr>\n",
       "\t<tr><td>Conditionally_Detrimental</td><td>0</td><td>0</td><td>0</td><td>0</td><td>0</td><td>0</td><td>1</td><td>0</td><td>0</td><td>⋯</td><td>0</td><td>0</td><td>0</td><td>0</td><td>0</td><td>0</td><td>0</td><td>0</td><td>0</td><td>0</td></tr>\n",
       "\t<tr><td>Conditionally_Beneficial </td><td>0</td><td>0</td><td>0</td><td>0</td><td>0</td><td>0</td><td>1</td><td>0</td><td>0</td><td>⋯</td><td>0</td><td>0</td><td>0</td><td>0</td><td>0</td><td>0</td><td>0</td><td>0</td><td>0</td><td>0</td></tr>\n",
       "\t<tr><td>Conditionally_Detrimental</td><td>0</td><td>0</td><td>0</td><td>0</td><td>0</td><td>0</td><td>1</td><td>0</td><td>0</td><td>⋯</td><td>0</td><td>0</td><td>0</td><td>0</td><td>0</td><td>0</td><td>0</td><td>0</td><td>0</td><td>0</td></tr>\n",
       "\t<tr><td>Conditionally_Beneficial </td><td>0</td><td>0</td><td>0</td><td>0</td><td>0</td><td>0</td><td>1</td><td>0</td><td>0</td><td>⋯</td><td>0</td><td>0</td><td>0</td><td>0</td><td>0</td><td>0</td><td>0</td><td>0</td><td>0</td><td>0</td></tr>\n",
       "\t<tr><td>Conditionally_Detrimental</td><td>0</td><td>0</td><td>0</td><td>0</td><td>0</td><td>0</td><td>1</td><td>0</td><td>0</td><td>⋯</td><td>0</td><td>0</td><td>0</td><td>0</td><td>0</td><td>0</td><td>0</td><td>0</td><td>0</td><td>0</td></tr>\n",
       "\t<tr><td>Conditionally_Detrimental</td><td>0</td><td>0</td><td>0</td><td>0</td><td>0</td><td>0</td><td>1</td><td>0</td><td>0</td><td>⋯</td><td>0</td><td>0</td><td>0</td><td>0</td><td>0</td><td>0</td><td>0</td><td>0</td><td>0</td><td>0</td></tr>\n",
       "\t<tr><td>Conditionally_Detrimental</td><td>0</td><td>0</td><td>0</td><td>0</td><td>0</td><td>0</td><td>1</td><td>0</td><td>0</td><td>⋯</td><td>0</td><td>0</td><td>0</td><td>0</td><td>0</td><td>0</td><td>0</td><td>0</td><td>0</td><td>0</td></tr>\n",
       "\t<tr><td>Conditionally_Detrimental</td><td>0</td><td>0</td><td>0</td><td>0</td><td>0</td><td>0</td><td>0</td><td>1</td><td>0</td><td>⋯</td><td>0</td><td>0</td><td>0</td><td>0</td><td>0</td><td>0</td><td>0</td><td>0</td><td>0</td><td>0</td></tr>\n",
       "\t<tr><td>Conditionally_Detrimental</td><td>0</td><td>0</td><td>0</td><td>0</td><td>0</td><td>0</td><td>0</td><td>1</td><td>0</td><td>⋯</td><td>0</td><td>0</td><td>0</td><td>0</td><td>0</td><td>0</td><td>0</td><td>0</td><td>0</td><td>0</td></tr>\n",
       "\t<tr><td>Conditionally_Beneficial </td><td>0</td><td>0</td><td>0</td><td>0</td><td>0</td><td>0</td><td>0</td><td>1</td><td>0</td><td>⋯</td><td>0</td><td>0</td><td>0</td><td>0</td><td>0</td><td>0</td><td>0</td><td>0</td><td>0</td><td>0</td></tr>\n",
       "\t<tr><td>Conditionally_Detrimental</td><td>0</td><td>0</td><td>0</td><td>0</td><td>0</td><td>0</td><td>0</td><td>1</td><td>0</td><td>⋯</td><td>0</td><td>0</td><td>0</td><td>0</td><td>0</td><td>0</td><td>0</td><td>0</td><td>0</td><td>0</td></tr>\n",
       "\t<tr><td>Conditionally_Detrimental</td><td>0</td><td>0</td><td>0</td><td>0</td><td>0</td><td>0</td><td>0</td><td>1</td><td>0</td><td>⋯</td><td>0</td><td>0</td><td>0</td><td>0</td><td>0</td><td>0</td><td>0</td><td>0</td><td>0</td><td>0</td></tr>\n",
       "\t<tr><td>Conditionally_Detrimental</td><td>0</td><td>0</td><td>0</td><td>0</td><td>0</td><td>0</td><td>0</td><td>1</td><td>0</td><td>⋯</td><td>0</td><td>0</td><td>0</td><td>0</td><td>0</td><td>0</td><td>0</td><td>0</td><td>0</td><td>0</td></tr>\n",
       "\t<tr><td>Conditionally_Detrimental</td><td>0</td><td>0</td><td>0</td><td>0</td><td>0</td><td>0</td><td>0</td><td>1</td><td>0</td><td>⋯</td><td>0</td><td>0</td><td>0</td><td>0</td><td>0</td><td>0</td><td>0</td><td>0</td><td>0</td><td>0</td></tr>\n",
       "\t<tr><td>Conditionally_Detrimental</td><td>0</td><td>0</td><td>0</td><td>0</td><td>0</td><td>0</td><td>0</td><td>1</td><td>0</td><td>⋯</td><td>0</td><td>0</td><td>0</td><td>0</td><td>0</td><td>0</td><td>0</td><td>0</td><td>0</td><td>0</td></tr>\n",
       "\t<tr><td>Conditionally_Beneficial </td><td>0</td><td>0</td><td>0</td><td>0</td><td>0</td><td>0</td><td>0</td><td>1</td><td>0</td><td>⋯</td><td>0</td><td>0</td><td>0</td><td>0</td><td>0</td><td>0</td><td>0</td><td>0</td><td>0</td><td>0</td></tr>\n",
       "\t<tr><td>Conditionally_Detrimental</td><td>0</td><td>0</td><td>0</td><td>0</td><td>0</td><td>0</td><td>0</td><td>1</td><td>0</td><td>⋯</td><td>0</td><td>0</td><td>0</td><td>0</td><td>0</td><td>0</td><td>0</td><td>0</td><td>0</td><td>0</td></tr>\n",
       "\t<tr><td>Conditionally_Detrimental</td><td>0</td><td>0</td><td>0</td><td>0</td><td>0</td><td>0</td><td>0</td><td>1</td><td>0</td><td>⋯</td><td>0</td><td>0</td><td>0</td><td>0</td><td>0</td><td>0</td><td>0</td><td>0</td><td>0</td><td>0</td></tr>\n",
       "\t<tr><td>Conditionally_Beneficial </td><td>0</td><td>0</td><td>0</td><td>0</td><td>0</td><td>0</td><td>0</td><td>1</td><td>0</td><td>⋯</td><td>0</td><td>0</td><td>0</td><td>0</td><td>0</td><td>0</td><td>0</td><td>0</td><td>0</td><td>0</td></tr>\n",
       "\t<tr><td>Conditionally_Beneficial </td><td>0</td><td>0</td><td>0</td><td>0</td><td>0</td><td>0</td><td>0</td><td>1</td><td>0</td><td>⋯</td><td>0</td><td>0</td><td>0</td><td>0</td><td>0</td><td>0</td><td>0</td><td>0</td><td>0</td><td>0</td></tr>\n",
       "\t<tr><td>Conditionally_Detrimental</td><td>0</td><td>0</td><td>0</td><td>0</td><td>0</td><td>0</td><td>0</td><td>1</td><td>0</td><td>⋯</td><td>0</td><td>0</td><td>0</td><td>0</td><td>0</td><td>0</td><td>0</td><td>0</td><td>0</td><td>0</td></tr>\n",
       "\t<tr><td>Conditionally_Beneficial </td><td>0</td><td>0</td><td>0</td><td>0</td><td>0</td><td>0</td><td>0</td><td>1</td><td>0</td><td>⋯</td><td>0</td><td>0</td><td>0</td><td>0</td><td>0</td><td>0</td><td>0</td><td>0</td><td>0</td><td>0</td></tr>\n",
       "\t<tr><td>Conditionally_Detrimental</td><td>0</td><td>0</td><td>0</td><td>0</td><td>0</td><td>0</td><td>0</td><td>1</td><td>0</td><td>⋯</td><td>0</td><td>0</td><td>0</td><td>0</td><td>0</td><td>0</td><td>0</td><td>0</td><td>0</td><td>0</td></tr>\n",
       "\t<tr><td>Conditionally_Detrimental</td><td>0</td><td>0</td><td>0</td><td>0</td><td>0</td><td>0</td><td>0</td><td>1</td><td>0</td><td>⋯</td><td>0</td><td>0</td><td>0</td><td>0</td><td>0</td><td>0</td><td>0</td><td>0</td><td>0</td><td>0</td></tr>\n",
       "\t<tr><td>Conditionally_Detrimental</td><td>0</td><td>0</td><td>0</td><td>0</td><td>0</td><td>0</td><td>0</td><td>1</td><td>0</td><td>⋯</td><td>0</td><td>0</td><td>0</td><td>0</td><td>0</td><td>0</td><td>0</td><td>0</td><td>0</td><td>0</td></tr>\n",
       "</tbody>\n",
       "</table>\n"
      ],
      "text/latex": [
       "A tibble: 3108 × 46\n",
       "\\begin{tabular}{lllllllllllllllllllll}\n",
       " Annotation\\_UC & W:CN:L & W:CN:M & W:CN:H & W:HT:L & W:HT:M & W:HT:H & W:OS:L & W:OS:M & W:OS:H & ⋯ & A:OS:H & B:CN:L & B:CN:M & B:CN:H & B:HT:L & B:HT:M & B:HT:H & B:OS:L & B:OS:M & B:OS:H\\\\\n",
       " <chr> & <dbl> & <dbl> & <dbl> & <dbl> & <dbl> & <dbl> & <dbl> & <dbl> & <dbl> & ⋯ & <dbl> & <dbl> & <dbl> & <dbl> & <dbl> & <dbl> & <dbl> & <dbl> & <dbl> & <dbl>\\\\\n",
       "\\hline\n",
       "\t Conditionally\\_Essential   & 0 & 0 & 0 & 0 & 0 & 0 & 0 & 0 & 0 & ⋯ & 0 & 0 & 0 & 0 & 0 & 1 & 1 & 0 & 0 & 0\\\\\n",
       "\t Conditionally\\_Essential   & 0 & 0 & 0 & 0 & 0 & 0 & 0 & 0 & 0 & ⋯ & 1 & 0 & 0 & 0 & 0 & 0 & 0 & 0 & 0 & 0\\\\\n",
       "\t Conditionally\\_Beneficial  & 0 & 0 & 0 & 0 & 0 & 0 & 0 & 0 & 0 & ⋯ & 0 & 0 & 0 & 0 & 0 & 0 & 0 & 0 & 0 & 0\\\\\n",
       "\t Conditionally\\_Essential   & 0 & 0 & 0 & 0 & 0 & 0 & 0 & 0 & 0 & ⋯ & 0 & 0 & 0 & 0 & 0 & 0 & 0 & 0 & 0 & 0\\\\\n",
       "\t Conditionally\\_Essential   & 0 & 0 & 0 & 0 & 0 & 0 & 0 & 0 & 0 & ⋯ & 1 & 0 & 0 & 0 & 0 & 0 & 0 & 0 & 0 & 0\\\\\n",
       "\t Conditionally\\_Essential   & 0 & 0 & 0 & 0 & 0 & 0 & 0 & 0 & 0 & ⋯ & 0 & 0 & 0 & 0 & 0 & 0 & 0 & 0 & 0 & 0\\\\\n",
       "\t Conditionally\\_Essential   & 0 & 0 & 0 & 0 & 0 & 0 & 0 & 0 & 0 & ⋯ & 1 & 0 & 0 & 0 & 0 & 0 & 0 & 0 & 0 & 0\\\\\n",
       "\t Conditionally\\_Beneficial  & 0 & 0 & 1 & 0 & 0 & 1 & 0 & 0 & 0 & ⋯ & 0 & 0 & 0 & 0 & 0 & 0 & 0 & 0 & 0 & 0\\\\\n",
       "\t Conditionally\\_Essential   & 0 & 0 & 0 & 0 & 0 & 0 & 0 & 0 & 0 & ⋯ & 0 & 0 & 0 & 0 & 0 & 0 & 0 & 0 & 0 & 0\\\\\n",
       "\t Conditionally\\_Beneficial  & 0 & 0 & 0 & 0 & 0 & 0 & 0 & 0 & 0 & ⋯ & 0 & 0 & 0 & 0 & 0 & 0 & 0 & 0 & 0 & 0\\\\\n",
       "\t Conditionally\\_Detrimental & 0 & 0 & 0 & 0 & 0 & 0 & 0 & 0 & 0 & ⋯ & 0 & 0 & 0 & 0 & 0 & 0 & 0 & 0 & 0 & 0\\\\\n",
       "\t Conditionally\\_Beneficial  & 0 & 0 & 0 & 0 & 0 & 0 & 0 & 0 & 0 & ⋯ & 0 & 0 & 0 & 0 & 0 & 0 & 0 & 0 & 0 & 0\\\\\n",
       "\t Conditionally\\_Essential   & 0 & 0 & 0 & 0 & 0 & 0 & 0 & 0 & 0 & ⋯ & 0 & 0 & 0 & 0 & 0 & 0 & 0 & 0 & 0 & 0\\\\\n",
       "\t Conditionally\\_Detrimental & 0 & 0 & 0 & 0 & 0 & 0 & 0 & 0 & 0 & ⋯ & 0 & 0 & 0 & 0 & 0 & 0 & 0 & 0 & 0 & 0\\\\\n",
       "\t Conditionally\\_Detrimental & 0 & 0 & 0 & 0 & 0 & 0 & 0 & 0 & 0 & ⋯ & 0 & 0 & 0 & 0 & 0 & 0 & 0 & 0 & 0 & 0\\\\\n",
       "\t Conditionally\\_Beneficial  & 0 & 0 & 1 & 0 & 0 & 0 & 0 & 0 & 0 & ⋯ & 0 & 0 & 0 & 0 & 0 & 0 & 0 & 0 & 0 & 0\\\\\n",
       "\t Conditionally\\_Essential   & 0 & 0 & 0 & 0 & 0 & 0 & 0 & 0 & 0 & ⋯ & 0 & 0 & 0 & 0 & 0 & 0 & 0 & 0 & 0 & 0\\\\\n",
       "\t Conditionally\\_Essential   & 0 & 0 & 0 & 0 & 0 & 0 & 0 & 0 & 0 & ⋯ & 1 & 0 & 0 & 0 & 0 & 0 & 0 & 0 & 0 & 0\\\\\n",
       "\t Conditionally\\_Detrimental & 0 & 0 & 1 & 0 & 0 & 0 & 0 & 0 & 0 & ⋯ & 0 & 0 & 0 & 0 & 0 & 0 & 0 & 0 & 0 & 0\\\\\n",
       "\t Conditionally\\_Essential   & 0 & 0 & 0 & 0 & 0 & 0 & 0 & 0 & 0 & ⋯ & 0 & 0 & 0 & 0 & 0 & 0 & 0 & 0 & 0 & 0\\\\\n",
       "\t Conditionally\\_Essential   & 0 & 1 & 1 & 0 & 0 & 0 & 0 & 1 & 0 & ⋯ & 0 & 0 & 0 & 0 & 0 & 0 & 0 & 0 & 0 & 0\\\\\n",
       "\t Conditionally\\_Essential   & 0 & 1 & 0 & 1 & 0 & 0 & 1 & 1 & 1 & ⋯ & 0 & 0 & 0 & 0 & 0 & 0 & 0 & 0 & 0 & 0\\\\\n",
       "\t Conditionally\\_Essential   & 0 & 0 & 0 & 0 & 0 & 0 & 0 & 0 & 0 & ⋯ & 0 & 1 & 1 & 1 & 1 & 1 & 1 & 1 & 1 & 1\\\\\n",
       "\t Conditionally\\_Essential   & 0 & 0 & 0 & 0 & 0 & 0 & 0 & 0 & 0 & ⋯ & 0 & 0 & 0 & 0 & 0 & 0 & 0 & 0 & 0 & 0\\\\\n",
       "\t Conditionally\\_Detrimental & 0 & 0 & 0 & 0 & 0 & 0 & 0 & 0 & 0 & ⋯ & 0 & 0 & 0 & 0 & 0 & 0 & 0 & 0 & 0 & 0\\\\\n",
       "\t Conditionally\\_Beneficial  & 1 & 0 & 1 & 0 & 0 & 1 & 0 & 0 & 0 & ⋯ & 1 & 0 & 0 & 0 & 0 & 0 & 0 & 0 & 0 & 0\\\\\n",
       "\t Conditionally\\_Beneficial  & 0 & 0 & 0 & 0 & 0 & 0 & 0 & 0 & 0 & ⋯ & 0 & 0 & 0 & 0 & 0 & 0 & 0 & 0 & 0 & 0\\\\\n",
       "\t Conditionally\\_Detrimental & 0 & 0 & 1 & 0 & 0 & 0 & 0 & 0 & 0 & ⋯ & 0 & 0 & 0 & 1 & 0 & 0 & 0 & 0 & 0 & 0\\\\\n",
       "\t Conditionally\\_Detrimental & 0 & 0 & 0 & 0 & 0 & 0 & 0 & 0 & 0 & ⋯ & 0 & 0 & 0 & 0 & 0 & 0 & 0 & 0 & 0 & 0\\\\\n",
       "\t Conditionally\\_Detrimental & 0 & 0 & 0 & 0 & 0 & 0 & 0 & 0 & 0 & ⋯ & 0 & 0 & 0 & 0 & 0 & 1 & 0 & 0 & 0 & 0\\\\\n",
       "\t ⋮ & ⋮ & ⋮ & ⋮ & ⋮ & ⋮ & ⋮ & ⋮ & ⋮ & ⋮ & ⋱ & ⋮ & ⋮ & ⋮ & ⋮ & ⋮ & ⋮ & ⋮ & ⋮ & ⋮ & ⋮\\\\\n",
       "\t Conditionally\\_Detrimental & 0 & 0 & 0 & 0 & 0 & 0 & 1 & 0 & 0 & ⋯ & 0 & 0 & 0 & 0 & 0 & 0 & 0 & 0 & 0 & 0\\\\\n",
       "\t Conditionally\\_Detrimental & 0 & 0 & 0 & 0 & 0 & 0 & 1 & 0 & 0 & ⋯ & 0 & 0 & 0 & 0 & 0 & 0 & 0 & 0 & 0 & 0\\\\\n",
       "\t Conditionally\\_Detrimental & 0 & 0 & 0 & 0 & 0 & 0 & 1 & 0 & 0 & ⋯ & 0 & 0 & 0 & 0 & 0 & 0 & 0 & 0 & 0 & 0\\\\\n",
       "\t Conditionally\\_Beneficial  & 0 & 0 & 0 & 0 & 0 & 0 & 1 & 0 & 0 & ⋯ & 0 & 0 & 0 & 0 & 0 & 0 & 0 & 0 & 0 & 0\\\\\n",
       "\t Conditionally\\_Beneficial  & 0 & 0 & 0 & 0 & 0 & 0 & 1 & 0 & 0 & ⋯ & 0 & 0 & 0 & 0 & 0 & 0 & 0 & 0 & 0 & 0\\\\\n",
       "\t Conditionally\\_Detrimental & 0 & 0 & 0 & 0 & 0 & 0 & 1 & 0 & 0 & ⋯ & 0 & 0 & 0 & 0 & 0 & 0 & 0 & 0 & 0 & 0\\\\\n",
       "\t Conditionally\\_Beneficial  & 0 & 0 & 0 & 0 & 0 & 0 & 1 & 0 & 0 & ⋯ & 0 & 0 & 0 & 0 & 0 & 0 & 0 & 0 & 0 & 0\\\\\n",
       "\t Conditionally\\_Detrimental & 0 & 0 & 0 & 0 & 0 & 0 & 1 & 0 & 0 & ⋯ & 0 & 0 & 0 & 0 & 0 & 0 & 0 & 0 & 0 & 0\\\\\n",
       "\t Conditionally\\_Beneficial  & 0 & 0 & 0 & 0 & 0 & 0 & 1 & 0 & 0 & ⋯ & 0 & 0 & 0 & 0 & 0 & 0 & 0 & 0 & 0 & 0\\\\\n",
       "\t Conditionally\\_Detrimental & 0 & 0 & 0 & 0 & 0 & 0 & 1 & 0 & 0 & ⋯ & 0 & 0 & 0 & 0 & 0 & 0 & 0 & 0 & 0 & 0\\\\\n",
       "\t Conditionally\\_Detrimental & 0 & 0 & 0 & 0 & 0 & 0 & 1 & 0 & 0 & ⋯ & 0 & 0 & 0 & 0 & 0 & 0 & 0 & 0 & 0 & 0\\\\\n",
       "\t Conditionally\\_Detrimental & 0 & 0 & 0 & 0 & 0 & 0 & 1 & 0 & 0 & ⋯ & 0 & 0 & 0 & 0 & 0 & 0 & 0 & 0 & 0 & 0\\\\\n",
       "\t Conditionally\\_Detrimental & 0 & 0 & 0 & 0 & 0 & 0 & 0 & 1 & 0 & ⋯ & 0 & 0 & 0 & 0 & 0 & 0 & 0 & 0 & 0 & 0\\\\\n",
       "\t Conditionally\\_Detrimental & 0 & 0 & 0 & 0 & 0 & 0 & 0 & 1 & 0 & ⋯ & 0 & 0 & 0 & 0 & 0 & 0 & 0 & 0 & 0 & 0\\\\\n",
       "\t Conditionally\\_Beneficial  & 0 & 0 & 0 & 0 & 0 & 0 & 0 & 1 & 0 & ⋯ & 0 & 0 & 0 & 0 & 0 & 0 & 0 & 0 & 0 & 0\\\\\n",
       "\t Conditionally\\_Detrimental & 0 & 0 & 0 & 0 & 0 & 0 & 0 & 1 & 0 & ⋯ & 0 & 0 & 0 & 0 & 0 & 0 & 0 & 0 & 0 & 0\\\\\n",
       "\t Conditionally\\_Detrimental & 0 & 0 & 0 & 0 & 0 & 0 & 0 & 1 & 0 & ⋯ & 0 & 0 & 0 & 0 & 0 & 0 & 0 & 0 & 0 & 0\\\\\n",
       "\t Conditionally\\_Detrimental & 0 & 0 & 0 & 0 & 0 & 0 & 0 & 1 & 0 & ⋯ & 0 & 0 & 0 & 0 & 0 & 0 & 0 & 0 & 0 & 0\\\\\n",
       "\t Conditionally\\_Detrimental & 0 & 0 & 0 & 0 & 0 & 0 & 0 & 1 & 0 & ⋯ & 0 & 0 & 0 & 0 & 0 & 0 & 0 & 0 & 0 & 0\\\\\n",
       "\t Conditionally\\_Detrimental & 0 & 0 & 0 & 0 & 0 & 0 & 0 & 1 & 0 & ⋯ & 0 & 0 & 0 & 0 & 0 & 0 & 0 & 0 & 0 & 0\\\\\n",
       "\t Conditionally\\_Beneficial  & 0 & 0 & 0 & 0 & 0 & 0 & 0 & 1 & 0 & ⋯ & 0 & 0 & 0 & 0 & 0 & 0 & 0 & 0 & 0 & 0\\\\\n",
       "\t Conditionally\\_Detrimental & 0 & 0 & 0 & 0 & 0 & 0 & 0 & 1 & 0 & ⋯ & 0 & 0 & 0 & 0 & 0 & 0 & 0 & 0 & 0 & 0\\\\\n",
       "\t Conditionally\\_Detrimental & 0 & 0 & 0 & 0 & 0 & 0 & 0 & 1 & 0 & ⋯ & 0 & 0 & 0 & 0 & 0 & 0 & 0 & 0 & 0 & 0\\\\\n",
       "\t Conditionally\\_Beneficial  & 0 & 0 & 0 & 0 & 0 & 0 & 0 & 1 & 0 & ⋯ & 0 & 0 & 0 & 0 & 0 & 0 & 0 & 0 & 0 & 0\\\\\n",
       "\t Conditionally\\_Beneficial  & 0 & 0 & 0 & 0 & 0 & 0 & 0 & 1 & 0 & ⋯ & 0 & 0 & 0 & 0 & 0 & 0 & 0 & 0 & 0 & 0\\\\\n",
       "\t Conditionally\\_Detrimental & 0 & 0 & 0 & 0 & 0 & 0 & 0 & 1 & 0 & ⋯ & 0 & 0 & 0 & 0 & 0 & 0 & 0 & 0 & 0 & 0\\\\\n",
       "\t Conditionally\\_Beneficial  & 0 & 0 & 0 & 0 & 0 & 0 & 0 & 1 & 0 & ⋯ & 0 & 0 & 0 & 0 & 0 & 0 & 0 & 0 & 0 & 0\\\\\n",
       "\t Conditionally\\_Detrimental & 0 & 0 & 0 & 0 & 0 & 0 & 0 & 1 & 0 & ⋯ & 0 & 0 & 0 & 0 & 0 & 0 & 0 & 0 & 0 & 0\\\\\n",
       "\t Conditionally\\_Detrimental & 0 & 0 & 0 & 0 & 0 & 0 & 0 & 1 & 0 & ⋯ & 0 & 0 & 0 & 0 & 0 & 0 & 0 & 0 & 0 & 0\\\\\n",
       "\t Conditionally\\_Detrimental & 0 & 0 & 0 & 0 & 0 & 0 & 0 & 1 & 0 & ⋯ & 0 & 0 & 0 & 0 & 0 & 0 & 0 & 0 & 0 & 0\\\\\n",
       "\\end{tabular}\n"
      ],
      "text/markdown": [
       "\n",
       "A tibble: 3108 × 46\n",
       "\n",
       "| Annotation_UC &lt;chr&gt; | W:CN:L &lt;dbl&gt; | W:CN:M &lt;dbl&gt; | W:CN:H &lt;dbl&gt; | W:HT:L &lt;dbl&gt; | W:HT:M &lt;dbl&gt; | W:HT:H &lt;dbl&gt; | W:OS:L &lt;dbl&gt; | W:OS:M &lt;dbl&gt; | W:OS:H &lt;dbl&gt; | ⋯ ⋯ | A:OS:H &lt;dbl&gt; | B:CN:L &lt;dbl&gt; | B:CN:M &lt;dbl&gt; | B:CN:H &lt;dbl&gt; | B:HT:L &lt;dbl&gt; | B:HT:M &lt;dbl&gt; | B:HT:H &lt;dbl&gt; | B:OS:L &lt;dbl&gt; | B:OS:M &lt;dbl&gt; | B:OS:H &lt;dbl&gt; |\n",
       "|---|---|---|---|---|---|---|---|---|---|---|---|---|---|---|---|---|---|---|---|---|\n",
       "| Conditionally_Essential   | 0 | 0 | 0 | 0 | 0 | 0 | 0 | 0 | 0 | ⋯ | 0 | 0 | 0 | 0 | 0 | 1 | 1 | 0 | 0 | 0 |\n",
       "| Conditionally_Essential   | 0 | 0 | 0 | 0 | 0 | 0 | 0 | 0 | 0 | ⋯ | 1 | 0 | 0 | 0 | 0 | 0 | 0 | 0 | 0 | 0 |\n",
       "| Conditionally_Beneficial  | 0 | 0 | 0 | 0 | 0 | 0 | 0 | 0 | 0 | ⋯ | 0 | 0 | 0 | 0 | 0 | 0 | 0 | 0 | 0 | 0 |\n",
       "| Conditionally_Essential   | 0 | 0 | 0 | 0 | 0 | 0 | 0 | 0 | 0 | ⋯ | 0 | 0 | 0 | 0 | 0 | 0 | 0 | 0 | 0 | 0 |\n",
       "| Conditionally_Essential   | 0 | 0 | 0 | 0 | 0 | 0 | 0 | 0 | 0 | ⋯ | 1 | 0 | 0 | 0 | 0 | 0 | 0 | 0 | 0 | 0 |\n",
       "| Conditionally_Essential   | 0 | 0 | 0 | 0 | 0 | 0 | 0 | 0 | 0 | ⋯ | 0 | 0 | 0 | 0 | 0 | 0 | 0 | 0 | 0 | 0 |\n",
       "| Conditionally_Essential   | 0 | 0 | 0 | 0 | 0 | 0 | 0 | 0 | 0 | ⋯ | 1 | 0 | 0 | 0 | 0 | 0 | 0 | 0 | 0 | 0 |\n",
       "| Conditionally_Beneficial  | 0 | 0 | 1 | 0 | 0 | 1 | 0 | 0 | 0 | ⋯ | 0 | 0 | 0 | 0 | 0 | 0 | 0 | 0 | 0 | 0 |\n",
       "| Conditionally_Essential   | 0 | 0 | 0 | 0 | 0 | 0 | 0 | 0 | 0 | ⋯ | 0 | 0 | 0 | 0 | 0 | 0 | 0 | 0 | 0 | 0 |\n",
       "| Conditionally_Beneficial  | 0 | 0 | 0 | 0 | 0 | 0 | 0 | 0 | 0 | ⋯ | 0 | 0 | 0 | 0 | 0 | 0 | 0 | 0 | 0 | 0 |\n",
       "| Conditionally_Detrimental | 0 | 0 | 0 | 0 | 0 | 0 | 0 | 0 | 0 | ⋯ | 0 | 0 | 0 | 0 | 0 | 0 | 0 | 0 | 0 | 0 |\n",
       "| Conditionally_Beneficial  | 0 | 0 | 0 | 0 | 0 | 0 | 0 | 0 | 0 | ⋯ | 0 | 0 | 0 | 0 | 0 | 0 | 0 | 0 | 0 | 0 |\n",
       "| Conditionally_Essential   | 0 | 0 | 0 | 0 | 0 | 0 | 0 | 0 | 0 | ⋯ | 0 | 0 | 0 | 0 | 0 | 0 | 0 | 0 | 0 | 0 |\n",
       "| Conditionally_Detrimental | 0 | 0 | 0 | 0 | 0 | 0 | 0 | 0 | 0 | ⋯ | 0 | 0 | 0 | 0 | 0 | 0 | 0 | 0 | 0 | 0 |\n",
       "| Conditionally_Detrimental | 0 | 0 | 0 | 0 | 0 | 0 | 0 | 0 | 0 | ⋯ | 0 | 0 | 0 | 0 | 0 | 0 | 0 | 0 | 0 | 0 |\n",
       "| Conditionally_Beneficial  | 0 | 0 | 1 | 0 | 0 | 0 | 0 | 0 | 0 | ⋯ | 0 | 0 | 0 | 0 | 0 | 0 | 0 | 0 | 0 | 0 |\n",
       "| Conditionally_Essential   | 0 | 0 | 0 | 0 | 0 | 0 | 0 | 0 | 0 | ⋯ | 0 | 0 | 0 | 0 | 0 | 0 | 0 | 0 | 0 | 0 |\n",
       "| Conditionally_Essential   | 0 | 0 | 0 | 0 | 0 | 0 | 0 | 0 | 0 | ⋯ | 1 | 0 | 0 | 0 | 0 | 0 | 0 | 0 | 0 | 0 |\n",
       "| Conditionally_Detrimental | 0 | 0 | 1 | 0 | 0 | 0 | 0 | 0 | 0 | ⋯ | 0 | 0 | 0 | 0 | 0 | 0 | 0 | 0 | 0 | 0 |\n",
       "| Conditionally_Essential   | 0 | 0 | 0 | 0 | 0 | 0 | 0 | 0 | 0 | ⋯ | 0 | 0 | 0 | 0 | 0 | 0 | 0 | 0 | 0 | 0 |\n",
       "| Conditionally_Essential   | 0 | 1 | 1 | 0 | 0 | 0 | 0 | 1 | 0 | ⋯ | 0 | 0 | 0 | 0 | 0 | 0 | 0 | 0 | 0 | 0 |\n",
       "| Conditionally_Essential   | 0 | 1 | 0 | 1 | 0 | 0 | 1 | 1 | 1 | ⋯ | 0 | 0 | 0 | 0 | 0 | 0 | 0 | 0 | 0 | 0 |\n",
       "| Conditionally_Essential   | 0 | 0 | 0 | 0 | 0 | 0 | 0 | 0 | 0 | ⋯ | 0 | 1 | 1 | 1 | 1 | 1 | 1 | 1 | 1 | 1 |\n",
       "| Conditionally_Essential   | 0 | 0 | 0 | 0 | 0 | 0 | 0 | 0 | 0 | ⋯ | 0 | 0 | 0 | 0 | 0 | 0 | 0 | 0 | 0 | 0 |\n",
       "| Conditionally_Detrimental | 0 | 0 | 0 | 0 | 0 | 0 | 0 | 0 | 0 | ⋯ | 0 | 0 | 0 | 0 | 0 | 0 | 0 | 0 | 0 | 0 |\n",
       "| Conditionally_Beneficial  | 1 | 0 | 1 | 0 | 0 | 1 | 0 | 0 | 0 | ⋯ | 1 | 0 | 0 | 0 | 0 | 0 | 0 | 0 | 0 | 0 |\n",
       "| Conditionally_Beneficial  | 0 | 0 | 0 | 0 | 0 | 0 | 0 | 0 | 0 | ⋯ | 0 | 0 | 0 | 0 | 0 | 0 | 0 | 0 | 0 | 0 |\n",
       "| Conditionally_Detrimental | 0 | 0 | 1 | 0 | 0 | 0 | 0 | 0 | 0 | ⋯ | 0 | 0 | 0 | 1 | 0 | 0 | 0 | 0 | 0 | 0 |\n",
       "| Conditionally_Detrimental | 0 | 0 | 0 | 0 | 0 | 0 | 0 | 0 | 0 | ⋯ | 0 | 0 | 0 | 0 | 0 | 0 | 0 | 0 | 0 | 0 |\n",
       "| Conditionally_Detrimental | 0 | 0 | 0 | 0 | 0 | 0 | 0 | 0 | 0 | ⋯ | 0 | 0 | 0 | 0 | 0 | 1 | 0 | 0 | 0 | 0 |\n",
       "| ⋮ | ⋮ | ⋮ | ⋮ | ⋮ | ⋮ | ⋮ | ⋮ | ⋮ | ⋮ | ⋱ | ⋮ | ⋮ | ⋮ | ⋮ | ⋮ | ⋮ | ⋮ | ⋮ | ⋮ | ⋮ |\n",
       "| Conditionally_Detrimental | 0 | 0 | 0 | 0 | 0 | 0 | 1 | 0 | 0 | ⋯ | 0 | 0 | 0 | 0 | 0 | 0 | 0 | 0 | 0 | 0 |\n",
       "| Conditionally_Detrimental | 0 | 0 | 0 | 0 | 0 | 0 | 1 | 0 | 0 | ⋯ | 0 | 0 | 0 | 0 | 0 | 0 | 0 | 0 | 0 | 0 |\n",
       "| Conditionally_Detrimental | 0 | 0 | 0 | 0 | 0 | 0 | 1 | 0 | 0 | ⋯ | 0 | 0 | 0 | 0 | 0 | 0 | 0 | 0 | 0 | 0 |\n",
       "| Conditionally_Beneficial  | 0 | 0 | 0 | 0 | 0 | 0 | 1 | 0 | 0 | ⋯ | 0 | 0 | 0 | 0 | 0 | 0 | 0 | 0 | 0 | 0 |\n",
       "| Conditionally_Beneficial  | 0 | 0 | 0 | 0 | 0 | 0 | 1 | 0 | 0 | ⋯ | 0 | 0 | 0 | 0 | 0 | 0 | 0 | 0 | 0 | 0 |\n",
       "| Conditionally_Detrimental | 0 | 0 | 0 | 0 | 0 | 0 | 1 | 0 | 0 | ⋯ | 0 | 0 | 0 | 0 | 0 | 0 | 0 | 0 | 0 | 0 |\n",
       "| Conditionally_Beneficial  | 0 | 0 | 0 | 0 | 0 | 0 | 1 | 0 | 0 | ⋯ | 0 | 0 | 0 | 0 | 0 | 0 | 0 | 0 | 0 | 0 |\n",
       "| Conditionally_Detrimental | 0 | 0 | 0 | 0 | 0 | 0 | 1 | 0 | 0 | ⋯ | 0 | 0 | 0 | 0 | 0 | 0 | 0 | 0 | 0 | 0 |\n",
       "| Conditionally_Beneficial  | 0 | 0 | 0 | 0 | 0 | 0 | 1 | 0 | 0 | ⋯ | 0 | 0 | 0 | 0 | 0 | 0 | 0 | 0 | 0 | 0 |\n",
       "| Conditionally_Detrimental | 0 | 0 | 0 | 0 | 0 | 0 | 1 | 0 | 0 | ⋯ | 0 | 0 | 0 | 0 | 0 | 0 | 0 | 0 | 0 | 0 |\n",
       "| Conditionally_Detrimental | 0 | 0 | 0 | 0 | 0 | 0 | 1 | 0 | 0 | ⋯ | 0 | 0 | 0 | 0 | 0 | 0 | 0 | 0 | 0 | 0 |\n",
       "| Conditionally_Detrimental | 0 | 0 | 0 | 0 | 0 | 0 | 1 | 0 | 0 | ⋯ | 0 | 0 | 0 | 0 | 0 | 0 | 0 | 0 | 0 | 0 |\n",
       "| Conditionally_Detrimental | 0 | 0 | 0 | 0 | 0 | 0 | 0 | 1 | 0 | ⋯ | 0 | 0 | 0 | 0 | 0 | 0 | 0 | 0 | 0 | 0 |\n",
       "| Conditionally_Detrimental | 0 | 0 | 0 | 0 | 0 | 0 | 0 | 1 | 0 | ⋯ | 0 | 0 | 0 | 0 | 0 | 0 | 0 | 0 | 0 | 0 |\n",
       "| Conditionally_Beneficial  | 0 | 0 | 0 | 0 | 0 | 0 | 0 | 1 | 0 | ⋯ | 0 | 0 | 0 | 0 | 0 | 0 | 0 | 0 | 0 | 0 |\n",
       "| Conditionally_Detrimental | 0 | 0 | 0 | 0 | 0 | 0 | 0 | 1 | 0 | ⋯ | 0 | 0 | 0 | 0 | 0 | 0 | 0 | 0 | 0 | 0 |\n",
       "| Conditionally_Detrimental | 0 | 0 | 0 | 0 | 0 | 0 | 0 | 1 | 0 | ⋯ | 0 | 0 | 0 | 0 | 0 | 0 | 0 | 0 | 0 | 0 |\n",
       "| Conditionally_Detrimental | 0 | 0 | 0 | 0 | 0 | 0 | 0 | 1 | 0 | ⋯ | 0 | 0 | 0 | 0 | 0 | 0 | 0 | 0 | 0 | 0 |\n",
       "| Conditionally_Detrimental | 0 | 0 | 0 | 0 | 0 | 0 | 0 | 1 | 0 | ⋯ | 0 | 0 | 0 | 0 | 0 | 0 | 0 | 0 | 0 | 0 |\n",
       "| Conditionally_Detrimental | 0 | 0 | 0 | 0 | 0 | 0 | 0 | 1 | 0 | ⋯ | 0 | 0 | 0 | 0 | 0 | 0 | 0 | 0 | 0 | 0 |\n",
       "| Conditionally_Beneficial  | 0 | 0 | 0 | 0 | 0 | 0 | 0 | 1 | 0 | ⋯ | 0 | 0 | 0 | 0 | 0 | 0 | 0 | 0 | 0 | 0 |\n",
       "| Conditionally_Detrimental | 0 | 0 | 0 | 0 | 0 | 0 | 0 | 1 | 0 | ⋯ | 0 | 0 | 0 | 0 | 0 | 0 | 0 | 0 | 0 | 0 |\n",
       "| Conditionally_Detrimental | 0 | 0 | 0 | 0 | 0 | 0 | 0 | 1 | 0 | ⋯ | 0 | 0 | 0 | 0 | 0 | 0 | 0 | 0 | 0 | 0 |\n",
       "| Conditionally_Beneficial  | 0 | 0 | 0 | 0 | 0 | 0 | 0 | 1 | 0 | ⋯ | 0 | 0 | 0 | 0 | 0 | 0 | 0 | 0 | 0 | 0 |\n",
       "| Conditionally_Beneficial  | 0 | 0 | 0 | 0 | 0 | 0 | 0 | 1 | 0 | ⋯ | 0 | 0 | 0 | 0 | 0 | 0 | 0 | 0 | 0 | 0 |\n",
       "| Conditionally_Detrimental | 0 | 0 | 0 | 0 | 0 | 0 | 0 | 1 | 0 | ⋯ | 0 | 0 | 0 | 0 | 0 | 0 | 0 | 0 | 0 | 0 |\n",
       "| Conditionally_Beneficial  | 0 | 0 | 0 | 0 | 0 | 0 | 0 | 1 | 0 | ⋯ | 0 | 0 | 0 | 0 | 0 | 0 | 0 | 0 | 0 | 0 |\n",
       "| Conditionally_Detrimental | 0 | 0 | 0 | 0 | 0 | 0 | 0 | 1 | 0 | ⋯ | 0 | 0 | 0 | 0 | 0 | 0 | 0 | 0 | 0 | 0 |\n",
       "| Conditionally_Detrimental | 0 | 0 | 0 | 0 | 0 | 0 | 0 | 1 | 0 | ⋯ | 0 | 0 | 0 | 0 | 0 | 0 | 0 | 0 | 0 | 0 |\n",
       "| Conditionally_Detrimental | 0 | 0 | 0 | 0 | 0 | 0 | 0 | 1 | 0 | ⋯ | 0 | 0 | 0 | 0 | 0 | 0 | 0 | 0 | 0 | 0 |\n",
       "\n"
      ],
      "text/plain": [
       "     Annotation_UC             W:CN:L W:CN:M W:CN:H W:HT:L W:HT:M W:HT:H W:OS:L\n",
       "1    Conditionally_Essential   0      0      0      0      0      0      0     \n",
       "2    Conditionally_Essential   0      0      0      0      0      0      0     \n",
       "3    Conditionally_Beneficial  0      0      0      0      0      0      0     \n",
       "4    Conditionally_Essential   0      0      0      0      0      0      0     \n",
       "5    Conditionally_Essential   0      0      0      0      0      0      0     \n",
       "6    Conditionally_Essential   0      0      0      0      0      0      0     \n",
       "7    Conditionally_Essential   0      0      0      0      0      0      0     \n",
       "8    Conditionally_Beneficial  0      0      1      0      0      1      0     \n",
       "9    Conditionally_Essential   0      0      0      0      0      0      0     \n",
       "10   Conditionally_Beneficial  0      0      0      0      0      0      0     \n",
       "11   Conditionally_Detrimental 0      0      0      0      0      0      0     \n",
       "12   Conditionally_Beneficial  0      0      0      0      0      0      0     \n",
       "13   Conditionally_Essential   0      0      0      0      0      0      0     \n",
       "14   Conditionally_Detrimental 0      0      0      0      0      0      0     \n",
       "15   Conditionally_Detrimental 0      0      0      0      0      0      0     \n",
       "16   Conditionally_Beneficial  0      0      1      0      0      0      0     \n",
       "17   Conditionally_Essential   0      0      0      0      0      0      0     \n",
       "18   Conditionally_Essential   0      0      0      0      0      0      0     \n",
       "19   Conditionally_Detrimental 0      0      1      0      0      0      0     \n",
       "20   Conditionally_Essential   0      0      0      0      0      0      0     \n",
       "21   Conditionally_Essential   0      1      1      0      0      0      0     \n",
       "22   Conditionally_Essential   0      1      0      1      0      0      1     \n",
       "23   Conditionally_Essential   0      0      0      0      0      0      0     \n",
       "24   Conditionally_Essential   0      0      0      0      0      0      0     \n",
       "25   Conditionally_Detrimental 0      0      0      0      0      0      0     \n",
       "26   Conditionally_Beneficial  1      0      1      0      0      1      0     \n",
       "27   Conditionally_Beneficial  0      0      0      0      0      0      0     \n",
       "28   Conditionally_Detrimental 0      0      1      0      0      0      0     \n",
       "29   Conditionally_Detrimental 0      0      0      0      0      0      0     \n",
       "30   Conditionally_Detrimental 0      0      0      0      0      0      0     \n",
       "⋮    ⋮                         ⋮      ⋮      ⋮      ⋮      ⋮      ⋮      ⋮     \n",
       "3079 Conditionally_Detrimental 0      0      0      0      0      0      1     \n",
       "3080 Conditionally_Detrimental 0      0      0      0      0      0      1     \n",
       "3081 Conditionally_Detrimental 0      0      0      0      0      0      1     \n",
       "3082 Conditionally_Beneficial  0      0      0      0      0      0      1     \n",
       "3083 Conditionally_Beneficial  0      0      0      0      0      0      1     \n",
       "3084 Conditionally_Detrimental 0      0      0      0      0      0      1     \n",
       "3085 Conditionally_Beneficial  0      0      0      0      0      0      1     \n",
       "3086 Conditionally_Detrimental 0      0      0      0      0      0      1     \n",
       "3087 Conditionally_Beneficial  0      0      0      0      0      0      1     \n",
       "3088 Conditionally_Detrimental 0      0      0      0      0      0      1     \n",
       "3089 Conditionally_Detrimental 0      0      0      0      0      0      1     \n",
       "3090 Conditionally_Detrimental 0      0      0      0      0      0      1     \n",
       "3091 Conditionally_Detrimental 0      0      0      0      0      0      0     \n",
       "3092 Conditionally_Detrimental 0      0      0      0      0      0      0     \n",
       "3093 Conditionally_Beneficial  0      0      0      0      0      0      0     \n",
       "3094 Conditionally_Detrimental 0      0      0      0      0      0      0     \n",
       "3095 Conditionally_Detrimental 0      0      0      0      0      0      0     \n",
       "3096 Conditionally_Detrimental 0      0      0      0      0      0      0     \n",
       "3097 Conditionally_Detrimental 0      0      0      0      0      0      0     \n",
       "3098 Conditionally_Detrimental 0      0      0      0      0      0      0     \n",
       "3099 Conditionally_Beneficial  0      0      0      0      0      0      0     \n",
       "3100 Conditionally_Detrimental 0      0      0      0      0      0      0     \n",
       "3101 Conditionally_Detrimental 0      0      0      0      0      0      0     \n",
       "3102 Conditionally_Beneficial  0      0      0      0      0      0      0     \n",
       "3103 Conditionally_Beneficial  0      0      0      0      0      0      0     \n",
       "3104 Conditionally_Detrimental 0      0      0      0      0      0      0     \n",
       "3105 Conditionally_Beneficial  0      0      0      0      0      0      0     \n",
       "3106 Conditionally_Detrimental 0      0      0      0      0      0      0     \n",
       "3107 Conditionally_Detrimental 0      0      0      0      0      0      0     \n",
       "3108 Conditionally_Detrimental 0      0      0      0      0      0      0     \n",
       "     W:OS:M W:OS:H ⋯ A:OS:H B:CN:L B:CN:M B:CN:H B:HT:L B:HT:M B:HT:H B:OS:L\n",
       "1    0      0      ⋯ 0      0      0      0      0      1      1      0     \n",
       "2    0      0      ⋯ 1      0      0      0      0      0      0      0     \n",
       "3    0      0      ⋯ 0      0      0      0      0      0      0      0     \n",
       "4    0      0      ⋯ 0      0      0      0      0      0      0      0     \n",
       "5    0      0      ⋯ 1      0      0      0      0      0      0      0     \n",
       "6    0      0      ⋯ 0      0      0      0      0      0      0      0     \n",
       "7    0      0      ⋯ 1      0      0      0      0      0      0      0     \n",
       "8    0      0      ⋯ 0      0      0      0      0      0      0      0     \n",
       "9    0      0      ⋯ 0      0      0      0      0      0      0      0     \n",
       "10   0      0      ⋯ 0      0      0      0      0      0      0      0     \n",
       "11   0      0      ⋯ 0      0      0      0      0      0      0      0     \n",
       "12   0      0      ⋯ 0      0      0      0      0      0      0      0     \n",
       "13   0      0      ⋯ 0      0      0      0      0      0      0      0     \n",
       "14   0      0      ⋯ 0      0      0      0      0      0      0      0     \n",
       "15   0      0      ⋯ 0      0      0      0      0      0      0      0     \n",
       "16   0      0      ⋯ 0      0      0      0      0      0      0      0     \n",
       "17   0      0      ⋯ 0      0      0      0      0      0      0      0     \n",
       "18   0      0      ⋯ 1      0      0      0      0      0      0      0     \n",
       "19   0      0      ⋯ 0      0      0      0      0      0      0      0     \n",
       "20   0      0      ⋯ 0      0      0      0      0      0      0      0     \n",
       "21   1      0      ⋯ 0      0      0      0      0      0      0      0     \n",
       "22   1      1      ⋯ 0      0      0      0      0      0      0      0     \n",
       "23   0      0      ⋯ 0      1      1      1      1      1      1      1     \n",
       "24   0      0      ⋯ 0      0      0      0      0      0      0      0     \n",
       "25   0      0      ⋯ 0      0      0      0      0      0      0      0     \n",
       "26   0      0      ⋯ 1      0      0      0      0      0      0      0     \n",
       "27   0      0      ⋯ 0      0      0      0      0      0      0      0     \n",
       "28   0      0      ⋯ 0      0      0      1      0      0      0      0     \n",
       "29   0      0      ⋯ 0      0      0      0      0      0      0      0     \n",
       "30   0      0      ⋯ 0      0      0      0      0      1      0      0     \n",
       "⋮    ⋮      ⋮      ⋱ ⋮      ⋮      ⋮      ⋮      ⋮      ⋮      ⋮      ⋮     \n",
       "3079 0      0      ⋯ 0      0      0      0      0      0      0      0     \n",
       "3080 0      0      ⋯ 0      0      0      0      0      0      0      0     \n",
       "3081 0      0      ⋯ 0      0      0      0      0      0      0      0     \n",
       "3082 0      0      ⋯ 0      0      0      0      0      0      0      0     \n",
       "3083 0      0      ⋯ 0      0      0      0      0      0      0      0     \n",
       "3084 0      0      ⋯ 0      0      0      0      0      0      0      0     \n",
       "3085 0      0      ⋯ 0      0      0      0      0      0      0      0     \n",
       "3086 0      0      ⋯ 0      0      0      0      0      0      0      0     \n",
       "3087 0      0      ⋯ 0      0      0      0      0      0      0      0     \n",
       "3088 0      0      ⋯ 0      0      0      0      0      0      0      0     \n",
       "3089 0      0      ⋯ 0      0      0      0      0      0      0      0     \n",
       "3090 0      0      ⋯ 0      0      0      0      0      0      0      0     \n",
       "3091 1      0      ⋯ 0      0      0      0      0      0      0      0     \n",
       "3092 1      0      ⋯ 0      0      0      0      0      0      0      0     \n",
       "3093 1      0      ⋯ 0      0      0      0      0      0      0      0     \n",
       "3094 1      0      ⋯ 0      0      0      0      0      0      0      0     \n",
       "3095 1      0      ⋯ 0      0      0      0      0      0      0      0     \n",
       "3096 1      0      ⋯ 0      0      0      0      0      0      0      0     \n",
       "3097 1      0      ⋯ 0      0      0      0      0      0      0      0     \n",
       "3098 1      0      ⋯ 0      0      0      0      0      0      0      0     \n",
       "3099 1      0      ⋯ 0      0      0      0      0      0      0      0     \n",
       "3100 1      0      ⋯ 0      0      0      0      0      0      0      0     \n",
       "3101 1      0      ⋯ 0      0      0      0      0      0      0      0     \n",
       "3102 1      0      ⋯ 0      0      0      0      0      0      0      0     \n",
       "3103 1      0      ⋯ 0      0      0      0      0      0      0      0     \n",
       "3104 1      0      ⋯ 0      0      0      0      0      0      0      0     \n",
       "3105 1      0      ⋯ 0      0      0      0      0      0      0      0     \n",
       "3106 1      0      ⋯ 0      0      0      0      0      0      0      0     \n",
       "3107 1      0      ⋯ 0      0      0      0      0      0      0      0     \n",
       "3108 1      0      ⋯ 0      0      0      0      0      0      0      0     \n",
       "     B:OS:M B:OS:H\n",
       "1    0      0     \n",
       "2    0      0     \n",
       "3    0      0     \n",
       "4    0      0     \n",
       "5    0      0     \n",
       "6    0      0     \n",
       "7    0      0     \n",
       "8    0      0     \n",
       "9    0      0     \n",
       "10   0      0     \n",
       "11   0      0     \n",
       "12   0      0     \n",
       "13   0      0     \n",
       "14   0      0     \n",
       "15   0      0     \n",
       "16   0      0     \n",
       "17   0      0     \n",
       "18   0      0     \n",
       "19   0      0     \n",
       "20   0      0     \n",
       "21   0      0     \n",
       "22   0      0     \n",
       "23   1      1     \n",
       "24   0      0     \n",
       "25   0      0     \n",
       "26   0      0     \n",
       "27   0      0     \n",
       "28   0      0     \n",
       "29   0      0     \n",
       "30   0      0     \n",
       "⋮    ⋮      ⋮     \n",
       "3079 0      0     \n",
       "3080 0      0     \n",
       "3081 0      0     \n",
       "3082 0      0     \n",
       "3083 0      0     \n",
       "3084 0      0     \n",
       "3085 0      0     \n",
       "3086 0      0     \n",
       "3087 0      0     \n",
       "3088 0      0     \n",
       "3089 0      0     \n",
       "3090 0      0     \n",
       "3091 0      0     \n",
       "3092 0      0     \n",
       "3093 0      0     \n",
       "3094 0      0     \n",
       "3095 0      0     \n",
       "3096 0      0     \n",
       "3097 0      0     \n",
       "3098 0      0     \n",
       "3099 0      0     \n",
       "3100 0      0     \n",
       "3101 0      0     \n",
       "3102 0      0     \n",
       "3103 0      0     \n",
       "3104 0      0     \n",
       "3105 0      0     \n",
       "3106 0      0     \n",
       "3107 0      0     \n",
       "3108 0      0     "
      ]
     },
     "metadata": {},
     "output_type": "display_data"
    }
   ],
   "source": [
    "movies"
   ]
  },
  {
   "cell_type": "code",
   "execution_count": 8,
   "id": "b2762e44-6f80-45d3-9c92-909215bf8173",
   "metadata": {},
   "outputs": [],
   "source": [
    "# CE"
   ]
  },
  {
   "cell_type": "code",
   "execution_count": null,
   "id": "9bc65437-e1bb-4d06-ad84-a48c0cbafa80",
   "metadata": {},
   "outputs": [],
   "source": [
    "scale_y_discrete(labels=c( c('W:CN:L'='L','W:CN:M'='M','W:CN:H'='H','W:HT:L'='L','W:HT:M'='M','W:HT:H'='H','W:OS:L'='L','W:OS:M'='M','W:OS:H'='H','K:CN:L'='L',\n",
    "                'K:CN:M'='M','K:CN:H'='H','K:HT:L'='L','K:HT:M'='M','K:HT:H'='H','K:OS:L'='L','K:OS:M'='M','K:OS:H'='H','D:CN:L'='L','D:CN:M'='M',\n",
    "                'D:CN:H'='H','D:HT:L'='L','D:HT:M'='M','D:HT:H'='H','D:OS:L'='L','D:OS:M'='M','D:OS:H'='H','A:CN:L'='L','A:CN:M'='M','A:CN:H'='H',\n",
    "                'A:HT:L'='L','A:HT:M'='M','A:HT:H'='H','A:OS:L'='L','A:OS:M'='M','A:OS:H'='H','B:CN:L'='L','B:CN:M'='M','B:CN:H'='H','B:HT:L'='L',\n",
    "                'B:HT:M'='M','B:HT:H'='H','B:OS:L'='L','B:OS:M'='M','B:OS:H'='H'))"
   ]
  },
  {
   "cell_type": "code",
   "execution_count": 11,
   "id": "5941c1e3-6601-407a-8ced-96107089b380",
   "metadata": {
    "tags": []
   },
   "outputs": [
    {
     "data": {
      "text/html": [
       "<strong>png:</strong> 2"
      ],
      "text/latex": [
       "\\textbf{png:} 2"
      ],
      "text/markdown": [
       "**png:** 2"
      ],
      "text/plain": [
       "png \n",
       "  2 "
      ]
     },
     "metadata": {},
     "output_type": "display_data"
    }
   ],
   "source": [
    "jpeg(file=\"../../../../PNAS//FIGURES//Suppl Fig/upset_plot_5.jpeg\", units=\"in\",width=30, height=30,, res=600)\n",
    "upset(\n",
    "    movies,titleorder, set_sizes=FALSE,keep_empty_groups=TRUE,wrap=TRUE,    \n",
    "    base_annotations=list(\n",
    "        'Intersection size'=intersection_size(\n",
    "            counts=FALSE,\n",
    "            mapping=aes(fill=Annotation_UC,alpha=0.5)\n",
    "            ) + scale_fill_viridis(discrete=TRUE)+ ylab(\"Intersection\")+scale_y_continuous(breaks = c(seq(0, 25, by = 5),seq(25, 125, by = 25)))+\n",
    "        theme(axis.title.y = element_text(size = 16),axis.text.y = element_text(size = 16),panel.grid.major.x = element_blank(),panel.grid.major.y = element_blank(),\n",
    "              panel.grid.minor.y = element_blank(),legend.position=\"none\")\n",
    "    ),stripes='white',sort_sets=FALSE,themes=upset_modify_themes(\n",
    "        list(\n",
    "            'intersections_matrix'=theme(text=element_text(size=0,color=\"black\"),legend.position=\"none\"),\n",
    "            'overall_sizes'=theme(axis.text.x=element_text(angle=0))\n",
    "        ))\n",
    ") \n",
    "dev.off()"
   ]
  },
  {
   "cell_type": "code",
   "execution_count": 6,
   "id": "0e7bf487-91ca-4bce-9cd6-74e8d926d5f8",
   "metadata": {},
   "outputs": [
    {
     "name": "stderr",
     "output_type": "stream",
     "text": [
      "Note: Using an external vector in selections is ambiguous.\n",
      "\u001b[34mℹ\u001b[39m Use `all_of(titleorder)` instead of `titleorder` to silence this message.\n",
      "\u001b[34mℹ\u001b[39m See <https://tidyselect.r-lib.org/reference/faq-external-vector.html>.\n",
      "\u001b[90mThis message is displayed once per session.\u001b[39m\n",
      "Warning message:\n",
      "\"Setting row names on a tibble is deprecated.\"\n"
     ]
    }
   ],
   "source": [
    "df <- df1%>%filter(Annotation_UC==\"Conditionally_Essential\"\\|Annotation_UC==\"Conditionally_Beneficial\"\\|Annotation_UC==\"Conditionally_Detrimental\")%>%select(strain,condition,slevel,locus_tag,controlMedian_UC,Annotation_UC)%>%unite(title,strain, condition, slevel, sep = \":\", remove = FALSE)\n",
    "df$title <- gsub(\"DLON\",\"\\u394 DLON\",df$title)\n",
    "df$title <- gsub(\"dnak\",\"\\u394 dnak\",df$title)\n",
    "df$title <- gsub(\"DCLPA\",\"\\u394 CLPA\",df$title)\n",
    "df$title <- gsub(\"DCLPB\",\"\\u394 CLPB\",df$title)\n",
    "movies <- df%>%select(title,locus_tag,controlMedian_UC,Annotation_UC)%>%\n",
    "  pivot_wider(names_from = title, values_from = controlMedian_UC)%>% mutate_if(is.numeric, ~1 * (. > 0))\n",
    "movies[is.na(movies)] <- 0\n",
    "ltags <- movies$locus_tag\n",
    "movies <- movies[2:47]%>% select(titleorder)\n",
    "row.names(movies) <- ltags"
   ]
  },
  {
   "cell_type": "code",
   "execution_count": null,
   "id": "d6a9f990-17ab-4ea4-801f-4302b6beb12a",
   "metadata": {},
   "outputs": [],
   "source": [
    "# CB"
   ]
  },
  {
   "cell_type": "code",
   "execution_count": 175,
   "id": "a5302982-d757-47b8-ac7e-c5c93bc95146",
   "metadata": {},
   "outputs": [
    {
     "name": "stderr",
     "output_type": "stream",
     "text": [
      "Warning message:\n",
      "\"Setting row names on a tibble is deprecated.\"\n"
     ]
    }
   ],
   "source": [
    "df <- df1%>%filter(Annotation_UC==\"Conditionally_Beneficial\")%>%select(strain,condition,slevel,locus_tag,controlMedian_UC)%>%unite(title,strain, condition, slevel, sep = \":\", remove = FALSE)\n",
    "df$title <- gsub(\"DLON\",\"\\u394 DLON\",df$title)\n",
    "df$title <- gsub(\"dnak\",\"\\u394 dnak\",df$title)\n",
    "df$title <- gsub(\"DCLPA\",\"\\u394 CLPA\",df$title)\n",
    "df$title <- gsub(\"DCLPB\",\"\\u394 CLPB\",df$title)\n",
    "movies <- df%>%select(title,locus_tag,controlMedian_UC)%>%\n",
    "  pivot_wider(names_from = title, values_from = controlMedian_UC)%>% mutate_if(is.numeric, ~1 * (. > 0))\n",
    "movies[is.na(movies)] <- 0\n",
    "ltags <- movies$locus_tag\n",
    "movies <- movies[2:46]%>% select(titleorder)\n",
    "row.names(movies) <- ltags"
   ]
  },
  {
   "cell_type": "code",
   "execution_count": 177,
   "id": "a7457e37-c500-4780-b4bb-3405837da809",
   "metadata": {},
   "outputs": [
    {
     "data": {
      "text/html": [
       "<strong>png:</strong> 2"
      ],
      "text/latex": [
       "\\textbf{png:} 2"
      ],
      "text/markdown": [
       "**png:** 2"
      ],
      "text/plain": [
       "png \n",
       "  2 "
      ]
     },
     "metadata": {},
     "output_type": "display_data"
    }
   ],
   "source": [
    "jpeg(file=\"../../../PNAS//FIGURES//Suppl Fig/upset_plot_3.jpeg\",units=\"in\", width=20, height=20, res=600)\n",
    "upset(\n",
    "    movies,titleorder,min_size=2, set_sizes=FALSE,keep_empty_groups=TRUE,wrap=TRUE,\n",
    "    base_annotations=list(\n",
    "        'Intersection size'=intersection_size(\n",
    "            text_colors=c(\n",
    "                on_background='brown', on_bar='brown'\n",
    "            ),\n",
    "            mapping=aes(fill='bars_color')\n",
    "        ) + scale_fill_manual(values=c('bars_color'='#482878FF'), guide='none')+ ylab(\"Conditionally beneficial genes in intersection\")+\n",
    "        theme(axis.title.y = element_text(size = 12),axis.text.y = element_text(size = 12),panel.grid.major.x = element_blank(),panel.grid.major.y = element_blank(),\n",
    "              panel.grid.minor.y = element_blank() )\n",
    "    ),stripes='white',sort_sets=FALSE, themes=upset_modify_themes(\n",
    "        list(\n",
    "            'intersections_matrix'=theme(text=element_text(size=12)),\n",
    "            'overall_sizes'=theme(axis.text.x=element_text(angle=90))\n",
    "        ))\n",
    ") +ggtitle('Overlap of beneficial genes under conditions')\n",
    "dev.off()"
   ]
  },
  {
   "cell_type": "code",
   "execution_count": null,
   "id": "d440776f-453e-4557-9a7e-30f8f734dac8",
   "metadata": {},
   "outputs": [],
   "source": [
    "#CD"
   ]
  },
  {
   "cell_type": "code",
   "execution_count": 178,
   "id": "1d9b9ffb-4a19-4129-8358-4ec6eefeedf2",
   "metadata": {},
   "outputs": [
    {
     "name": "stderr",
     "output_type": "stream",
     "text": [
      "Warning message:\n",
      "\"Setting row names on a tibble is deprecated.\"\n"
     ]
    }
   ],
   "source": [
    "df <- df1%>%filter(Annotation_UC==\"Conditionally_Detrimental\")%>%select(strain,condition,slevel,locus_tag,controlMedian_UC)%>%unite(title,strain, condition, slevel, sep = \":\", remove = FALSE)\n",
    "df$title <- gsub(\"DLON\",\"\\u394 DLON\",df$title)\n",
    "df$title <- gsub(\"dnak\",\"\\u394 dnak\",df$title)\n",
    "df$title <- gsub(\"DCLPA\",\"\\u394 CLPA\",df$title)\n",
    "df$title <- gsub(\"DCLPB\",\"\\u394 CLPB\",df$title)\n",
    "movies <- df%>%select(title,locus_tag,controlMedian_UC)%>%\n",
    "  pivot_wider(names_from = title, values_from = controlMedian_UC)%>% mutate_if(is.numeric, ~1 * (. > 0))\n",
    "movies[is.na(movies)] <- 0\n",
    "ltags <- movies$locus_tag\n",
    "movies <- movies[2:46]%>% select(titleorder)\n",
    "row.names(movies) <- ltags"
   ]
  },
  {
   "cell_type": "code",
   "execution_count": 179,
   "id": "17564a68-5746-4dba-9e55-b3c640776dca",
   "metadata": {},
   "outputs": [
    {
     "data": {
      "text/html": [
       "<strong>png:</strong> 2"
      ],
      "text/latex": [
       "\\textbf{png:} 2"
      ],
      "text/markdown": [
       "**png:** 2"
      ],
      "text/plain": [
       "png \n",
       "  2 "
      ]
     },
     "metadata": {},
     "output_type": "display_data"
    }
   ],
   "source": [
    "jpeg(file=\"../../../PNAS//FIGURES//Suppl Fig/upset_plot_4.jpeg\",units=\"in\", width=20, height=20, res=600)\n",
    "upset(\n",
    "    movies,titleorder,min_size=2, set_sizes=FALSE,keep_empty_groups=TRUE,wrap=TRUE,\n",
    "    base_annotations=list(\n",
    "        'Intersection size'=intersection_size(\n",
    "            text_colors=c(\n",
    "                on_background='brown', on_bar='brown'\n",
    "            ),\n",
    "            mapping=aes(fill='bars_color')\n",
    "        ) + scale_fill_manual(values=c('bars_color'='#26828EFF'), guide='none')+ ylab(\"Conditionally detrimental genes in intersection\")+\n",
    "        theme(axis.title.y = element_text(size = 12),axis.text.y = element_text(size = 12),panel.grid.major.x = element_blank(),panel.grid.major.y = element_blank(),\n",
    "              panel.grid.minor.y = element_blank() )\n",
    "    ),stripes='white',sort_sets=FALSE, themes=upset_modify_themes(\n",
    "        list(\n",
    "            'intersections_matrix'=theme(text=element_text(size=12)),\n",
    "            'overall_sizes'=theme(axis.text.x=element_text(angle=90))\n",
    "        ))\n",
    ") +ggtitle('Overlap of detrimental genes under conditions')\n",
    "dev.off()"
   ]
  },
  {
   "cell_type": "code",
   "execution_count": null,
   "id": "03eefddf-a3b8-4059-9b15-934ae509f713",
   "metadata": {},
   "outputs": [],
   "source": []
  }
 ],
 "metadata": {
  "kernelspec": {
   "display_name": "R",
   "language": "R",
   "name": "ir"
  },
  "language_info": {
   "codemirror_mode": "r",
   "file_extension": ".r",
   "mimetype": "text/x-r-source",
   "name": "R",
   "pygments_lexer": "r",
   "version": "4.2.0"
  }
 },
 "nbformat": 4,
 "nbformat_minor": 5
}

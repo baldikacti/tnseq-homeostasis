{
 "cells": [
  {
   "cell_type": "code",
   "execution_count": 1,
   "id": "4f54be65",
   "metadata": {},
   "outputs": [],
   "source": [
    "suppressWarnings(suppressMessages(library(tidyverse)))\n",
    "suppressWarnings(suppressMessages(require(reshape)))\n",
    "suppressWarnings(suppressMessages(library(fdrtool)))\n",
    " normalize <- function(x){\n",
    "  return((x-mean(x,na.rm = TRUE)) / (sd(x,na.rm = TRUE)))\n",
    "}"
   ]
  },
  {
   "cell_type": "code",
   "execution_count": null,
   "id": "403b2bee-c3a7-4141-9118-2cd9136f1e6c",
   "metadata": {},
   "outputs": [],
   "source": []
  },
  {
   "cell_type": "code",
   "execution_count": 2,
   "id": "ace1f897",
   "metadata": {},
   "outputs": [],
   "source": [
    "filter_genes <- read.table(\"../../reports/Master Table/Total_Counts_master_table_Median_long_v2.tab\",header=TRUE)"
   ]
  },
  {
   "cell_type": "code",
   "execution_count": 3,
   "id": "dfe17260",
   "metadata": {},
   "outputs": [],
   "source": [
    "filter_genes <- filter_genes%>%mutate(Effect=effect)"
   ]
  },
  {
   "cell_type": "code",
   "execution_count": null,
   "id": "95e5fa48",
   "metadata": {},
   "outputs": [],
   "source": []
  },
  {
   "cell_type": "code",
   "execution_count": 4,
   "id": "b3bf26ef",
   "metadata": {},
   "outputs": [
    {
     "data": {
      "text/html": [
       "<table class=\"dataframe\">\n",
       "<caption>A data.frame: 2 × 13</caption>\n",
       "<thead>\n",
       "\t<tr><th></th><th scope=col>strain</th><th scope=col>condition</th><th scope=col>slevel</th><th scope=col>locus_tag</th><th scope=col>Median</th><th scope=col>controlMedian</th><th scope=col>effect</th><th scope=col>log2_coefficient</th><th scope=col>mean</th><th scope=col>controlmean</th><th scope=col>fdr</th><th scope=col>Annotation</th><th scope=col>Effect</th></tr>\n",
       "\t<tr><th></th><th scope=col>&lt;chr&gt;</th><th scope=col>&lt;chr&gt;</th><th scope=col>&lt;chr&gt;</th><th scope=col>&lt;chr&gt;</th><th scope=col>&lt;dbl&gt;</th><th scope=col>&lt;dbl&gt;</th><th scope=col>&lt;chr&gt;</th><th scope=col>&lt;dbl&gt;</th><th scope=col>&lt;dbl&gt;</th><th scope=col>&lt;dbl&gt;</th><th scope=col>&lt;dbl&gt;</th><th scope=col>&lt;chr&gt;</th><th scope=col>&lt;chr&gt;</th></tr>\n",
       "</thead>\n",
       "<tbody>\n",
       "\t<tr><th scope=row>1</th><td>DCLPA</td><td>canavanine</td><td>HIGH</td><td>CCNA_00001</td><td>   0</td><td>   0.0</td><td>strainDCLPA:conditionCAN:slevelHIGH</td><td>-1.444299</td><td>   0.3333333</td><td>1093.75</td><td>0.0730416</td><td>Essential            </td><td>strainDCLPA:conditionCAN:slevelHIGH</td></tr>\n",
       "\t<tr><th scope=row>2</th><td>DCLPA</td><td>canavanine</td><td>HIGH</td><td>CCNA_00002</td><td>7603</td><td>5948.5</td><td>strainDCLPA:conditionCAN:slevelHIGH</td><td>       NA</td><td>7800.0000000</td><td>6192.25</td><td>       NA</td><td>Conditionally_Neutral</td><td>strainDCLPA:conditionCAN:slevelHIGH</td></tr>\n",
       "</tbody>\n",
       "</table>\n"
      ],
      "text/latex": [
       "A data.frame: 2 × 13\n",
       "\\begin{tabular}{r|lllllllllllll}\n",
       "  & strain & condition & slevel & locus\\_tag & Median & controlMedian & effect & log2\\_coefficient & mean & controlmean & fdr & Annotation & Effect\\\\\n",
       "  & <chr> & <chr> & <chr> & <chr> & <dbl> & <dbl> & <chr> & <dbl> & <dbl> & <dbl> & <dbl> & <chr> & <chr>\\\\\n",
       "\\hline\n",
       "\t1 & DCLPA & canavanine & HIGH & CCNA\\_00001 &    0 &    0.0 & strainDCLPA:conditionCAN:slevelHIGH & -1.444299 &    0.3333333 & 1093.75 & 0.0730416 & Essential             & strainDCLPA:conditionCAN:slevelHIGH\\\\\n",
       "\t2 & DCLPA & canavanine & HIGH & CCNA\\_00002 & 7603 & 5948.5 & strainDCLPA:conditionCAN:slevelHIGH &        NA & 7800.0000000 & 6192.25 &        NA & Conditionally\\_Neutral & strainDCLPA:conditionCAN:slevelHIGH\\\\\n",
       "\\end{tabular}\n"
      ],
      "text/markdown": [
       "\n",
       "A data.frame: 2 × 13\n",
       "\n",
       "| <!--/--> | strain &lt;chr&gt; | condition &lt;chr&gt; | slevel &lt;chr&gt; | locus_tag &lt;chr&gt; | Median &lt;dbl&gt; | controlMedian &lt;dbl&gt; | effect &lt;chr&gt; | log2_coefficient &lt;dbl&gt; | mean &lt;dbl&gt; | controlmean &lt;dbl&gt; | fdr &lt;dbl&gt; | Annotation &lt;chr&gt; | Effect &lt;chr&gt; |\n",
       "|---|---|---|---|---|---|---|---|---|---|---|---|---|---|\n",
       "| 1 | DCLPA | canavanine | HIGH | CCNA_00001 |    0 |    0.0 | strainDCLPA:conditionCAN:slevelHIGH | -1.444299 |    0.3333333 | 1093.75 | 0.0730416 | Essential             | strainDCLPA:conditionCAN:slevelHIGH |\n",
       "| 2 | DCLPA | canavanine | HIGH | CCNA_00002 | 7603 | 5948.5 | strainDCLPA:conditionCAN:slevelHIGH |        NA | 7800.0000000 | 6192.25 |        NA | Conditionally_Neutral | strainDCLPA:conditionCAN:slevelHIGH |\n",
       "\n"
      ],
      "text/plain": [
       "  strain condition  slevel locus_tag  Median controlMedian\n",
       "1 DCLPA  canavanine HIGH   CCNA_00001    0      0.0       \n",
       "2 DCLPA  canavanine HIGH   CCNA_00002 7603   5948.5       \n",
       "  effect                              log2_coefficient mean         controlmean\n",
       "1 strainDCLPA:conditionCAN:slevelHIGH -1.444299           0.3333333 1093.75    \n",
       "2 strainDCLPA:conditionCAN:slevelHIGH        NA        7800.0000000 6192.25    \n",
       "  fdr       Annotation            Effect                             \n",
       "1 0.0730416 Essential             strainDCLPA:conditionCAN:slevelHIGH\n",
       "2        NA Conditionally_Neutral strainDCLPA:conditionCAN:slevelHIGH"
      ]
     },
     "metadata": {},
     "output_type": "display_data"
    }
   ],
   "source": [
    "head(filter_genes,2)"
   ]
  },
  {
   "cell_type": "code",
   "execution_count": 5,
   "id": "0bd876c4",
   "metadata": {},
   "outputs": [],
   "source": [
    " f_genes <- filter_genes%>%filter(Annotation==\"Conditionally_Essential\"|Annotation== \"Essential\")%>%select(strain,condition,slevel,locus_tag)%>%mutate(nonmodel=\"Yes\")"
   ]
  },
  {
   "cell_type": "code",
   "execution_count": 6,
   "id": "12fb4bd2",
   "metadata": {},
   "outputs": [],
   "source": [
    "##"
   ]
  },
  {
   "cell_type": "code",
   "execution_count": 7,
   "id": "82b9fd42",
   "metadata": {},
   "outputs": [],
   "source": [
    "TC <- read.table(\"../../reports/HORSHOE_LFSR/GLMNET_TC_RESULTS.TAB\",header=TRUE,check.names=FALSE,fill=TRUE)\n",
    "TC <- melt(TC,id=\"locus_tag\")\n",
    "colnames(TC) <- c(\"locus_tag\",\"Effect\",\"Estimate\")"
   ]
  },
  {
   "cell_type": "code",
   "execution_count": 8,
   "id": "52054670",
   "metadata": {
    "tags": []
   },
   "outputs": [
    {
     "data": {
      "text/html": [
       "<table class=\"dataframe\">\n",
       "<caption>A data.frame: 2 × 3</caption>\n",
       "<thead>\n",
       "\t<tr><th></th><th scope=col>locus_tag</th><th scope=col>Effect</th><th scope=col>Estimate</th></tr>\n",
       "\t<tr><th></th><th scope=col>&lt;chr&gt;</th><th scope=col>&lt;fct&gt;</th><th scope=col>&lt;dbl&gt;</th></tr>\n",
       "</thead>\n",
       "<tbody>\n",
       "\t<tr><th scope=row>1</th><td>CCNA_00001</td><td>Intercept</td><td>5.434611</td></tr>\n",
       "\t<tr><th scope=row>2</th><td>CCNA_00002</td><td>Intercept</td><td>8.471513</td></tr>\n",
       "</tbody>\n",
       "</table>\n"
      ],
      "text/latex": [
       "A data.frame: 2 × 3\n",
       "\\begin{tabular}{r|lll}\n",
       "  & locus\\_tag & Effect & Estimate\\\\\n",
       "  & <chr> & <fct> & <dbl>\\\\\n",
       "\\hline\n",
       "\t1 & CCNA\\_00001 & Intercept & 5.434611\\\\\n",
       "\t2 & CCNA\\_00002 & Intercept & 8.471513\\\\\n",
       "\\end{tabular}\n"
      ],
      "text/markdown": [
       "\n",
       "A data.frame: 2 × 3\n",
       "\n",
       "| <!--/--> | locus_tag &lt;chr&gt; | Effect &lt;fct&gt; | Estimate &lt;dbl&gt; |\n",
       "|---|---|---|---|\n",
       "| 1 | CCNA_00001 | Intercept | 5.434611 |\n",
       "| 2 | CCNA_00002 | Intercept | 8.471513 |\n",
       "\n"
      ],
      "text/plain": [
       "  locus_tag  Effect    Estimate\n",
       "1 CCNA_00001 Intercept 5.434611\n",
       "2 CCNA_00002 Intercept 8.471513"
      ]
     },
     "metadata": {},
     "output_type": "display_data"
    }
   ],
   "source": [
    "head(TC,2)"
   ]
  },
  {
   "cell_type": "code",
   "execution_count": 9,
   "id": "6a60092d",
   "metadata": {},
   "outputs": [],
   "source": [
    "#%>%filter(condition!=\"NA\" & slevel!=\"NA\")"
   ]
  },
  {
   "cell_type": "code",
   "execution_count": 10,
   "id": "98d82e6e",
   "metadata": {},
   "outputs": [
    {
     "name": "stderr",
     "output_type": "stream",
     "text": [
      "Warning message:\n",
      "\"Expected 3 pieces. Missing pieces filled with `NA` in 81680 rows [1, 2, 3, 4, 5, 6, 7, 8, 9, 10, 11, 12, 13, 14, 15, 16, 17, 18, 19, 20, ...].\"\n"
     ]
    }
   ],
   "source": [
    "TC_filter <- TC%>%separate(Effect, c(\"strain\",\"condition\",\"slevel\"), \":\",remove=FALSE)%>%filter(condition!=\"NA\" & slevel!=\"NA\")%>%mutate(strain=gsub(\"strain\",\"\",strain),\n",
    "                                                                                                                                   condition=gsub(\"condition\",\"\",condition),\n",
    "                                                                                                                                   slevel=gsub(\"slevel\",\"\",slevel))%>%\n",
    "filter(Effect!=\"Intercept\")%>%mutate(condition=gsub(\"CONTROL\",\"none\",condition))"
   ]
  },
  {
   "cell_type": "code",
   "execution_count": 11,
   "id": "d78626eb",
   "metadata": {},
   "outputs": [
    {
     "data": {
      "text/html": [
       "<table class=\"dataframe\">\n",
       "<caption>A data.frame: 6 × 6</caption>\n",
       "<thead>\n",
       "\t<tr><th></th><th scope=col>locus_tag</th><th scope=col>Effect</th><th scope=col>strain</th><th scope=col>condition</th><th scope=col>slevel</th><th scope=col>Estimate</th></tr>\n",
       "\t<tr><th></th><th scope=col>&lt;chr&gt;</th><th scope=col>&lt;fct&gt;</th><th scope=col>&lt;chr&gt;</th><th scope=col>&lt;chr&gt;</th><th scope=col>&lt;chr&gt;</th><th scope=col>&lt;dbl&gt;</th></tr>\n",
       "</thead>\n",
       "<tbody>\n",
       "\t<tr><th scope=row>1</th><td>CCNA_00001</td><td>strainwild-type:conditionheat:slevelLOW</td><td>wild-type</td><td>heat</td><td>LOW</td><td>-0.12980586</td></tr>\n",
       "\t<tr><th scope=row>2</th><td>CCNA_00002</td><td>strainwild-type:conditionheat:slevelLOW</td><td>wild-type</td><td>heat</td><td>LOW</td><td> 0.03576769</td></tr>\n",
       "\t<tr><th scope=row>3</th><td>CCNA_00003</td><td>strainwild-type:conditionheat:slevelLOW</td><td>wild-type</td><td>heat</td><td>LOW</td><td>-0.44379345</td></tr>\n",
       "\t<tr><th scope=row>4</th><td>CCNA_00004</td><td>strainwild-type:conditionheat:slevelLOW</td><td>wild-type</td><td>heat</td><td>LOW</td><td>-0.22833234</td></tr>\n",
       "\t<tr><th scope=row>5</th><td>CCNA_00005</td><td>strainwild-type:conditionheat:slevelLOW</td><td>wild-type</td><td>heat</td><td>LOW</td><td>-0.01458529</td></tr>\n",
       "\t<tr><th scope=row>6</th><td>CCNA_00006</td><td>strainwild-type:conditionheat:slevelLOW</td><td>wild-type</td><td>heat</td><td>LOW</td><td>-0.09743234</td></tr>\n",
       "</tbody>\n",
       "</table>\n"
      ],
      "text/latex": [
       "A data.frame: 6 × 6\n",
       "\\begin{tabular}{r|llllll}\n",
       "  & locus\\_tag & Effect & strain & condition & slevel & Estimate\\\\\n",
       "  & <chr> & <fct> & <chr> & <chr> & <chr> & <dbl>\\\\\n",
       "\\hline\n",
       "\t1 & CCNA\\_00001 & strainwild-type:conditionheat:slevelLOW & wild-type & heat & LOW & -0.12980586\\\\\n",
       "\t2 & CCNA\\_00002 & strainwild-type:conditionheat:slevelLOW & wild-type & heat & LOW &  0.03576769\\\\\n",
       "\t3 & CCNA\\_00003 & strainwild-type:conditionheat:slevelLOW & wild-type & heat & LOW & -0.44379345\\\\\n",
       "\t4 & CCNA\\_00004 & strainwild-type:conditionheat:slevelLOW & wild-type & heat & LOW & -0.22833234\\\\\n",
       "\t5 & CCNA\\_00005 & strainwild-type:conditionheat:slevelLOW & wild-type & heat & LOW & -0.01458529\\\\\n",
       "\t6 & CCNA\\_00006 & strainwild-type:conditionheat:slevelLOW & wild-type & heat & LOW & -0.09743234\\\\\n",
       "\\end{tabular}\n"
      ],
      "text/markdown": [
       "\n",
       "A data.frame: 6 × 6\n",
       "\n",
       "| <!--/--> | locus_tag &lt;chr&gt; | Effect &lt;fct&gt; | strain &lt;chr&gt; | condition &lt;chr&gt; | slevel &lt;chr&gt; | Estimate &lt;dbl&gt; |\n",
       "|---|---|---|---|---|---|---|\n",
       "| 1 | CCNA_00001 | strainwild-type:conditionheat:slevelLOW | wild-type | heat | LOW | -0.12980586 |\n",
       "| 2 | CCNA_00002 | strainwild-type:conditionheat:slevelLOW | wild-type | heat | LOW |  0.03576769 |\n",
       "| 3 | CCNA_00003 | strainwild-type:conditionheat:slevelLOW | wild-type | heat | LOW | -0.44379345 |\n",
       "| 4 | CCNA_00004 | strainwild-type:conditionheat:slevelLOW | wild-type | heat | LOW | -0.22833234 |\n",
       "| 5 | CCNA_00005 | strainwild-type:conditionheat:slevelLOW | wild-type | heat | LOW | -0.01458529 |\n",
       "| 6 | CCNA_00006 | strainwild-type:conditionheat:slevelLOW | wild-type | heat | LOW | -0.09743234 |\n",
       "\n"
      ],
      "text/plain": [
       "  locus_tag  Effect                                  strain    condition slevel\n",
       "1 CCNA_00001 strainwild-type:conditionheat:slevelLOW wild-type heat      LOW   \n",
       "2 CCNA_00002 strainwild-type:conditionheat:slevelLOW wild-type heat      LOW   \n",
       "3 CCNA_00003 strainwild-type:conditionheat:slevelLOW wild-type heat      LOW   \n",
       "4 CCNA_00004 strainwild-type:conditionheat:slevelLOW wild-type heat      LOW   \n",
       "5 CCNA_00005 strainwild-type:conditionheat:slevelLOW wild-type heat      LOW   \n",
       "6 CCNA_00006 strainwild-type:conditionheat:slevelLOW wild-type heat      LOW   \n",
       "  Estimate   \n",
       "1 -0.12980586\n",
       "2  0.03576769\n",
       "3 -0.44379345\n",
       "4 -0.22833234\n",
       "5 -0.01458529\n",
       "6 -0.09743234"
      ]
     },
     "metadata": {},
     "output_type": "display_data"
    }
   ],
   "source": [
    "head(TC_filter)"
   ]
  },
  {
   "cell_type": "code",
   "execution_count": 12,
   "id": "fc024505-5518-403a-89ab-880327ca73d1",
   "metadata": {},
   "outputs": [
    {
     "data": {
      "text/html": [
       "<style>\n",
       ".list-inline {list-style: none; margin:0; padding: 0}\n",
       ".list-inline>li {display: inline-block}\n",
       ".list-inline>li:not(:last-child)::after {content: \"\\00b7\"; padding: 0 .5ex}\n",
       "</style>\n",
       "<ol class=list-inline><li>'wild-type'</li><li>'DLON'</li><li>'dnak-dnaJ'</li><li>'DCLPA'</li><li>'DCLPB'</li></ol>\n"
      ],
      "text/latex": [
       "\\begin{enumerate*}\n",
       "\\item 'wild-type'\n",
       "\\item 'DLON'\n",
       "\\item 'dnak-dnaJ'\n",
       "\\item 'DCLPA'\n",
       "\\item 'DCLPB'\n",
       "\\end{enumerate*}\n"
      ],
      "text/markdown": [
       "1. 'wild-type'\n",
       "2. 'DLON'\n",
       "3. 'dnak-dnaJ'\n",
       "4. 'DCLPA'\n",
       "5. 'DCLPB'\n",
       "\n",
       "\n"
      ],
      "text/plain": [
       "[1] \"wild-type\" \"DLON\"      \"dnak-dnaJ\" \"DCLPA\"     \"DCLPB\"    "
      ]
     },
     "metadata": {},
     "output_type": "display_data"
    }
   ],
   "source": [
    "unique(TC_filter$strain)"
   ]
  },
  {
   "cell_type": "code",
   "execution_count": 13,
   "id": "e95bceb1-d6fa-47b2-86f8-00da51cf92a5",
   "metadata": {},
   "outputs": [
    {
     "data": {
      "text/html": [
       "<style>\n",
       ".list-inline {list-style: none; margin:0; padding: 0}\n",
       ".list-inline>li {display: inline-block}\n",
       ".list-inline>li:not(:last-child)::after {content: \"\\00b7\"; padding: 0 .5ex}\n",
       "</style>\n",
       "<ol class=list-inline><li>'heat'</li><li>'oxidative-peroxide'</li><li>'canavanine'</li></ol>\n"
      ],
      "text/latex": [
       "\\begin{enumerate*}\n",
       "\\item 'heat'\n",
       "\\item 'oxidative-peroxide'\n",
       "\\item 'canavanine'\n",
       "\\end{enumerate*}\n"
      ],
      "text/markdown": [
       "1. 'heat'\n",
       "2. 'oxidative-peroxide'\n",
       "3. 'canavanine'\n",
       "\n",
       "\n"
      ],
      "text/plain": [
       "[1] \"heat\"               \"oxidative-peroxide\" \"canavanine\"        "
      ]
     },
     "metadata": {},
     "output_type": "display_data"
    }
   ],
   "source": [
    "unique(TC_filter$condition)"
   ]
  },
  {
   "cell_type": "code",
   "execution_count": 14,
   "id": "856dd338-5a1d-4a98-859b-4b59903896f5",
   "metadata": {},
   "outputs": [
    {
     "data": {
      "text/html": [
       "<style>\n",
       ".list-inline {list-style: none; margin:0; padding: 0}\n",
       ".list-inline>li {display: inline-block}\n",
       ".list-inline>li:not(:last-child)::after {content: \"\\00b7\"; padding: 0 .5ex}\n",
       "</style>\n",
       "<ol class=list-inline><li>'LOW'</li><li>'MEDIUM'</li><li>'HIGH'</li></ol>\n"
      ],
      "text/latex": [
       "\\begin{enumerate*}\n",
       "\\item 'LOW'\n",
       "\\item 'MEDIUM'\n",
       "\\item 'HIGH'\n",
       "\\end{enumerate*}\n"
      ],
      "text/markdown": [
       "1. 'LOW'\n",
       "2. 'MEDIUM'\n",
       "3. 'HIGH'\n",
       "\n",
       "\n"
      ],
      "text/plain": [
       "[1] \"LOW\"    \"MEDIUM\" \"HIGH\"  "
      ]
     },
     "metadata": {},
     "output_type": "display_data"
    }
   ],
   "source": [
    "unique(TC_filter$slevel)"
   ]
  },
  {
   "cell_type": "code",
   "execution_count": 15,
   "id": "667777ad-af5d-4817-82ac-b83fec3e1836",
   "metadata": {},
   "outputs": [
    {
     "data": {
      "text/html": [
       "<style>\n",
       ".list-inline {list-style: none; margin:0; padding: 0}\n",
       ".list-inline>li {display: inline-block}\n",
       ".list-inline>li:not(:last-child)::after {content: \"\\00b7\"; padding: 0 .5ex}\n",
       "</style>\n",
       "<ol class=list-inline><li>'DCLPA'</li><li>'DCLPB'</li><li>'DLON'</li><li>'dnak-dnaJ'</li><li>'wild-type'</li></ol>\n"
      ],
      "text/latex": [
       "\\begin{enumerate*}\n",
       "\\item 'DCLPA'\n",
       "\\item 'DCLPB'\n",
       "\\item 'DLON'\n",
       "\\item 'dnak-dnaJ'\n",
       "\\item 'wild-type'\n",
       "\\end{enumerate*}\n"
      ],
      "text/markdown": [
       "1. 'DCLPA'\n",
       "2. 'DCLPB'\n",
       "3. 'DLON'\n",
       "4. 'dnak-dnaJ'\n",
       "5. 'wild-type'\n",
       "\n",
       "\n"
      ],
      "text/plain": [
       "[1] \"DCLPA\"     \"DCLPB\"     \"DLON\"      \"dnak-dnaJ\" \"wild-type\""
      ]
     },
     "metadata": {},
     "output_type": "display_data"
    }
   ],
   "source": [
    "unique(f_genes$strain)"
   ]
  },
  {
   "cell_type": "code",
   "execution_count": 16,
   "id": "cdb9354f-3ad4-4f8c-9938-974f863d9425",
   "metadata": {},
   "outputs": [
    {
     "data": {
      "text/html": [
       "<style>\n",
       ".list-inline {list-style: none; margin:0; padding: 0}\n",
       ".list-inline>li {display: inline-block}\n",
       ".list-inline>li:not(:last-child)::after {content: \"\\00b7\"; padding: 0 .5ex}\n",
       "</style>\n",
       "<ol class=list-inline><li>'canavanine'</li><li>'heat'</li><li>'none'</li><li>'oxidative-peroxide'</li></ol>\n"
      ],
      "text/latex": [
       "\\begin{enumerate*}\n",
       "\\item 'canavanine'\n",
       "\\item 'heat'\n",
       "\\item 'none'\n",
       "\\item 'oxidative-peroxide'\n",
       "\\end{enumerate*}\n"
      ],
      "text/markdown": [
       "1. 'canavanine'\n",
       "2. 'heat'\n",
       "3. 'none'\n",
       "4. 'oxidative-peroxide'\n",
       "\n",
       "\n"
      ],
      "text/plain": [
       "[1] \"canavanine\"         \"heat\"               \"none\"              \n",
       "[4] \"oxidative-peroxide\""
      ]
     },
     "metadata": {},
     "output_type": "display_data"
    }
   ],
   "source": [
    "unique(f_genes$condition)"
   ]
  },
  {
   "cell_type": "code",
   "execution_count": 17,
   "id": "e01d284f-8069-4350-b423-22592ca75481",
   "metadata": {},
   "outputs": [
    {
     "data": {
      "text/html": [
       "<style>\n",
       ".list-inline {list-style: none; margin:0; padding: 0}\n",
       ".list-inline>li {display: inline-block}\n",
       ".list-inline>li:not(:last-child)::after {content: \"\\00b7\"; padding: 0 .5ex}\n",
       "</style>\n",
       "<ol class=list-inline><li>'HIGH'</li><li>'LOW'</li><li>'MEDIUM'</li><li>'none'</li></ol>\n"
      ],
      "text/latex": [
       "\\begin{enumerate*}\n",
       "\\item 'HIGH'\n",
       "\\item 'LOW'\n",
       "\\item 'MEDIUM'\n",
       "\\item 'none'\n",
       "\\end{enumerate*}\n"
      ],
      "text/markdown": [
       "1. 'HIGH'\n",
       "2. 'LOW'\n",
       "3. 'MEDIUM'\n",
       "4. 'none'\n",
       "\n",
       "\n"
      ],
      "text/plain": [
       "[1] \"HIGH\"   \"LOW\"    \"MEDIUM\" \"none\"  "
      ]
     },
     "metadata": {},
     "output_type": "display_data"
    }
   ],
   "source": [
    "unique(f_genes$slevel)"
   ]
  },
  {
   "cell_type": "code",
   "execution_count": null,
   "id": "e98f8ca0-b99e-4ae0-b01e-67769ced907a",
   "metadata": {},
   "outputs": [],
   "source": []
  },
  {
   "cell_type": "code",
   "execution_count": 18,
   "id": "585f605e",
   "metadata": {},
   "outputs": [],
   "source": [
    "#TC_filter <- TC%>%separate(Effect, c(\"strain\",\"condition\",\"slevel\"), \":\",remove=FALSE)%>%drop_na()%>%filter(condition!=\"conditionnone\")%>%mutate(strain=gsub(\"strain\",\"\",strain),\n",
    "                                                                                                                                 #  condition=gsub(\"condition\",\"\",condition),\n",
    "                                                                                                                                 #  slevel=gsub(\"slevel\",\"\",slevel))"
   ]
  },
  {
   "cell_type": "code",
   "execution_count": 19,
   "id": "99a0cd9c",
   "metadata": {},
   "outputs": [
    {
     "data": {
      "text/html": [
       "41221"
      ],
      "text/latex": [
       "41221"
      ],
      "text/markdown": [
       "41221"
      ],
      "text/plain": [
       "[1] 41221"
      ]
     },
     "metadata": {},
     "output_type": "display_data"
    }
   ],
   "source": [
    "nrow(f_genes)"
   ]
  },
  {
   "cell_type": "code",
   "execution_count": 20,
   "id": "0135ab8f",
   "metadata": {},
   "outputs": [
    {
     "data": {
      "text/html": [
       "183780"
      ],
      "text/latex": [
       "183780"
      ],
      "text/markdown": [
       "183780"
      ],
      "text/plain": [
       "[1] 183780"
      ]
     },
     "metadata": {},
     "output_type": "display_data"
    }
   ],
   "source": [
    "nrow(TC_filter)"
   ]
  },
  {
   "cell_type": "code",
   "execution_count": 21,
   "id": "880d0f14-545b-4d23-a4c2-ffedc6dcfb2d",
   "metadata": {},
   "outputs": [
    {
     "data": {
      "text/html": [
       "<style>\n",
       ".list-inline {list-style: none; margin:0; padding: 0}\n",
       ".list-inline>li {display: inline-block}\n",
       ".list-inline>li:not(:last-child)::after {content: \"\\00b7\"; padding: 0 .5ex}\n",
       "</style>\n",
       "<ol class=list-inline><li>'canavanine'</li><li>'heat'</li><li>'none'</li><li>'oxidative-peroxide'</li></ol>\n"
      ],
      "text/latex": [
       "\\begin{enumerate*}\n",
       "\\item 'canavanine'\n",
       "\\item 'heat'\n",
       "\\item 'none'\n",
       "\\item 'oxidative-peroxide'\n",
       "\\end{enumerate*}\n"
      ],
      "text/markdown": [
       "1. 'canavanine'\n",
       "2. 'heat'\n",
       "3. 'none'\n",
       "4. 'oxidative-peroxide'\n",
       "\n",
       "\n"
      ],
      "text/plain": [
       "[1] \"canavanine\"         \"heat\"               \"none\"              \n",
       "[4] \"oxidative-peroxide\""
      ]
     },
     "metadata": {},
     "output_type": "display_data"
    }
   ],
   "source": [
    "unique(f_genes$condition)"
   ]
  },
  {
   "cell_type": "code",
   "execution_count": 22,
   "id": "27ea02cd",
   "metadata": {},
   "outputs": [],
   "source": [
    "TC <- merge(TC_filter,f_genes,by=c(\"strain\",\"condition\",\"slevel\",\"locus_tag\"),all.x = TRUE)%>%filter(locus_tag!=\"NA\")%>%filter(is.na(nonmodel))%>%select(-nonmodel)"
   ]
  },
  {
   "cell_type": "code",
   "execution_count": 23,
   "id": "97a59a17",
   "metadata": {},
   "outputs": [
    {
     "data": {
      "text/html": [
       "146417"
      ],
      "text/latex": [
       "146417"
      ],
      "text/markdown": [
       "146417"
      ],
      "text/plain": [
       "[1] 146417"
      ]
     },
     "metadata": {},
     "output_type": "display_data"
    }
   ],
   "source": [
    "nrow(TC)"
   ]
  },
  {
   "cell_type": "code",
   "execution_count": 24,
   "id": "f52465bb",
   "metadata": {},
   "outputs": [],
   "source": [
    "LFDR <- TC%>%group_by(Effect)%>%mutate(coeff_log2value=as.numeric(Estimate)/log(2))%>%mutate(Norm_effect=normalize(coeff_log2value))%>%drop_na(Norm_effect)%>%mutate(fdr=(fdrtool(Norm_effect,cutoff.method=\"locfdr\",plot=FALSE,verbose=FALSE)$lfdr))"
   ]
  },
  {
   "cell_type": "code",
   "execution_count": 25,
   "id": "4c1cf2e7-dc5e-4904-b797-672efa96b3b2",
   "metadata": {},
   "outputs": [],
   "source": [
    "f_genes_df <- filter_genes%>%filter(Annotation==\"Conditionally_Essential\"|Annotation== \"Essential\")%>%select(strain,condition,slevel,locus_tag,Median,controlMedian,mean,controlmean)"
   ]
  },
  {
   "cell_type": "code",
   "execution_count": 26,
   "id": "56862453",
   "metadata": {},
   "outputs": [],
   "source": [
    "TC_results <- merge(filter_genes,LFDR,by=c(\"locus_tag\",\"strain\",\"condition\",\"slevel\"),all.x=TRUE)%>%mutate( Annotation = case_when(\n",
    "                              fdr.y<0.10 & coeff_log2value >0 ~ \"Conditionally_Detrimental\",\n",
    "                              fdr.y<0.10 & coeff_log2value <0 ~ \"Conditionally_Beneficial\",fdr.y>=0.10~\"Conditionally_Neutral\",TRUE ~ as.character(Annotation)))%>%select(locus_tag,strain,condition,\n",
    "                              slevel,Annotation,Median,controlMedian,fdr.y,coeff_log2value,fdr.y)%>%dplyr::rename(fdr=fdr.y)%>%filter(condition!=\"none\")"
   ]
  },
  {
   "cell_type": "code",
   "execution_count": 27,
   "id": "f87f4c6b",
   "metadata": {},
   "outputs": [],
   "source": [
    "write.table(TC_results,\"../../reports/Master Table/Total_Counts_FDR_v2.TAB\",quote=FALSE,sep=\"\\t\")"
   ]
  },
  {
   "cell_type": "code",
   "execution_count": 28,
   "id": "f2d9801b",
   "metadata": {},
   "outputs": [
    {
     "data": {
      "text/html": [
       "<table class=\"dataframe\">\n",
       "<caption>A data.frame: 0 × 9</caption>\n",
       "<thead>\n",
       "\t<tr><th scope=col>locus_tag</th><th scope=col>strain</th><th scope=col>condition</th><th scope=col>slevel</th><th scope=col>Annotation</th><th scope=col>Median</th><th scope=col>controlMedian</th><th scope=col>fdr</th><th scope=col>coeff_log2value</th></tr>\n",
       "\t<tr><th scope=col>&lt;chr&gt;</th><th scope=col>&lt;chr&gt;</th><th scope=col>&lt;chr&gt;</th><th scope=col>&lt;chr&gt;</th><th scope=col>&lt;chr&gt;</th><th scope=col>&lt;dbl&gt;</th><th scope=col>&lt;dbl&gt;</th><th scope=col>&lt;dbl&gt;</th><th scope=col>&lt;dbl&gt;</th></tr>\n",
       "</thead>\n",
       "<tbody>\n",
       "</tbody>\n",
       "</table>\n"
      ],
      "text/latex": [
       "A data.frame: 0 × 9\n",
       "\\begin{tabular}{lllllllll}\n",
       " locus\\_tag & strain & condition & slevel & Annotation & Median & controlMedian & fdr & coeff\\_log2value\\\\\n",
       " <chr> & <chr> & <chr> & <chr> & <chr> & <dbl> & <dbl> & <dbl> & <dbl>\\\\\n",
       "\\hline\n",
       "\\end{tabular}\n"
      ],
      "text/markdown": [
       "\n",
       "A data.frame: 0 × 9\n",
       "\n",
       "| locus_tag &lt;chr&gt; | strain &lt;chr&gt; | condition &lt;chr&gt; | slevel &lt;chr&gt; | Annotation &lt;chr&gt; | Median &lt;dbl&gt; | controlMedian &lt;dbl&gt; | fdr &lt;dbl&gt; | coeff_log2value &lt;dbl&gt; |\n",
       "|---|---|---|---|---|---|---|---|---|\n",
       "\n"
      ],
      "text/plain": [
       "     locus_tag strain condition slevel Annotation Median controlMedian fdr\n",
       "     coeff_log2value"
      ]
     },
     "metadata": {},
     "output_type": "display_data"
    }
   ],
   "source": [
    "TC_results%>%filter(Annotation!=\"Conditionally_Neutral\")%>%filter(fdr>0.10)"
   ]
  },
  {
   "cell_type": "code",
   "execution_count": null,
   "id": "42c9399a-d0e5-4e2b-8a0b-fca6261d5875",
   "metadata": {},
   "outputs": [],
   "source": []
  }
 ],
 "metadata": {
  "kernelspec": {
   "display_name": "R",
   "language": "R",
   "name": "ir"
  },
  "language_info": {
   "codemirror_mode": "r",
   "file_extension": ".r",
   "mimetype": "text/x-r-source",
   "name": "R",
   "pygments_lexer": "r",
   "version": "4.2.0"
  }
 },
 "nbformat": 4,
 "nbformat_minor": 5
}

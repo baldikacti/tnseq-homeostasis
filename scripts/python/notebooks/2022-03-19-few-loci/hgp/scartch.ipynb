{
 "cells": [
  {
   "cell_type": "code",
   "execution_count": 1,
   "id": "3f6c197f",
   "metadata": {
    "scrolled": true
   },
   "outputs": [],
   "source": [
    "import numpy as np\n",
    "\n",
    "temp =np.load('threshold.npy')"
   ]
  },
  {
   "cell_type": "code",
   "execution_count": 2,
   "id": "7c4a2941",
   "metadata": {},
   "outputs": [
    {
     "name": "stdout",
     "output_type": "stream",
     "text": [
      "[[  1  13]\n",
      " [  7  58]\n",
      " [  1  26]\n",
      " [  1  26]\n",
      " [  1  22]\n",
      " [  8 100]]\n"
     ]
    }
   ],
   "source": [
    "print(temp)"
   ]
  },
  {
   "cell_type": "code",
   "execution_count": 3,
   "id": "6a4cf62e",
   "metadata": {},
   "outputs": [],
   "source": [
    "import pandas as pd\n",
    "\n",
    "df = pd.read_csv('sort_data.csv')"
   ]
  },
  {
   "cell_type": "code",
   "execution_count": 4,
   "id": "2553dc1e",
   "metadata": {},
   "outputs": [
    {
     "data": {
      "text/plain": [
       "(170, 10)"
      ]
     },
     "execution_count": 4,
     "metadata": {},
     "output_type": "execute_result"
    }
   ],
   "source": [
    "df.iloc[:,8:].shape"
   ]
  },
  {
   "cell_type": "code",
   "execution_count": 5,
   "id": "f4e6cd21",
   "metadata": {},
   "outputs": [
    {
     "data": {
      "text/plain": [
       "Index(['CCNA_00001', 'CCNA_00002', 'CCNA_00003', 'CCNA_00004', 'CCNA_00005',\n",
       "       'CCNA_00006', 'CCNA_00007', 'CCNA_00008', 'CCNA_00009', 'CCNA_00010'],\n",
       "      dtype='object')"
      ]
     },
     "execution_count": 5,
     "metadata": {},
     "output_type": "execute_result"
    }
   ],
   "source": [
    "df.columns[8:]"
   ]
  },
  {
   "cell_type": "code",
   "execution_count": 6,
   "id": "9b5696da",
   "metadata": {},
   "outputs": [
    {
     "data": {
      "text/plain": [
       "array([11, 12,  7, 12, 12, 12,  7, 11, 12, 12,  7, 12, 12, 12,  7, 12])"
      ]
     },
     "execution_count": 6,
     "metadata": {},
     "output_type": "execute_result"
    }
   ],
   "source": [
    "import numpy as np\n",
    "np.asarray(df.groupby(['strain', 'condition']).size())"
   ]
  },
  {
   "cell_type": "code",
   "execution_count": 7,
   "id": "b4c3325b",
   "metadata": {},
   "outputs": [
    {
     "data": {
      "text/plain": [
       "strain     condition         \n",
       "DCLPA      canavanine            11\n",
       "           heat                  12\n",
       "           none                   7\n",
       "           oxidative-peroxide    12\n",
       "DLON       canavanine            12\n",
       "           heat                  12\n",
       "           none                   7\n",
       "           oxidative-peroxide    11\n",
       "dnak-dnaJ  canavanine            12\n",
       "           heat                  12\n",
       "           none                   7\n",
       "           oxidative-peroxide    12\n",
       "wild-type  canavanine            12\n",
       "           heat                  12\n",
       "           none                   7\n",
       "           oxidative-peroxide    12\n",
       "dtype: int64"
      ]
     },
     "execution_count": 7,
     "metadata": {},
     "output_type": "execute_result"
    }
   ],
   "source": [
    "df.groupby(['strain', 'condition']).size()"
   ]
  },
  {
   "cell_type": "code",
   "execution_count": 8,
   "id": "842a9028",
   "metadata": {},
   "outputs": [],
   "source": [
    "L = 10\n",
    "df_temp = pd.read_csv('temp.csv')\n",
    "df_p = df_temp.nlargest(100, 'gij_1')\n",
    "df_p[df_p.columns[1:len(df_p.columns)]] = df_p[df_p.columns[1:len(\n",
    "    df_p.columns)]].apply(lambda x: x / sum(x))\n",
    "df_p = df_p.sort_values('gij_1', ascending=False)\n",
    "df_p.to_csv('inference_5.csv', index=False)\n",
    "\n",
    "H_matrix = np.zeros((5,L), dtype='int')\n",
    "H_matrix_str = np.asarray(df_p['H'])\n",
    "for i in range(5):\n",
    "    H_matrix_str[i] = H_matrix_str[i].replace(\", \", \"\").replace(\"[\", \"\").replace(\"]\", \"\")\n",
    "\n",
    "for i in range(5):\n",
    "    for j in range(L):\n",
    "        if H_matrix_str[i][j] == \"0\":\n",
    "            H_matrix[i,j] = int(0)\n",
    "        if H_matrix_str[i][j] == \"1\":\n",
    "            H_matrix[i,j] = int(1)\n",
    "\n",
    "df_H = pd.DataFrame(H_matrix.T)\n",
    "locus_tag = df.columns[8:]\n",
    "df_H[\"locus_tag\"] = locus_tag\n",
    "df_H = df_H[[\"locus_tag\", 0, 1, 2, 3, 4]]\n",
    "df_H.columns = [\"locus_tag\", \"top_1\", \"top_2\", \"top_3\", \"top_4\", \"top_5\"]\n",
    "df_H.to_csv('H_matrix.csv', index=False)"
   ]
  },
  {
   "cell_type": "code",
   "execution_count": 19,
   "id": "da1f4067",
   "metadata": {},
   "outputs": [],
   "source": [
    "import numpy as np\n",
    "\n",
    "temp = np.load('threshold.npy')"
   ]
  },
  {
   "cell_type": "code",
   "execution_count": 22,
   "id": "47c264e3",
   "metadata": {},
   "outputs": [
    {
     "data": {
      "text/plain": [
       "array([ 0, 21])"
      ]
     },
     "execution_count": 22,
     "metadata": {},
     "output_type": "execute_result"
    }
   ],
   "source": [
    "temp[0]"
   ]
  },
  {
   "cell_type": "code",
   "execution_count": 24,
   "id": "83b44b3b",
   "metadata": {},
   "outputs": [
    {
     "data": {
      "text/plain": [
       "array([ 0, 10])"
      ]
     },
     "execution_count": 24,
     "metadata": {},
     "output_type": "execute_result"
    }
   ],
   "source": [
    "temp[4]"
   ]
  },
  {
   "cell_type": "code",
   "execution_count": 6,
   "id": "84e13452",
   "metadata": {},
   "outputs": [
    {
     "name": "stdout",
     "output_type": "stream",
     "text": [
      "1001 posterior samples\n",
      "Done!\n"
     ]
    }
   ],
   "source": [
    "import numpy as np\n",
    "import glob\n",
    "import pandas as pd\n",
    "\n",
    "from path import Path\n",
    "\n",
    "\n",
    "datafile = 'peter_UC_processed_'\n",
    "samples = glob.glob(datafile + '_psamples/*state*')\n",
    "print('%d posterior samples' % len(samples))\n",
    "df_data = pd.read_csv('peter_UC_processed.csv')\n",
    "n_biopsies_I = np.asarray(df_data.groupby(['strain','condition']).size())\n",
    "\n",
    "\n",
    "H = []\n",
    "G = []\n",
    "Gi = []\n",
    "Gij = []\n",
    "L = 4084\n",
    "total_sample = sum(n_biopsies_I)\n",
    "# threshold = 0.0005\n",
    "n_psample = len(samples)\n",
    "\n",
    "for s in range(len(samples)):\n",
    "    sample_file = np.load(samples[s])  # load in sample\n",
    "    # this is the H matrix (using paper notation), sorry for different notation\n",
    "    h = sample_file['Z_LK'].T\n",
    "#    print(Z_LK.shape)          # this is a loci x component matrix\n",
    "\n",
    "    Theta_K = sample_file['Theta_K']   # unnormalized G distribution\n",
    "    # unnormalized per-individual G distributions\n",
    "    Theta_IK = sample_file['Theta_IK']\n",
    "    # unnormalized per-sample G distributions\n",
    "    Theta_SK = sample_file['Theta_SK']\n",
    "\n",
    "    # normalized G distribution\n",
    "    g = Theta_K / Theta_K.sum()\n",
    "    # normalized per-individual G distributions\n",
    "    gi = Theta_IK / np.sum(Theta_IK, axis=1, keepdims=True)\n",
    "    # normalized per-sample G distributions\n",
    "    gij = Theta_SK / np.sum(Theta_SK, axis=1, keepdims=True)\n",
    "\n",
    "    H.append(h)\n",
    "    G.append(g)\n",
    "    Gi.append(gi)\n",
    "    Gij.append(gij)\n",
    "\n",
    "flattern = [str(s.tolist()) for item in H for s in item]\n",
    "\n",
    "glist = [s for item in G for s in item]\n",
    "# glist = [s for item in G[-1] for s in item]\n",
    "\n",
    "\n",
    "\n",
    "gilist = []\n",
    "for i in range(len(n_biopsies_I)):\n",
    "    flattern_gi = [s for item in Gi for s in item[i]]\n",
    "    gilist.append(flattern_gi)\n",
    "\n",
    "\n",
    "gijlist = []\n",
    "for i in range(total_sample):\n",
    "    flattern_gij = [s for item in Gij for s in item[i]]\n",
    "    gijlist.append(flattern_gij)\n",
    "\n",
    "\n",
    "df = pd.DataFrame({'H': flattern})\n",
    "\n",
    "df['g0'] = glist\n",
    "\n",
    "for i in range(len(gilist)):\n",
    "    df['gi_'+str(i+1)] = gilist[i]\n",
    "\n",
    "for i in range(len(gijlist)):\n",
    "    df['gij_'+str(i+1)] = gijlist[i]\n",
    "\n",
    "df_temp = df.groupby(['H']).agg('sum').reset_index()\n",
    "print('Done!')\n",
    "df_temp.to_csv('temp_1.csv', index=False)"
   ]
  },
  {
   "cell_type": "code",
   "execution_count": 109,
   "id": "199a49af",
   "metadata": {},
   "outputs": [],
   "source": [
    "path_name_2 = 'results/' + datafile\n",
    "out_dir = Path(path_name_2)\n",
    "out_dir.makedirs_p()\n",
    "\n",
    "# df_p = df_temp.nlargest(5, 'g0')\n",
    "df_temp[df_temp.columns[1:len(df_temp.columns)]] = df_temp[df_temp.columns[1:len(\n",
    "    df_temp.columns)]].apply(lambda x: x / sum(x))"
   ]
  },
  {
   "cell_type": "code",
   "execution_count": 114,
   "id": "3b1681a7-232c-4a7c-a599-a2c0649ee392",
   "metadata": {},
   "outputs": [
    {
     "name": "stderr",
     "output_type": "stream",
     "text": [
      "/home/shaihe/.conda/envs/hgp/lib/python3.7/site-packages/pandas/core/frame.py:3065: SettingWithCopyWarning: \n",
      "A value is trying to be set on a copy of a slice from a DataFrame.\n",
      "Try using .loc[row_indexer,col_indexer] = value instead\n",
      "\n",
      "See the caveats in the documentation: https://pandas.pydata.org/pandas-docs/stable/user_guide/indexing.html#returning-a-view-versus-a-copy\n",
      "  self[k1] = value[k2]\n"
     ]
    }
   ],
   "source": [
    "threshold = 0.0005\n",
    "df_p = df_temp[(df_temp[df_temp.columns[-(total_sample):]]\n",
    "                > threshold).any(axis=1)]\n",
    "\n",
    "df_p[df_p.columns[1:len(df_p.columns)]] = df_p[df_p.columns[1:len(\n",
    "    df_p.columns)]].apply(lambda x: x / sum(x))\n",
    "\n",
    "df_p = df_p.sort_values('g0', ascending=False)\n",
    "\n",
    "row = ['H'] + ['Top_Level'] + list(df_data.groupby(['strain', 'condition']).groups.keys()) + list(df_data.groupby(['strain', 'condition', 'slevel', 'rep', 'batch', 'time']).groups.keys())\n",
    "row_condition = pd.DataFrame([row], columns=list(df_p.columns))\n",
    "\n",
    "df_annote =  pd.concat([row_condition, df_p])\n",
    "\n",
    "df_annote.to_csv('inference_oak_1.csv', index=False)"
   ]
  },
  {
   "cell_type": "code",
   "execution_count": 115,
   "id": "891fb368-4a79-40a5-9f28-33d28267fc65",
   "metadata": {},
   "outputs": [],
   "source": [
    "locus_att = pd.read_csv('locus_attribute.tab', sep='\\t')\n",
    "locus_att = locus_att[['locus_tag', 'Name', 'description']]\n",
    "locus_tag = df_data.columns[7:]\n",
    "df_locus_tag = pd.DataFrame(locus_tag)\n",
    "df_locus_tag.columns = ['locus_tag']\n",
    "df_att = df_locus_tag.merge(locus_att, on='locus_tag', how='left')"
   ]
  },
  {
   "cell_type": "code",
   "execution_count": 116,
   "id": "01e63a1e-95d2-4c9d-91dc-2e787d439fbd",
   "metadata": {},
   "outputs": [],
   "source": [
    "n_cluster = len(df_p)\n",
    "H_matrix = np.zeros((n_cluster,L), dtype='int')\n",
    "H_matrix_str = np.asarray(df_p['H'])\n",
    "for i in range(n_cluster):\n",
    "    H_matrix_str[i] = H_matrix_str[i].replace(\", \", \"\").replace(\"[\", \"\").replace(\"]\", \"\")\n",
    "\n",
    "for i in range(n_cluster):\n",
    "    for j in range(L):\n",
    "        if H_matrix_str[i][j] == \"0\":\n",
    "            H_matrix[i,j] = int(0)\n",
    "        if H_matrix_str[i][j] == \"1\":\n",
    "            H_matrix[i,j] = int(1)\n",
    "\n",
    "df_H = pd.DataFrame(H_matrix.T)\n",
    "df_H[\"locus_tag\"] = locus_tag\n",
    "df_H['Gene_Name'] = df_att['Name']\n",
    "df_H['Description'] = df_att['description']\n",
    "\n",
    "cols = list(df_H.columns)\n",
    "cols = [cols[-3]] + [cols[-2]] + [cols[-1]] + cols[:-3]\n",
    "df_H = df_H[cols]\n",
    "\n",
    "# df_H = df_H[[\"locus_tag\", 0, 1, 2, 3, 4]]\n",
    "# df_H.columns = [\"locus_tag\", \"top_1\", \"top_2\", \"top_3\", \"top_4\", \"top_5\"]\n",
    "\n",
    "df_H.to_csv('H_matrix_oak_1.csv', index=False)"
   ]
  },
  {
   "cell_type": "code",
   "execution_count": null,
   "id": "c4f47058-ac7c-484c-b4e9-ca178479b8ef",
   "metadata": {},
   "outputs": [],
   "source": []
  }
 ],
 "metadata": {
  "kernelspec": {
   "display_name": "hgp",
   "language": "python",
   "name": "hgp"
  },
  "language_info": {
   "codemirror_mode": {
    "name": "ipython",
    "version": 3
   },
   "file_extension": ".py",
   "mimetype": "text/x-python",
   "name": "python",
   "nbconvert_exporter": "python",
   "pygments_lexer": "ipython3",
   "version": "3.7.4"
  }
 },
 "nbformat": 4,
 "nbformat_minor": 5
}
